{
 "cells": [
  {
   "cell_type": "markdown",
   "metadata": {},
   "source": [
    "# Homework 4: Applied ML"
   ]
  },
  {
   "cell_type": "markdown",
   "metadata": {},
   "source": [
    "We will work with a by-now classic dataset from Robert LaLonde's study \"Evaluating the Econometric Evaluations of Training Programs\" (1986). The study investigated the effect of a job training program (\"National Supported Work Demonstration\") on the real earnings of an individual, a couple of years after completion of the program. Your task is to determine the effectiveness of the \"treatment\" represented by the job training program.\n",
    "\n",
    "We import all the packages needed here and define plotting functions"
   ]
  },
  {
   "cell_type": "code",
   "execution_count": null,
   "metadata": {},
   "outputs": [],
   "source": [
    "import pandas as pd\n",
    "import numpy as np\n",
    "import matplotlib.pyplot as plt\n",
    "import seaborn as sns\n",
    "import networkx as nt\n",
    "import multiprocessing as mp\n",
    "from scipy.optimize import linear_sum_assignment\n",
    "from sklearn import linear_model\n"
   ]
  },
  {
   "cell_type": "code",
   "execution_count": null,
   "metadata": {
    "collapsed": true
   },
   "outputs": [],
   "source": [
    "def densplot(columns, xlabel, title):\n",
    "    fig, ax = plt.subplots()\n",
    "    for i,v in enumerate(columns):\n",
    "        sns.distplot(v, ax=ax, kde_kws={\"label\": i})\n",
    "    plt.title(title)\n",
    "    plt.xlabel(xlabel, fontsize=12)\n",
    "    plt.show()\n",
    "    \n",
    "def scatplot(xelem, yelem, xlabel, ylabel, title, polyfit=None):\n",
    "    plt.scatter(xelem, yelem)\n",
    "    if polyfit:\n",
    "        plt.plot(np.unique(xelem), np.poly1d(np.polyfit(xelem, yelem, polyfit))(np.unique(xelem)), 'C2')\n",
    "    plt.title(title)\n",
    "    plt.xlabel(xlabel, fontsize=12)\n",
    "    plt.ylabel(ylabel, fontsize=12)\n",
    "    plt.show()\n",
    "\n",
    "def boplot(data, title, xlabel, violin): #violin=True means a quantil plot\n",
    "    if violin:\n",
    "        sns.violinplot(data=data)\n",
    "    else:\n",
    "        sns.boxplot(data=data)\n",
    "    plt.title(title)\n",
    "    plt.xlabel(xlabel, fontsize=12)\n",
    "    plt.show()"
   ]
  },
  {
   "cell_type": "markdown",
   "metadata": {},
   "source": [
    "We start by importing the data.\n",
    "\n",
    "#### Dataset description\n",
    "\n",
    "- `treat`: 1 if the subject participated in the job training program, 0 otherwise\n",
    "- `age`: the subject's age\n",
    "- `educ`: years of education\n",
    "- `race`: categorical variable with three possible values: Black, Hispanic, or White\n",
    "- `married`: 1 if the subject was married at the time of the training program, 0 otherwise\n",
    "- `nodegree`: 1 if the subject has earned no school degree, 0 otherwise\n",
    "- `re74`: real earnings in 1974 (pre-treatment)\n",
    "- `re75`: real earnings in 1975 (pre-treatment)\n",
    "- `re78`: real earnings in 1978 (outcome)"
   ]
  },
  {
   "cell_type": "code",
   "execution_count": null,
   "metadata": {},
   "outputs": [],
   "source": [
    "data = pd.read_csv('lalonde.csv', index_col=0)\n",
    "data.head()"
   ]
  },
  {
   "cell_type": "markdown",
   "metadata": {},
   "source": [
    "To match with the description and for simplicity in further step, we create the \"race\" and \"white\" columns:\n",
    "(we first check that there are no people that are both black and hispanic in the dataset)"
   ]
  },
  {
   "cell_type": "code",
   "execution_count": null,
   "metadata": {},
   "outputs": [],
   "source": [
    "print(\"Number of black hispanic people: \", len(data.loc[(data['black']==1) & (data['hispan'] == 1)]))\n",
    "data[\"race\"] = \"white\"\n",
    "data[\"white\"] = 0\n",
    "#for i,v in enumerate(data['black']):\n",
    "#    if v == 1:\n",
    "#        data[\"race\"][i]=\"black\"\n",
    "#    elif data['hispan'][i] == 1:\n",
    "#        data[\"race\"][i]=\"hispanic\"\n",
    "#data\n",
    "\n",
    "data.loc[data['black'] == 1,'race'] = \"black\"\n",
    "data.loc[data['hispan'] == 1,'race'] = \"hispanic\"\n",
    "data.loc[(data['black'] == 0) & (data['hispan'] == 0),'white'] = 1\n",
    "data.head(10)"
   ]
  },
  {
   "cell_type": "markdown",
   "metadata": {},
   "source": [
    "### 1. A naive analysis\n",
    "\n",
    "In this part, we compare the distribution of the outcome variable (`re78`) between the two groups (control and test)"
   ]
  },
  {
   "cell_type": "code",
   "execution_count": null,
   "metadata": {},
   "outputs": [],
   "source": [
    "grouped = data.groupby('treat')\n",
    "grouped0 = grouped.get_group(0)\n",
    "grouped1 = grouped.get_group(1)"
   ]
  },
  {
   "cell_type": "code",
   "execution_count": null,
   "metadata": {},
   "outputs": [],
   "source": [
    "densplot([grouped0['re78'],grouped1['re78']], \"treat\", \"Comparison of distributions\")"
   ]
  },
  {
   "cell_type": "markdown",
   "metadata": {},
   "source": [
    "**What might a naive \"researcher\" conclude from this superficial analysis?**\n",
    "A naive observer would think that the two distributions are pretty similar even though there seems to be more people that didn't follow the program with an income between 1500 and 2000.\n"
   ]
  },
  {
   "cell_type": "code",
   "execution_count": null,
   "metadata": {},
   "outputs": [],
   "source": [
    "boplot([grouped0['re78'],grouped1['re78']],\"Treat comparison boxplots\", \"treat\", False)\n",
    "boplot([grouped0['re78'],grouped1['re78']],\"Treat comparison violin plots\", \"treat\", True)"
   ]
  },
  {
   "cell_type": "markdown",
   "metadata": {},
   "source": [
    "The boxplot and violin plot (combination of boxplot and kernel density estimate) tend to show the same as we observed previously. Nevertheless, they also show that the group that followed the program contains more outliers, or in other words, more people with (much) higher incomes.\n",
    "*A naive conclusion would be to say that the program is not very efficient except for a few people that have a very high income*"
   ]
  },
  {
   "cell_type": "markdown",
   "metadata": {},
   "source": [
    "### 2. A closer look at the data\n",
    "\n",
    "For each feature in the dataset, we compare its distribution in the treated group with its distribution in the control group. \n",
    "Since each feature is pretty different, we cannot plot everything at the same time and we will do each feature at a time.\n",
    "\n",
    "#### Age"
   ]
  },
  {
   "cell_type": "code",
   "execution_count": null,
   "metadata": {},
   "outputs": [],
   "source": [
    "densplot([grouped0[\"age\"],grouped1[\"age\"]], \"age\", \"Comparison of distributions for age\")\n",
    "boplot([grouped0[\"age\"],grouped1[\"age\"]],\"Comparison with boxplots for age\", \"treat\", False)"
   ]
  },
  {
   "cell_type": "markdown",
   "metadata": {},
   "source": [
    "We observe that even if the median is similar in both datasets according to the age feature, the dataset of people that didn't follow the program (treat=0) contains more older people while the people that followed the program where concentrated between 20 and 30 years old.\n",
    "\n",
    "*A first observation that we can do, is that the income is often related to the age, as more expericence usually mean a better income. Thus, the fact that the two datasets have different age distribution should be considered in the comparison*\n",
    "\n",
    "#### Education"
   ]
  },
  {
   "cell_type": "code",
   "execution_count": null,
   "metadata": {},
   "outputs": [],
   "source": [
    "densplot([grouped0[\"educ\"],grouped1[\"educ\"]], \"years of education\", \"Comparison of distributions for education duration\")\n",
    "boplot([grouped0[\"educ\"],grouped1[\"educ\"]],\"Comparison with boxplots for education duration\", \"treat\", False)"
   ]
  },
  {
   "cell_type": "markdown",
   "metadata": {},
   "source": [
    "We see that in terms of education duration, the values are more sparsed for people that didn't follow the program with outliers in both direction (with few or many years of education). Again the median is similar in both datasets but we observe that they are more people that followed the program that received between 10 and 12 years of education while the other dataset is more sparsed with a peak at 13 years of education.\n"
   ]
  },
  {
   "cell_type": "markdown",
   "metadata": {},
   "source": [
    "#### Race\n",
    "\n",
    "We now observe the \"race\" feature that we built from the \"black\" and \"hispan\" features in the beginning"
   ]
  },
  {
   "cell_type": "code",
   "execution_count": null,
   "metadata": {},
   "outputs": [],
   "source": [
    "#TODO: merge both boxplots ?\n",
    "grouped0['race'].value_counts().plot(kind='bar')\n",
    "plt.title(\"Race counts for people that didn't follow the program\")\n",
    "plt.xlabel(\"race\", fontsize=12)\n",
    "plt.ylabel(\"count\", fontsize=12)\n",
    "plt.show()\n",
    "\n",
    "grouped1['race'].value_counts().plot(kind='bar', color='r')\n",
    "plt.title(\"Race counts for people that followed the program\")\n",
    "plt.xlabel(\"race\", fontsize=12)\n",
    "plt.ylabel(\"count\", fontsize=12)\n",
    "plt.show()"
   ]
  },
  {
   "cell_type": "markdown",
   "metadata": {},
   "source": [
    "In this case, we do not need more plots to see that the people that didn't follow the program were mostly white while the other dataset almost only contains black people.\n",
    "*Again, it is well known that, sadly, the average income for black people is usually lower than for white people which can also interfer with the results of the study*\n",
    "\n",
    "#### Married"
   ]
  },
  {
   "cell_type": "code",
   "execution_count": null,
   "metadata": {},
   "outputs": [],
   "source": [
    "#TODO: merge both boxplots ?\n",
    "grouped0['married'].value_counts().plot(kind='bar')\n",
    "plt.title(\"Married counts for people that didn't follow the program\")\n",
    "plt.xlabel(\"Married (1) or not (0)\", fontsize=12)\n",
    "plt.ylabel(\"count\", fontsize=12)\n",
    "plt.show()\n",
    "\n",
    "grouped1['married'].value_counts().plot(kind='bar', color='r')\n",
    "plt.title(\"Married counts for people that followed the program\")\n",
    "plt.xlabel(\"Married (1) or not (0)\", fontsize=12)\n",
    "plt.ylabel(\"count\", fontsize=12)\n",
    "plt.show()"
   ]
  },
  {
   "cell_type": "markdown",
   "metadata": {},
   "source": [
    "We clearly observe that most of the people that followed the program were single when the married against single counts are balanced in the first dataset.\n",
    "\n",
    "*The fact that someone is married or not can also have an influence on its income and should be taken into account\"\n",
    "\n",
    "#### Degree"
   ]
  },
  {
   "cell_type": "code",
   "execution_count": null,
   "metadata": {},
   "outputs": [],
   "source": [
    "#TODO: merge both boxplots ?\n",
    "grouped0['nodegree'].value_counts().plot(kind='bar')\n",
    "plt.title(\"Counts for people with/without a degree that didn't follow the program\")\n",
    "plt.xlabel(\"No degree (1) or degree (0)\", fontsize=12)\n",
    "plt.ylabel(\"count\", fontsize=12)\n",
    "plt.show()\n",
    "\n",
    "grouped1['nodegree'].value_counts().plot(kind='bar', color='r')\n",
    "plt.title(\"Counts for people with/without a degree that followed the program\")\n",
    "plt.xlabel(\"No degree (1) or degree (0)\", fontsize=12)\n",
    "plt.ylabel(\"count\", fontsize=12)\n",
    "plt.show()"
   ]
  },
  {
   "cell_type": "markdown",
   "metadata": {},
   "source": [
    "In this case, both datasets are consistent and about two-third of the people do not have a degree in each.\n",
    "\n",
    "#### real earnings in 1974 (pre-treatment)"
   ]
  },
  {
   "cell_type": "code",
   "execution_count": null,
   "metadata": {},
   "outputs": [],
   "source": [
    "densplot([grouped0[\"re74\"],grouped1[\"re74\"]], \"real earnings in 1974\", \"Comparison of distributions for real earnings in 1974\")\n",
    "boplot([grouped0[\"re74\"],grouped1[\"re74\"]],\"Comparison with boxplots for real earnings in 1974\", \"treat\", False)"
   ]
  },
  {
   "cell_type": "markdown",
   "metadata": {},
   "source": [
    "We observe that both datasets contain a lot of people with no income at this date. We also notice that more people that didn't participate in the program already had a salary at this date which is less the case for people that participated.\n",
    "\n",
    "#### real earnings in 1975 (pre-treatment)"
   ]
  },
  {
   "cell_type": "code",
   "execution_count": null,
   "metadata": {},
   "outputs": [],
   "source": [
    "densplot([grouped0[\"re75\"],grouped1[\"re75\"]], \"real earnings in 1975\", \"Comparison of distributions for real earnings in 1975\")\n",
    "boplot([grouped0[\"re75\"],grouped1[\"re75\"]],\"Comparison with boxplots for real earnings in 1975\", \"treat\", False)"
   ]
  },
  {
   "cell_type": "markdown",
   "metadata": {},
   "source": [
    "We observe that the income decreased for a lot of people in the first dataset, when it increases for some in the second dataset.\n",
    "\n",
    "#### Conclusion\n",
    "\n",
    "We discuss here our main observations and how they relate to our naive observation.\n",
    "- the dataset of people that didn't followed the program contains more people that are above 30 years old\n",
    "- most of the people that followed the program were single, which is not the case in the other dataset\n",
    "- more people already had an income before 1975 in the people that didn't participate in the program\n",
    "\n",
    "From these observations, we can remark that even though the median values are often similar in both datasets, the distributions are different. Moreover, this is particularly the case for the age and race features which can both have a high impact on the income of a person.\n"
   ]
  },
  {
   "cell_type": "markdown",
   "metadata": {},
   "source": [
    "### 3. A propensity score model\n",
    "\n",
    "We use logistic regression to estimate propensity scores for all points in the dataset."
   ]
  },
  {
   "cell_type": "code",
   "execution_count": null,
   "metadata": {},
   "outputs": [],
   "source": [
    "logistic = linear_model.LogisticRegression()\n",
    "feature_cols = ['age', 'educ', 'black', 'hispan', 'white', 'married', 'nodegree', 're74', 're75',] #re78 ??\n",
    "X = data[feature_cols]\n",
    "y = data['treat']\n",
    "\n",
    "propensity = logistic.fit(X, y)\n",
    "pscore = propensity.predict_proba(X)[:,1] # The predicted propensities by the model\n",
    "print(pscore[:10])\n",
    "\n",
    "data['propensity'] = pscore"
   ]
  },
  {
   "cell_type": "markdown",
   "metadata": {},
   "source": [
    "### 4. Balancing the dataset via matching\n",
    "\n",
    "We use the propensity scores to match each data point from the treated group with exactly one data point from the control group, while ensuring that each data point from the control group is matched with at most one data point from the treated group.\n",
    "\n",
    "We start our matching process by creating the matrix of the costs (using the absolute difference between the propensity scores as a cost function) of all the possible assignments. We then use this matrix to solve the linear sum assignment problem (The linear sum assignment problem is also known as minimum weight matching in bipartite graphs).\n"
   ]
  },
  {
   "cell_type": "code",
   "execution_count": null,
   "metadata": {},
   "outputs": [],
   "source": [
    "group2 = data.groupby('treat')\n",
    "group20 = group2.get_group(0).reset_index()\n",
    "group21 = group2.get_group(1).reset_index()"
   ]
  },
  {
   "cell_type": "code",
   "execution_count": null,
   "metadata": {},
   "outputs": [],
   "source": [
    "def col(colone, coltwo):\n",
    "    return np.array([abs(colone - n) for n in coltwo])\n",
    "\n",
    "costs = np.array(col(group21['propensity'], group20['propensity']))\n",
    "\n",
    "print(\"Computing optimal assigment...\", end=\"\")\n",
    "id_n1, id_n2 = linear_sum_assignment(costs)\n",
    "sol_costs = costs[id_n1, id_n2]\n",
    "\n",
    "print(\"Done: cost of solution = %d\" % sol_costs.sum())\n",
    "\n",
    "match = group21.join(group20.loc[id_n1].reset_index(drop=True), rsuffix=\"_2\")"
   ]
  },
  {
   "cell_type": "markdown",
   "metadata": {},
   "source": [
    "After the matching, we compare the outcomes (`re78`) between the two groups (treated and control)"
   ]
  },
  {
   "cell_type": "code",
   "execution_count": null,
   "metadata": {},
   "outputs": [],
   "source": [
    "densplot([match[\"re78\"], match[\"re78_2\"]], \"real earnings in 1978\", \"Comparison of distributions for real earnings in 1978\")\n",
    "boplot([match[\"re78\"], match[\"re78_2\"]],\"Comparison with boxplots for real earnings in 1978\", \"treat\", False)"
   ]
  },
  {
   "cell_type": "markdown",
   "metadata": {},
   "source": [
    "As we observed in the beginning, the two datasets have similar distributions even though the group of people that didn't follow the program are still more numerous to have big incomes.\n",
    "\n",
    "We compare again the feature-value distributions between the two groups but now only for the matched subjects.\n",
    "In this case, we only show the boxplots and start with all the features that are now well-balanced between the two datasets.\n",
    "\n",
    "It is clearly the case for:"
   ]
  },
  {
   "cell_type": "markdown",
   "metadata": {},
   "source": [
    "#### Married"
   ]
  },
  {
   "cell_type": "code",
   "execution_count": null,
   "metadata": {},
   "outputs": [],
   "source": [
    "grouped0['married'].value_counts().plot(kind='bar')\n",
    "plt.title(\"OLD Married counts for people that didn't follow the program\")\n",
    "plt.xlabel(\"Married (1) or not (0)\", fontsize=12)\n",
    "plt.ylabel(\"count\", fontsize=12)\n",
    "plt.show()\n",
    "\n",
    "grouped1['married'].value_counts().plot(kind='bar', color='r')\n",
    "plt.title(\"OLD Married counts for people that followed the program\")\n",
    "plt.xlabel(\"Married (1) or not (0)\", fontsize=12)\n",
    "plt.ylabel(\"count\", fontsize=12)\n",
    "plt.show()\n",
    "\n",
    "match['married_2'].value_counts().plot(kind='bar')\n",
    "plt.title(\"Married counts for people that didn't follow the program\")\n",
    "plt.xlabel(\"Married (1) or not (0)\", fontsize=12)\n",
    "plt.ylabel(\"count\", fontsize=12)\n",
    "plt.show()\n",
    "\n",
    "match['married'].value_counts().plot(kind='bar', color='r')\n",
    "plt.title(\"Married counts for people that followed the program\")\n",
    "plt.xlabel(\"Married (1) or not (0)\", fontsize=12)\n",
    "plt.ylabel(\"count\", fontsize=12)\n",
    "plt.show()"
   ]
  },
  {
   "cell_type": "markdown",
   "metadata": {},
   "source": [
    "#### No Degree"
   ]
  },
  {
   "cell_type": "code",
   "execution_count": null,
   "metadata": {},
   "outputs": [],
   "source": [
    "grouped0['nodegree'].value_counts().plot(kind='bar')\n",
    "plt.title(\"OLD Counts for people with/without a degree that didn't follow the program\")\n",
    "plt.xlabel(\"No degree (1) or degree (0)\", fontsize=12)\n",
    "plt.ylabel(\"count\", fontsize=12)\n",
    "plt.show()\n",
    "\n",
    "grouped1['nodegree'].value_counts().plot(kind='bar', color='r')\n",
    "plt.title(\"OLD Counts for people with/without a degree that followed the program\")\n",
    "plt.xlabel(\"No degree (1) or degree (0)\", fontsize=12)\n",
    "plt.ylabel(\"count\", fontsize=12)\n",
    "plt.show()\n",
    "\n",
    "#TODO: merge both boxplots ?\n",
    "match['nodegree_2'].value_counts().plot(kind='bar')\n",
    "plt.title(\"Counts for people with/without a degree that didn't follow the program\")\n",
    "plt.xlabel(\"No degree (1) or degree (0)\", fontsize=12)\n",
    "plt.ylabel(\"count\", fontsize=12)\n",
    "plt.show()\n",
    "\n",
    "match['nodegree'].value_counts().plot(kind='bar', color='r')\n",
    "plt.title(\"Counts for people with/without a degree that followed the program\")\n",
    "plt.xlabel(\"No degree (1) or degree (0)\", fontsize=12)\n",
    "plt.ylabel(\"count\", fontsize=12)\n",
    "plt.show()"
   ]
  },
  {
   "cell_type": "markdown",
   "metadata": {},
   "source": [
    "#### real earnings in 1974 (pre-treatment)"
   ]
  },
  {
   "cell_type": "code",
   "execution_count": null,
   "metadata": {},
   "outputs": [],
   "source": [
    "boplot([grouped0[\"re74\"],grouped1[\"re74\"]],\"OLD comparison with boxplots for real earnings in 1974\", \"treat\", False)\n",
    "boplot([match[\"re74_2\"],match[\"re74\"]],\"Comparison with boxplots for real earnings in 1974\", \"treat\", False)"
   ]
  },
  {
   "cell_type": "markdown",
   "metadata": {},
   "source": [
    "#### real earnings in 1975 (pre-treatment)"
   ]
  },
  {
   "cell_type": "code",
   "execution_count": null,
   "metadata": {},
   "outputs": [],
   "source": [
    "boplot([grouped0[\"re75\"],grouped1[\"re75\"]],\"OLD comparison with boxplots for real earnings in 1975\", \"treat\", False)\n",
    "boplot([match[\"re75_2\"],match[\"re75\"]],\"Comparison with boxplots for real earnings in 1975\", \"treat\", False)"
   ]
  },
  {
   "cell_type": "markdown",
   "metadata": {},
   "source": [
    "The remaining features for which the balance is still not completely attaigned are:"
   ]
  },
  {
   "cell_type": "markdown",
   "metadata": {},
   "source": [
    "#### age\n",
    "\n",
    "We observe that the remaining people are mostly between 17 and 27 years old in the non-program group and between 20 and 28 in the second one. We will come back to this feature if our next improved matching is still not good enough."
   ]
  },
  {
   "cell_type": "code",
   "execution_count": null,
   "metadata": {},
   "outputs": [],
   "source": [
    "boplot([grouped0[\"age\"],grouped1[\"age\"]],\"OLD Comparison with boxplots for age\", \"treat\", False)\n",
    "boplot([match[\"age_2\"], match[\"age\"]],\"Comparison with boxplots for age\", \"treat\", False)"
   ]
  },
  {
   "cell_type": "markdown",
   "metadata": {},
   "source": [
    "#### Study Duration\n",
    "\n",
    "For this feature, the situations is similar than for age. THe two datasets are not perfectly balanced but it might be acceptable. If not, we will come back to this feature later."
   ]
  },
  {
   "cell_type": "code",
   "execution_count": null,
   "metadata": {},
   "outputs": [],
   "source": [
    "boplot([grouped0[\"educ\"],grouped1[\"educ\"]],\"OLD Comparison with boxplots for education duration\", \"treat\", False)\n",
    "boplot([match[\"educ_2\"],match[\"educ\"]],\"Comparison with boxplots for education duration\", \"treat\", False)"
   ]
  },
  {
   "cell_type": "markdown",
   "metadata": {},
   "source": [
    "#### Race"
   ]
  },
  {
   "cell_type": "code",
   "execution_count": null,
   "metadata": {},
   "outputs": [],
   "source": [
    "grouped0['race'].value_counts().plot(kind='bar')\n",
    "plt.title(\"OLD Race counts for people that didn't follow the program\")\n",
    "plt.xlabel(\"race\", fontsize=12)\n",
    "plt.ylabel(\"count\", fontsize=12)\n",
    "plt.show()\n",
    "\n",
    "grouped1['race'].value_counts().plot(kind='bar', color='r')\n",
    "plt.title(\"OLD Race counts for people that followed the program\")\n",
    "plt.xlabel(\"race\", fontsize=12)\n",
    "plt.ylabel(\"count\", fontsize=12)\n",
    "plt.show()\n",
    "\n",
    "match['race_2'].value_counts().plot(kind='bar')\n",
    "plt.title(\"Race counts for people that didn't follow the program\")\n",
    "plt.xlabel(\"race\", fontsize=12)\n",
    "plt.ylabel(\"count\", fontsize=12)\n",
    "plt.show()\n",
    "\n",
    "match['race'].value_counts().plot(kind='bar', color='r')\n",
    "plt.title(\"Race counts for people that followed the program\")\n",
    "plt.xlabel(\"race\", fontsize=12)\n",
    "plt.ylabel(\"count\", fontsize=12)\n",
    "plt.show()"
   ]
  },
  {
   "cell_type": "markdown",
   "metadata": {},
   "source": [
    "**Are you closer to being able to draw valid conclusions now than you were before?**\n",
    "We are closer than before as the dataset is well-balanced for multiple features. Nevertheless, they are still three features for which the balance is not good enough. "
   ]
  },
  {
   "cell_type": "markdown",
   "metadata": {},
   "source": [
    "### 5. Balancing the groups further\n",
    "\n",
    "We try to see which feature is really a problem:"
   ]
  },
  {
   "cell_type": "code",
   "execution_count": null,
   "metadata": {},
   "outputs": [],
   "source": [
    "matchRace = match.loc[match['race'] == match['race_2']]\n",
    "print(\"There are \" , len(matchRace), \" out of \", len(match), \" that are matched with someone of the same race\")\n",
    "\n",
    "matchEduc = match.loc[abs(match['educ'] - match['educ_2'])< int(pd.DataFrame.std(match['educ']))+1]\n",
    "print(\"There are \" , len(matchEduc), \" out of \", len(match), \" that are matched with someone that have similar number of years of study (3 or less years of difference)\")\n",
    "\n",
    "matchAge = match.loc[abs(match['age'] - match['age_2'])< int(pd.DataFrame.std(match['age']))+1]\n",
    "print(\"There are \" , len(matchAge), \" out of \", len(match), \" that are matched with someone that have similar age (8 or less years of difference)\")\n",
    "\n",
    "matchAll = match.loc[(abs(match['age'] - match['age_2'])< int(pd.DataFrame.std(match['age']))+1) & (abs(match['educ'] - match['educ_2'])< int(pd.DataFrame.std(match['educ']))+1) & (match['race'] == match['race_2'])]\n",
    "print(\"There are \" , len(matchAll), \" out of \", len(match), \" that are matched with someone that have similar number of years of study\")\n",
    "\n"
   ]
  },
  {
   "cell_type": "markdown",
   "metadata": {},
   "source": [
    "### 6. A less naive analysis"
   ]
  },
  {
   "cell_type": "code",
   "execution_count": null,
   "metadata": {},
   "outputs": [],
   "source": [
    "boplot([matchAll['re78_2'],matchAll['re78']],\"Treat comparison boxplots matched on All\", \"treat\", False)\n",
    "\n",
    "boplot([matchAge['re78_2'],matchAge['re78']],\"Treat comparison boxplots matched on Age\", \"treat\", False)\n",
    "\n",
    "boplot([matchEduc['re78_2'],matchEduc['re78']],\"Treat comparison boxplots matched on Education duration\", \"treat\", False)\n",
    "\n",
    "boplot([matchRace['re78_2'],matchRace['re78']],\"Treat comparison boxplots matched on Race\", \"treat\", False)\n",
    "\n"
   ]
  },
  {
   "cell_type": "markdown",
   "metadata": {},
   "source": [
    "TODO:\n",
    "drawing and discussion for step 5 and 6\n",
    "clean code (histograms) and maybe find better way to show the plots\n",
    "check matching\n",
    "step 4 or 5 -> redo matching or remove other"
   ]
  }
 ],
 "metadata": {
  "kernelspec": {
   "display_name": "Python [conda root]",
   "language": "python",
   "name": "conda-root-py"
  },
  "language_info": {
   "codemirror_mode": {
    "name": "ipython",
    "version": 3
   },
   "file_extension": ".py",
   "mimetype": "text/x-python",
   "name": "python",
   "nbconvert_exporter": "python",
   "pygments_lexer": "ipython3",
   "version": "3.6.1"
  }
 },
 "nbformat": 4,
 "nbformat_minor": 2
}
