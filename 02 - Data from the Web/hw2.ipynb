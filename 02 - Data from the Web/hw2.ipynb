{
 "cells": [
  {
   "cell_type": "code",
   "execution_count": null,
   "metadata": {},
   "outputs": [],
   "source": [
    "import requests as rq\n",
    "import pandas as pd\n",
    "import bs4\n",
    "import re\n",
    "import multiprocessing as mp\n",
    "from IPython.display import display, HTML"
   ]
  },
  {
   "cell_type": "code",
   "execution_count": null,
   "metadata": {
    "collapsed": true
   },
   "outputs": [],
   "source": [
    "N = 5\n",
    "\n",
    "SITE1 = \"https://www.topuniversities.com\"\n",
    "URL1 = SITE1+\"/sites/default/files/qs-rankings-data/357051.txt\"\n",
    "\n",
    "SITE2 = \"https://www.timeshighereducation.com\"\n",
    "URL2 = SITE2+\"/sites/default/files/the_data_rankings/world_university_rankings_2018_limit0_369a9045a203e176392b9fb8f8c1cb2a.json\""
   ]
  },
  {
   "cell_type": "code",
   "execution_count": null,
   "metadata": {},
   "outputs": [],
   "source": [
    "data1, data2 = (rq.get(URL).json().get(\"data\") for URL in (URL1, URL2))\n",
    "\n",
    "display(sorted(list(data1[0].keys())))\n",
    "display(sorted(list(data2[0].keys())))\n",
    "\n",
    "names1, names2 = ([u.get(\"title\") for u in data] for data in (data1, data2))\n",
    "print(\"Extracted %d and %d names\" % (len(names1), len(names2)))"
   ]
  },
  {
   "cell_type": "code",
   "execution_count": null,
   "metadata": {},
   "outputs": [],
   "source": [
    "s = requests.Session()\n",
    "reqs = [(req_id, s.prepare_request(rq.Request('GET', SITE1+entry[\"url\"]))) for req_id, entry in enumerate(data1[:N])]\n",
    "print(len(reqs), \"requests to be sent.\")\n",
    "\n",
    "resps = [(req_id, s.send(req)) for req_id, req in reqs]\n",
    "\n",
    "done = [(req_id, resp.text) for req_id, resp in resps if resp.status_code == 200]\n",
    "failed = [(req_id, resp) for req_id, resp in resps if resp.status_code != 200]\n",
    "\n",
    "print(\"%d done, %d failed.\" % (len(done), len(failed)))\n",
    "\n",
    "non_digit = re.compile('[^0-9]')\n",
    "\n",
    "class_to_labels = {\"total+faculty\": \"fac_c_total\",\n",
    "                   \"inter+faculty\": \"fac_c_inter\",\n",
    "                  \"total+student\":\"stu_c_total\",\n",
    "                  \"total+inter\":\"stu_c_inter\"}\n",
    "\n",
    "\n",
    "def resp_to_counts(req):\n",
    "    req_id, resp = req\n",
    "    page = bs4.BeautifulSoup(resp, \"html.parser\")\n",
    "    top = page.body.find(\"div\", class_=\"view-academic-data-profile\")\n",
    "    numdivs = top.find_all(\"div\", class_=\"number\")\n",
    "    \n",
    "    def get_label(div):\n",
    "        if div == top:\n",
    "            return None\n",
    "        label = class_to_labels.get(\"+\".join(div.get(\"class\")))\n",
    "        return label or get_label(div.parent)\n",
    "    \n",
    "    fac_counts = {(get_label(div), int(re.sub(non_digit,'', div.string))) for div in numdivs}\n",
    "    return req_id, fac_counts\n",
    "\n",
    "print(\"Parsing responses using up to %d threads...\" % mp.cpu_count(), end=\"\") \n",
    "with mp.Pool(mp.cpu_count()) as p:\n",
    "    for req_id, counts in p.map(resp_to_counts, done):\n",
    "        data1[req_id].update(counts)\n",
    "print(\"done\")"
   ]
  },
  {
   "cell_type": "code",
   "execution_count": null,
   "metadata": {},
   "outputs": [],
   "source": [
    "basecol = [\"title\", \"rank_display\", \"country\", \"region\"]\n",
    "addedcol = [\"fac_c_inter\", \"fac_c_total\", \"stu_c_inter\", \"stu_c_total\"]\n",
    "\n",
    "uni_s1 = pd.DataFrame(data1[:N], columns= basecol+addedcol)\n",
    "uni_s1.rename(columns={\"title\":\"name\", \"rank_display\": \"rank\"},inplace=True)\n",
    "# Convert the rank to a numerical type\n",
    "uni_s1[\"rank\"] = uni_s1[\"rank\"].str.extract('(\\d+)', expand=False).astype(int)\n",
    "uni_s1.head()"
   ]
  },
  {
   "cell_type": "code",
   "execution_count": null,
   "metadata": {},
   "outputs": [],
   "source": [
    "basecol = [\"name\", \"rank\", \"location\", \"stats_pc_intl_students\", \"stats_student_staff_ratio\", \"url\"]\n",
    "\n",
    "uni_s2 = pd.DataFrame(data2[:N], columns=basecol)\n",
    "uni_s2.rename(columns={\"location\":\"country\",\"stats_pc_intl_students\":\"pc_intl_students\", \"stats_student_staff_ratio\":\"student_staff_ratio\"},inplace=True)\n",
    "uni_s2[\"rank\"] = uni_s2[\"rank\"].str.extract('(\\d+)', expand=False).astype(int)\n",
    "uni_s2[\"pc_intl_students\"]= uni_s2[\"pc_intl_students\"].str.extract('(\\d+)', expand=False).astype(float) / 100\n",
    "uni_s2.head()"
   ]
  },
  {
   "cell_type": "code",
   "execution_count": null,
   "metadata": {
    "collapsed": true
   },
   "outputs": [],
   "source": []
  }
 ],
 "metadata": {
  "kernelspec": {
   "display_name": "Python [conda env:ada]",
   "language": "python",
   "name": "conda-env-ada-py"
  },
  "language_info": {
   "codemirror_mode": {
    "name": "ipython",
    "version": 3
   },
   "file_extension": ".py",
   "mimetype": "text/x-python",
   "name": "python",
   "nbconvert_exporter": "python",
   "pygments_lexer": "ipython3",
   "version": "3.5.4"
  }
 },
 "nbformat": 4,
 "nbformat_minor": 2
}
