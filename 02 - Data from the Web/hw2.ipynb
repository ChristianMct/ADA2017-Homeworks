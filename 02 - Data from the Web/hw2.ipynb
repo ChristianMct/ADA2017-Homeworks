{
 "cells": [
  {
   "cell_type": "code",
   "execution_count": null,
   "metadata": {},
   "outputs": [],
   "source": [
    "import requests as rq\n",
    "import pandas as pd\n",
    "import bs4\n",
    "import re\n",
    "import multiprocessing as mp\n",
    "import numpy as np\n",
    "import matplotlib.pyplot as plt\n",
    "\n",
    "from itertools import product\n",
    "from scipy.optimize import linear_sum_assignment\n",
    "from nltk.metrics import edit_distance\n",
    "from IPython.display import display, HTML"
   ]
  },
  {
   "cell_type": "code",
   "execution_count": null,
   "metadata": {
    "collapsed": true
   },
   "outputs": [],
   "source": [
    "N = 200\n",
    "M = 400\n",
    "\n",
    "SITE1 = \"https://www.topuniversities.com\"\n",
    "URL1 = SITE1+\"/sites/default/files/qs-rankings-data/357051.txt\"\n",
    "\n",
    "SITE2 = \"https://www.timeshighereducation.com\"\n",
    "URL2 = SITE2+\"/sites/default/files/the_data_rankings/world_university_rankings_2018_limit0_369a9045a203e176392b9fb8f8c1cb2a.json\""
   ]
  },
  {
   "cell_type": "code",
   "execution_count": null,
   "metadata": {},
   "outputs": [],
   "source": [
    "data1, data2 = (rq.get(URL).json().get(\"data\") for URL in (URL1, URL2))\n",
    "\n",
    "display(sorted(list(data1[0].keys())))\n",
    "display(sorted(list(data2[0].keys())))\n",
    "\n",
    "names1, names2 = ([u.get(key) for u in data[:M]] for data, key in ((data1, 'title'), (data2, 'name')))\n",
    "print(\"Extracted %d and %d names\" % (len(names1), len(names2)))"
   ]
  },
  {
   "cell_type": "code",
   "execution_count": null,
   "metadata": {},
   "outputs": [],
   "source": [
    "s = rq.Session()\n",
    "reqs = [(req_id, s.prepare_request(rq.Request('GET', SITE1+entry[\"url\"]))) for req_id, entry in enumerate(data1[:N])]\n",
    "print(len(reqs), \"requests to be sent.\")\n",
    "\n",
    "resps = [(req_id, s.send(req)) for req_id, req in reqs]\n",
    "\n",
    "done = [(req_id, resp.text) for req_id, resp in resps if resp.status_code == 200]\n",
    "failed = [(req_id, resp) for req_id, resp in resps if resp.status_code != 200]\n",
    "\n",
    "print(\"%d done, %d failed.\" % (len(done), len(failed)))\n",
    "\n",
    "non_digit = re.compile('[^0-9]')\n",
    "\n",
    "class_to_labels = {\"total+faculty\": \"fac_c_total\",\n",
    "                   \"inter+faculty\": \"fac_c_inter\",\n",
    "                  \"total+student\":\"stu_c_total\",\n",
    "                  \"total+inter\":\"stu_c_inter\"}\n",
    "\n",
    "\n",
    "def resp_to_counts(req):\n",
    "    req_id, resp = req\n",
    "    page = bs4.BeautifulSoup(resp, \"html.parser\")\n",
    "    top = page.body.find(\"div\", class_=\"view-academic-data-profile\")\n",
    "    numdivs = top.find_all(\"div\", class_=\"number\")\n",
    "    \n",
    "    def get_label(div):\n",
    "        if div == top:\n",
    "            return None\n",
    "        label = class_to_labels.get(\"+\".join(div.get(\"class\")))\n",
    "        return label or get_label(div.parent)\n",
    "    \n",
    "    fac_counts = {(get_label(div), int(re.sub(non_digit,'', div.string))) for div in numdivs}\n",
    "    return req_id, fac_counts\n",
    "\n",
    "print(\"Parsing responses using up to %d threads...\" % mp.cpu_count(), end=\"\") \n",
    "with mp.Pool(mp.cpu_count()) as p:\n",
    "    for req_id, counts in p.map(resp_to_counts, done):\n",
    "        data1[req_id].update(counts)\n",
    "print(\"done\")"
   ]
  },
  {
   "cell_type": "code",
   "execution_count": null,
   "metadata": {},
   "outputs": [],
   "source": [
    "basecol = [\"title\", \"rank_display\", \"country\", \"region\"]\n",
    "addedcol = [\"fac_c_inter\", \"fac_c_total\", \"stu_c_inter\", \"stu_c_total\"]\n",
    "\n",
    "uni_s1 = pd.DataFrame(data1[:N], columns= basecol+addedcol)\n",
    "uni_s1.rename(columns={\"title\":\"name\", \"rank_display\": \"rank\"},inplace=True)\n",
    "# Convert the rank to a numerical type\n",
    "uni_s1[\"rank\"] = uni_s1[\"rank\"].str.extract('(\\d+)', expand=False).astype(int)\n",
    "uni_s1.head()"
   ]
  },
  {
   "cell_type": "code",
   "execution_count": null,
   "metadata": {},
   "outputs": [],
   "source": [
    "basecol = [\"name\", \"rank\", \"location\", \"stats_pc_intl_students\", \"stats_student_staff_ratio\"]\n",
    "\n",
    "uni_s2 = pd.DataFrame(data2[:N], columns=basecol)\n",
    "uni_s2.rename(columns={\"location\":\"country\",\"stats_pc_intl_students\":\"pc_intl_students\", \"stats_student_staff_ratio\":\"student_staff_ratio\"},inplace=True)\n",
    "uni_s2[\"rank\"] = uni_s2[\"rank\"].str.extract('(\\d+)', expand=False).astype(int)\n",
    "uni_s2[\"pc_intl_students\"]= uni_s2[\"pc_intl_students\"].str.extract('(\\d+)', expand=False).astype(float) / 100\n",
    "uni_s2.head()"
   ]
  },
  {
   "cell_type": "markdown",
   "metadata": {},
   "source": [
    "M=200 : 1119\n",
    "\n",
    "M=300 : 969\n",
    "\n",
    "M=400 : 875\n",
    "\n",
    "M=500 : 860\n",
    "\n",
    "M=800 : 822\n",
    "\n",
    "M=1000: 819"
   ]
  },
  {
   "cell_type": "code",
   "execution_count": null,
   "metadata": {},
   "outputs": [],
   "source": [
    "def col(name):\n",
    "    return np.array([edit_distance(name, n) for n in names2])\n",
    "\n",
    "p = mp.Pool(mp.cpu_count())\n",
    "print(\"Computing cost matrix using %d workers...\" % mp.cpu_count(), end=\"\")\n",
    "\n",
    "costs = np.array(p.map(col, names1))\n",
    "print(\"done\")\n",
    "\n",
    "print(\"Computing optimal assigment...\", end=\"\")\n",
    "id_n1, id_n2 = linear_sum_assignment(costs)\n",
    "sol_costs = costs[id_n1[:N], id_n2[:N]]\n",
    "print(\"Done: cost of solution = %d\" % sol_costs.sum())\n"
   ]
  },
  {
   "cell_type": "code",
   "execution_count": null,
   "metadata": {
    "scrolled": true
   },
   "outputs": [],
   "source": [
    "uni_m = uni_s1.join(uni_s2.loc[id_n2[:N]].reset_index(drop=True), rsuffix=\"_2\")\n",
    "uni_m.dropna(inplace=True) # Removed uni that are s\n",
    "\n",
    "uni_m.replace(\"Russian Federation\", \"Russia\", inplace=True)\n",
    "uni_m = uni_m[uni_m[\"country\"] == uni_m[\"country_2\"]].drop(\"country_2\", axis=1) # Remove unmatching countries \n",
    "\n",
    "\n",
    "print(\"Merged dataset is of size: %s\" % len(uni_m))\n",
    "display(uni_m[[\"name\", \"name_2\"]][uni_m[\"name\"] != uni_m[\"name_2\"]]) # Shows a good quality of matching\n",
    "\n",
    "uni_m.drop(\"name_2\", axis=1, inplace=True)\n",
    "uni_m.head()"
   ]
  },
  {
   "cell_type": "markdown",
   "metadata": {},
   "source": [
    "uni_s1 and uni_s2 are the dataframes corresponding to the rankings from the first and second websites respectively. For each university, we use the data from the columns with values for the total number of students, faculty members and international students to compute the student/staff ratio and the proportion of international students for each university. We then sort the dataframes according to each ratio to find the best universities with respect to each."
   ]
  },
  {
   "cell_type": "code",
   "execution_count": null,
   "metadata": {},
   "outputs": [],
   "source": [
    "#ratio computations for s1 only because they are already available for s2\n",
    "uni_s1['staff_student_ratio'] = uni_s1.apply(lambda row: row.fac_c_total/row.stu_c_total, axis=1)\n",
    "uni_s1['pc_intl_students'] = uni_s1.apply(lambda row: (row.stu_c_inter/row.stu_c_total), axis=1)\n",
    "\n",
    "#transforming of the ratios for s2 so that they are comparable with the data for s1\n",
    "uni_s2['staff_student_ratio'] = uni_s2.apply(lambda row: 1/float(row.student_staff_ratio), axis=1)\n",
    "\n",
    "\n",
    "#sorting of data with respect to each ratio\n",
    "display(uni_s1.sort_values('staff_student_ratio', ascending=False).head())\n",
    "display(uni_s1.sort_values('pc_intl_students', ascending=False).head())\n",
    "display(uni_s2.sort_values('staff_student_ratio', ascending=False).head())\n",
    "display(uni_s2.sort_values('pc_intl_students', ascending=False).head())"
   ]
  },
  {
   "cell_type": "markdown",
   "metadata": {},
   "source": [
    "According to website 1 the two best universities with respect to the staff/student ratio are Caltech and Yale. The two best universities with respect to the proportion of international students are  London School of Economics and Political Sciences and Ecole Polytechnique Fédérale de Lausanne (EPFL).\n",
    "\n",
    "According to website 2 the two best universities with respect to the staff/student ratio are Vanderbilt University and University of Copenhagen. The two best universities with respect to the proportion of international students are  London School of Economics and Political Sciences and University of Luxembourg.\n",
    "\n",
    "We now aggregate our results by country and region by grouping the data and computing the mean of the ratios for each group."
   ]
  },
  {
   "cell_type": "code",
   "execution_count": null,
   "metadata": {},
   "outputs": [],
   "source": [
    "uni_s1_countries = uni_s1.pivot_table(index=\"country\", values=[\"staff_student_ratio\", \"pc_intl_students\"])\n",
    "uni_s1_regions = uni_s1.pivot_table(index=\"region\", values=[\"staff_student_ratio\", \"pc_intl_students\"])\n",
    "\n",
    "uni_s2_countries = uni_s2.pivot_table(index=\"country\", values=[\"staff_student_ratio\", \"pc_intl_students\"])\n",
    "\n",
    "def title(s):\n",
    "    return display(HTML(\"<H1>%s</H1>\" % s))\n",
    "\n",
    "title(\"(c) Best countries according to faculty member to student ratio:\")\n",
    "display(uni_s1_countries[[\"staff_student_ratio\"]].sort_values(\"staff_student_ratio\", ascending=False).head())\n",
    "title(\"(d) Best countries according to international students ratio:\")\n",
    "display(uni_s1_countries[[\"pc_intl_students\"]].sort_values(\"pc_intl_students\", ascending=False).head())\n",
    "\n",
    "title(\"(d) Best regions according to international students ratio:\")\n",
    "display(uni_s1_regions.sort_values(sort_by, ascending=ascending).head())\n",
    "display(uni_s2_countries.sort_values(sort_by, ascending=ascending).head())"
   ]
  },
  {
   "cell_type": "code",
   "execution_count": null,
   "metadata": {},
   "outputs": [],
   "source": [
    "def plot(title, df, figsize=(15, 5), legend=None, **kwargs):\n",
    "    f, ax = plt.subplots(figsize=figsize)\n",
    "    df.plot(kind='bar',ax=ax, title=title,legend=True, fontsize=12, **kwargs)\n",
    "    ax.set_xlabel(df.index.name, fontsize=12)\n",
    "    ax.set_ylabel(\"ratio\", fontsize=12)\n",
    "    ax.set_xticklabels(df.index)\n",
    "    ax.tick_params(axis='x', which='major', pad=15)\n",
    "    if legend:\n",
    "        ax.legend(legend)\n",
    "    display(f)\n",
    "    plt.close(f)\n",
    "\n",
    "plot(\"University mean ratios by region according to site 1's ranking\",\n",
    "     uni_s1_regions.sort_values(\"pc_intl_students\", ascending=ascending),\n",
    "    legend=['International Students ratio', 'Faculty/Student ratio'])"
   ]
  },
  {
   "cell_type": "markdown",
   "metadata": {},
   "source": [
    "From the plot above, we notice that the best region according to site 1 in terms of proportion of international students is Oceania and followed by Europe then North America. In terms of proportion of Faculty Members to Students the best region is North America followed by Asia and Europe. "
   ]
  },
  {
   "cell_type": "code",
   "execution_count": null,
   "metadata": {},
   "outputs": [],
   "source": [
    "plot(\"University Faculty/Student mean ratio by country according to site 1's ranking\",\n",
    "     uni_s1_countries[\"staff_student_ratio\"].sort_values(ascending=ascending))\n",
    "\n",
    "plot(\"University mean proportion of International Students by country according to site 1's ranking\",\n",
    "     uni_s1_countries[\"pc_intl_students\"].sort_values(ascending=ascending))"
   ]
  },
  {
   "cell_type": "markdown",
   "metadata": {},
   "source": [
    "According to the rankings of the first website, the best countries are United Kingdom and Australia in terms of proportion of International students while the best are Russia and Denmark according to the Faculty Members to the number of Students ratio."
   ]
  },
  {
   "cell_type": "code",
   "execution_count": null,
   "metadata": {},
   "outputs": [],
   "source": [
    "plot(\"University mean proportion of International Students by country according to site 1's ranking\",\n",
    "     uni_s2_countries[\"staff_student_ratio\"].sort_values(ascending=ascending))\n",
    "\n",
    "plot(\"University mean proportion of International Students by country according to site 1's ranking\",\n",
    "     uni_s2_countries[\"pc_intl_students\"].sort_values(ascending=ascending))"
   ]
  },
  {
   "cell_type": "markdown",
   "metadata": {},
   "source": [
    "According to the rankings of the second website, the best countries are Luxembourg and United Kingdom in terms of proportion of International students while the best are Denmark and Italy according to the Faculty Members to the number of Students ratio."
   ]
  }
 ],
 "metadata": {
  "kernelspec": {
   "display_name": "Python [conda env:ada]",
   "language": "python",
   "name": "conda-env-ada-py"
  },
  "language_info": {
   "codemirror_mode": {
    "name": "ipython",
    "version": 3
   },
   "file_extension": ".py",
   "mimetype": "text/x-python",
   "name": "python",
   "nbconvert_exporter": "python",
   "pygments_lexer": "ipython3",
   "version": "3.5.4"
  }
 },
 "nbformat": 4,
 "nbformat_minor": 2
}
