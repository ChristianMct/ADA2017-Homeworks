{
 "cells": [
  {
   "cell_type": "markdown",
   "metadata": {},
   "source": [
    "# Homework 2 - Introduction\n",
    "\n",
    "The rest of the notebook is organized as follow:\n",
    "\n",
    "1. Data Extraction\n",
    "2. Dataframes construction\n",
    "3. Dataset merging\n",
    "4. Analysis\n",
    "    a) Homework question\n",
    "    b) Exploratory analysis"
   ]
  },
  {
   "cell_type": "code",
   "execution_count": null,
   "metadata": {
    "collapsed": true
   },
   "outputs": [],
   "source": [
    "import requests as rq\n",
    "import pandas as pd\n",
    "import bs4\n",
    "import re\n",
    "import multiprocessing as mp\n",
    "import numpy as np\n",
    "import matplotlib.pyplot as plt\n",
    "\n",
    "from itertools import product\n",
    "from scipy.optimize import linear_sum_assignment\n",
    "from nltk.metrics import edit_distance\n",
    "from IPython.display import display, HTML"
   ]
  },
  {
   "cell_type": "code",
   "execution_count": null,
   "metadata": {
    "collapsed": true
   },
   "outputs": [],
   "source": [
    "N = 200\n",
    "M = 400\n",
    "\n",
    "SITE1 = \"https://www.topuniversities.com\"\n",
    "URL1 = SITE1+\"/sites/default/files/qs-rankings-data/357051.txt\"\n",
    "\n",
    "SITE2 = \"https://www.timeshighereducation.com\"\n",
    "URL2 = SITE2+\"/sites/default/files/the_data_rankings/world_university_rankings_2018_limit0_369a9045a203e176392b9fb8f8c1cb2a.json\""
   ]
  },
  {
   "cell_type": "markdown",
   "metadata": {},
   "source": [
    "# Data extraction"
   ]
  },
  {
   "cell_type": "code",
   "execution_count": null,
   "metadata": {},
   "outputs": [],
   "source": [
    "data1, data2 = (rq.get(URL).json().get(\"data\") for URL in (URL1, URL2))\n",
    "\n",
    "display(sorted(list(data1[0].keys())))\n",
    "display(sorted(list(data2[0].keys())))\n",
    "\n",
    "names1, names2 = ([u.get(key) for u in data[:M]] for data, key in ((data1, 'title'), (data2, 'name')))\n",
    "print(\"Extracted %d and %d names\" % (len(names1), len(names2)))"
   ]
  },
  {
   "cell_type": "markdown",
   "metadata": {},
   "source": [
    "*********************** TASK 1,2 and 3 ******************************************************************************"
   ]
  },
  {
   "cell_type": "markdown",
   "metadata": {},
   "source": [
    "** We start by fetching all the requested data from both websites **\n",
    "For the first URL (topuniversities), we have to request the data from each university page"
   ]
  },
  {
   "cell_type": "code",
   "execution_count": null,
   "metadata": {},
   "outputs": [],
   "source": [
    "s = rq.Session()\n",
    "reqs = [(req_id, s.prepare_request(rq.Request('GET', SITE1+entry[\"url\"]))) for req_id, entry in enumerate(data1[:N])]\n",
    "print(len(reqs), \"requests to be sent.\")\n",
    "\n",
    "resps = [(req_id, s.send(req)) for req_id, req in reqs]\n",
    "\n",
    "done = [(req_id, resp.text) for req_id, resp in resps if resp.status_code == 200]\n",
    "failed = [(req_id, resp) for req_id, resp in resps if resp.status_code != 200]\n",
    "\n",
    "print(\"%d done, %d failed.\" % (len(done), len(failed)))\n",
    "\n",
    "non_digit = re.compile('[^0-9]')\n",
    "\n",
    "class_to_labels = {\"total+faculty\": \"fac_c_total\",\n",
    "                   \"inter+faculty\": \"fac_c_inter\",\n",
    "                  \"total+student\":\"stu_c_total\",\n",
    "                  \"total+inter\":\"stu_c_inter\"}\n",
    "\n",
    "\n",
    "def resp_to_counts(req):\n",
    "    req_id, resp = req\n",
    "    page = bs4.BeautifulSoup(resp, \"html.parser\")\n",
    "    top = page.body.find(\"div\", class_=\"view-academic-data-profile\")\n",
    "    numdivs = top.find_all(\"div\", class_=\"number\")\n",
    "    \n",
    "    def get_label(div):\n",
    "        if div == top:\n",
    "            return None\n",
    "        label = class_to_labels.get(\"+\".join(div.get(\"class\")))\n",
    "        return label or get_label(div.parent)\n",
    "    \n",
    "    fac_counts = {(get_label(div), int(re.sub(non_digit,'', div.string))) for div in numdivs}\n",
    "    return req_id, fac_counts\n",
    "\n",
    "print(\"Parsing responses using up to %d threads...\" % mp.cpu_count(), end=\"\") \n",
    "with mp.Pool(mp.cpu_count()) as p:\n",
    "    for req_id, counts in p.map(resp_to_counts, done):\n",
    "        data1[req_id].update(counts)\n",
    "print(\"done\")"
   ]
  },
  {
   "cell_type": "markdown",
   "metadata": {},
   "source": [
    "# Dataframes construction"
   ]
  },
  {
   "cell_type": "code",
   "execution_count": null,
   "metadata": {},
   "outputs": [],
   "source": [
    "basecol = [\"title\", \"rank_display\", \"country\", \"region\"]\n",
    "addedcol = [\"fac_c_inter\", \"fac_c_total\", \"stu_c_inter\", \"stu_c_total\"]\n",
    "\n",
    "uni_s1 = pd.DataFrame(data1[:N], columns= basecol+addedcol)\n",
    "uni_s1.rename(columns={\"title\":\"name\", \"rank_display\": \"rank\"},inplace=True)\n",
    "# Convert the rank to a numerical type\n",
    "uni_s1[\"rank\"] = uni_s1[\"rank\"].str.extract('(\\d+)', expand=False).astype(int)\n",
    "\n",
    "#ratio computations for s1 only because they are already available for s2\n",
    "uni_s1['staff_student_ratio'] = uni_s1.apply(lambda row: row.fac_c_total/row.stu_c_total, axis=1)\n",
    "uni_s1['pc_intl_students'] = uni_s1.apply(lambda row: (row.stu_c_inter/row.stu_c_total), axis=1)\n",
    "\n",
    "uni_s1.head()"
   ]
  },
  {
   "cell_type": "code",
   "execution_count": null,
   "metadata": {},
   "outputs": [],
   "source": [
    "basecol = [\"name\", \"rank\", \"location\", \"stats_pc_intl_students\", \"stats_student_staff_ratio\"]\n",
    "\n",
    "uni_s2 = pd.DataFrame(data2[:N], columns=basecol)\n",
    "uni_s2.rename(columns={\"location\":\"country\",\"stats_pc_intl_students\":\"pc_intl_students\", \"stats_student_staff_ratio\":\"student_staff_ratio\"},inplace=True)\n",
    "\n",
    "uni_s2[\"rank\"] = uni_s2[\"rank\"].str.extract('(\\d+)', expand=False).astype(int)\n",
    "\n",
    "uni_s2[\"pc_intl_students\"]= uni_s2[\"pc_intl_students\"].str.extract('(\\d+)', expand=False).astype(float) / 100\n",
    "\n",
    "#transforming of the ratios for s2 so that they are comparable with the data for s1\n",
    "uni_s2['staff_student_ratio'] = uni_s2.apply(lambda row: 1/float(row.student_staff_ratio), axis=1)\n",
    "\n",
    "uni_s2.head()"
   ]
  },
  {
   "cell_type": "markdown",
   "metadata": {},
   "source": [
    "TODO explain or remove"
   ]
  },
  {
   "cell_type": "markdown",
   "metadata": {},
   "source": [
    "M=200 : 1119\n",
    "\n",
    "M=300 : 969\n",
    "\n",
    "M=400 : 875\n",
    "\n",
    "M=500 : 860\n",
    "\n",
    "M=800 : 822\n",
    "\n",
    "M=1000: 819"
   ]
  },
  {
   "cell_type": "markdown",
   "metadata": {},
   "source": [
    "# Datasets merging\n",
    "\n",
    "we compute the best matchings for university names by creating the matrix of the costs (edit_distance) of all the possible assignements. We then use this matrix to solve th linear sum assignement problem (The linear sum assignment problem is also known as minimum weight matching in bipartite graphs. The goal is to find a complete assignment of workers to jobs of minimal cost.)"
   ]
  },
  {
   "cell_type": "code",
   "execution_count": null,
   "metadata": {},
   "outputs": [],
   "source": [
    "def col(name):\n",
    "    return np.array([edit_distance(name, n) for n in names2])\n",
    "\n",
    "p = mp.Pool(mp.cpu_count())\n",
    "print(\"Computing cost matrix using %d workers...\" % mp.cpu_count(), end=\"\")\n",
    "\n",
    "costs = np.array(p.map(col, names1))\n",
    "print(\"done\")\n",
    "\n",
    "print(\"Computing optimal assigment...\", end=\"\")\n",
    "id_n1, id_n2 = linear_sum_assignment(costs)\n",
    "sol_costs = costs[id_n1[:N], id_n2[:N]]\n",
    "print(\"Done: cost of solution = %d\" % sol_costs.sum())\n"
   ]
  },
  {
   "cell_type": "markdown",
   "metadata": {},
   "source": [
    "This method will find an assignement in any cases, which means that university names that do not have any real match (no corresponding name in second dataset) will be match with other names. To remove these outliers/mistakes we simply check that the university names that are matched are in the same country. If it is not the case, we consider there is no match and remove this entry from the merged dataset."
   ]
  },
  {
   "cell_type": "code",
   "execution_count": null,
   "metadata": {
    "scrolled": true
   },
   "outputs": [],
   "source": [
    "uni_m = uni_s1.join(uni_s2.loc[id_n2[:N]].reset_index(drop=True), rsuffix=\"_2\")\n",
    "uni_m.dropna(inplace=True) # Removed uni that are s\n",
    "\n",
    "uni_m.replace(\"Russian Federation\", \"Russia\", inplace=True)\n",
    "uni_m = uni_m[uni_m[\"country\"] == uni_m[\"country_2\"]].drop(\"country_2\", axis=1) # Remove unmatching countries \n",
    "\n",
    "\n",
    "print(\"Merged dataset is of size: %s\" % len(uni_m))\n",
    "display(uni_m[[\"name\", \"name_2\"]][uni_m[\"name\"] != uni_m[\"name_2\"]]) # Shows a good quality of matching\n",
    "\n",
    "uni_m.drop(\"name_2\", axis=1, inplace=True)\n",
    "\n",
    "uni_m.head()"
   ]
  },
  {
   "cell_type": "markdown",
   "metadata": {},
   "source": [
    "# Analysis\n",
    "\n",
    "\n",
    "##  Homework questions\n",
    "\n",
    "** Determine best universities according to (a) ratio between faculty members and students, (b) ratio of international students **\n",
    "uni_s1 and uni_s2 are the dataframes corresponding to the rankings from the first and second websites respectively. For each university, we use the data from the columns with values for the total number of students, faculty members and international students to compute the student/staff ratio and the proportion of international students for each university. We then sort the dataframes according to each ratio to find the best universities with respect to each.\n"
   ]
  },
  {
   "cell_type": "code",
   "execution_count": null,
   "metadata": {},
   "outputs": [],
   "source": [
    "\n",
    "def title(s):\n",
    "    return display(HTML(\"<H1>%s</H1>\" % s))\n",
    "\n",
    "#sorting of data with respect to each ratio\n",
    "title(\"Best universities according to the staff/Student ratio from site 1:\")\n",
    "display(uni_s1.sort_values('staff_student_ratio', ascending=False).head())\n",
    "title(\"Best universities according to the ratio of international students from site 1:\")\n",
    "display(uni_s1.sort_values('pc_intl_students', ascending=False).head())\n",
    "title(\"Best universities according to the staff/Student ratio from site 2:\")\n",
    "display(uni_s2.sort_values('staff_student_ratio', ascending=False).head())\n",
    "title(\"Best universities according to the ratio of international students from site 2:\")\n",
    "display(uni_s2.sort_values('pc_intl_students', ascending=False).head())"
   ]
  },
  {
   "cell_type": "markdown",
   "metadata": {},
   "source": [
    "According to website 1 the two best universities with respect to the staff/student ratio are Caltech and Yale. The two best universities with respect to the proportion of international students are  London School of Economics and Political Sciences and Ecole Polytechnique Fédérale de Lausanne (EPFL).\n",
    "\n",
    "According to website 2 the two best universities with respect to the staff/student ratio are Vanderbilt University and University of Copenhagen. The two best universities with respect to the proportion of international students are  London School of Economics and Political Sciences and University of Luxembourg.\n",
    "\n",
    "** We now aggregate our results by country and region by grouping the data and computing the mean of the ratios for each group **"
   ]
  },
  {
   "cell_type": "code",
   "execution_count": null,
   "metadata": {},
   "outputs": [],
   "source": [
    "uni_s1_countries = uni_s1.pivot_table(index=\"country\", values=[\"staff_student_ratio\", \"pc_intl_students\"])\n",
    "uni_s1_regions = uni_s1.pivot_table(index=\"region\", values=[\"staff_student_ratio\", \"pc_intl_students\"])\n",
    "\n",
    "uni_s2_countries = uni_s2.pivot_table(index=\"country\", values=[\"staff_student_ratio\", \"pc_intl_students\"])\n",
    "\n",
    "title(\"(c) Best countries according to faculty member to student ratio: (website 1 then 2)\")\n",
    "display(uni_s1_countries[[\"staff_student_ratio\"]].sort_values(\"staff_student_ratio\", ascending=False).head())\n",
    "display(uni_s2_countries[[\"staff_student_ratio\"]].sort_values(\"staff_student_ratio\", ascending=False).head())\n",
    "title(\"(d) Best countries according to international students ratio: (website 1 then 2)\")\n",
    "display(uni_s1_countries[[\"pc_intl_students\"]].sort_values(\"pc_intl_students\", ascending=False).head())\n",
    "display(uni_s2_countries[[\"pc_intl_students\"]].sort_values(\"pc_intl_students\", ascending=False).head())\n",
    "\n",
    "title(\"(d) Best regions according to international students ratio: (website 1 only)\")\n",
    "#display(uni_s1_regions.sort_values(sort_by, ascending=ascending).head())\n",
    "display(uni_s1_regions[[\"pc_intl_students\"]].sort_values(\"pc_intl_students\", ascending=False).head())\n",
    "title(\"(d) Best regions according to faculty member to student ratio: (website 1 only)\")\n",
    "display(uni_s1_regions[[\"staff_student_ratio\"]].sort_values(\"staff_student_ratio\", ascending=False).head())"
   ]
  },
  {
   "cell_type": "code",
   "execution_count": null,
   "metadata": {},
   "outputs": [],
   "source": [
    "def plot(title, df, color, figsize=(15, 5), legend=None, **kwargs):\n",
    "    f, ax = plt.subplots(figsize=figsize)\n",
    "    df.plot(kind='bar', ax=ax, color=color, title=title, legend=True, fontsize=12, **kwargs)\n",
    "    ax.set_xlabel(df.index.name, fontsize=12)\n",
    "    ax.set_ylabel(\"ratio\", fontsize=12)\n",
    "    ax.set_xticklabels(df.index)\n",
    "    ax.tick_params(axis='x', which='major', pad=15)\n",
    "    if legend:\n",
    "        ax.legend(legend)\n",
    "    display(f)\n",
    "    plt.close(f)\n",
    "\n",
    "plot(\"University mean ratios by region according to site 1's ranking\",\n",
    "     uni_s1_regions.sort_values(\"pc_intl_students\", ascending=False), color=['b','r'],\n",
    "    legend=['International Students ratio', 'Faculty/Student ratio'])"
   ]
  },
  {
   "cell_type": "markdown",
   "metadata": {},
   "source": [
    "From the plot above, we notice that the best region according to site 1 in terms of proportion of international students is Oceania, followed by Europe then North America. In terms of proportion of Faculty Members to Students the best region is North America followed by Asia and Europe. \n"
   ]
  },
  {
   "cell_type": "code",
   "execution_count": null,
   "metadata": {},
   "outputs": [],
   "source": [
    "plot(\"University Faculty/Student mean ratio by country according to site 1's ranking\",\n",
    "     uni_s1_countries[\"staff_student_ratio\"].sort_values(ascending=False), color=['r'], legend=['Faculty/Student ratio'])\n",
    "\n",
    "plot(\"University mean proportion of International Students by country according to site 1's ranking\",\n",
    "     uni_s1_countries[\"pc_intl_students\"].sort_values(ascending=False), color=['b'], legend=['International Students ratio'])"
   ]
  },
  {
   "cell_type": "markdown",
   "metadata": {},
   "source": [
    "According to the rankings of the first website, the best countries are United Kingdom and Australia in terms of proportion of International students while the best are Russia and Denmark according to the Faculty Members to the number of Students ratio."
   ]
  },
  {
   "cell_type": "code",
   "execution_count": null,
   "metadata": {},
   "outputs": [],
   "source": [
    "plot(\"University mean proportion of International Students by country according to site 2's ranking\",\n",
    "     uni_s2_countries[\"staff_student_ratio\"].sort_values(ascending=False), color=['b'], legend=['International Students ratio'])\n",
    "\n",
    "plot(\"University mean proportion of International Students by country according to site 2's ranking\",\n",
    "     uni_s2_countries[\"pc_intl_students\"].sort_values(ascending=False), color=['r'], legend=['Faculty/Student ratio'])"
   ]
  },
  {
   "cell_type": "markdown",
   "metadata": {},
   "source": [
    "According to the rankings of the second website, the best countries are Luxembourg and United Kingdom in terms of proportion of International students while the best are Denmark and Italy according to the Faculty Members to the number of Students ratio."
   ]
  },
  {
   "cell_type": "markdown",
   "metadata": {},
   "source": [
    "## Exploratory analysis\n",
    "\n",
    "************************** TASK 4 (a) ****************************\n",
    "We have already observed that the two datasets have different statistics about the universities. We highlight this with some descriptive statistics:"
   ]
  },
  {
   "cell_type": "code",
   "execution_count": null,
   "metadata": {
    "scrolled": true
   },
   "outputs": [],
   "source": [
    "uni_comparison = pd.concat([uni_m['name'],uni_m['rank'], uni_m['rank_2']], axis=1)\n",
    "uni_comparison['rank_diff'] = pd.DataFrame.abs(uni_m['rank']-uni_m['rank_2'])\n",
    "uni_comparison['tab1_pc_intl_students'] = (uni_m['stu_c_inter']/uni_m['stu_c_total'])*100\n",
    "uni_comparison['tab2_pc_intl_students'] = uni_m['pc_intl_students']\n",
    "uni_comparison['intl_pc_diff'] = pd.DataFrame.abs(uni_comparison['tab1_pc_intl_students']-uni_comparison['tab2_pc_intl_students'])\n",
    "uni_comparison['tab1_stu_staff_ratio'] = (uni_m['stu_c_total']/uni_m['fac_c_total'])\n",
    "uni_comparison['tab2_stu_staff_ratio'] = uni_m['student_staff_ratio'].astype(float)\n",
    "uni_comparison['stu_staff_ratio_diff'] = pd.DataFrame.abs(uni_comparison['tab1_stu_staff_ratio']-uni_comparison['tab2_stu_staff_ratio'])\n",
    "\n",
    "\n",
    "display(uni_comparison[['name', 'rank_diff', 'intl_pc_diff', 'stu_staff_ratio_diff']].head())"
   ]
  },
  {
   "cell_type": "code",
   "execution_count": null,
   "metadata": {},
   "outputs": [],
   "source": [
    "uni_comparison[['rank_diff', 'intl_pc_diff', 'stu_staff_ratio_diff']].describe()"
   ]
  },
  {
   "cell_type": "markdown",
   "metadata": {},
   "source": [
    "We observe the distributions of the differences between the two websites datasets"
   ]
  },
  {
   "cell_type": "code",
   "execution_count": null,
   "metadata": {
    "collapsed": true
   },
   "outputs": [],
   "source": [
    "import seaborn as sns\n",
    "sns.set(color_codes=True)\n",
    "\n",
    "def densplot(column):\n",
    "    sns.distplot(column)\n",
    "    plt.show()\n",
    "\n",
    "def scatplot(xelem, yelem, xlabel, ylabel, title):\n",
    "    plt.scatter(xelem, yelem)\n",
    "    plt.title(title)\n",
    "    plt.xlabel(xlabel, fontsize=12)\n",
    "    plt.ylabel(ylabel, fontsize=12)\n",
    "    plt.show()"
   ]
  },
  {
   "cell_type": "code",
   "execution_count": null,
   "metadata": {},
   "outputs": [],
   "source": [
    "densplot(uni_comparison['rank_diff'])\n",
    "densplot(uni_comparison['intl_pc_diff'])\n",
    "densplot(uni_comparison['stu_staff_ratio_diff'])"
   ]
  },
  {
   "cell_type": "markdown",
   "metadata": {},
   "source": [
    "TODO observations"
   ]
  },
  {
   "cell_type": "markdown",
   "metadata": {},
   "source": [
    "**We now look for correlations between different statistics (columns) **"
   ]
  },
  {
   "cell_type": "markdown",
   "metadata": {},
   "source": [
    "Correlation (or not) between international staff proportion and international students proportion:"
   ]
  },
  {
   "cell_type": "code",
   "execution_count": null,
   "metadata": {},
   "outputs": [],
   "source": [
    "uni_m['pc_intl_staff'] = uni_m['fac_c_inter']/uni_m['fac_c_total']\n",
    "scatplot(uni_m['rank'], uni_m['pc_intl_students'], 'rank', 'international_staff', 'website 1')\n"
   ]
  },
  {
   "cell_type": "markdown",
   "metadata": {},
   "source": [
    "TODO observation"
   ]
  },
  {
   "cell_type": "markdown",
   "metadata": {},
   "source": [
    "Correlation (or not) between ranks and (1) international staff, (2) international studnets and (3) staff/student ratio"
   ]
  },
  {
   "cell_type": "code",
   "execution_count": null,
   "metadata": {},
   "outputs": [],
   "source": [
    "# 1\n",
    "scatplot(uni_m['rank'], uni_m['pc_intl_staff'], 'rank', 'international_staff', 'website 1')\n",
    "scatplot(uni_m['rank_2'], uni_m['pc_intl_staff'], 'rank', 'international_staff_1', 'website 2')"
   ]
  },
  {
   "cell_type": "markdown",
   "metadata": {},
   "source": [
    "TODO observation"
   ]
  },
  {
   "cell_type": "code",
   "execution_count": null,
   "metadata": {},
   "outputs": [],
   "source": [
    "# 2\n",
    "scatplot(uni_m['rank'], uni_m['pc_intl_students'], 'rank', 'international_student', 'website 1')\n",
    "scatplot(uni_m['rank_2'], uni_m['pc_intl_students_2'], 'rank_2', 'international_students', 'website 2')\n",
    "scatplot(uni_m['rank'], uni_m['fac_c_inter'], 'rank', 'international_staff', 'website 1')\n",
    "scatplot(uni_m['rank'], uni_m['stu_c_inter'], 'rank', 'international_students', 'website 1')"
   ]
  },
  {
   "cell_type": "markdown",
   "metadata": {},
   "source": [
    "TODO observation"
   ]
  },
  {
   "cell_type": "code",
   "execution_count": null,
   "metadata": {},
   "outputs": [],
   "source": [
    "uni_m.keys()"
   ]
  },
  {
   "cell_type": "code",
   "execution_count": null,
   "metadata": {},
   "outputs": [],
   "source": [
    "# 3\n",
    "scatplot(uni_m['rank'], uni_m['staff_student_ratio'], 'rank', 'student_staff_ratio', 'website 1')\n",
    "scatplot(uni_m['rank_2'], uni_m['staff_student_ratio_2'], 'rank_2', 'staff_student_ratio_2', 'website 2')"
   ]
  },
  {
   "cell_type": "markdown",
   "metadata": {},
   "source": [
    "TODO observation"
   ]
  },
  {
   "cell_type": "markdown",
   "metadata": {},
   "source": [
    "************************** TASK 5 ****************************\n",
    "In order to select the best university according to both rankings, we simply do the average of the rankings.\n",
    "We just want to know the best university and there is no tie for the first one which is Stanford University.\n",
    "In this case the ties between the other in the ranking does not matter, otherwise we would have broken these ties by putting first the university with the highest ranking. (Example: University of Cambridge (4) would be before Caltech (3) if we had to break the ties since it is ranked 2 in the second website)"
   ]
  },
  {
   "cell_type": "code",
   "execution_count": null,
   "metadata": {},
   "outputs": [],
   "source": [
    "uni_m['combine_rank'] = (uni_m['rank']+uni_m['rank_2'])/2\n",
    "\n",
    "uni_ms = uni_m.sort_values(['combine_rank'])\n",
    "uni_ms.head()"
   ]
  },
  {
   "cell_type": "markdown",
   "metadata": {},
   "source": [
    "*********************** TASK 4 (b): Exploratory analysis ***********************************************\n",
    "In the following, we check the possible correlations of the different statistics with the combine rank of the universities"
   ]
  },
  {
   "cell_type": "code",
   "execution_count": null,
   "metadata": {},
   "outputs": [],
   "source": [
    "scatplot(uni_ms['combine_rank'], uni_ms['staff_student_ratio'], 'combine_rank', 'student_staff_ratio', 'website 1')\n",
    "scatplot(uni_ms['combine_rank'], uni_ms['pc_intl_students'], 'combine_rank', 'pc_intl_students', 'website 1')\n",
    "scatplot(uni_ms['combine_rank'], uni_ms['staff_student_ratio_2'], 'combine_rank', 'staff_student_ratio', 'website 2')\n",
    "scatplot(uni_ms['combine_rank'], uni_ms['pc_intl_students_2'], 'combine_rank', 'pc_intl_students', 'website 2')"
   ]
  },
  {
   "cell_type": "markdown",
   "metadata": {},
   "source": [
    "TODO observations"
   ]
  },
  {
   "cell_type": "code",
   "execution_count": null,
   "metadata": {
    "collapsed": true
   },
   "outputs": [],
   "source": []
  }
 ],
 "metadata": {
  "kernelspec": {
   "display_name": "Python [conda env:ada]",
   "language": "python",
   "name": "conda-env-ada-py"
  },
  "language_info": {
   "codemirror_mode": {
    "name": "ipython",
    "version": 3
   },
   "file_extension": ".py",
   "mimetype": "text/x-python",
   "name": "python",
   "nbconvert_exporter": "python",
   "pygments_lexer": "ipython3",
   "version": "3.5.4"
  }
 },
 "nbformat": 4,
 "nbformat_minor": 2
}
