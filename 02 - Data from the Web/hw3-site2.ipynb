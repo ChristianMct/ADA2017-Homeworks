{
 "cells": [
  {
   "cell_type": "code",
   "execution_count": null,
   "metadata": {
    "collapsed": true
   },
   "outputs": [],
   "source": [
    "import requests\n",
    "import pandas as pd\n",
    "from bs4 import BeautifulSoup"
   ]
  },
  {
   "cell_type": "markdown",
   "metadata": {},
   "source": [
    "url of the website's ranking database"
   ]
  },
  {
   "cell_type": "code",
   "execution_count": null,
   "metadata": {
    "collapsed": true
   },
   "outputs": [],
   "source": [
    "SITE = \"https://www.timeshighereducation.com\"\n",
    "URL = SITE+\"/sites/default/files/the_data_rankings/world_university_rankings_2018_limit0_369a9045a203e176392b9fb8f8c1cb2a.json\""
   ]
  },
  {
   "cell_type": "markdown",
   "metadata": {},
   "source": [
    "we access the database and look what is inside"
   ]
  },
  {
   "cell_type": "code",
   "execution_count": null,
   "metadata": {},
   "outputs": [],
   "source": [
    "N = 200\n",
    "r = requests.get(URL)\n",
    "all_data = r.json()\n",
    "print(list(all_data.keys()))\n",
    "data = all_data.get(\"data\")[:N]\n",
    "print(list(data[0].keys()))\n",
    "names = [u.get(\"name\") for u in all_data.get(\"data\")]\n",
    "print(\"Extracted %d names\" % len(names))"
   ]
  },
  {
   "cell_type": "markdown",
   "metadata": {},
   "source": [
    "We want to see which are the best universities in term of: (a) ratio between faculty members and students, (b) ratio of international students. And we want to also do it by aggregating by country and region. To do that we observe that both information are already present in the database (already computed in \"stats_pc_intl_students\", and \"stats_student_staff_ratio\")"
   ]
  },
  {
   "cell_type": "code",
   "execution_count": null,
   "metadata": {},
   "outputs": [],
   "source": [
    "data[37]"
   ]
  },
  {
   "cell_type": "markdown",
   "metadata": {},
   "source": [
    "for now not needed -> remove if still the case later"
   ]
  },
  {
   "cell_type": "code",
   "execution_count": null,
   "metadata": {},
   "outputs": [],
   "source": [
    "s = requests.Session()\n",
    "reqs = [(req_id, s.prepare_request(requests.Request('GET', SITE+entry[\"url\"]))) for req_id, entry in enumerate(data)]\n",
    "print(len(reqs), \"requests to be sent.\")\n",
    "\n",
    "resps = [(req_id, s.send(req)) for req_id, req in reqs]\n",
    "\n",
    "done = [(req_id, resp.text) for req_id, resp in resps if resp.status_code == 200]\n",
    "failed = [(req_id, resp) for req_id, resp in resps if resp.status_code != 200]\n",
    "\n",
    "print(\"%d done, %d failed.\" % (len(done), len(failed)))"
   ]
  },
  {
   "cell_type": "markdown",
   "metadata": {},
   "source": [
    "We clean the dataframe by first renaming the columns:"
   ]
  },
  {
   "cell_type": "code",
   "execution_count": null,
   "metadata": {
    "collapsed": true
   },
   "outputs": [],
   "source": [
    "uni = pd.DataFrame(data, columns=[\"name\", \"rank\", \"location\", \"stats_pc_intl_students\", \"stats_student_staff_ratio\", \"url\"])\n",
    "uni.rename(columns={\"location\":\"country\",\"stats_pc_intl_students\":\"pc_intl_students\", \"stats_student_staff_ratio\":\"student_staff_ratio\"},inplace=True)"
   ]
  },
  {
   "cell_type": "markdown",
   "metadata": {},
   "source": [
    "Then, we format both ranks and ratios as numbers"
   ]
  },
  {
   "cell_type": "code",
   "execution_count": null,
   "metadata": {},
   "outputs": [],
   "source": [
    "uni[\"rank\"] = uni[\"rank\"].str.extract('(\\d+)', expand=False).astype(int)\n",
    "uni[\"pc_intl_students\"]= uni[\"pc_intl_students\"].str.extract('(\\d+)', expand=False).astype(int)"
   ]
  },
  {
   "cell_type": "markdown",
   "metadata": {},
   "source": [
    "and check that the database has all the values"
   ]
  },
  {
   "cell_type": "code",
   "execution_count": null,
   "metadata": {},
   "outputs": [],
   "source": [
    "uni.isnull().values.any()"
   ]
  },
  {
   "cell_type": "markdown",
   "metadata": {},
   "source": [
    "save the dataframe in a file"
   ]
  },
  {
   "cell_type": "code",
   "execution_count": null,
   "metadata": {
    "collapsed": true
   },
   "outputs": [],
   "source": [
    "import pickle\n",
    "\n",
    "uni.to_pickle(\"site2.pkl\")\n",
    "pickle.dump(names, open('site2_names.pkl', 'wb'))"
   ]
  },
  {
   "cell_type": "code",
   "execution_count": null,
   "metadata": {},
   "outputs": [],
   "source": [
    "uni.head()"
   ]
  },
  {
   "cell_type": "code",
   "execution_count": null,
   "metadata": {
    "collapsed": true
   },
   "outputs": [],
   "source": []
  }
 ],
 "metadata": {
  "kernelspec": {
   "display_name": "Python [conda env:ada]",
   "language": "python",
   "name": "conda-env-ada-py"
  },
  "language_info": {
   "codemirror_mode": {
    "name": "ipython",
    "version": 3
   },
   "file_extension": ".py",
   "mimetype": "text/x-python",
   "name": "python",
   "nbconvert_exporter": "python",
   "pygments_lexer": "ipython3",
   "version": "3.5.4"
  }
 },
 "nbformat": 4,
 "nbformat_minor": 2
}
