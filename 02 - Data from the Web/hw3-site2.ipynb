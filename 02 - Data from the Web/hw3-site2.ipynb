{
 "cells": [
  {
   "cell_type": "code",
   "execution_count": 29,
   "metadata": {
    "collapsed": true
   },
   "outputs": [],
   "source": [
    "import requests\n",
    "import pandas as pd\n",
    "from bs4 import BeautifulSoup"
   ]
  },
  {
   "cell_type": "markdown",
   "metadata": {},
   "source": [
    "url of the website's ranking database"
   ]
  },
  {
   "cell_type": "code",
   "execution_count": 30,
   "metadata": {
    "collapsed": true
   },
   "outputs": [],
   "source": [
    "SITE = \"https://www.timeshighereducation.com\"\n",
    "URL = SITE+\"/sites/default/files/the_data_rankings/world_university_rankings_2018_limit0_369a9045a203e176392b9fb8f8c1cb2a.json\""
   ]
  },
  {
   "cell_type": "markdown",
   "metadata": {},
   "source": [
    "we access the database and look what is inside"
   ]
  },
  {
   "cell_type": "code",
   "execution_count": 31,
   "metadata": {},
   "outputs": [
    {
     "name": "stdout",
     "output_type": "stream",
     "text": [
      "['subjects', 'locations', 'data', 'pillars']\n",
      "['scores_citations', 'scores_industry_income', 'scores_research', 'name', 'rank', 'stats_student_staff_ratio', 'record_type', 'scores_international_outlook_rank', 'scores_international_outlook', 'scores_teaching', 'member_level', 'location', 'scores_industry_income_rank', 'subjects_offered', 'stats_number_students', 'scores_research_rank', 'scores_overall', 'stats_female_male_ratio', 'nid', 'scores_overall_rank', 'stats_pc_intl_students', 'aliases', 'rank_order', 'scores_teaching_rank', 'scores_citations_rank', 'url']\n",
      "Extracted 1102 names\n"
     ]
    }
   ],
   "source": [
    "N = 200\n",
    "r = requests.get(URL)\n",
    "all_data = r.json()\n",
    "print(list(all_data.keys()))\n",
    "data = all_data.get(\"data\")[:N]\n",
    "print(list(data[0].keys()))\n",
    "names = [u.get(\"name\") for u in all_data.get(\"data\")]\n",
    "print(\"Extracted %d names\" % len(names))"
   ]
  },
  {
   "cell_type": "markdown",
   "metadata": {},
   "source": [
    "We want to see which are the best universities in term of: (a) ratio between faculty members and students, (b) ratio of international students. And we want to also do it by aggregating by country and region. To do that we observe that both information are already present in the database (already computed in \"stats_pc_intl_students\", and \"stats_student_staff_ratio\")"
   ]
  },
  {
   "cell_type": "code",
   "execution_count": 32,
   "metadata": {},
   "outputs": [
    {
     "data": {
      "text/plain": [
       "{'aliases': 'École Polytechnique Fédérale de Lausanne',\n",
       " 'location': 'Switzerland',\n",
       " 'member_level': '0',\n",
       " 'name': 'École Polytechnique Fédérale de Lausanne',\n",
       " 'nid': 510,\n",
       " 'rank': '=38',\n",
       " 'rank_order': '380',\n",
       " 'record_type': 'master_account',\n",
       " 'scores_citations': '94.2',\n",
       " 'scores_citations_rank': '62',\n",
       " 'scores_industry_income': '76.0',\n",
       " 'scores_industry_income_rank': '108',\n",
       " 'scores_international_outlook': '98.7',\n",
       " 'scores_international_outlook_rank': '5',\n",
       " 'scores_overall': '75.3',\n",
       " 'scores_overall_rank': '380',\n",
       " 'scores_research': '66.8',\n",
       " 'scores_research_rank': '54',\n",
       " 'scores_teaching': '58.8',\n",
       " 'scores_teaching_rank': '54',\n",
       " 'stats_female_male_ratio': '28 : 72',\n",
       " 'stats_number_students': '9,928',\n",
       " 'stats_pc_intl_students': '55%',\n",
       " 'stats_student_staff_ratio': '11.2',\n",
       " 'subjects_offered': 'Architecture,Biological Sciences,Chemical Engineering,Chemistry,Civil Engineering,Communication & Media Studies,Computer Science,Electrical & Electronic Engineering,General Engineering,Geology, Environmental, Earth & Marine Sciences,Mathematics & Statistics,Mechanical & Aerospace Engineering,Physics & Astronomy',\n",
       " 'url': '/world-university-rankings/ecole-polytechnique-federale-de-lausanne'}"
      ]
     },
     "execution_count": 32,
     "metadata": {},
     "output_type": "execute_result"
    }
   ],
   "source": [
    "data[37]"
   ]
  },
  {
   "cell_type": "markdown",
   "metadata": {},
   "source": [
    "for now not needed -> remove if still the case later"
   ]
  },
  {
   "cell_type": "code",
   "execution_count": 33,
   "metadata": {},
   "outputs": [
    {
     "name": "stdout",
     "output_type": "stream",
     "text": [
      "200 requests to be sent.\n",
      "200 done, 0 failed.\n"
     ]
    }
   ],
   "source": [
    "s = requests.Session()\n",
    "reqs = [(req_id, s.prepare_request(requests.Request('GET', SITE+entry[\"url\"]))) for req_id, entry in enumerate(data)]\n",
    "print(len(reqs), \"requests to be sent.\")\n",
    "\n",
    "resps = [(req_id, s.send(req)) for req_id, req in reqs]\n",
    "\n",
    "done = [(req_id, resp.text) for req_id, resp in resps if resp.status_code == 200]\n",
    "failed = [(req_id, resp) for req_id, resp in resps if resp.status_code != 200]\n",
    "\n",
    "print(\"%d done, %d failed.\" % (len(done), len(failed)))"
   ]
  },
  {
   "cell_type": "markdown",
   "metadata": {},
   "source": [
    "We clean the dataframe by first renaming the columns:"
   ]
  },
  {
   "cell_type": "code",
   "execution_count": 34,
   "metadata": {
    "collapsed": true
   },
   "outputs": [],
   "source": [
    "uni = pd.DataFrame(data, columns=[\"name\", \"rank\", \"location\", \"stats_pc_intl_students\", \"stats_student_staff_ratio\", \"url\"])\n",
    "uni.rename(columns={\"location\":\"country\",\"stats_pc_intl_students\":\"pc_intl_students\", \"stats_student_staff_ratio\":\"student_staff_ratio\"},inplace=True)"
   ]
  },
  {
   "cell_type": "markdown",
   "metadata": {},
   "source": [
    "Then, we format both ranks and ratios as numbers"
   ]
  },
  {
   "cell_type": "code",
   "execution_count": 35,
   "metadata": {},
   "outputs": [],
   "source": [
    "uni[\"rank\"] = uni[\"rank\"].str.extract('(\\d+)', expand=False).astype(int)\n",
    "uni[\"pc_intl_students\"]= uni[\"pc_intl_students\"].str.extract('(\\d+)', expand=False).astype(int)"
   ]
  },
  {
   "cell_type": "markdown",
   "metadata": {},
   "source": [
    "and check that the database has all the values"
   ]
  },
  {
   "cell_type": "code",
   "execution_count": 36,
   "metadata": {},
   "outputs": [
    {
     "data": {
      "text/plain": [
       "False"
      ]
     },
     "execution_count": 36,
     "metadata": {},
     "output_type": "execute_result"
    }
   ],
   "source": [
    "uni.isnull().values.any()"
   ]
  },
  {
   "cell_type": "markdown",
   "metadata": {},
   "source": [
    "save the dataframe in a file"
   ]
  },
  {
   "cell_type": "code",
   "execution_count": 37,
   "metadata": {
    "collapsed": true
   },
   "outputs": [],
   "source": [
    "import pickle\n",
    "\n",
    "uni.to_pickle(\"site2.pkl\")\n",
    "pickle.dump(names, open('site2_names.pkl', 'wb'))"
   ]
  },
  {
   "cell_type": "code",
   "execution_count": 38,
   "metadata": {},
   "outputs": [
    {
     "data": {
      "text/html": [
       "<div>\n",
       "<style>\n",
       "    .dataframe thead tr:only-child th {\n",
       "        text-align: right;\n",
       "    }\n",
       "\n",
       "    .dataframe thead th {\n",
       "        text-align: left;\n",
       "    }\n",
       "\n",
       "    .dataframe tbody tr th {\n",
       "        vertical-align: top;\n",
       "    }\n",
       "</style>\n",
       "<table border=\"1\" class=\"dataframe\">\n",
       "  <thead>\n",
       "    <tr style=\"text-align: right;\">\n",
       "      <th></th>\n",
       "      <th>name</th>\n",
       "      <th>rank</th>\n",
       "      <th>country</th>\n",
       "      <th>pc_intl_students</th>\n",
       "      <th>student_staff_ratio</th>\n",
       "      <th>url</th>\n",
       "    </tr>\n",
       "  </thead>\n",
       "  <tbody>\n",
       "    <tr>\n",
       "      <th>0</th>\n",
       "      <td>University of Oxford</td>\n",
       "      <td>1</td>\n",
       "      <td>United Kingdom</td>\n",
       "      <td>38</td>\n",
       "      <td>11.2</td>\n",
       "      <td>/world-university-rankings/university-oxford</td>\n",
       "    </tr>\n",
       "    <tr>\n",
       "      <th>1</th>\n",
       "      <td>University of Cambridge</td>\n",
       "      <td>2</td>\n",
       "      <td>United Kingdom</td>\n",
       "      <td>35</td>\n",
       "      <td>10.9</td>\n",
       "      <td>/world-university-rankings/university-cambridge</td>\n",
       "    </tr>\n",
       "    <tr>\n",
       "      <th>2</th>\n",
       "      <td>California Institute of Technology</td>\n",
       "      <td>3</td>\n",
       "      <td>United States</td>\n",
       "      <td>27</td>\n",
       "      <td>6.5</td>\n",
       "      <td>/world-university-rankings/california-institut...</td>\n",
       "    </tr>\n",
       "    <tr>\n",
       "      <th>3</th>\n",
       "      <td>Stanford University</td>\n",
       "      <td>3</td>\n",
       "      <td>United States</td>\n",
       "      <td>22</td>\n",
       "      <td>7.5</td>\n",
       "      <td>/world-university-rankings/stanford-university</td>\n",
       "    </tr>\n",
       "    <tr>\n",
       "      <th>4</th>\n",
       "      <td>Massachusetts Institute of Technology</td>\n",
       "      <td>5</td>\n",
       "      <td>United States</td>\n",
       "      <td>34</td>\n",
       "      <td>8.7</td>\n",
       "      <td>/world-university-rankings/massachusetts-insti...</td>\n",
       "    </tr>\n",
       "  </tbody>\n",
       "</table>\n",
       "</div>"
      ],
      "text/plain": [
       "                                    name  rank         country  \\\n",
       "0                   University of Oxford     1  United Kingdom   \n",
       "1                University of Cambridge     2  United Kingdom   \n",
       "2     California Institute of Technology     3   United States   \n",
       "3                    Stanford University     3   United States   \n",
       "4  Massachusetts Institute of Technology     5   United States   \n",
       "\n",
       "   pc_intl_students student_staff_ratio  \\\n",
       "0                38                11.2   \n",
       "1                35                10.9   \n",
       "2                27                 6.5   \n",
       "3                22                 7.5   \n",
       "4                34                 8.7   \n",
       "\n",
       "                                                 url  \n",
       "0       /world-university-rankings/university-oxford  \n",
       "1    /world-university-rankings/university-cambridge  \n",
       "2  /world-university-rankings/california-institut...  \n",
       "3     /world-university-rankings/stanford-university  \n",
       "4  /world-university-rankings/massachusetts-insti...  "
      ]
     },
     "execution_count": 38,
     "metadata": {},
     "output_type": "execute_result"
    }
   ],
   "source": [
    "uni.head()"
   ]
  },
  {
   "cell_type": "code",
   "execution_count": null,
   "metadata": {
    "collapsed": true
   },
   "outputs": [],
   "source": []
  }
 ],
 "metadata": {
  "kernelspec": {
   "display_name": "Python [conda env:ada]",
   "language": "python",
   "name": "conda-env-ada-py"
  },
  "language_info": {
   "codemirror_mode": {
    "name": "ipython",
    "version": 3
   },
   "file_extension": ".py",
   "mimetype": "text/x-python",
   "name": "python",
   "nbconvert_exporter": "python",
   "pygments_lexer": "ipython3",
   "version": "3.5.4"
  }
 },
 "nbformat": 4,
 "nbformat_minor": 2
}
