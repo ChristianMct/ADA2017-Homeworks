{
 "cells": [
  {
   "cell_type": "code",
   "execution_count": 8,
   "metadata": {},
   "outputs": [
    {
     "name": "stdout",
     "output_type": "stream",
     "text": [
      "site1 names uniques: True\n",
      "site2 names uniques: True\n"
     ]
    }
   ],
   "source": [
    "import pickle\n",
    "\n",
    "all_names1 = pickle.load(open(\"site1_names.pkl\", \"rb\"))\n",
    "all_names2 = pickle.load(open(\"site2_names.pkl\", \"rb\"))\n",
    "\n",
    "print(\"site1 names uniques:\", len(set(all_names1)) == len(all_names1))\n",
    "print(\"site2 names uniques:\", len(set(all_names1)) == len(all_names1))"
   ]
  },
  {
   "cell_type": "code",
   "execution_count": 2,
   "metadata": {
    "collapsed": true
   },
   "outputs": [],
   "source": [
    "import re\n",
    "import numpy as np\n",
    "from itertools import product\n",
    "from scipy.optimize import linear_sum_assignment\n",
    "from nltk.metrics import edit_distance\n",
    "from multiprocessing import Pool, cpu_count\n",
    "\n",
    "N=200\n",
    "M=1000\n",
    "\n",
    "# Computing a mapping in larger sets to lower the unmatchable names in the N firsts\n",
    "names1 = all_names1[:M]\n",
    "names2 = all_names2[:M]\n",
    "\n",
    "def col(name):\n",
    "    return np.array([edit_distance(name, n) for n in names2])\n",
    "\n",
    "p = Pool(cpu_count())\n",
    "print(\"Computing cost matrix using %d workers...\" % cpu_count(), end=\"\")\n",
    "costs = np.array(p.map(col, names1))\n",
    "print(\"done\")"
   ]
  },
  {
   "cell_type": "code",
   "execution_count": 3,
   "metadata": {
    "collapsed": true
   },
   "outputs": [],
   "source": [
    "print(\"Computing optimal assigment...\", end=\"\")\n",
    "id_n1, id_n2 = linear_sum_assignment(costs)\n",
    "sol_costs = costs[id_n1[:N], id_n2[:N]]\n",
    "print(\"Done: cost of solution = %d\" % sol_costs.sum())"
   ]
  },
  {
   "cell_type": "code",
   "execution_count": 5,
   "metadata": {
    "collapsed": true
   },
   "outputs": [],
   "source": [
    "def cost_threshold(id1, id2):\n",
    "    return sol_costs[id1] < min(len(names1[id1]), len(names2[id2]))*0.5\n",
    "\n",
    "name_map = {names1[id1]: names2[id2] for id1, id2 in zip(id_n1[:N], id_n2[:N]) if cost_threshold(id1, id2)}\n",
    "\n",
    "pickle.dump(name_map, open(\"name_map.pkl\", \"wb\"))\n",
    "\n",
    "print(\"Name mapping of size %d.\" % len(name_map))"
   ]
  },
  {
   "cell_type": "code",
   "execution_count": 6,
   "metadata": {
    "collapsed": true
   },
   "outputs": [],
   "source": [
    "import pandas as pd\n",
    "from IPython.display import display, HTML\n",
    "\n",
    "s1 = pd.read_pickle(\"site1.pkl\")\n",
    "s2 = pd.read_pickle(\"site2.pkl\")\n",
    "s2 = s2.loc[id_n2[:N]].reset_index(drop=True)\n",
    "s = s1.join(s2, rsuffix=\"_2\")\n",
    "s = s.dropna() # Removed uni that are s\n",
    "\n",
    "s.drop([\"url\", \"url_2\"], axis=1, inplace=True)\n",
    "\n",
    "s = s.replace(\"Russian Federation\", \"Russia\")\n",
    "s = s[s[\"country\"] == s[\"country_2\"]].drop(\"country_2\", axis=1) # Remove unmatching countries \n",
    "\n",
    "display(s[[\"name\", \"name_2\"]][s[\"name\"] != s[\"name_2\"]]) # Shows a good quality of matching\n",
    "\n",
    "s.drop(\"name_2\", axis=1, inplace=True)\n",
    "s.head()"
   ]
  },
  {
   "cell_type": "code",
   "execution_count": 7,
   "metadata": {
    "collapsed": true
   },
   "outputs": [],
   "source": [
    "s.to_pickle(\"merged.pkl\")"
   ]
  },
  {
   "cell_type": "markdown",
   "metadata": {},
   "source": [
    "M=200 : 1119\n",
    "\n",
    "M=300 : 969\n",
    "\n",
    "M=400 : 875\n",
    "\n",
    "M=500 : 860\n",
    "\n",
    "M=800 : 822\n",
    "\n",
    "M=1000: 819"
   ]
  }
 ],
 "metadata": {
  "kernelspec": {
   "display_name": "Python [conda env:ada]",
   "language": "python",
   "name": "conda-env-ada-py"
  },
  "language_info": {
   "codemirror_mode": {
    "name": "ipython",
    "version": 3
   },
   "file_extension": ".py",
   "mimetype": "text/x-python",
   "name": "python",
   "nbconvert_exporter": "python",
   "pygments_lexer": "ipython3",
   "version": "3.5.4"
  }
 },
 "nbformat": 4,
 "nbformat_minor": 2
}
