{
 "cells": [
  {
   "cell_type": "code",
   "execution_count": 8,
   "metadata": {
    "collapsed": true
   },
   "outputs": [],
   "source": [
    "import requests\n",
    "import pandas as pd\n",
    "from bs4 import BeautifulSoup"
   ]
  },
  {
   "cell_type": "markdown",
   "metadata": {},
   "source": [
    "The following URL returns a JSON file with the University rankink already parsed:"
   ]
  },
  {
   "cell_type": "code",
   "execution_count": 9,
   "metadata": {
    "collapsed": true
   },
   "outputs": [],
   "source": [
    "SITE = \"https://www.topuniversities.com\"\n",
    "URL = SITE+\"/sites/default/files/qs-rankings-data/357051.txt\""
   ]
  },
  {
   "cell_type": "code",
   "execution_count": 10,
   "metadata": {},
   "outputs": [
    {
     "name": "stdout",
     "output_type": "stream",
     "text": [
      "['data']\n",
      "['score', 'nid', 'guide', 'core_id', 'cc', 'country', 'stars', 'region', 'url', 'logo', 'title', 'rank_display']\n",
      "Extracted 959 names\n"
     ]
    }
   ],
   "source": [
    "N = 200\n",
    "r = requests.get(URL)\n",
    "all_data = r.json()\n",
    "print(list(all_data.keys()))\n",
    "data = all_data.get(\"data\")[:N]\n",
    "print(list(data[0].keys()))\n",
    "names = [u.get(\"title\") for u in all_data.get(\"data\")]\n",
    "print(\"Extracted %d names\" % len(names))"
   ]
  },
  {
   "cell_type": "code",
<<<<<<< HEAD
=======
   "execution_count": null,
   "metadata": {
    "collapsed": true
   },
   "outputs": [],
   "source": []
  },
  {
   "cell_type": "code",
>>>>>>> 3008bbccb4f85d39fe4aaf175f55621dbbabb2ce
   "execution_count": 11,
   "metadata": {},
   "outputs": [
    {
     "name": "stdout",
     "output_type": "stream",
     "text": [
      "200 requests to be sent.\n",
      "200 done, 0 failed.\n"
     ]
    }
   ],
   "source": [
    "s = requests.Session()\n",
    "reqs = [(req_id, s.prepare_request(requests.Request('GET', SITE+entry[\"url\"]))) for req_id, entry in enumerate(data)]\n",
    "print(len(reqs), \"requests to be sent.\")\n",
    "\n",
    "resps = [(req_id, s.send(req)) for req_id, req in reqs]\n",
    "\n",
    "done = [(req_id, resp.text) for req_id, resp in resps if resp.status_code == 200]\n",
    "failed = [(req_id, resp) for req_id, resp in resps if resp.status_code != 200]\n",
    "\n",
    "print(\"%d done, %d failed.\" % (len(done), len(failed)))"
   ]
  },
  {
   "cell_type": "code",
   "execution_count": 12,
   "metadata": {},
   "outputs": [
    {
     "name": "stdout",
     "output_type": "stream",
     "text": [
      "Parsing responses using up to 8 threads...\n"
     ]
    }
   ],
   "source": [
    "import re\n",
    "from multiprocessing import Pool, cpu_count\n",
    "\n",
    "non_digit = re.compile('[^0-9]')\n",
    "\n",
    "class_to_labels = {\"total+faculty\": \"fac_c_total\",\n",
    "                   \"inter+faculty\": \"fac_c_inter\",\n",
    "                  \"total+student\":\"stu_c_total\",\n",
    "                  \"total+inter\":\"stu_c_inter\"}\n",
    "\n",
    "\n",
    "def resp_to_counts(req):\n",
    "    req_id, resp = req\n",
    "    page = BeautifulSoup(resp, \"html.parser\")\n",
    "    top = page.body.find(\"div\", class_=\"view-academic-data-profile\")\n",
    "    numdivs = top.find_all(\"div\", class_=\"number\")\n",
    "    \n",
    "    def get_label(div):\n",
    "        if div == top:\n",
    "            return None\n",
    "        label = class_to_labels.get(\"+\".join(div.get(\"class\")))\n",
    "        return label or get_label(div.parent)\n",
    "    \n",
    "    fac_counts = {(get_label(div), int(re.sub(non_digit,'', div.string))) for div in numdivs}\n",
    "    return req_id, fac_counts\n",
    "\n",
    "print(\"Parsing responses using up to %d threads...\" % cpu_count()) \n",
    "with Pool(cpu_count()) as p:\n",
    "    for req_id, counts in p.map(resp_to_counts, done):\n",
    "        data[req_id].update(counts)"
   ]
  },
  {
   "cell_type": "code",
   "execution_count": 13,
   "metadata": {},
   "outputs": [
    {
     "data": {
      "text/html": [
       "<div>\n",
       "<style>\n",
       "    .dataframe thead tr:only-child th {\n",
       "        text-align: right;\n",
       "    }\n",
       "\n",
       "    .dataframe thead th {\n",
       "        text-align: left;\n",
       "    }\n",
       "\n",
       "    .dataframe tbody tr th {\n",
       "        vertical-align: top;\n",
       "    }\n",
       "</style>\n",
       "<table border=\"1\" class=\"dataframe\">\n",
       "  <thead>\n",
       "    <tr style=\"text-align: right;\">\n",
       "      <th></th>\n",
       "      <th>name</th>\n",
       "      <th>rank</th>\n",
       "      <th>country</th>\n",
       "      <th>region</th>\n",
       "      <th>fac_c_inter</th>\n",
       "      <th>fac_c_total</th>\n",
       "      <th>stu_c_inter</th>\n",
       "      <th>stu_c_total</th>\n",
       "      <th>url</th>\n",
       "    </tr>\n",
       "  </thead>\n",
       "  <tbody>\n",
       "    <tr>\n",
       "      <th>0</th>\n",
       "      <td>Massachusetts Institute of Technology (MIT)</td>\n",
       "      <td>1</td>\n",
       "      <td>United States</td>\n",
       "      <td>North America</td>\n",
       "      <td>1679.0</td>\n",
       "      <td>2982.0</td>\n",
       "      <td>3717.0</td>\n",
       "      <td>11067.0</td>\n",
       "      <td>/universities/massachusetts-institute-technolo...</td>\n",
       "    </tr>\n",
       "    <tr>\n",
       "      <th>1</th>\n",
       "      <td>Stanford University</td>\n",
       "      <td>2</td>\n",
       "      <td>United States</td>\n",
       "      <td>North America</td>\n",
       "      <td>2042.0</td>\n",
       "      <td>4285.0</td>\n",
       "      <td>3611.0</td>\n",
       "      <td>15878.0</td>\n",
       "      <td>/universities/stanford-university</td>\n",
       "    </tr>\n",
       "    <tr>\n",
       "      <th>2</th>\n",
       "      <td>Harvard University</td>\n",
       "      <td>3</td>\n",
       "      <td>United States</td>\n",
       "      <td>North America</td>\n",
       "      <td>1311.0</td>\n",
       "      <td>4350.0</td>\n",
       "      <td>5266.0</td>\n",
       "      <td>22429.0</td>\n",
       "      <td>/universities/harvard-university</td>\n",
       "    </tr>\n",
       "    <tr>\n",
       "      <th>3</th>\n",
       "      <td>California Institute of Technology (Caltech)</td>\n",
       "      <td>4</td>\n",
       "      <td>United States</td>\n",
       "      <td>North America</td>\n",
       "      <td>350.0</td>\n",
       "      <td>953.0</td>\n",
       "      <td>647.0</td>\n",
       "      <td>2255.0</td>\n",
       "      <td>/universities/california-institute-technology-...</td>\n",
       "    </tr>\n",
       "    <tr>\n",
       "      <th>4</th>\n",
       "      <td>University of Cambridge</td>\n",
       "      <td>5</td>\n",
       "      <td>United Kingdom</td>\n",
       "      <td>Europe</td>\n",
       "      <td>2278.0</td>\n",
       "      <td>5490.0</td>\n",
       "      <td>6699.0</td>\n",
       "      <td>18770.0</td>\n",
       "      <td>/universities/university-cambridge</td>\n",
       "    </tr>\n",
       "  </tbody>\n",
       "</table>\n",
       "</div>"
      ],
      "text/plain": [
       "                                           name  rank         country  \\\n",
       "0   Massachusetts Institute of Technology (MIT)     1   United States   \n",
       "1                           Stanford University     2   United States   \n",
       "2                            Harvard University     3   United States   \n",
       "3  California Institute of Technology (Caltech)     4   United States   \n",
       "4                       University of Cambridge     5  United Kingdom   \n",
       "\n",
       "          region  fac_c_inter  fac_c_total  stu_c_inter  stu_c_total  \\\n",
       "0  North America       1679.0       2982.0       3717.0      11067.0   \n",
       "1  North America       2042.0       4285.0       3611.0      15878.0   \n",
       "2  North America       1311.0       4350.0       5266.0      22429.0   \n",
       "3  North America        350.0        953.0        647.0       2255.0   \n",
       "4         Europe       2278.0       5490.0       6699.0      18770.0   \n",
       "\n",
       "                                                 url  \n",
       "0  /universities/massachusetts-institute-technolo...  \n",
       "1                  /universities/stanford-university  \n",
       "2                   /universities/harvard-university  \n",
       "3  /universities/california-institute-technology-...  \n",
       "4                 /universities/university-cambridge  "
      ]
     },
     "execution_count": 13,
     "metadata": {},
     "output_type": "execute_result"
    }
   ],
   "source": [
    "basecol = [\"title\", \"rank_display\", \"country\", \"region\"]\n",
    "addedcol = [\"fac_c_inter\", \"fac_c_total\", \"stu_c_inter\", \"stu_c_total\"]\n",
    "uni = pd.DataFrame(data, columns= basecol+addedcol+[\"url\"])\n",
    "uni.rename(columns={\"title\":\"name\", \"rank_display\": \"rank\"},inplace=True)\n",
    "# Convert the rank to a numerical type\n",
    "uni[\"rank\"] = uni[\"rank\"].str.extract('(\\d+)', expand=False).astype(int)\n",
    "uni.head()"
   ]
  },
  {
   "cell_type": "code",
<<<<<<< HEAD
   "execution_count": 14,
=======
   "execution_count": 18,
>>>>>>> 3008bbccb4f85d39fe4aaf175f55621dbbabb2ce
   "metadata": {
    "collapsed": true
   },
   "outputs": [],
   "source": [
    "\n",
    "import pickle\n",
    "\n",
    "uni.to_pickle(\"site1.pkl\")\n",
    "pickle.dump(names, open('site1_names.pkl', 'wb'))"
   ]
  },
  {
   "cell_type": "code",
   "execution_count": null,
   "metadata": {
    "collapsed": true
   },
   "outputs": [],
   "source": []
  },
  {
   "cell_type": "code",
   "execution_count": null,
   "metadata": {
    "collapsed": true
   },
   "outputs": [],
   "source": []
  }
 ],
 "metadata": {
  "kernelspec": {
   "display_name": "Python [conda env:ada]",
   "language": "python",
   "name": "conda-env-ada-py"
  },
  "language_info": {
   "codemirror_mode": {
    "name": "ipython",
    "version": 3
   },
   "file_extension": ".py",
   "mimetype": "text/x-python",
   "name": "python",
   "nbconvert_exporter": "python",
   "pygments_lexer": "ipython3",
   "version": "3.5.4"
  }
 },
 "nbformat": 4,
 "nbformat_minor": 2
}
