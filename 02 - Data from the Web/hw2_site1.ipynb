{
 "cells": [
  {
   "cell_type": "code",
   "execution_count": 2,
   "metadata": {
    "collapsed": true
   },
   "outputs": [],
   "source": [
    "import requests\n",
    "import pandas as pd\n",
    "from bs4 import BeautifulSoup"
   ]
  },
  {
   "cell_type": "markdown",
   "metadata": {},
   "source": [
    "The following URL returns a JSON file with the University rankink already parsed:"
   ]
  },
  {
   "cell_type": "code",
   "execution_count": 3,
   "metadata": {
    "collapsed": true
   },
   "outputs": [],
   "source": [
    "SITE = \"https://www.topuniversities.com\"\n",
    "URL = SITE+\"/sites/default/files/qs-rankings-data/357051.txt\""
   ]
  },
  {
   "cell_type": "code",
   "execution_count": 4,
   "metadata": {},
   "outputs": [
    {
     "name": "stdout",
     "output_type": "stream",
     "text": [
      "['data']\n",
      "['guide', 'nid', 'score', 'core_id', 'url', 'country', 'cc', 'title', 'stars', 'rank_display', 'logo', 'region']\n"
     ]
    }
   ],
   "source": [
    "N = 10\n",
    "r = requests.get(URL)\n",
    "all_data = r.json()\n",
    "print(list(all_data.keys()))\n",
    "data = all_data.get(\"data\")[:N]\n",
    "print(list(data[0].keys()))"
   ]
  },
  {
   "cell_type": "code",
   "execution_count": 5,
   "metadata": {},
   "outputs": [
    {
     "name": "stdout",
     "output_type": "stream",
     "text": [
      "10 requests to be sent.\n",
      "10 done, 0 failed.\n"
     ]
    }
   ],
   "source": [
    "s = requests.Session()\n",
    "reqs = [(req_id, s.prepare_request(requests.Request('GET', SITE+entry[\"url\"]))) for req_id, entry in enumerate(data)]\n",
    "print(len(reqs), \"requests to be sent.\")\n",
    "\n",
    "resps = [(req_id, s.send(req)) for req_id, req in reqs]\n",
    "\n",
    "done = [(req_id, resp.text) for req_id, resp in resps if resp.status_code == 200]\n",
    "failed = [(req_id, resp) for req_id, resp in resps if resp.status_code != 200]\n",
    "\n",
    "print(\"%d done, %d failed.\" % (len(done), len(failed)))"
   ]
  },
  {
   "cell_type": "code",
   "execution_count": 6,
   "metadata": {},
   "outputs": [
    {
     "name": "stdout",
     "output_type": "stream",
     "text": [
      "Parsing responses using up to 4 threads...\n"
     ]
    }
   ],
   "source": [
    "import re\n",
    "non_digit = re.compile('[^0-9]')\n",
    "\n",
    "NEW_COLS = (\"fac_c_total\", \"fac_c_inter\", \"stu_c_total\", \"stu_c_inter\")\n",
    "\n",
    "from multiprocessing import Pool, cpu_count\n",
    "\n",
    "def resp_to_counts(req):\n",
    "    req_id, resp = req\n",
    "    page = BeautifulSoup(resp, \"html.parser\")\n",
    "    div = page.body.find(\"div\", class_=\"view-academic-data-profile\")\n",
    "    fac_counts = [int(re.sub(non_digit,'', tot.string)) for tot in div.find_all(\"div\", class_=\"number\")]\n",
    "    return req_id, dict(zip(NEW_COLS, fac_counts))\n",
    "\n",
    "print(\"Parsing responses using up to %d threads...\" % cpu_count()) \n",
    "with Pool(cpu_count()) as p:\n",
    "    for req_id, counts in p.map(resp_to_counts, done):\n",
    "        data[req_id].update(counts)"
   ]
  },
  {
   "cell_type": "code",
   "execution_count": 7,
   "metadata": {},
   "outputs": [
    {
     "data": {
      "text/html": [
       "<div>\n",
       "<style>\n",
       "    .dataframe thead tr:only-child th {\n",
       "        text-align: right;\n",
       "    }\n",
       "\n",
       "    .dataframe thead th {\n",
       "        text-align: left;\n",
       "    }\n",
       "\n",
       "    .dataframe tbody tr th {\n",
       "        vertical-align: top;\n",
       "    }\n",
       "</style>\n",
       "<table border=\"1\" class=\"dataframe\">\n",
       "  <thead>\n",
       "    <tr style=\"text-align: right;\">\n",
       "      <th></th>\n",
       "      <th>name</th>\n",
       "      <th>rank</th>\n",
       "      <th>country</th>\n",
       "      <th>region</th>\n",
       "      <th>fac_c_total</th>\n",
       "      <th>fac_c_inter</th>\n",
       "      <th>stu_c_total</th>\n",
       "      <th>stu_c_inter</th>\n",
       "      <th>url</th>\n",
       "    </tr>\n",
       "  </thead>\n",
       "  <tbody>\n",
       "    <tr>\n",
       "      <th>0</th>\n",
       "      <td>Massachusetts Institute of Technology (MIT)</td>\n",
       "      <td>1</td>\n",
       "      <td>United States</td>\n",
       "      <td>North America</td>\n",
       "      <td>2982</td>\n",
       "      <td>1679</td>\n",
       "      <td>11067</td>\n",
       "      <td>3717</td>\n",
       "      <td>/universities/massachusetts-institute-technolo...</td>\n",
       "    </tr>\n",
       "    <tr>\n",
       "      <th>1</th>\n",
       "      <td>Stanford University</td>\n",
       "      <td>2</td>\n",
       "      <td>United States</td>\n",
       "      <td>North America</td>\n",
       "      <td>4285</td>\n",
       "      <td>2042</td>\n",
       "      <td>15878</td>\n",
       "      <td>3611</td>\n",
       "      <td>/universities/stanford-university</td>\n",
       "    </tr>\n",
       "    <tr>\n",
       "      <th>2</th>\n",
       "      <td>Harvard University</td>\n",
       "      <td>3</td>\n",
       "      <td>United States</td>\n",
       "      <td>North America</td>\n",
       "      <td>4350</td>\n",
       "      <td>1311</td>\n",
       "      <td>22429</td>\n",
       "      <td>5266</td>\n",
       "      <td>/universities/harvard-university</td>\n",
       "    </tr>\n",
       "    <tr>\n",
       "      <th>3</th>\n",
       "      <td>California Institute of Technology (Caltech)</td>\n",
       "      <td>4</td>\n",
       "      <td>United States</td>\n",
       "      <td>North America</td>\n",
       "      <td>953</td>\n",
       "      <td>350</td>\n",
       "      <td>2255</td>\n",
       "      <td>647</td>\n",
       "      <td>/universities/california-institute-technology-...</td>\n",
       "    </tr>\n",
       "    <tr>\n",
       "      <th>4</th>\n",
       "      <td>University of Cambridge</td>\n",
       "      <td>5</td>\n",
       "      <td>United Kingdom</td>\n",
       "      <td>Europe</td>\n",
       "      <td>5490</td>\n",
       "      <td>2278</td>\n",
       "      <td>18770</td>\n",
       "      <td>6699</td>\n",
       "      <td>/universities/university-cambridge</td>\n",
       "    </tr>\n",
       "  </tbody>\n",
       "</table>\n",
       "</div>"
      ],
      "text/plain": [
       "                                           name  rank         country  \\\n",
       "0   Massachusetts Institute of Technology (MIT)     1   United States   \n",
       "1                           Stanford University     2   United States   \n",
       "2                            Harvard University     3   United States   \n",
       "3  California Institute of Technology (Caltech)     4   United States   \n",
       "4                       University of Cambridge     5  United Kingdom   \n",
       "\n",
       "          region  fac_c_total  fac_c_inter  stu_c_total  stu_c_inter  \\\n",
       "0  North America         2982         1679        11067         3717   \n",
       "1  North America         4285         2042        15878         3611   \n",
       "2  North America         4350         1311        22429         5266   \n",
       "3  North America          953          350         2255          647   \n",
       "4         Europe         5490         2278        18770         6699   \n",
       "\n",
       "                                                 url  \n",
       "0  /universities/massachusetts-institute-technolo...  \n",
       "1                  /universities/stanford-university  \n",
       "2                   /universities/harvard-university  \n",
       "3  /universities/california-institute-technology-...  \n",
       "4                 /universities/university-cambridge  "
      ]
     },
     "execution_count": 7,
     "metadata": {},
     "output_type": "execute_result"
    }
   ],
   "source": [
    "uni = pd.DataFrame(data, columns=[\"title\", \"rank_display\", \"country\", \"region\"]+list(NEW_COLS)+[\"url\"])\n",
    "uni.rename(columns={\"title\":\"name\", \"rank_display\": \"rank\"},inplace=True)\n",
    "# Convert the rank to a numerical type\n",
    "uni[\"rank\"] = uni[\"rank\"].str.extract('(\\d+)', expand=False).astype(int)\n",
    "uni.head()"
   ]
  },
  {
   "cell_type": "code",
   "execution_count": 8,
   "metadata": {},
   "outputs": [
    {
     "data": {
      "text/html": [
       "<div>\n",
       "<style>\n",
       "    .dataframe thead tr:only-child th {\n",
       "        text-align: right;\n",
       "    }\n",
       "\n",
       "    .dataframe thead th {\n",
       "        text-align: left;\n",
       "    }\n",
       "\n",
       "    .dataframe tbody tr th {\n",
       "        vertical-align: top;\n",
       "    }\n",
       "</style>\n",
       "<table border=\"1\" class=\"dataframe\">\n",
       "  <thead>\n",
       "    <tr style=\"text-align: right;\">\n",
       "      <th></th>\n",
       "      <th>rank</th>\n",
       "      <th>fac_c_total</th>\n",
       "      <th>fac_c_inter</th>\n",
       "      <th>stu_c_total</th>\n",
       "      <th>stu_c_inter</th>\n",
       "    </tr>\n",
       "  </thead>\n",
       "  <tbody>\n",
       "    <tr>\n",
       "      <th>count</th>\n",
       "      <td>10.00000</td>\n",
       "      <td>10.000000</td>\n",
       "      <td>10.000000</td>\n",
       "      <td>10.000000</td>\n",
       "      <td>10.000000</td>\n",
       "    </tr>\n",
       "    <tr>\n",
       "      <th>mean</th>\n",
       "      <td>5.50000</td>\n",
       "      <td>4001.100000</td>\n",
       "      <td>1777.000000</td>\n",
       "      <td>17066.100000</td>\n",
       "      <td>6183.500000</td>\n",
       "    </tr>\n",
       "    <tr>\n",
       "      <th>std</th>\n",
       "      <td>3.02765</td>\n",
       "      <td>1841.976622</td>\n",
       "      <td>816.462151</td>\n",
       "      <td>7547.545745</td>\n",
       "      <td>3906.429238</td>\n",
       "    </tr>\n",
       "    <tr>\n",
       "      <th>min</th>\n",
       "      <td>1.00000</td>\n",
       "      <td>953.000000</td>\n",
       "      <td>350.000000</td>\n",
       "      <td>2255.000000</td>\n",
       "      <td>647.000000</td>\n",
       "    </tr>\n",
       "    <tr>\n",
       "      <th>25%</th>\n",
       "      <td>3.25000</td>\n",
       "      <td>2603.250000</td>\n",
       "      <td>1403.000000</td>\n",
       "      <td>14137.250000</td>\n",
       "      <td>3637.500000</td>\n",
       "    </tr>\n",
       "    <tr>\n",
       "      <th>50%</th>\n",
       "      <td>5.50000</td>\n",
       "      <td>4107.500000</td>\n",
       "      <td>1964.000000</td>\n",
       "      <td>17430.000000</td>\n",
       "      <td>5982.500000</td>\n",
       "    </tr>\n",
       "    <tr>\n",
       "      <th>75%</th>\n",
       "      <td>7.75000</td>\n",
       "      <td>5205.000000</td>\n",
       "      <td>2226.250000</td>\n",
       "      <td>19791.250000</td>\n",
       "      <td>7510.500000</td>\n",
       "    </tr>\n",
       "    <tr>\n",
       "      <th>max</th>\n",
       "      <td>10.00000</td>\n",
       "      <td>6750.000000</td>\n",
       "      <td>2964.000000</td>\n",
       "      <td>31080.000000</td>\n",
       "      <td>14854.000000</td>\n",
       "    </tr>\n",
       "  </tbody>\n",
       "</table>\n",
       "</div>"
      ],
      "text/plain": [
       "           rank  fac_c_total  fac_c_inter   stu_c_total   stu_c_inter\n",
       "count  10.00000    10.000000    10.000000     10.000000     10.000000\n",
       "mean    5.50000  4001.100000  1777.000000  17066.100000   6183.500000\n",
       "std     3.02765  1841.976622   816.462151   7547.545745   3906.429238\n",
       "min     1.00000   953.000000   350.000000   2255.000000    647.000000\n",
       "25%     3.25000  2603.250000  1403.000000  14137.250000   3637.500000\n",
       "50%     5.50000  4107.500000  1964.000000  17430.000000   5982.500000\n",
       "75%     7.75000  5205.000000  2226.250000  19791.250000   7510.500000\n",
       "max    10.00000  6750.000000  2964.000000  31080.000000  14854.000000"
      ]
     },
     "execution_count": 8,
     "metadata": {},
     "output_type": "execute_result"
    }
   ],
   "source": [
    "uni.describe()"
   ]
  },
  {
   "cell_type": "code",
   "execution_count": null,
   "metadata": {
    "collapsed": true
   },
   "outputs": [],
   "source": []
  }
 ],
 "metadata": {
  "kernelspec": {
   "display_name": "Python [conda env:ada]",
   "language": "python",
   "name": "conda-env-ada-py"
  },
  "language_info": {
   "codemirror_mode": {
    "name": "ipython",
    "version": 3
   },
   "file_extension": ".py",
   "mimetype": "text/x-python",
   "name": "python",
   "nbconvert_exporter": "python",
   "pygments_lexer": "ipython3",
   "version": "3.5.4"
  }
 },
 "nbformat": 4,
 "nbformat_minor": 2
}
