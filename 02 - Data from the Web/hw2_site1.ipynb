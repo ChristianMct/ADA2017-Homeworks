{
 "cells": [
  {
   "cell_type": "code",
   "execution_count": 7,
   "metadata": {
    "collapsed": true
   },
   "outputs": [],
   "source": [
    "import requests\n",
    "import pandas as pd\n",
    "from bs4 import BeautifulSoup"
   ]
  },
  {
   "cell_type": "markdown",
   "metadata": {},
   "source": [
    "The following URL returns a JSON file with the University rankink already parsed:"
   ]
  },
  {
   "cell_type": "code",
   "execution_count": 57,
   "metadata": {
    "collapsed": true
   },
   "outputs": [],
   "source": [
    "SITE = \"https://www.topuniversities.com\"\n",
    "URL = SITE+\"/sites/default/files/qs-rankings-data/357051.txt\""
   ]
  },
  {
   "cell_type": "code",
   "execution_count": 59,
   "metadata": {},
   "outputs": [
    {
     "name": "stdout",
     "output_type": "stream",
     "text": [
      "['data']\n",
      "['nid', 'logo', 'stars', 'core_id', 'score', 'region', 'title', 'cc', 'country', 'rank_display', 'url', 'guide']\n"
     ]
    }
   ],
   "source": [
    "N = 5\n",
    "r = requests.get(URL)\n",
    "all_data = r.json()\n",
    "print(list(all_data.keys()))\n",
    "data = all_data.get(\"data\")[:N]\n",
    "print(list(data[0].keys()))"
   ]
  },
  {
   "cell_type": "code",
   "execution_count": 73,
   "metadata": {},
   "outputs": [
    {
     "name": "stdout",
     "output_type": "stream",
     "text": [
      "\n",
      "5 requests to be sent.\n",
      "5 done, 0 failed.\n"
     ]
    }
   ],
   "source": [
    "s = requests.Session()\n",
    "print(\"\")\n",
    "reqs = [(entry, s.prepare_request(requests.Request('GET', SITE+entry[\"url\"]))) for entry in data]\n",
    "print(len(reqs), \"requests to be sent.\")\n",
    "\n",
    "resps = [(entry, s.send(req)) for entry, req in reqs]\n",
    "\n",
    "done = [(entry, resp) for entry, resp in resps if resp.status_code == 200]\n",
    "failed = [(entry, resp) for entry, resp in resps if resp.status_code != 200]\n",
    "\n",
    "print(\"%d done, %d failed.\" % (len(done), len(failed)))"
   ]
  },
  {
   "cell_type": "code",
   "execution_count": null,
   "metadata": {
    "collapsed": true
   },
   "outputs": [],
   "source": [
    "def "
   ]
  },
  {
   "cell_type": "code",
   "execution_count": 52,
   "metadata": {
    "collapsed": true
   },
   "outputs": [],
   "source": [
    "uni = pd.DataFrame(data, columns=[\"title\", \"rank_display\", \"country\", \"region\", \"url\"])\n",
    "uni.rename(columns={\"title\":\"name\", \"rank_display\": \"rank\"},inplace=True)"
   ]
  },
  {
   "cell_type": "code",
   "execution_count": 53,
   "metadata": {},
   "outputs": [
    {
     "data": {
      "text/html": [
       "<div>\n",
       "<style>\n",
       "    .dataframe thead tr:only-child th {\n",
       "        text-align: right;\n",
       "    }\n",
       "\n",
       "    .dataframe thead th {\n",
       "        text-align: left;\n",
       "    }\n",
       "\n",
       "    .dataframe tbody tr th {\n",
       "        vertical-align: top;\n",
       "    }\n",
       "</style>\n",
       "<table border=\"1\" class=\"dataframe\">\n",
       "  <thead>\n",
       "    <tr style=\"text-align: right;\">\n",
       "      <th></th>\n",
       "      <th>name</th>\n",
       "      <th>rank</th>\n",
       "      <th>country</th>\n",
       "      <th>region</th>\n",
       "      <th>url</th>\n",
       "    </tr>\n",
       "  </thead>\n",
       "  <tbody>\n",
       "    <tr>\n",
       "      <th>0</th>\n",
       "      <td>Massachusetts Institute of Technology (MIT)</td>\n",
       "      <td>1</td>\n",
       "      <td>United States</td>\n",
       "      <td>North America</td>\n",
       "      <td>/universities/massachusetts-institute-technolo...</td>\n",
       "    </tr>\n",
       "    <tr>\n",
       "      <th>1</th>\n",
       "      <td>Stanford University</td>\n",
       "      <td>2</td>\n",
       "      <td>United States</td>\n",
       "      <td>North America</td>\n",
       "      <td>/universities/stanford-university</td>\n",
       "    </tr>\n",
       "    <tr>\n",
       "      <th>2</th>\n",
       "      <td>Harvard University</td>\n",
       "      <td>3</td>\n",
       "      <td>United States</td>\n",
       "      <td>North America</td>\n",
       "      <td>/universities/harvard-university</td>\n",
       "    </tr>\n",
       "    <tr>\n",
       "      <th>3</th>\n",
       "      <td>California Institute of Technology (Caltech)</td>\n",
       "      <td>4</td>\n",
       "      <td>United States</td>\n",
       "      <td>North America</td>\n",
       "      <td>/universities/california-institute-technology-...</td>\n",
       "    </tr>\n",
       "    <tr>\n",
       "      <th>4</th>\n",
       "      <td>University of Cambridge</td>\n",
       "      <td>5</td>\n",
       "      <td>United Kingdom</td>\n",
       "      <td>Europe</td>\n",
       "      <td>/universities/university-cambridge</td>\n",
       "    </tr>\n",
       "  </tbody>\n",
       "</table>\n",
       "</div>"
      ],
      "text/plain": [
       "                                           name  rank         country  \\\n",
       "0   Massachusetts Institute of Technology (MIT)     1   United States   \n",
       "1                           Stanford University     2   United States   \n",
       "2                            Harvard University     3   United States   \n",
       "3  California Institute of Technology (Caltech)     4   United States   \n",
       "4                       University of Cambridge     5  United Kingdom   \n",
       "\n",
       "          region                                                url  \n",
       "0  North America  /universities/massachusetts-institute-technolo...  \n",
       "1  North America                  /universities/stanford-university  \n",
       "2  North America                   /universities/harvard-university  \n",
       "3  North America  /universities/california-institute-technology-...  \n",
       "4         Europe                 /universities/university-cambridge  "
      ]
     },
     "execution_count": 53,
     "metadata": {},
     "output_type": "execute_result"
    }
   ],
   "source": [
    "# Convert the rank to a numerical type\n",
    "uni[\"rank\"] = uni[\"rank\"].str.extract('(\\d+)', expand=False).astype(int)\n",
    "uni.head()"
   ]
  }
 ],
 "metadata": {
  "kernelspec": {
   "display_name": "Python [conda env:ada]",
   "language": "python",
   "name": "conda-env-ada-py"
  },
  "language_info": {
   "codemirror_mode": {
    "name": "ipython",
    "version": 3
   },
   "file_extension": ".py",
   "mimetype": "text/x-python",
   "name": "python",
   "nbconvert_exporter": "python",
   "pygments_lexer": "ipython3",
   "version": "3.5.4"
  }
 },
 "nbformat": 4,
 "nbformat_minor": 2
}
