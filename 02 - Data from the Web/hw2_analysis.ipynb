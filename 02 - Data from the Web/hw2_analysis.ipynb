{
 "cells": [
  {
   "cell_type": "markdown",
   "metadata": {},
   "source": [
    "** D'abord, faire un Run All Cell sur le notebook \"hw2_site1.ipynb\", puis faire les tasks d'analyse ici **"
   ]
  },
  {
   "cell_type": "code",
   "execution_count": null,
   "metadata": {},
   "outputs": [],
   "source": [
    "import pandas as pd\n",
    "\n",
    "uni_s1 = pd.read_pickle(\"site1.pkl\")\n",
    "uni_s2 = pd.read_pickle(\"site2.pkl\")\n",
    "uni_s1.head()\n"
   ]
  },
  {
   "cell_type": "code",
   "execution_count": null,
   "metadata": {},
   "outputs": [],
   "source": [
    "import re\n",
    "import numpy as np\n",
    "from itertools import product\n",
    "from scipy.optimize import linear_sum_assignment\n",
    "from nltk.metrics import edit_distance\n",
    "\n",
    "\n",
    "n1 = uni_s1.name\n",
    "n2 = uni_s2.name\n",
    "\n",
    "costs = np.array([[0]*len(n1)]*len(n2))\n",
    "\n",
    "for i, u1 in enumerate(n1):\n",
    "    for j, u2 in enumerate(n2):\n",
    "        c = edit_distance(u1,u2)\n",
    "        costs[i][j] = c"
   ]
  },
  {
   "cell_type": "code",
   "execution_count": null,
   "metadata": {
    "collapsed": true
   },
   "outputs": [],
   "source": [
    "id_n1, id_n2 = linear_sum_assignment(costs)"
   ]
  },
  {
   "cell_type": "code",
   "execution_count": null,
   "metadata": {},
   "outputs": [],
   "source": [
    "for i, j in zip(id_n1, id_n2):\n",
    "    print(n1[i], \"==\",n2[j])\n",
    "    "
   ]
  },
  {
   "cell_type": "markdown",
   "metadata": {},
   "source": [
    "uni_s1 and uni_s2 are the dataframes corresponding to the rankings from the first and second websites respectively. For each university, we use the data from the columns with values for the total number of students, faculty members and international students to compute the student/staff ratio and the proportion of international students for each university. We then sort the dataframes according to each ratio to find the best universities with respect to each."
   ]
  },
  {
   "cell_type": "code",
   "execution_count": null,
   "metadata": {},
   "outputs": [],
   "source": [
    "uni_s2.head()"
   ]
  },
  {
   "cell_type": "code",
   "execution_count": null,
   "metadata": {},
   "outputs": [],
   "source": [
    "#ratio computations for s1 only because they are already available for s2\n",
    "uni_s1['staff_student_ratio'] = uni_s1.apply(lambda row: row.fac_c_total/row.stu_c_total, axis=1)\n",
    "uni_s1['pc_intl_students'] = uni_s1.apply(lambda row: (row.stu_c_inter/row.stu_c_total), axis=1)\n",
    "#transforming of the ratios for s2 so that they are comparable with the data for s1\n",
    "uni_s2['staff_student_ratio'] = uni_s2.apply(lambda row: 1/float(row.student_staff_ratio), axis=1)\n",
    "uni_s2['pc_intl_students'] = uni_s2.apply(lambda row: (row.pc_intl_students)/100, axis=1)\n",
    "#sorting of data with respect to each ratio\n",
    "uni_s1_FSsort=uni_s1.sort_values('staff_student_ratio', ascending=False)\n",
    "uni_s1_Int=uni_s1.sort_values('pc_intl_students', ascending=False)\n",
    "uni_s2_FSsort=uni_s2.sort_values('staff_student_ratio', ascending=False)\n",
    "uni_s2_Int=uni_s2.sort_values('pc_intl_students', ascending=False)\n",
    "uni_s1_FSsort.head()"
   ]
  },
  {
   "cell_type": "code",
   "execution_count": null,
   "metadata": {
    "scrolled": true
   },
   "outputs": [],
   "source": [
    "uni_s2_FSsort.head()"
   ]
  },
  {
   "cell_type": "code",
   "execution_count": null,
   "metadata": {
    "scrolled": true
   },
   "outputs": [],
   "source": [
    "uni_s1_Int.head()"
   ]
  },
  {
   "cell_type": "code",
   "execution_count": null,
   "metadata": {},
   "outputs": [],
   "source": [
    "uni_s2_Int.head()"
   ]
  },
  {
   "cell_type": "markdown",
   "metadata": {},
   "source": [
    "According to website 1 the two best universities with respect to the staff/student ratio are Caltech and Yale. The two best universities with respect to the proportion of international students are  London School of Economics and Political Sciences and Ecole Polytechnique Fédérale de Lausanne (EPFL).\n",
    "\n",
    "According to website 2 the two best universities with respect to the staff/student ratio are Vanderbilt University and University of Copenhagen. The two best universities with respect to the proportion of international students are  London School of Economics and Political Sciences and University of Luxembourg."
   ]
  },
  {
   "cell_type": "markdown",
   "metadata": {},
   "source": [
    "We now aggregate our results by country and region by grouping the data and computing the mean of the ratios for each group."
   ]
  },
  {
   "cell_type": "code",
   "execution_count": null,
   "metadata": {
    "scrolled": true
   },
   "outputs": [],
   "source": [
    "\n",
    "def aggregation(df, grouping):\n",
    "    dfgroup=df.groupby(grouping)\n",
    "    ratioFacStuMean=[] \n",
    "    ratioInterMean=[]\n",
    "    list=[]\n",
    "    for variable in dfgroup[grouping].unique():\n",
    "        tmp=dfgroup.get_group(variable[0])\n",
    "        ratioFacStuMean.append(tmp['staff_student_ratio'].mean()) \n",
    "        ratioInterMean.append(tmp['pc_intl_students'].mean())\n",
    "    df_ratiogroup=pd.DataFrame(data={grouping: dfgroup[grouping].unique(), 'staff_student_ratio_mean': ratioFacStuMean, 'pc_intl_students_mean':ratioInterMean})\n",
    "    df_RFC=df_ratiogroup.sort_values('staff_student_ratio_mean', ascending=False)\n",
    "    df_RI=df_ratiogroup.sort_values('pc_intl_students_mean', ascending=False)\n",
    "    return df_RFC, df_RI\n",
    "\n",
    "uni_s1_RFC_country, uni_s1_RI_country= aggregation(uni_s1, 'country')\n",
    "uni_s1_RFC_region, uni_s1_RI_region= aggregation(uni_s1, 'region')\n",
    "uni_s2['staff_student_ratio']=pd.to_numeric(uni_s2['staff_student_ratio'])\n",
    "uni_s2_RFC_country, uni_s2_RI_country= aggregation(uni_s2, 'country')\n"
   ]
  },
  {
   "cell_type": "code",
   "execution_count": null,
   "metadata": {},
   "outputs": [],
   "source": [
    "uni_s2_RI_country.head()"
   ]
  },
  {
   "cell_type": "markdown",
   "metadata": {},
   "source": [
    "We plot our results in bar charts"
   ]
  },
  {
   "cell_type": "code",
   "execution_count": null,
   "metadata": {
    "scrolled": false
   },
   "outputs": [],
   "source": [
    "import matplotlib.pyplot as plt\n",
    "ax = uni_s1_RI_region[['staff_student_ratio_mean','pc_intl_students_mean']].plot(kind='bar', title =\"University mean ratios by region according to site 1's ranking\", figsize=(15, 10), legend=True, fontsize=12)\n",
    "ax.set_xlabel(\"region\", fontsize=12)\n",
    "ax.set_ylabel(\"ratio\", fontsize=12)\n",
    "ax.set_xticklabels(uni_s1_RI_region.region)\n",
    "ax.tick_params(axis='x', which='major', pad=15)\n",
    "plt.legend(['Faculty/Student ratio', 'International Students ratio'], loc='upper right')\n",
    "plt.show()"
   ]
  },
  {
   "cell_type": "markdown",
   "metadata": {},
   "source": [
    "From the plot above, we notice that the best region according to site 1 in terms of proportion of international students is Oceania and followed by Europe then North America. In terms of proportion of Faculty Members to Students the best region is North America followed by Asia and Europe. "
   ]
  },
  {
   "cell_type": "code",
   "execution_count": null,
   "metadata": {
    "scrolled": false
   },
   "outputs": [],
   "source": [
    "bx = uni_s1_RFC_country[['staff_student_ratio_mean']].plot(kind='bar', title =\"University Faculty/Student mean ratio by country according to site 1's ranking\", figsize=(15, 10), legend=True, fontsize=12)\n",
    "bx.set_xlabel(\"country\", fontsize=12)\n",
    "bx.set_ylabel(\"ratio\", fontsize=12)\n",
    "bx.set_xticklabels(uni_s1_RFC_country.country)\n",
    "bx.tick_params(axis='x', which='major', pad=15)\n",
    "plt.show()"
   ]
  },
  {
   "cell_type": "code",
   "execution_count": null,
   "metadata": {},
   "outputs": [],
   "source": [
    "cx = uni_s1_RI_country[['pc_intl_students_mean']].plot(kind='bar', title =\"University mean proportion of International Students by country according to site 1's ranking\", figsize=(15, 10), legend=True, fontsize=12)\n",
    "cx.set_xlabel(\"country\", fontsize=12)\n",
    "cx.set_ylabel(\"ratio\", fontsize=12)\n",
    "cx.set_xticklabels(uni_s1_RI_country.country)\n",
    "cx.tick_params(axis='x', which='major', pad=15)\n",
    "plt.show()"
   ]
  },
  {
   "cell_type": "markdown",
   "metadata": {},
   "source": [
    "According to the rankings of the first website, the best countries are United Kingdom and Australia in terms of proportion of International students while the best are Russia and Denmark according to the Faculty Members to the number of Students ratio."
   ]
  },
  {
   "cell_type": "code",
   "execution_count": null,
   "metadata": {
    "scrolled": false
   },
   "outputs": [],
   "source": [
    "ax = uni_s2_RFC_country[['staff_student_ratio_mean']].plot(kind='bar', title =\"University Faculty members to Students mean ratio by country according to site 2's ranking\", figsize=(15, 10), legend=True, fontsize=12)\n",
    "ax.set_xlabel(\"country\", fontsize=12)\n",
    "ax.set_ylabel(\"ratio\", fontsize=12)\n",
    "ax.set_xticklabels(uni_s2_RFC_country.country)\n",
    "ax.tick_params(axis='x', which='major', pad=15)\n",
    "plt.show()"
   ]
  },
  {
   "cell_type": "code",
   "execution_count": null,
   "metadata": {},
   "outputs": [],
   "source": [
    "ax = uni_s2_RI_country[['pc_intl_students_mean']].plot(kind='bar', title =\"University mean proportion of International Students by country according to site 2's ranking\", figsize=(15, 10), legend=True, fontsize=12)\n",
    "ax.set_xlabel(\"country\", fontsize=12)\n",
    "ax.set_ylabel(\"ratio\", fontsize=12)\n",
    "ax.set_xticklabels(uni_s2_RI_country.country)\n",
    "ax.tick_params(axis='x', which='major', pad=15)\n",
    "plt.show()"
   ]
  },
  {
   "cell_type": "markdown",
   "metadata": {},
   "source": [
    "According to the rankings of the second website, the best countries are Luxembourg and United Kingdom in terms of proportion of International students while the best are Denmark and Italy according to the Faculty Members to the number of Students ratio."
   ]
  },
  {
   "cell_type": "code",
   "execution_count": null,
   "metadata": {
    "collapsed": true
   },
   "outputs": [],
   "source": []
  }
 ],
 "metadata": {
  "kernelspec": {
   "display_name": "Python [conda env:ada]",
   "language": "python",
   "name": "conda-env-ada-py"
  },
  "language_info": {
   "codemirror_mode": {
    "name": "ipython",
    "version": 3
   },
   "file_extension": ".py",
   "mimetype": "text/x-python",
   "name": "python",
   "nbconvert_exporter": "python",
   "pygments_lexer": "ipython3",
   "version": "3.5.4"
  }
 },
 "nbformat": 4,
 "nbformat_minor": 2
}
