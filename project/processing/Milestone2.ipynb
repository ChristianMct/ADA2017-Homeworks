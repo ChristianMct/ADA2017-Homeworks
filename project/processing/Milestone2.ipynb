{
 "cells": [
  {
   "cell_type": "markdown",
   "metadata": {},
   "source": [
    "# Milestone 2; 10,000 battles Project\n",
    "\n",
    "## Tasks Description\n",
    "\n",
    "Milestone 2 (20%): the project repo contains a notebook with data collection and descriptive analysis, properly commented, and the notebook ends with a more structured and informed plan for what comes next.\n",
    "\n",
    "The tasks involving a large amount of data were pre-run and we simply describe their purposes and outputs while showing how to call them in comments.\n",
    "\n",
    "## Data Collection\n",
    "\n",
    "In the data collection, one of our main goals is to remain flexible such that we can always go back in our pipeline to fecth more or less data. Thus, our data collection is organised in multiple steps:\n",
    "1. fetching of all the wikipedia pages of interest\n",
    "2. fetching of the wanted information on each page\n",
    "3. fetching of the battle features.\n",
    "\n",
    "1. fetching of all the wikipedia pages of interest\n",
    "The data collection is done first on the cluster by using spark jobs in order to read and parse the wikipedia dump.\n",
    "In this first part, we fetch all the wikipedia pages which have a title corresponding to the following regex: \"(((B|b)attle|(S|s)iege) (of|on))\".\n"
   ]
  },
  {
   "cell_type": "code",
   "execution_count": 1,
   "metadata": {
    "collapsed": true
   },
   "outputs": [],
   "source": [
    "#TODO run command for pages extraction\n",
    "\n",
    "#run pages_extraction.py ..."
   ]
  },
  {
   "cell_type": "markdown",
   "metadata": {},
   "source": [
    "We retrieve 27255 pages with a title satisfying the regex."
   ]
  },
  {
   "cell_type": "markdown",
   "metadata": {},
   "source": [
    "2. fetching of the wanted information on each page\n",
    "\n",
    "We have observed that wikipedia pages about battles often contain an \"infobox\" summarizing the main information of the battle: title, place, coordinates, dates, casualties, warriers, victory type, etc. An example is observable in https://en.wikipedia.org/wiki/Battle_of_Waterloo.\n",
    "Thus, our goal is to use these structured data to do our analysis and the next step in our data collection pipeline is the fetch the infoboxes of all the pages we retrieved in the previous step."
   ]
  },
  {
   "cell_type": "code",
   "execution_count": 2,
   "metadata": {
    "collapsed": true
   },
   "outputs": [],
   "source": [
    "#run fields_extraction.py '/datasets/battle-pages-2.json' '/datasets/battle-fields-0.json'"
   ]
  },
  {
   "cell_type": "markdown",
   "metadata": {},
   "source": [
    "Out of the 27255 pages, 7486 contain an infobox and only 17 contain two infoboxes (these numbers are obtained by using the python file of the next step but are described here for the clarity of the analysis). We consider that we can do a first analysis on the 7486 pages containing an infobox and do not include pages without an infobox or containing multiple infoboxes. These pages are often redirect pages !!!!!!!!!! CHECK OR REMOVE !!!!!!!!!! or pages containing incomplete information."
   ]
  },
  {
   "cell_type": "markdown",
   "metadata": {},
   "source": [
    "3. fetching of the battle features.\n",
    "\n",
    "In this step, we created a python file that allow us to retrieve the features of interest. This allows us to choose which features we want to retrieve and can also help us to divide our future analysis."
   ]
  },
  {
   "cell_type": "code",
   "execution_count": 3,
   "metadata": {
    "collapsed": true
   },
   "outputs": [],
   "source": [
    "#run features_extraction.py '/datasets/battle-fields-0.json' '/datasets/battle-features-0.json' 'title' 'date'"
   ]
  },
  {
   "cell_type": "markdown",
   "metadata": {},
   "source": [
    "With this last step, we can start our descriptive analysis.\n",
    "\n",
    "## Descriptive analysis\n",
    "\n",
    "Our first step is to observe which features are observable for the battles. For example, for how many battles the date or the geographic coordinates are available.\n",
    "\n",
    "### Available data"
   ]
  },
  {
   "cell_type": "code",
   "execution_count": 5,
   "metadata": {},
   "outputs": [],
   "source": [
    "import pandas as pd"
   ]
  },
  {
   "cell_type": "code",
   "execution_count": 37,
   "metadata": {},
   "outputs": [
    {
     "data": {
      "text/html": [
       "<div>\n",
       "<style>\n",
       "    .dataframe thead tr:only-child th {\n",
       "        text-align: right;\n",
       "    }\n",
       "\n",
       "    .dataframe thead th {\n",
       "        text-align: left;\n",
       "    }\n",
       "\n",
       "    .dataframe tbody tr th {\n",
       "        vertical-align: top;\n",
       "    }\n",
       "</style>\n",
       "<table border=\"1\" class=\"dataframe\">\n",
       "  <thead>\n",
       "    <tr style=\"text-align: right;\">\n",
       "      <th></th>\n",
       "      <th>Counts</th>\n",
       "    </tr>\n",
       "  </thead>\n",
       "  <tbody>\n",
       "    <tr>\n",
       "      <th>title</th>\n",
       "      <td>27255</td>\n",
       "    </tr>\n",
       "    <tr>\n",
       "      <th>Multiple infoboxes</th>\n",
       "      <td>17</td>\n",
       "    </tr>\n",
       "    <tr>\n",
       "      <th>No infobox</th>\n",
       "      <td>19752</td>\n",
       "    </tr>\n",
       "    <tr>\n",
       "      <th>date</th>\n",
       "      <td>7479</td>\n",
       "    </tr>\n",
       "    <tr>\n",
       "      <th>place</th>\n",
       "      <td>7486</td>\n",
       "    </tr>\n",
       "    <tr>\n",
       "      <th>coordinates</th>\n",
       "      <td>2124</td>\n",
       "    </tr>\n",
       "    <tr>\n",
       "      <th>partof</th>\n",
       "      <td>7279</td>\n",
       "    </tr>\n",
       "    <tr>\n",
       "      <th>casualties1</th>\n",
       "      <td>7208</td>\n",
       "    </tr>\n",
       "    <tr>\n",
       "      <th>result</th>\n",
       "      <td>7459</td>\n",
       "    </tr>\n",
       "  </tbody>\n",
       "</table>\n",
       "</div>"
      ],
      "text/plain": [
       "                    Counts\n",
       "title                27255\n",
       "Multiple infoboxes      17\n",
       "No infobox           19752\n",
       "date                  7479\n",
       "place                 7486\n",
       "coordinates           2124\n",
       "partof                7279\n",
       "casualties1           7208\n",
       "result                7459"
      ]
     },
     "execution_count": 37,
     "metadata": {},
     "output_type": "execute_result"
    }
   ],
   "source": [
    "#run features_extraction.py '../datasets/battle-fields-0.json' 'features_of_interest' 'features_of_interest_count' 'title' 'infobox_0' 'infobox_1' 'date' 'place' coordinates' 'partof' 'casualties1' 'result'\n",
    "\n",
    "data = pd.DataFrame.from_csv('features_of_interest_count')\n",
    "data.reset_index(inplace=True)\n",
    "data.rename(columns={ 'infobox_0' : 'Multiple infoboxes', 'infobox_1' : 'No infobox'}, inplace=True)\n",
    "data.rename(index={0: 'Counts'}, inplace=True)\n",
    "data = data.transpose()\n",
    "data"
   ]
  },
  {
   "cell_type": "markdown",
   "metadata": {},
   "source": [
    "As a first analysis, we can see that when an infobox is present, this one is often complete and contains information about most of the battles' features with the exception of coordinates. For coordinates, we will also search the complete wikipedia page or use the place information (name of the city/region) to complete the coordinates when possible.\n",
    "After this step, we can confirm that we have almost complete information about 7486 battles but we have to see how these information can be used, retrieved and formatted for an explaratory analysis. Thus, we will now observe into details each feature and try to map them to usable data. For missing features, we will also see if we can retrieve these information in the page or using other existing features.\n",
    "\n",
    "### Features exploration\n"
   ]
  },
  {
   "cell_type": "code",
   "execution_count": null,
   "metadata": {
    "collapsed": true
   },
   "outputs": [],
   "source": []
  }
 ],
 "metadata": {
  "kernelspec": {
   "display_name": "Python [default]",
   "language": "python",
   "name": "python3"
  },
  "language_info": {
   "codemirror_mode": {
    "name": "ipython",
    "version": 3
   },
   "file_extension": ".py",
   "mimetype": "text/x-python",
   "name": "python",
   "nbconvert_exporter": "python",
   "pygments_lexer": "ipython3",
   "version": "3.5.4"
  }
 },
 "nbformat": 4,
 "nbformat_minor": 2
}
