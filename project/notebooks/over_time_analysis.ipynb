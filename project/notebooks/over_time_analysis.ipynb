{
 "cells": [
  {
   "cell_type": "code",
   "execution_count": null,
   "metadata": {
    "collapsed": true
   },
   "outputs": [],
   "source": [
    "import json\n",
    "import sys\n",
    "import pandas as pd\n",
    "import numpy as np\n",
    "import seaborn as sns\n",
    "import matplotlib.pyplot as plt\n",
    "from folium.plugins import HeatMap\n",
    "import folium as fl\n",
    "from datetime import datetime\n",
    "import math\n",
    "from matplotlib.transforms import Bbox\n",
    "\n",
    "sns.set(style=\"whitegrid\")\n",
    "%matplotlib inline"
   ]
  },
  {
   "cell_type": "code",
   "execution_count": null,
   "metadata": {
    "collapsed": true
   },
   "outputs": [],
   "source": [
    "def densplot(columns, xlabel, title, axo):\n",
    "    for i,v in enumerate(columns):\n",
    "        sns.distplot(v, ax=axo, kde_kws={\"label\": i})\n",
    "    axo.set_title(title)\n",
    "    axo.set_xlabel(xlabel, fontsize=12)\n",
    "    \n",
    "def full_extent(ax, pad=0.0):\n",
    "    \"\"\"Get the full extent of an axes, including axes labels, tick labels, and\n",
    "    titles.\"\"\"\n",
    "    # For text objects, we need to draw the figure first, otherwise the extents\n",
    "    # are undefined.\n",
    "    ax.figure.canvas.draw()\n",
    "    items = ax.get_xticklabels() + ax.get_yticklabels() \n",
    "    items += [ax, ax.title, ax.xaxis.label, ax.yaxis.label]\n",
    "    items += [ax, ax.title]\n",
    "    bbox = Bbox.union([item.get_window_extent() for item in items])\n",
    "\n",
    "    return bbox.expanded(1.0 + pad, 1.0 + pad)"
   ]
  },
  {
   "cell_type": "code",
   "execution_count": null,
   "metadata": {
    "collapsed": true
   },
   "outputs": [],
   "source": [
    "FOLDER = \"../report/figures/\" = \"../report/figures/\""
   ]
  },
  {
   "cell_type": "code",
   "execution_count": null,
   "metadata": {
    "collapsed": true
   },
   "outputs": [],
   "source": [
    "battles = pd.DataFrame([json.loads(line) for line in open(\"../datasets/battle-features-1.json\")])\n",
    "battles = battles[battles.start_date.notnull()]\n",
    "battles.fillna(value=\"None\", inplace=True)\n",
    "def get_year(date):\n",
    "    return datetime.strptime(date, \"%Y-%m-%d\").year if date else None\n",
    "\n",
    "def get_duration(battle):\n",
    "    if battle.end_date == \"None\" or battle.end_date==battle.start_date:\n",
    "        return 1\n",
    "    else:\n",
    "        return (datetime.strptime(battle.end_date, \"%Y-%m-%d\") - datetime.strptime(battle.start_date, \"%Y-%m-%d\")).days\n",
    "\n",
    "battles[\"year\"] = battles[\"start_date\"].apply(get_year)\n",
    "\n",
    "battles = battles[(battles.year>=1000) & (battles.year <= 2018)]\n",
    "\n",
    "battles[\"duration\"] = [get_duration(battle) for _, battle in battles.iterrows()]\n",
    "\n",
    "battles[\"log_duration\"] = np.log10(battles.duration)\n",
    "\n",
    "decades = range(int(battles.year.min()), int(battles.year.max())+10, 10)\n",
    "centuries = range(int(battles.year.min()), int(battles.year.max())+100, 100)\n",
    "battles[\"decade\"] = pd.cut(battles[\"year\"], decades, labels=decades[:-1])\n",
    "battles[\"century\"] = pd.cut(battles[\"year\"], centuries, labels=centuries[:-1])"
   ]
  },
  {
   "cell_type": "code",
   "execution_count": null,
   "metadata": {},
   "outputs": [],
   "source": [
    "battles[\"killed\"]=battles.killed_1 + battles.killed_2 + battles.killed_3 + battles.killed_4\n",
    "battles[\"casualties\"]= battles.casualties_1 + battles.casualties_2 + battles.casualties_3 + battles.casualties_4\n",
    "battles.casualties.replace(to_replace=0, value=np.nan, inplace=True)\n",
    "print((battles.casualties == 0).sum())\n",
    "battles[\"log_casualties\"] = np.log10(battles.casualties)\n",
    "battles.log_casualties.plot.hist()\n",
    "plt.title('Frequency of Number of Casualties on a base 10 logarithm scale on the entire dataset')"
   ]
  },
  {
   "cell_type": "code",
   "execution_count": null,
   "metadata": {},
   "outputs": [],
   "source": [
    "b = battles.decade.value_counts()\n",
    "fig, ax = plt.subplots(figsize=(10,16))\n",
    "sns.barplot(y=b.index, x=b, color=\"blue\",ax=ax)"
   ]
  },
  {
   "cell_type": "code",
   "execution_count": null,
   "metadata": {
    "scrolled": true
   },
   "outputs": [],
   "source": [
    "#battles.duration.value_counts().head(100).plot(kind=\"bar\")\n",
    "\n",
    "#sns.distplot(battles.duration)  \n",
    "fig, ax = plt.subplots()\n",
    "sns.distplot(battles.log_duration, ax=ax)\n",
    "#ax.set_title('Log duration of battles')\n",
    "ax.set_xlabel('duration', fontsize=12)\n",
    "ax.set_ylabel('frequency', fontsize=12)\n",
    "plt.show()\n",
    "fig.savefig('log duration of battles')"
   ]
  },
  {
   "cell_type": "code",
   "execution_count": null,
   "metadata": {
    "scrolled": false
   },
   "outputs": [],
   "source": [
    "#NOT USED to plot\n",
    "\n",
    "fig, ((ax1),(ax2), (ax3)) = plt.subplots(3, 1, figsize=(10,20), sharey=True)\n",
    "\n",
    "b = battles\n",
    "\n",
    "cascent = b[b.year > 1000].groupby('century').log_casualties.mean().dropna()\n",
    "casdec = b[b.year > 1900].groupby('decade').log_casualties.mean().dropna()\n",
    "casyear = b[b.year > 1995].groupby('year').log_casualties.mean().dropna()\n",
    "sns.set_style(\"whitegrid\")\n",
    "sns.pointplot(x=np.array(cascent.index), y=cascent, ax=ax1)\n",
    "sns.pointplot(x=np.array(casdec.index), y=casdec, ax=ax2)\n",
    "sns.pointplot(x=np.array(casyear.index), y=casyear, ax=ax3)\n",
    "#ax1.set_title('Mean of the number of casualties over the last thousand years by century on a logarithmic scale')\n",
    "#ax2.set_title('Mean of the number of casualties in the last century by decenny on a logarithmic scale')\n",
    "#ax3.set_title('Mean of the number of casualties in the last twenty years by year on a logarithmic scale')\n",
    "ax1.set_ylabel('Number of Casualties (log)', fontsize=20)\n",
    "ax2.set_ylabel('Number of Casualties (log)', fontsize=12)\n",
    "ax3.set_ylabel('Number of Casualties (log)', fontsize=12)\n",
    "ax1.set_xlabel('Year', fontsize=20)\n",
    "ax2.set_xlabel('Year', fontsize=12)\n",
    "ax3.set_xlabel('Year', fontsize=12)\n",
    "ax1.tick_params(labelsize=15)\n",
    "test1 = full_extent(ax1).transformed(fig.dpi_scale_trans.inverted())\n",
    "#test2 = full_extent(ax2).transformed(fig.dpi_scale_trans.inverted())\n",
    "#test3 = full_extent(ax3).transformed(fig.dpi_scale_trans.inverted())\n",
    "fig.savefig('casThByCent.eps', bbox_inches=test1)\n",
    "#fig.savefig('casCentBydec.png', bbox_inches=test2)\n",
    "#fig.savefig('casTwByYr.png', bbox_inches=test3)"
   ]
  },
  {
   "cell_type": "code",
   "execution_count": null,
   "metadata": {
    "scrolled": false
   },
   "outputs": [],
   "source": [
    "#NOT USED to plot\n",
    "fig, ax1 = plt.subplots(figsize=(10,3), sharey=True)\n",
    "sns.set(color_codes=True)\n",
    "\n",
    "\n",
    "bdec = battles.groupby('century').log_duration.mean().dropna()\n",
    "#bdecpower = np.array(bdec)\n",
    "#for i,v in enumerate(bdecpower):\n",
    "#    bdecpower[i]=math.pow(10,v)\n",
    "bcent = battles[battles.year >=1900].groupby('decade').log_duration.mean().dropna()\n",
    "byearnow = battles[battles.year >=1996].groupby('year').log_duration.mean().dropna()\n",
    "byearww2 = battles[(battles.year >=1935) & (battles.year <= 1945)].groupby('year').log_duration.mean().dropna()\n",
    "\n",
    "sns.set_style(\"whitegrid\")\n",
    "sns.pointplot(x=np.array(bdec.index), y=np.array(bdec), ax=ax1)\n",
    "#sns.pointplot(x=np.array(bcent.index), y=np.array(bcent), ax=ax2)\n",
    "#sns.pointplot(x=np.array(byearnow.index), y=byearnow, ax=ax3)\n",
    "#sns.pointplot(x=np.array(byearww2.index), y=byearww2, ax=ax4)\n",
    "#ax1.set_title('Mean of the duration of battles in the last thousand years by century on a logarithmic scale')\n",
    "#ax2.set_title('Mean of the duration of battles in the last century by decenny on a logarithmic scale')\n",
    "#ax3.set_title('Mean of the duration of battles in the last twenty years by year on a logarithmic scale')\n",
    "#ax4.set_title('Mean of the duration of battles during WW2 by year on a logarithmic scale')\n",
    "ax1.set_ylabel('Duration Mean (log)', fontsize=20)\n",
    "#ax2.set_ylabel('Duration Mean (log)', fontsize=12)\n",
    "#ax3.set_ylabel('Duration Mean (log)', fontsize=12)\n",
    "#ax4.set_ylabel('Duration Mean (log)', fontsize=12)\n",
    "ax1.set_xlabel('Year', fontsize=20)\n",
    "#ax2.set_xlabel('Year', fontsize=12)\n",
    "#ax3.set_xlabel('Year', fontsize=12)\n",
    "#ax4.set_xlabel('Year', fontsize=12)\n",
    "ax1.tick_params(labelsize=15)\n",
    "ax1.set_ylim(0,1)\n",
    "#ax1.set(yscale=\"log\")\n",
    "#ax1.set_facecolor('white')\n",
    "#ax1.grid(color='gray')\n",
    "#ax1.axes.set_clip_on(True)\n",
    "#battles[[\"title\", \"start_date\", \"end_date\", \"duration\"]].sort_values(by=\"duration\", ascending=False)\n",
    "#test1 = full_extent(ax1).transformed(fig.dpi_scale_trans.inverted())\n",
    "#test2 = full_extent(ax2).transformed(fig.dpi_scale_trans.inverted())\n",
    "#test3 = full_extent(ax3).transformed(fig.dpi_scale_trans.inverted())\n",
    "#test4 = full_extent(ax4).transformed(fig.dpi_scale_trans.inverted())\n",
    "fig.tight_layout()\n",
    "fig.savefig('durThByCent.eps')\n",
    "#fig.savefig('durCentBydec.png', bbox_inches=test2)\n",
    "#fig.savefig('durTwByYr.png', bbox_inches=test3)\n",
    "#fig.savefig('durWW2ByYr.png', bbox_inches=test4)"
   ]
  },
  {
   "cell_type": "code",
   "execution_count": null,
   "metadata": {},
   "outputs": [],
   "source": [
    "\n",
    "fig, ax1 = plt.subplots(figsize=(10,3), sharey=True)\n",
    "sns.set(color_codes=True)\n",
    "bdec = battles.groupby('century').log_duration.mean().dropna()\n",
    "bcent = battles[battles.year >=1900].groupby('decade').log_duration.mean().dropna()\n",
    "byearnow = battles[battles.year >=1996].groupby('year').log_duration.mean().dropna()\n",
    "byearww2 = battles[(battles.year >=1935) & (battles.year <= 1945)].groupby('year').log_duration.mean().dropna()\n",
    "\n",
    "sns.set_style(\"whitegrid\")\n",
    "sns.pointplot(x=np.array(bdec.index), y=np.array(bdec), ax=ax1)\n",
    "ax1.set_ylabel('Duration Mean (log)', fontsize=20)\n",
    "ax1.set_xlabel('Year', fontsize=20)\n",
    "ax1.tick_params(labelsize=15)\n",
    "ax1.set_ylim(0,1)\n",
    "fig.tight_layout()\n",
    "fig.savefig(FOLDER+'durThByCent.eps')"
   ]
  },
  {
   "cell_type": "code",
   "execution_count": null,
   "metadata": {
    "collapsed": true
   },
   "outputs": [],
   "source": [
    "#NOT used to plot\n",
    "fig, ((ax1),(ax2), (ax3)) = plt.subplots(3, 1, figsize=(10,20), sharey=True)\n",
    "\n",
    "\n",
    "battle_inc = battles[((battles.result_combatant_1 == \"\") & (battles.result_combatant_2 == \"\")) | battles.indecisive]\n",
    "\n",
    "inccent = battle_inc.groupby(\"century\").title.count()/battles.groupby(\"century\").title.count()\n",
    "incdec = battle_inc[battle_inc.year > 1900].groupby(\"decade\").title.count()/battles[battles.year > 1900].groupby(\"decade\").title.count()\n",
    "incdec.dropna(inplace=True)\n",
    "\n",
    "incyear = battle_inc[battle_inc.year > 1996].groupby(\"year\").title.count()/battles[battles.year > 1996].groupby(\"year\").title.count()\n",
    "incyear.dropna(inplace=True)\n",
    "sns.set_style(\"whitegrid\")\n",
    "sns.pointplot(x=np.array(inccent.index), y=inccent, ax=ax1)\n",
    "sns.pointplot(x=np.array(incdec.index), y=incdec, ax=ax2)\n",
    "sns.pointplot(x=np.array(incyear.index), y=incyear, ax=ax3)\n",
    "#ax1.set_title('Mean of the number of indecisive battles over the last thousand years by century on a logarithmic scale')\n",
    "#ax2.set_title('Mean of the number of indecisive battles in the last century by decenny on a logarithmic scale')\n",
    "#ax3.set_title('Mean of the number of indecisive battles in the last twenty years by year on a logarithmic scale')\n",
    "ax1.set_ylabel('Number of Indecisive Battles (log)', fontsize=20)\n",
    "ax2.set_ylabel('Number of Indecisive battles (log)', fontsize=12)\n",
    "ax3.set_ylabel('Number of Indecisive battles (log)', fontsize=12)\n",
    "ax1.set_xlabel('Year', fontsize=20)\n",
    "ax2.set_xlabel('Year', fontsize=12)\n",
    "ax3.set_xlabel('Year', fontsize=12)\n",
    "ax1.tick_params(labelsize=15)\n",
    "test1 = full_extent(ax1).transformed(fig.dpi_scale_trans.inverted())\n",
    "test2 = full_extent(ax2).transformed(fig.dpi_scale_trans.inverted())\n",
    "test3 = full_extent(ax3).transformed(fig.dpi_scale_trans.inverted())\n",
    "fig.savefig('indThByCent.png', bbox_inches=test1)\n",
    "#fig.savefig('indCentBydec.png', bbox_inches=test2)\n",
    "#fig.savefig('indTwByYr.png', bbox_inches=test3)"
   ]
  },
  {
   "cell_type": "code",
   "execution_count": null,
   "metadata": {},
   "outputs": [],
   "source": [
    "fig, ax1 = plt.subplots(1, 1, figsize=(10,3))\n",
    "battle_inc = battles[((battles.result_combatant_1 == \"\") & (battles.result_combatant_2 == \"\")) | battles.indecisive]\n",
    "\n",
    "inccent = battle_inc.groupby(\"century\").title.count()/battles.groupby(\"century\").title.count()\n",
    "sns.set_style(\"whitegrid\")\n",
    "sns.pointplot(x=np.array(inccent.index), y=inccent*100, ax=ax1)\n",
    "ax1.set_ylabel('Indeci. Battles (%)', fontsize=20)\n",
    "ax1.set_xlabel('Year', fontsize=20)\n",
    "ax1.tick_params(labelsize=15)\n",
    "fig.tight_layout()\n",
    "#fig.savefig(FOLDER+'indThByCent.eps')"
   ]
  },
  {
   "cell_type": "code",
   "execution_count": null,
   "metadata": {},
   "outputs": [],
   "source": [
    "b[(b.year > 1900) & (b.year < 2000)].duration.mean()"
   ]
  },
  {
   "cell_type": "code",
   "execution_count": null,
   "metadata": {},
   "outputs": [],
   "source": [
    "battlesCasuStren = battles.query('(casualties_1 >1 and strength_1 >1) and strength_1 > casualties_1')\n",
    "battlesCasuStren = battlesCasuStren.query('(casualties_2 >1 and strength_2 >1) and strength_2 > casualties_2')\n",
    "battlesCasuStren['CasualtiesPercent'] = ((battlesCasuStren['casualties_1']*100/battlesCasuStren['strength_1'])+(battlesCasuStren['casualties_2']*100/battlesCasuStren['strength_2']))/2\n",
    "bdec = battlesCasuStren.groupby('century').CasualtiesPercent.mean().dropna()\n",
    "\n",
    "fig, ((ax1)) = plt.subplots(1, 1, figsize=(10,3), sharey=False)\n",
    "sns.set_style(\"whitegrid\")\n",
    "sns.pointplot(x=np.array(bdec.index), y=np.array(bdec), ax=ax1)\n",
    "ax1.set_ylabel('Casualties (%)', fontsize=20)\n",
    "ax1.set_xlabel('Year', fontsize=20)\n",
    "ax1.set_ylim(0,45)\n",
    "ax1.tick_params(labelsize=15)\n",
    "fig.tight_layout()\n",
    "#fig.savefig(FOLDER+'CasuPerCent.eps')"
   ]
  },
  {
   "cell_type": "code",
   "execution_count": null,
   "metadata": {
    "collapsed": true
   },
   "outputs": [],
   "source": []
  }
 ],
 "metadata": {
  "kernelspec": {
   "display_name": "Python [default]",
   "language": "python",
   "name": "python3"
  },
  "language_info": {
   "codemirror_mode": {
    "name": "ipython",
    "version": 3
   },
   "file_extension": ".py",
   "mimetype": "text/x-python",
   "name": "python",
   "nbconvert_exporter": "python",
   "pygments_lexer": "ipython3",
   "version": "3.5.4"
  }
 },
 "nbformat": 4,
 "nbformat_minor": 2
}
