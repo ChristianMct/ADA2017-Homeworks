{
 "cells": [
  {
   "cell_type": "code",
   "execution_count": null,
   "metadata": {},
   "outputs": [],
   "source": [
    "import json\n",
    "import sys\n",
    "import pandas as pd\n",
    "import numpy as np\n",
    "import seaborn as sns\n",
    "import matplotlib.pyplot as plt\n",
    "from folium.plugins import HeatMap\n",
    "import folium as fl\n",
    "from datetime import datetime\n",
    "\n",
    "sns.set(style=\"whitegrid\")\n",
    "%matplotlib inline"
   ]
  },
  {
   "cell_type": "code",
   "execution_count": null,
   "metadata": {},
   "outputs": [],
   "source": [
    "battles = pd.DataFrame([json.loads(line) for line in open(\"../datasets/battle-features-1.json\")])\n",
    "battles = battles[battles.start_date.notnull()]\n",
    "battles.fillna(value=\"None\", inplace=True)\n",
    "def get_year(date):\n",
    "    return datetime.strptime(date, \"%Y-%m-%d\").year if date else None\n",
    "\n",
    "def get_duration(battle):\n",
    "    if battle.end_date == \"None\" or battle.end_date==battle.start_date:\n",
    "        return 1\n",
    "    else:\n",
    "        return (datetime.strptime(battle.end_date, \"%Y-%m-%d\") - datetime.strptime(battle.start_date, \"%Y-%m-%d\")).days\n",
    "\n",
    "battles[\"year\"] = battles[\"start_date\"].apply(get_year)\n",
    "\n",
    "battles = battles[(battles.year>=1000) & (battles.year <= 2018)]\n",
    "\n",
    "battles[\"duration\"] = [get_duration(battle) for _, battle in battles.iterrows()]\n",
    "\n",
    "battles[\"log_duration\"] = np.log10(battles.duration)\n",
    "\n",
    "decades = range(int(battles.year.min()), int(battles.year.max())+10, 10)\n",
    "centuries = range(int(battles.year.min()), int(battles.year.max())+100, 100)\n",
    "battles[\"decade\"] = pd.cut(battles[\"year\"], decades, labels=decades[:-1])\n",
    "battles[\"century\"] = pd.cut(battles[\"year\"], centuries, labels=centuries[:-1])"
   ]
  },
  {
   "cell_type": "code",
   "execution_count": null,
   "metadata": {},
   "outputs": [],
   "source": [
    "battles[\"killed\"]=battles.killed_1 + battles.killed_2 + battles.killed_3 + battles.killed_4\n",
    "battles[\"casualties\"]= battles.casualties_1 + battles.casualties_2 + battles.casualties_3 + battles.casualties_4\n",
    "battles.casualties.replace(to_replace=0, value=np.nan, inplace=True)\n",
    "print((battles.casualties == 0).sum())\n",
    "battles[\"log_casualties\"] = np.log10(battles.casualties)\n",
    "battles.log_casualties.plot.hist()"
   ]
  },
  {
   "cell_type": "code",
   "execution_count": null,
   "metadata": {},
   "outputs": [],
   "source": [
    "b = battles.decade.value_counts()\n",
    "fig, ax = plt.subplots(figsize=(10,16))\n",
    "sns.barplot(y=b.index, x=b, color=\"blue\",ax=ax)"
   ]
  },
  {
   "cell_type": "code",
   "execution_count": null,
   "metadata": {},
   "outputs": [],
   "source": [
    "#battles.duration.value_counts().head(100).plot(kind=\"bar\")\n",
    "\n",
    "#sns.distplot(battles.duration)  \n",
    "sns.distplot(battles.log_duration)"
   ]
  },
  {
   "cell_type": "code",
   "execution_count": null,
   "metadata": {
    "scrolled": false
   },
   "outputs": [],
   "source": [
    "fig, ((ax1,ax2), (ax3, ax4)) = plt.subplots(2, 2, figsize=(20,10), sharey=True)\n",
    "sns.set(color_codes=True)\n",
    "\n",
    "\n",
    "bdec = battles.groupby('century').log_duration.mean().dropna()\n",
    "bcent = battles[battles.year >=1900].groupby('decade').log_duration.mean().dropna()\n",
    "byearnow = battles[battles.year >=1997].groupby('year').log_duration.mean().dropna()\n",
    "byearww2 = battles[(battles.year >=1935) & (battles.year <= 1945)].groupby('year').log_duration.mean().dropna()\n",
    "\n",
    "sns.pointplot(x=np.array(bdec.index), y=np.array(bdec), ax=ax1)\n",
    "sns.pointplot(x=np.array(bcent.index), y=np.array(bcent), ax=ax2)\n",
    "sns.pointplot(x=np.array(byearnow.index), y=byearnow, ax=ax3)\n",
    "sns.pointplot(x=np.array(byearww2.index), y=byearww2, ax=ax4)\n",
    "#battles[[\"title\", \"start_date\", \"end_date\", \"duration\"]].sort_values(by=\"duration\", ascending=False)"
   ]
  },
  {
   "cell_type": "code",
   "execution_count": null,
   "metadata": {
    "scrolled": false
   },
   "outputs": [],
   "source": [
    "fig, ((ax1,ax2), (ax3, ax4)) = plt.subplots(2, 2, figsize=(20,10), sharey=True)\n",
    "\n",
    "b = battles\n",
    "\n",
    "cascent = b[b.year > 1000].groupby('century').log_casualties.mean().dropna()\n",
    "casdec = b[b.year > 1900].groupby('decade').log_casualties.mean().dropna()\n",
    "casyear = b[b.year > 1995].groupby('year').log_casualties.mean().dropna()\n",
    "\n",
    "sns.pointplot(x=np.array(cascent.index), y=cascent, ax=ax1)\n",
    "sns.pointplot(x=np.array(casdec.index), y=casdec, ax=ax2)\n",
    "sns.pointplot(x=np.array(casyear.index), y=casyear, ax=ax3)"
   ]
  },
  {
   "cell_type": "code",
   "execution_count": null,
   "metadata": {},
   "outputs": [],
   "source": [
    "fig, ((ax1,ax2), (ax3, ax4)) = plt.subplots(2, 2, figsize=(20,10), sharey=True)\n",
    "\n",
    "\n",
    "battle_inc = battles[((battles.result_combatant_1 == \"\") & (battles.result_combatant_2 == \"\")) | battles.indecisive]\n",
    "\n",
    "inccent = battle_inc.groupby(\"century\").title.count()/battles.groupby(\"century\").title.count()\n",
    "incdec = battle_inc[battle_inc.year > 1900].groupby(\"decade\").title.count()/battles[battles.year > 1900].groupby(\"decade\").title.count()\n",
    "incdec.dropna(inplace=True)\n",
    "\n",
    "incyear = battle_inc[battle_inc.year > 2000].groupby(\"year\").title.count()/battles[battles.year > 1900].groupby(\"year\").title.count()\n",
    "incyear.dropna(inplace=True)\n",
    "\n",
    "sns.pointplot(x=np.array(inccent.index), y=inccent, ax=ax1)\n",
    "sns.pointplot(x=np.array(incdec.index), y=incdec, ax=ax2)\n",
    "sns.pointplot(x=np.array(incyear.index), y=incyear, ax=ax3)"
   ]
  },
  {
   "cell_type": "code",
   "execution_count": null,
   "metadata": {},
   "outputs": [],
   "source": []
  },
  {
   "cell_type": "code",
   "execution_count": null,
   "metadata": {},
   "outputs": [],
   "source": []
  }
 ],
 "metadata": {
  "kernelspec": {
   "display_name": "Python 3",
   "language": "python",
   "name": "python3"
  },
  "language_info": {
   "codemirror_mode": {
    "name": "ipython",
    "version": 3
   },
   "file_extension": ".py",
   "mimetype": "text/x-python",
   "name": "python",
   "nbconvert_exporter": "python",
   "pygments_lexer": "ipython3",
   "version": "3.5.4"
  }
 },
 "nbformat": 4,
 "nbformat_minor": 2
}
