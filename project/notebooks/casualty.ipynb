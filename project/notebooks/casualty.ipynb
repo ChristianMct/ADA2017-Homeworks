{
 "cells": [
  {
   "cell_type": "code",
   "execution_count": null,
   "metadata": {},
   "outputs": [],
   "source": [
    "import os\n",
    "import sys\n",
    "import json\n",
    "import pandas as pd\n",
    "import numpy as np\n",
    "import mwparserfromhell as mw\n",
    "import seaborn as sns\n",
    "import matplotlib.pyplot as plt\n",
    "import re\n",
    "sns.set(style=\"whitegrid\")\n",
    "%matplotlib inline\n",
    "\n",
    "%load_ext autoreload\n",
    "%autoreload 2\n",
    "import processing # this makes the \"processing\" folder available as a python module\n",
    "\n",
    "from features.casualties import get_casualties, get_casualties_line, get_number\n",
    "from utils import remove_ref, get_templates"
   ]
  },
  {
   "cell_type": "code",
   "execution_count": null,
   "metadata": {},
   "outputs": [],
   "source": [
    "battles = json.load(open(\"../datasets/battle-fields-0.json\"))\n",
    "df = pd.DataFrame([b[\"infobox\"] for b in battles if not b[\"infobox\"].get(\"error\")])\n",
    "pattern = re.compile(\"^casualties[0-9]\")\n",
    "df = df[[b for b in df.columns if pattern.match(b)]]"
   ]
  },
  {
   "cell_type": "code",
   "execution_count": null,
   "metadata": {},
   "outputs": [],
   "source": [
    "missed1 = get_casualties(df, df['casualties1'],'1')"
   ]
  },
  {
   "cell_type": "code",
   "execution_count": null,
   "metadata": {},
   "outputs": [],
   "source": [
    "missed2 = get_casualties(df, df['casualties2'],'2')"
   ]
  },
  {
   "cell_type": "code",
   "execution_count": null,
   "metadata": {},
   "outputs": [],
   "source": [
    "missed3 = get_casualties(df, df['casualties3'],'3')"
   ]
  },
  {
   "cell_type": "code",
   "execution_count": null,
   "metadata": {},
   "outputs": [],
   "source": [
    "missed4 = get_casualties(df, df['casualties4'],'4')"
   ]
  },
  {
   "cell_type": "code",
   "execution_count": null,
   "metadata": {},
   "outputs": [],
   "source": [
    "df.to_csv(\"casualties\")"
   ]
  },
  {
   "cell_type": "code",
   "execution_count": null,
   "metadata": {},
   "outputs": [],
   "source": [
    "print(\"For each casualties columns we have \", missed1, \" \", missed2, \" \", missed3, \" \", missed4, \" lines that contain a number but are not parsed.\")\n"
   ]
  },
  {
   "cell_type": "markdown",
   "metadata": {},
   "source": [
    "Which means that almost 100% of the values have been parsed in each column:"
   ]
  },
  {
   "cell_type": "code",
   "execution_count": null,
   "metadata": {},
   "outputs": [],
   "source": [
    "toPlot = {'casualities1': 100-100*missed1/len(df), 'casualities2': 100-(100*missed2/len(df)), 'casualties3':100-(100*missed3/len(df)), 'casualties4':100-(100*missed4/len(df)) }\n",
    "\n",
    "plt.bar(range(len(toPlot)), toPlot.values())\n",
    "plt.title(\"Percent of parsed rows\")\n",
    "plt.xticks(range(len(toPlot)), toPlot.keys())\n",
    "plt.show()"
   ]
  },
  {
   "cell_type": "code",
   "execution_count": null,
   "metadata": {},
   "outputs": [],
   "source": [
    "pd.options.display.max_colwidth = 20\n",
    "df[['casualties1', 'total_1', 'casualties2', 'total_2', 'casualties3', 'total_3', 'casualties4', 'total_4']].head(10)"
   ]
  },
  {
   "cell_type": "markdown",
   "metadata": {},
   "source": [
    "But, we also observe that for a lot of battles, the casualties are not given numerically:"
   ]
  },
  {
   "cell_type": "code",
   "execution_count": null,
   "metadata": {},
   "outputs": [],
   "source": [
    "print(\"Out of \", len(df), \" battles\")\n",
    "df = df.replace(0, np.NaN)\n",
    "print(\"Casualties1 has \", df['total_1'].isnull().sum(), \"null values\")\n",
    "print(\"Casualties2 has \", df['total_2'].isnull().sum(), \"null values\")\n",
    "print(\"Casualties3 has \", df['total_3'].isnull().sum(), \"null values\")\n",
    "print(\"Casualties4 has \", df['total_4'].isnull().sum(), \"null values\")\n",
    "\n",
    "toPlot = {'casualities1': 100-100*df['total_1'].isnull().sum()/len(df), 'casualities2': 100-(100*df['total_2'].isnull().sum()/len(df)), 'casualties3':100-(100*df['total_3'].isnull().sum()/len(df)), 'casualties4':100-(100*df['total_4'].isnull().sum()/len(df)) }\n",
    "\n",
    "plt.bar(range(len(toPlot)), toPlot.values())\n",
    "plt.title(\"Percent of battles with numeric values for casualties\")\n",
    "plt.xticks(range(len(toPlot)), toPlot.keys())\n",
    "plt.show()"
   ]
  },
  {
   "cell_type": "markdown",
   "metadata": {},
   "source": [
    "We also observe that almost 60% of the battles have numeric values for two combatants."
   ]
  },
  {
   "cell_type": "code",
   "execution_count": null,
   "metadata": {},
   "outputs": [],
   "source": [
    "fig = plt.figure()\n",
    "ax1 = fig.add_subplot(111)\n",
    "\n",
    "ax1.scatter(range(len(df)), df['total_1'], c='b', marker=\"s\", label='casualties_1')\n",
    "ax1.scatter(range(len(df)), df['total_2'], c='r', marker=\"o\", label='casualties_2')\n",
    "plt.title(\"Comparison between casualties of different combatants\")\n",
    "plt.legend(loc='upper left');\n",
    "plt.show()"
   ]
  },
  {
   "cell_type": "code",
   "execution_count": null,
   "metadata": {},
   "outputs": [],
   "source": [
    "cbt_1 = np.array(df[\"combatant_1\"].dropna())\n",
    "cbt_2 = np.array(df[\"combatant_2\"].dropna())\n",
    "cbt_3 = np.array(df[\"combatant_3\"].dropna())\n",
    "print(len(cbt_1), len(cbt_2), len(cbt_3))\n",
    "\n",
    "cbt_all = np.concatenate((cbt_1, cbt_2, cbt_3))\n",
    "\n",
    "all_cbt_names = [c for cl in cbt_all for c in cl]\n",
    "names = pd.Series(all_cbt_names)\n",
    "print(len(set(all_cbt_names)))\n",
    "\n",
    "f, ax = plt.subplots(figsize=(6, 15))\n",
    "counts = names.value_counts().sort_values(ascending=False)\n",
    "counts = counts.head(50)\n",
    "sns.barplot(x=counts, y=counts.index, ax=ax)"
   ]
  },
  {
   "cell_type": "code",
   "execution_count": null,
   "metadata": {
    "collapsed": true
   },
   "outputs": [],
   "source": []
  }
 ],
 "metadata": {
  "kernelspec": {
   "display_name": "Python [default]",
   "language": "python",
   "name": "python3"
  },
  "language_info": {
   "codemirror_mode": {
    "name": "ipython",
    "version": 3
   },
   "file_extension": ".py",
   "mimetype": "text/x-python",
   "name": "python",
   "nbconvert_exporter": "python",
   "pygments_lexer": "ipython3",
   "version": "3.5.4"
  }
 },
 "nbformat": 4,
 "nbformat_minor": 2
}
