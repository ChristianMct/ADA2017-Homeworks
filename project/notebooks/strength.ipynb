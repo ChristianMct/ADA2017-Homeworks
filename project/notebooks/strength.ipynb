{
 "cells": [
  {
   "cell_type": "code",
   "execution_count": null,
   "metadata": {},
   "outputs": [],
   "source": [
    "import os\n",
    "import sys\n",
    "import json\n",
    "import pandas as pd\n",
    "import numpy as np\n",
    "import mwparserfromhell as mw\n",
    "import seaborn as sns\n",
    "import matplotlib.pyplot as plt\n",
    "import re\n",
    "sns.set(style=\"whitegrid\")\n",
    "%matplotlib inline\n",
    "\n",
    "%load_ext autoreload\n",
    "%autoreload 2\n",
    "import processing # this makes the \"processing\" folder available as a python module\n",
    "\n",
    "from features.strengths import get_features\n",
    "#from utils import remove_ref, get_templates"
   ]
  },
  {
   "cell_type": "code",
   "execution_count": null,
   "metadata": {
    "collapsed": true
   },
   "outputs": [],
   "source": [
    "battles = json.load(open(\"../datasets/battle-fields-0.json\"))\n",
    "df = pd.DataFrame([b[\"infobox\"] for b in battles if not b[\"infobox\"].get(\"error\")])\n",
    "pattern = re.compile(\"^strength[0-9]\")\n",
    "df = df[[b for b in df.columns if pattern.match(b)]]"
   ]
  },
  {
   "cell_type": "code",
   "execution_count": null,
   "metadata": {
    "collapsed": true
   },
   "outputs": [],
   "source": [
    "missed1 = get_strengths(df, df['strength1'],'1')"
   ]
  },
  {
   "cell_type": "code",
   "execution_count": null,
   "metadata": {
    "collapsed": true
   },
   "outputs": [],
   "source": [
    "missed2 = get_strengths(df, df['strength2'],'2')"
   ]
  },
  {
   "cell_type": "code",
   "execution_count": null,
   "metadata": {
    "collapsed": true
   },
   "outputs": [],
   "source": [
    "missed3 = get_strengths(df, df['strength3'],'3')"
   ]
  },
  {
   "cell_type": "code",
   "execution_count": null,
   "metadata": {
    "collapsed": true
   },
   "outputs": [],
   "source": [
    "df.to_csv(\"stengths\")"
   ]
  },
  {
   "cell_type": "code",
   "execution_count": null,
   "metadata": {
    "collapsed": true
   },
   "outputs": [],
   "source": [
    "print(\"For each strength column we have \", missed1, \" \", missed2, \" \", missed3, \" lines that contain a number but are not parsed.\")"
   ]
  },
  {
   "cell_type": "markdown",
   "metadata": {},
   "source": [
    "Which means that almost 100% of the values have been parsed in each column:"
   ]
  },
  {
   "cell_type": "code",
   "execution_count": null,
   "metadata": {
    "collapsed": true
   },
   "outputs": [],
   "source": [
    "toPlot = {'strength1': 100-100*missed1/len(df), 'strength2': 100-(100*missed2/len(df)), 'strength3':100-(100*missed3/len(df))}\n",
    "\n",
    "plt.bar(range(len(toPlot)), toPlot.values())\n",
    "plt.title(\"Percent of parsed rows\")\n",
    "plt.xticks(range(len(toPlot)), toPlot.keys())\n",
    "plt.show()"
   ]
  },
  {
   "cell_type": "code",
   "execution_count": null,
   "metadata": {
    "collapsed": true
   },
   "outputs": [],
   "source": [
    "pd.options.display.max_colwidth = 200\n",
    "df[['strength1', 'strength_1', 'strength2', 'strength_2', 'strength3', 'strength_3']].head(10)"
   ]
  },
  {
   "cell_type": "markdown",
   "metadata": {},
   "source": [
    "But, we also observe that for a lot of battles, the strengths are not given numerically:"
   ]
  },
  {
   "cell_type": "code",
   "execution_count": null,
   "metadata": {
    "collapsed": true
   },
   "outputs": [],
   "source": [
    "print(\"Out of \", len(df), \" battles\")\n",
    "df = df.replace(0, np.NaN)\n",
    "print(\"Strength1 has \", df['strength_1'].isnull().sum(), \"null values\")\n",
    "print(\"Strength2 has \", df['strength_2'].isnull().sum(), \"null values\")\n",
    "print(\"Strength3 has \", df['strength_3'].isnull().sum(), \"null values\")\n",
    "\n",
    "toPlot = {'strength1': 100-100*df['strength_1'].isnull().sum()/len(df), 'strength2': 100-(100*df['strength_2'].isnull().sum()/len(df)), 'strength3':100-(100*df['strength_3'].isnull().sum()/len(df))}\n",
    "\n",
    "plt.bar(range(len(toPlot)), toPlot.values())\n",
    "plt.title(\"Percent of battles with numeric values for strength\")\n",
    "plt.xticks(range(len(toPlot)), toPlot.keys())\n",
    "plt.show()"
   ]
  },
  {
   "cell_type": "markdown",
   "metadata": {},
   "source": [
    "We also observe that almost 70% of the battles have numeric values for two combatants."
   ]
  },
  {
   "cell_type": "code",
   "execution_count": null,
   "metadata": {},
   "outputs": [],
   "source": [
    "battles = json.load(open(\"../datasets/battle-fields-0.json\"))\n",
    "print(battles[2])\n",
    "print(get_features(battles[2]))"
   ]
  },
  {
   "cell_type": "code",
   "execution_count": null,
   "metadata": {
    "collapsed": true
   },
   "outputs": [],
   "source": []
  }
 ],
 "metadata": {
  "kernelspec": {
   "display_name": "Python [default]",
   "language": "python",
   "name": "python3"
  },
  "language_info": {
   "codemirror_mode": {
    "name": "ipython",
    "version": 3
   },
   "file_extension": ".py",
   "mimetype": "text/x-python",
   "name": "python",
   "nbconvert_exporter": "python",
   "pygments_lexer": "ipython3",
   "version": "3.5.4"
  }
 },
 "nbformat": 4,
 "nbformat_minor": 2
}
