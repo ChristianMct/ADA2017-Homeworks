{
 "cells": [
  {
   "cell_type": "code",
   "execution_count": 47,
   "metadata": {
    "collapsed": true
   },
   "outputs": [],
   "source": [
    "import json\n",
    "import sys\n",
    "import pandas as pd\n",
    "import numpy as np\n",
    "import seaborn as sns\n",
    "import matplotlib.pyplot as plt\n",
    "from folium.plugins import HeatMap\n",
    "import folium as fl\n",
    "import datetime\n",
    "sns.set(style=\"whitegrid\")\n",
    "%matplotlib inline\n",
    "from ipywidgets import *\n",
    "from ipywidgets import interact, interactive, fixed\n",
    "from IPython.display import display\n",
    "#from IPython.html import widgets\n",
    "import ipywidgets as widgets\n"
   ]
  },
  {
   "cell_type": "markdown",
   "metadata": {},
   "source": [
    "We create a dataframe with the relevant battles info"
   ]
  },
  {
   "cell_type": "code",
   "execution_count": 48,
   "metadata": {},
   "outputs": [
    {
     "name": "stderr",
     "output_type": "stream",
     "text": [
      "/Users/margueritedelcourt/anaconda/envs/ada/lib/python3.5/site-packages/ipykernel/__main__.py:8: SettingWithCopyWarning: \n",
      "A value is trying to be set on a copy of a slice from a DataFrame.\n",
      "Try using .loc[row_indexer,col_indexer] = value instead\n",
      "\n",
      "See the caveats in the documentation: http://pandas.pydata.org/pandas-docs/stable/indexing.html#indexing-view-versus-copy\n",
      "/Users/margueritedelcourt/anaconda/envs/ada/lib/python3.5/site-packages/ipykernel/__main__.py:10: SettingWithCopyWarning: \n",
      "A value is trying to be set on a copy of a slice from a DataFrame.\n",
      "Try using .loc[row_indexer,col_indexer] = value instead\n",
      "\n",
      "See the caveats in the documentation: http://pandas.pydata.org/pandas-docs/stable/indexing.html#indexing-view-versus-copy\n"
     ]
    }
   ],
   "source": [
    "battles = pd.DataFrame([json.loads(line) for line in open(\"../datasets/battle-features-0.json\")])\n",
    "btp = battles[['start_date','longitude','latitude','dates_bc','end_date']]\n",
    "btp = btp[pd.notnull(btp['start_date'])]\n",
    "btp = btp[pd.notnull(btp['longitude'])]\n",
    "btp = btp[pd.notnull(btp['latitude'])]\n",
    "\n",
    "btpbc=btp[btp.dates_bc==True]\n",
    "btpbc['year'] = [-datetime.datetime.strptime(date, \"%Y-%m-%d\").year for date in btpbc['start_date']]\n",
    "btpnbc=btp[btp.dates_bc==False]\n",
    "btpnbc['year'] = [datetime.datetime.strptime(date, \"%Y-%m-%d\").year for date in btpnbc['start_date']]\n",
    "btp=btpbc.append(btpnbc)\n",
    "\n",
    "bins = [-2500,-2250,-2000,-1750,-1500,-1250,-1000,-750,-500,-250,0,250,500,750,1000,1250,1500,1750,2000,2250]\n",
    "bins_labels=[-2500,-2250,-2000,-1750,-1500,-1250,-1000,-750,-500,-250,0,250,500,750,1000,1250,1500,1750,2000]\n",
    "lengthbins = [-1,5,10,15,50,100,150,200,500,1000,2000,3000]\n",
    "lengthbins_labels=[0,5,10,15,50,100,150,200,500,1000,2000]\n"
   ]
  },
  {
   "cell_type": "markdown",
   "metadata": {},
   "source": [
    "We plot the available battles we have in our dataset by dates"
   ]
  },
  {
   "cell_type": "code",
   "execution_count": 49,
   "metadata": {
    "scrolled": true
   },
   "outputs": [
    {
     "data": {
      "image/png": "[encoded data removed]",
      "text/plain": [
       "<matplotlib.figure.Figure at 0x117d18d68>"
      ]
     },
     "metadata": {},
     "output_type": "display_data"
    }
   ],
   "source": [
    "X=[datetime.datetime.strptime(date, \"%Y-%m-%d\") for date in btp['start_date']]\n",
    "fig, ax = plt.subplots(figsize=(20,1))\n",
    "ax.scatter(X, [1]*len(X),\n",
    "           marker='|', s=100)\n",
    "\n",
    "ax.yaxis.set_visible(False)\n",
    "ax.spines['right'].set_visible(False)\n",
    "ax.spines['left'].set_visible(False)\n",
    "ax.spines['top'].set_visible(False)\n",
    "ax.xaxis.set_ticks_position('bottom')\n",
    "\n",
    "ax.get_yaxis().set_ticklabels([])\n",
    "day = pd.to_timedelta(\"1\", unit='D')\n",
    "plt.xlim(X[0] - day, X[-1] + day)\n",
    "plt.show()"
   ]
  },
  {
   "cell_type": "markdown",
   "metadata": {},
   "source": [
    "We plot a histogram showing the amount of battles we have in different time intervals"
   ]
  },
  {
   "cell_type": "code",
   "execution_count": 50,
   "metadata": {
    "scrolled": true
   },
   "outputs": [
    {
     "data": {
      "text/plain": [
       "<matplotlib.axes._subplots.AxesSubplot at 0x1177e6208>"
      ]
     },
     "execution_count": 50,
     "metadata": {},
     "output_type": "execute_result"
    },
    {
     "data": {
      "image/png": "[encoded data removed]",
      "text/plain": [
       "<matplotlib.figure.Figure at 0x117d2c940>"
      ]
     },
     "metadata": {},
     "output_type": "display_data"
    }
   ],
   "source": [
    "btpyear=btp.groupby(pd.cut(btp['year'], bins=bins)).year\n",
    "years_count = btpyear.count()\n",
    "years_count.plot(kind='bar')\n"
   ]
  },
  {
   "cell_type": "markdown",
   "metadata": {},
   "source": [
    "We now plot histograms of time duration of battles by time intervals. You can use the scroller to change the time interval to display. Note that in some of them, no battles are found. "
   ]
  },
  {
   "cell_type": "code",
   "execution_count": 51,
   "metadata": {},
   "outputs": [],
   "source": [
    "\n",
    "btp = btp.groupby(pd.cut(btp['year'],bins=bins, labels=bins_labels))[['start_date','end_date','latitude','longitude']]\n",
    "  \n",
    "def plotDurationByPeriod(b):\n",
    "    try:\n",
    "        btpnow = btp.get_group(b)\n",
    "        btpnow['end_date']=btpnow['end_date'].fillna(btpnow['start_date'])\n",
    "        btpnow['start_date'] = btpnow['start_date'].astype('datetime64[ns]')\n",
    "        btpnow['end_date'] = btpnow['end_date'].astype('datetime64[ns]')\n",
    "        length=[]\n",
    "        btpnow=btpnow.reset_index()\n",
    "        for i in range(0,len(btpnow['start_date'])):\n",
    "            #print(pd.Timedelta(btp1.end_date[i]-btp1.start_date[i]))\n",
    "            length+=[pd.Timedelta(btpnow.end_date[i]-btpnow.start_date[i])]\n",
    "        btpnow['length'] = length\n",
    "        btpnow['length']=btpnow['length'].astype('timedelta64[D]')\n",
    "        days=btpnow.groupby(pd.cut(btpnow['length'], bins=lengthbins, labels=lengthbins_labels))['length']\n",
    "        days_count = days.count()\n",
    "        plt.figure(i)\n",
    "        days_count.plot(kind='bar')\n",
    "        plt.title('duration of battles in cluster')\n",
    "    except:\n",
    "        print(\"No battles in time interval\")\n"
   ]
  },
  {
   "cell_type": "code",
   "execution_count": 52,
   "metadata": {},
   "outputs": [
    {
     "data": {
      "application/vnd.jupyter.widget-view+json": {
       "model_id": "bf3c5f9f15ab4d38a142aa1041e86c36",
       "version_major": 2,
       "version_minor": 0
      },
      "text/html": [
       "<p>Failed to display Jupyter Widget of type <code>interactive</code>.</p>\n",
       "<p>\n",
       "  If you're reading this message in the Jupyter Notebook or JupyterLab Notebook, it may mean\n",
       "  that the widgets JavaScript is still loading. If this message persists, it\n",
       "  likely means that the widgets JavaScript library is either not installed or\n",
       "  not enabled. See the <a href=\"https://ipywidgets.readthedocs.io/en/stable/user_install.html\">Jupyter\n",
       "  Widgets Documentation</a> for setup instructions.\n",
       "</p>\n",
       "<p>\n",
       "  If you're reading this message in another frontend (for example, a static\n",
       "  rendering on GitHub or <a href=\"https://nbviewer.jupyter.org/\">NBViewer</a>),\n",
       "  it may mean that your frontend doesn't currently support widgets.\n",
       "</p>\n"
      ],
      "text/plain": [
       "interactive(children=(IntSlider(value=-250, description='b', max=2000, min=-2500, step=250), Output()), _dom_classes=('widget-interact',))"
      ]
     },
     "metadata": {},
     "output_type": "display_data"
    },
    {
     "data": {
      "text/plain": [
       "<function __main__.plotDurationByPeriod>"
      ]
     },
     "execution_count": 52,
     "metadata": {},
     "output_type": "execute_result"
    }
   ],
   "source": [
    "interact(plotDurationByPeriod,b=(-2500,2000,250) )"
   ]
  },
  {
   "cell_type": "markdown",
   "metadata": {},
   "source": [
    "We plot a heatmap of battles by time intervals. Again you may use the scroller to change the time period to display. Some time intervals having no battles to display, it shows an empty map."
   ]
  },
  {
   "cell_type": "code",
   "execution_count": 44,
   "metadata": {
    "collapsed": true
   },
   "outputs": [],
   "source": [
    "def plotHeatMap(b):\n",
    "    try:\n",
    "        battles = btp.get_group(b)\n",
    "        m = fl.Map()\n",
    "        coord_df = battles[[\"latitude\", \"longitude\"]].dropna()\n",
    "        coords = [[lat, long] for lat, long in zip(coord_df[\"latitude\"], coord_df[\"longitude\"])]\n",
    "        HeatMap(coords).add_to(m)\n",
    "        display(m)\n",
    "    except:\n",
    "        m = fl.Map()\n",
    "        display(m)"
   ]
  },
  {
   "cell_type": "code",
   "execution_count": 45,
   "metadata": {},
   "outputs": [
    {
     "data": {
      "application/vnd.jupyter.widget-view+json": {
       "model_id": "20260ec70e124e26b373a5490003848b",
       "version_major": 2,
       "version_minor": 0
      },
      "text/html": [
       "<p>Failed to display Jupyter Widget of type <code>interactive</code>.</p>\n",
       "<p>\n",
       "  If you're reading this message in the Jupyter Notebook or JupyterLab Notebook, it may mean\n",
       "  that the widgets JavaScript is still loading. If this message persists, it\n",
       "  likely means that the widgets JavaScript library is either not installed or\n",
       "  not enabled. See the <a href=\"https://ipywidgets.readthedocs.io/en/stable/user_install.html\">Jupyter\n",
       "  Widgets Documentation</a> for setup instructions.\n",
       "</p>\n",
       "<p>\n",
       "  If you're reading this message in another frontend (for example, a static\n",
       "  rendering on GitHub or <a href=\"https://nbviewer.jupyter.org/\">NBViewer</a>),\n",
       "  it may mean that your frontend doesn't currently support widgets.\n",
       "</p>\n"
      ],
      "text/plain": [
       "interactive(children=(IntSlider(value=-250, description='b', max=2000, min=-2500, step=250), Output()), _dom_classes=('widget-interact',))"
      ]
     },
     "metadata": {},
     "output_type": "display_data"
    },
    {
     "data": {
      "text/plain": [
       "<function __main__.plotHeatMap>"
      ]
     },
     "execution_count": 45,
     "metadata": {},
     "output_type": "execute_result"
    }
   ],
   "source": [
    "interact(plotHeatMap, b=(-2500,2000,250))"
   ]
  }
 ],
 "metadata": {
  "kernelspec": {
   "display_name": "Python [conda env:ada]",
   "language": "python",
   "name": "conda-env-ada-py"
  },
  "language_info": {
   "codemirror_mode": {
    "name": "ipython",
    "version": 3
   },
   "file_extension": ".py",
   "mimetype": "text/x-python",
   "name": "python",
   "nbconvert_exporter": "python",
   "pygments_lexer": "ipython3",
   "version": "3.5.4"
  }
 },
 "nbformat": 4,
 "nbformat_minor": 2
}
