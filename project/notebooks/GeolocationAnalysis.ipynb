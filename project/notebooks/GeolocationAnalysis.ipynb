{
 "cells": [
  {
   "cell_type": "code",
   "execution_count": null,
   "metadata": {
    "collapsed": true
   },
   "outputs": [],
   "source": [
    "import json\n",
    "import sys\n",
    "import pandas as pd\n",
    "import numpy as np\n",
    "import seaborn as sns\n",
    "import matplotlib.pyplot as plt\n",
    "from folium.plugins import HeatMap\n",
    "import folium as fl\n",
    "import datetime\n",
    "sns.set(style=\"whitegrid\")\n",
    "%matplotlib inline\n",
    "from ipywidgets import *\n",
    "from ipywidgets import interact, interactive, fixed\n",
    "from IPython.display import display\n",
    "#from IPython.html import widgets\n",
    "import ipywidgets as widgets\n"
   ]
  },
  {
   "cell_type": "code",
   "execution_count": null,
   "metadata": {},
   "outputs": [],
   "source": [
    "widgets.IntSlider()"
   ]
  },
  {
   "cell_type": "code",
   "execution_count": null,
   "metadata": {
    "collapsed": true
   },
   "outputs": [],
   "source": [
    "battles = pd.DataFrame([json.loads(line) for line in open(\"../datasets/battle-features-0.json\")])"
   ]
  },
  {
   "cell_type": "code",
   "execution_count": null,
   "metadata": {
    "collapsed": true,
    "scrolled": true
   },
   "outputs": [],
   "source": [
    "m = fl.Map()\n",
    "def plotHeatMap(battles,m):\n",
    "    coord_df = battles[[\"latitude\", \"longitude\"]].dropna()\n",
    "    coords = [[lat, long] for lat, long in zip(coord_df[\"latitude\"], coord_df[\"longitude\"])]\n",
    "    HeatMap(coords).add_to(m)\n",
    "    return m"
   ]
  },
  {
   "cell_type": "code",
   "execution_count": null,
   "metadata": {},
   "outputs": [],
   "source": [
    "btp = battles[['start_date','longitude','latitude','dates_bc','end_date']]\n",
    "btp = btp[pd.notnull(btp['start_date'])]\n",
    "btp = btp[pd.notnull(btp['longitude'])]\n",
    "btp = btp[pd.notnull(btp['latitude'])]\n",
    "\n",
    "btpbc=btp[btp.dates_bc==True]\n",
    "btpbc['year'] = [-datetime.datetime.strptime(date, \"%Y-%m-%d\").year for date in btpbc['start_date']]\n",
    "btpnbc=btp[btp.dates_bc==False]\n",
    "btpnbc['year'] = [datetime.datetime.strptime(date, \"%Y-%m-%d\").year for date in btpnbc['start_date']]\n",
    "btp=btpbc.append(btpnbc)\n",
    "\n",
    "X=[datetime.datetime.strptime(date, \"%Y-%m-%d\") for date in btp['start_date']]\n",
    "fig, ax = plt.subplots(figsize=(20,1))\n",
    "ax.scatter(X, [1]*len(X),\n",
    "           marker='|', s=100)\n",
    "\n",
    "ax.yaxis.set_visible(False)\n",
    "ax.spines['right'].set_visible(False)\n",
    "ax.spines['left'].set_visible(False)\n",
    "ax.spines['top'].set_visible(False)\n",
    "ax.xaxis.set_ticks_position('bottom')\n",
    "\n",
    "ax.get_yaxis().set_ticklabels([])\n",
    "day = pd.to_timedelta(\"1\", unit='D')\n",
    "plt.xlim(X[0] - day, X[-1] + day)\n",
    "plt.show()"
   ]
  },
  {
   "cell_type": "code",
   "execution_count": null,
   "metadata": {},
   "outputs": [],
   "source": [
    "bins = [-2500,-1000,-500,-250,0,250,500,750,1000,1250,1500,1750,2000,2250]\n",
    "bins_labels=[-2500,-1000,-500,-250,0,250,500,750,1000,1250,1500,1750,2000]\n",
    "btpyear=btp.groupby(pd.cut(btp['year'], bins=bins)).year\n",
    "years_count = btpyear.count()\n",
    "years_count.plot(kind='bar')\n"
   ]
  },
  {
   "cell_type": "code",
   "execution_count": null,
   "metadata": {},
   "outputs": [],
   "source": [
    "lengthbins = [-1,5,10,15,50,100,150,200,500,1000,2000,3000]\n",
    "lengthbins_labels=[0,5,10,15,50,100,150,200,500,1000,2000]\n",
    "\n",
    "days=br.groupby(pd.cut(br['length'], bins=lengthbins, labels=lengthbins_labels))['length']\n",
    "days_count = days.count()\n",
    "days_count.plot(kind='bar')"
   ]
  },
  {
   "cell_type": "code",
   "execution_count": null,
   "metadata": {
    "collapsed": true,
    "scrolled": false
   },
   "outputs": [],
   "source": [
    "\n",
    "btp = btp.groupby(pd.cut(btp['year'],bins=bins, labels=bins_labels))[['start_date','end_date','latitude','longitude']]\n",
    "  \n",
    "btp1 = btp.get_group(-2500)\n",
    "btp2 = btp.get_group(-1000)\n",
    "btp3 = btp.get_group(-500)\n",
    "btp4 = btp.get_group(-250)\n",
    "btp5 = btp.get_group(0)\n",
    "btp6 = btp.get_group(250)\n",
    "btp7 = btp.get_group(500)\n",
    "btp8 = btp.get_group(750)\n",
    "btp9 = btp.get_group(1000)\n",
    "btp10 = btp.get_group(1250)\n",
    "btp11 = btp.get_group(1500)\n",
    "btp12 = btp.get_group(1750)\n",
    "btp13 = btp.get_group(2000)\n"
   ]
  },
  {
   "cell_type": "code",
   "execution_count": null,
   "metadata": {
    "collapsed": true
   },
   "outputs": [],
   "source": [
    "m = fl.Map()\n",
    "m= plotHeatMap(btp1,m)\n",
    "m"
   ]
  },
  {
   "cell_type": "code",
   "execution_count": null,
   "metadata": {
    "collapsed": true,
    "scrolled": true
   },
   "outputs": [],
   "source": [
    "m = fl.Map()\n",
    "m= plotHeatMap(btp2,m)\n",
    "m"
   ]
  },
  {
   "cell_type": "code",
   "execution_count": null,
   "metadata": {
    "collapsed": true
   },
   "outputs": [],
   "source": [
    "m = fl.Map()\n",
    "m= plotHeatMap(btp3,m)\n",
    "m"
   ]
  },
  {
   "cell_type": "code",
   "execution_count": null,
   "metadata": {
    "collapsed": true
   },
   "outputs": [],
   "source": [
    "m = fl.Map()\n",
    "m= plotHeatMap(btp4,m)\n",
    "m"
   ]
  },
  {
   "cell_type": "code",
   "execution_count": null,
   "metadata": {
    "collapsed": true
   },
   "outputs": [],
   "source": [
    "m = fl.Map()\n",
    "m= plotHeatMap(btp5,m)\n",
    "m"
   ]
  },
  {
   "cell_type": "code",
   "execution_count": null,
   "metadata": {
    "collapsed": true
   },
   "outputs": [],
   "source": [
    "m = fl.Map()\n",
    "m= plotHeatMap(btp6,m)\n",
    "m"
   ]
  },
  {
   "cell_type": "code",
   "execution_count": null,
   "metadata": {
    "collapsed": true
   },
   "outputs": [],
   "source": [
    "m = fl.Map()\n",
    "m= plotHeatMap(btp7,m)\n",
    "m"
   ]
  },
  {
   "cell_type": "code",
   "execution_count": null,
   "metadata": {
    "collapsed": true
   },
   "outputs": [],
   "source": [
    "m = fl.Map()\n",
    "m= plotHeatMap(btp8,m)\n",
    "m"
   ]
  },
  {
   "cell_type": "code",
   "execution_count": null,
   "metadata": {
    "collapsed": true
   },
   "outputs": [],
   "source": [
    "m = fl.Map()\n",
    "m= plotHeatMap(btp9,m)\n",
    "m"
   ]
  },
  {
   "cell_type": "code",
   "execution_count": null,
   "metadata": {
    "collapsed": true
   },
   "outputs": [],
   "source": [
    "m = fl.Map()\n",
    "m= plotHeatMap(btp10,m)\n",
    "m"
   ]
  },
  {
   "cell_type": "code",
   "execution_count": null,
   "metadata": {
    "collapsed": true
   },
   "outputs": [],
   "source": [
    "m = fl.Map()\n",
    "m= plotHeatMap(btp11,m)\n",
    "m"
   ]
  },
  {
   "cell_type": "code",
   "execution_count": null,
   "metadata": {
    "collapsed": true
   },
   "outputs": [],
   "source": [
    "m = fl.Map()\n",
    "m= plotHeatMap(btp12,m)\n",
    "m"
   ]
  },
  {
   "cell_type": "code",
   "execution_count": null,
   "metadata": {
    "collapsed": true
   },
   "outputs": [],
   "source": [
    "m = fl.Map()\n",
    "m= plotHeatMap(btp13,m)\n",
    "m"
   ]
  },
  {
   "cell_type": "code",
   "execution_count": null,
   "metadata": {
    "scrolled": false
   },
   "outputs": [],
   "source": [
    "clusters=[btp5,btp6,btp7,btp8,btp9,btp10,btp11,btp12,btp13]\n",
    "clustersbc=[btp1,btp2,btp3,btp4] #none of these clusters have end_date values so all battles BC are considered to have lasted only on a day\n",
    "lengthbins = [-1,5,10,15,50,100,150,200,500,1000,2000,3000]\n",
    "lengthbins_labels=[0,5,10,15,50,100,150,200,500,1000,2000]\n",
    " \n",
    "newCluster=[]\n",
    "for b in clusters:\n",
    "    b['end_date']=b['end_date'].fillna(b['start_date'])\n",
    "    b['start_date'] = b['start_date'].astype('datetime64[ns]')\n",
    "    b['end_date'] = b['end_date'].astype('datetime64[ns]')\n",
    "    length=[]\n",
    "    b=b.reset_index()\n",
    "    for i in range(0,len(b['start_date'])):\n",
    "        #print(pd.Timedelta(btp1.end_date[i]-btp1.start_date[i]))\n",
    "        length+=[pd.Timedelta(b.end_date[i]-b.start_date[i])]\n",
    "    b['length'] = length\n",
    "    b['length']=b['length'].astype('timedelta64[D]')\n",
    "    newCluster+=[b]\n",
    "    "
   ]
  },
  {
   "cell_type": "code",
   "execution_count": null,
   "metadata": {},
   "outputs": [],
   "source": [
    "def plotDurationByPeriod(b):\n",
    "    days=b.groupby(pd.cut(b['length'], bins=lengthbins, labels=lengthbins_labels))['length']\n",
    "    days_count = days.count()\n",
    "    plt.figure(i)\n",
    "    days_count.plot(kind='bar')\n",
    "    plt.title('duration of battles in cluster')\n",
    "\n",
    "interact(plotDurationByPeriod, b)"
   ]
  },
  {
   "cell_type": "code",
   "execution_count": null,
   "metadata": {
    "scrolled": true
   },
   "outputs": [],
   "source": [
    "plotDurationByPeriod(b=btp5)"
   ]
  },
  {
   "cell_type": "code",
   "execution_count": null,
   "metadata": {},
   "outputs": [],
   "source": [
    "btp5"
   ]
  },
  {
   "cell_type": "code",
   "execution_count": null,
   "metadata": {},
   "outputs": [],
   "source": [
    "\n",
    "btp = battles[['start_date','longitude','latitude','dates_bc','end_date']]\n",
    "btp = btp[pd.notnull(btp['start_date'])]\n",
    "btp = btp[pd.notnull(btp['longitude'])]\n",
    "btp = btp[pd.notnull(btp['latitude'])]\n",
    "\n",
    "btpbc=btp[btp.dates_bc==True]\n",
    "btpbc['year'] = [-datetime.datetime.strptime(date, \"%Y-%m-%d\").year for date in btpbc['start_date']]\n",
    "btpnbc=btp[btp.dates_bc==False]\n",
    "btpnbc['year'] = [datetime.datetime.strptime(date, \"%Y-%m-%d\").year for date in btpnbc['start_date']]\n",
    "btp=btpbc.append(btpnbc)\n",
    "\n",
    "bins = [-2500,-1000,-500,-250,0,250,500,750,1000,1250,1500,1750,2000,2250]\n",
    "bins_labels=[-2500,-1000,-500,-250,0,250,500,750,1000,1250,1500,1750,2000]\n",
    "lengthbins = [-1,5,10,15,50,100,150,200,500,1000,2000,3000]\n",
    "lengthbins_labels=[0,5,10,15,50,100,150,200,500,1000,2000]\n",
    "btp = btp.groupby(pd.cut(btp['year'],bins=bins, labels=bins_labels))[['start_date','end_date','latitude','longitude']]\n",
    "  \n",
    "def function(b):\n",
    "    btpnow = btp.get_group(b)\n",
    "    btpnow['end_date']=btpnow['end_date'].fillna(btpnow['start_date'])\n",
    "    btpnow['start_date'] = btpnow['start_date'].astype('datetime64[ns]')\n",
    "    btpnow['end_date'] = btpnow['end_date'].astype('datetime64[ns]')\n",
    "    length=[]\n",
    "    btpnow=btpnow.reset_index()\n",
    "    for i in range(0,len(btpnow['start_date'])):\n",
    "        #print(pd.Timedelta(btp1.end_date[i]-btp1.start_date[i]))\n",
    "        length+=[pd.Timedelta(btpnow.end_date[i]-btpnow.start_date[i])]\n",
    "    btpnow['length'] = length\n",
    "    btpnow['length']=btpnow['length'].astype('timedelta64[D]')\n",
    "    days=btpnow.groupby(pd.cut(btpnow['length'], bins=lengthbins, labels=lengthbins_labels))['length']\n",
    "    days_count = days.count()\n",
    "    plt.figure(i)\n",
    "    days_count.plot(kind='bar')\n",
    "    plt.title('duration of battles in cluster')\n"
   ]
  },
  {
   "cell_type": "code",
   "execution_count": null,
   "metadata": {},
   "outputs": [],
   "source": [
    "interact(function,b=(0,2000,250) )"
   ]
  },
  {
   "cell_type": "code",
   "execution_count": null,
   "metadata": {},
   "outputs": [],
   "source": [
    "def f(x):\n",
    "    print(x)\n",
    "widget = interact(f,x=10)\n",
    "display(widget)"
   ]
  },
  {
   "cell_type": "code",
   "execution_count": null,
   "metadata": {
    "collapsed": true
   },
   "outputs": [],
   "source": []
  }
 ],
 "metadata": {
  "kernelspec": {
   "display_name": "Python [conda env:ada]",
   "language": "python",
   "name": "conda-env-ada-py"
  },
  "language_info": {
   "codemirror_mode": {
    "name": "ipython",
    "version": 3
   },
   "file_extension": ".py",
   "mimetype": "text/x-python",
   "name": "python",
   "nbconvert_exporter": "python",
   "pygments_lexer": "ipython3",
   "version": "3.5.4"
  }
 },
 "nbformat": 4,
 "nbformat_minor": 2
}
