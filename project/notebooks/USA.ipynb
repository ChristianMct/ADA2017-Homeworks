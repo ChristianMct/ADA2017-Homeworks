{
 "cells": [
  {
   "cell_type": "code",
   "execution_count": null,
   "metadata": {
    "collapsed": true
   },
   "outputs": [],
   "source": [
    "import json\n",
    "import sys\n",
    "import os\n",
    "import pandas as pd\n",
    "import numpy as np\n",
    "import seaborn as sns\n",
    "import matplotlib.pyplot as plt\n",
    "sns.set(style=\"whitegrid\")\n",
    "%matplotlib inline\n",
    "from datetime import datetime"
   ]
  },
  {
   "cell_type": "code",
   "execution_count": null,
   "metadata": {},
   "outputs": [],
   "source": [
    "battles = pd.DataFrame([json.loads(line) for line in open(\"../datasets/battle-features-0.json\")])"
   ]
  },
  {
   "cell_type": "code",
   "execution_count": null,
   "metadata": {},
   "outputs": [],
   "source": [
    "df = pd.DataFrame(battles).replace(0, np.NaN)\n",
    "pd.options.display.max_colwidth = 200\n",
    "df[['combatant_list_1','combatant_list_2']].head()"
   ]
  },
  {
   "cell_type": "code",
   "execution_count": null,
   "metadata": {
    "collapsed": true
   },
   "outputs": [],
   "source": [
    "def find_subtext(df, txt):\n",
    "    contains = df.stack().str.contains(txt).unstack()\n",
    "    return contains[contains.any(1)].idxmax(1)\n",
    "\n",
    "def get_duration(battle):\n",
    "    if battle.end_date == \"None\":\n",
    "        return 1\n",
    "    else:\n",
    "        return (datetime.strptime(battle.end_date, \"%Y-%m-%d\") - datetime.strptime(battle.start_date, \"%Y-%m-%d\")).days\n",
    "\n",
    "\n",
    "def get_year(date):\n",
    "    return datetime.strptime(date, \"%Y-%m-%d\").year if date else None"
   ]
  },
  {
   "cell_type": "code",
   "execution_count": null,
   "metadata": {},
   "outputs": [],
   "source": [
    "cols_comba = ['combatant_first_1', 'combatant_first_2', 'combatant_list_1', 'combatant_list_2', 'combatant_list_3']\n",
    "\n",
    "df = df[battles.start_date.notnull()]\n",
    "df = df.assign(isUSA=find_subtext(df, 'United States'))\n",
    "df = df[df.start_date.notnull() & df.isUSA.notnull()]\n",
    "df.fillna(value=\"None\", inplace=True)\n",
    "\n",
    "df[\"year\"] = df[\"start_date\"].apply(get_year)\n",
    "\n",
    "df = df[(df.year>=1000) & (df.year <= 2018)]\n",
    "\n",
    "df[\"duration\"] = [get_duration(battle) for _, battle in df.iterrows()]\n",
    "decades = range(int(df.year.min()), int(df.year.max())+10, 10)\n",
    "centuries = range(int(df.year.min()), int(df.year.max())+100, 100)\n",
    "df[\"decade\"] = pd.cut(df[\"year\"], decades)\n",
    "df[\"century\"] = pd.cut(df[\"year\"], centuries)\n",
    "\n",
    "df = df[(df.duration<=100)]\n",
    "\n",
    "df_USAFights = df\n",
    "df_USAFights[['combatant_first_1','combatant_first_2','isUSA']].head()\n",
    "for i,v in enumerate(df['duration']):\n",
    "    for j in range(1,v+1):\n",
    "        df_USAFights = df_USAFights.append({'year': int(df.iloc[i]['year'])+1}, ignore_index=True)\n",
    "        \n",
    "X = df_USAFights[\"year\"]\n",
    "fig, ax = plt.subplots(figsize=(20,1))\n",
    "ax.scatter(X, [1]*len(X),\n",
    "           marker='|',linewidth=10, s=100)\n",
    "\n",
    "ax.yaxis.set_visible(False)\n",
    "ax.spines['right'].set_visible(False)\n",
    "ax.spines['left'].set_visible(False)\n",
    "ax.spines['top'].set_visible(False)\n",
    "ax.xaxis.set_ticks_position('bottom')\n",
    "\n",
    "ax.get_yaxis().set_ticklabels([])\n",
    "day = pd.to_timedelta(\"1\", unit='D')\n",
    "plt.xlim(1750, 2018)\n",
    "plt.show()"
   ]
  },
  {
   "cell_type": "code",
   "execution_count": null,
   "metadata": {},
   "outputs": [],
   "source": [
    "couts = dict()\n",
    "for i,v in enumerate(df['combatant_list_1']):\n",
    "    tmp = list()\n",
    "    tmp.append(v)\n",
    "    tmp.append(df.iloc[i]['combatant_list_2'])\n",
    "    tmp.append(df.iloc[i]['combatant_list_3'])\n",
    "    for j,w in enumerate(tmp):\n",
    "        for k,x in enumerate(w):\n",
    "            if x in couts:\n",
    "                couts[x] += int(df.iloc[i]['duration'])\n",
    "            else:\n",
    "                couts[x] = int(df.iloc[i]['duration'])\n",
    "\n",
    "#df[['combatant_list_1', 'combatant_list_2', 'combatant_list_3']].head(100)\n",
    "import operator\n",
    "sorted_couts = sorted(couts.items(), key=operator.itemgetter(1), reverse=True)\n",
    "key, value = zip(*sorted_couts[0:20])\n",
    "#indices = np.arange(len(key))\n",
    "#plt.bar(indices, value, color='g')\n",
    "#plt.xticks(indices, key)\n",
    "sns.barplot(y=key, x=value, color=\"blue\")\n",
    "#plt.show()"
   ]
  },
  {
   "cell_type": "code",
   "execution_count": null,
   "metadata": {
    "collapsed": true
   },
   "outputs": [],
   "source": []
  },
  {
   "cell_type": "code",
   "execution_count": null,
   "metadata": {
    "collapsed": true
   },
   "outputs": [],
   "source": []
  }
 ],
 "metadata": {
  "kernelspec": {
   "display_name": "Python [conda root]",
   "language": "python",
   "name": "conda-root-py"
  },
  "language_info": {
   "codemirror_mode": {
    "name": "ipython",
    "version": 3
   },
   "file_extension": ".py",
   "mimetype": "text/x-python",
   "name": "python",
   "nbconvert_exporter": "python",
   "pygments_lexer": "ipython3",
   "version": "3.6.1"
  }
 },
 "nbformat": 4,
 "nbformat_minor": 2
}
