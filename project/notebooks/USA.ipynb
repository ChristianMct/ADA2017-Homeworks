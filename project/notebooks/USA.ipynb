{
 "cells": [
  {
   "cell_type": "code",
   "execution_count": null,
   "metadata": {
    "collapsed": true
   },
   "outputs": [],
   "source": [
    "import json\n",
    "import sys\n",
    "import os\n",
    "import pandas as pd\n",
    "import numpy as np\n",
    "import seaborn as sns\n",
    "import matplotlib.pyplot as plt\n",
    "import re\n",
    "import operator\n",
    "sns.set(style=\"whitegrid\")\n",
    "%matplotlib inline\n",
    "from datetime import datetime"
   ]
  },
  {
   "cell_type": "code",
   "execution_count": null,
   "metadata": {
    "collapsed": true
   },
   "outputs": [],
   "source": [
    "battles = pd.DataFrame([json.loads(line) for line in open(\"../datasets/battle-features-1.json\")])"
   ]
  },
  {
   "cell_type": "code",
   "execution_count": null,
   "metadata": {
    "collapsed": true
   },
   "outputs": [],
   "source": [
    "FOLDER = \"../report/figures/\""
   ]
  },
  {
   "cell_type": "code",
   "execution_count": null,
   "metadata": {},
   "outputs": [],
   "source": [
    "df = pd.DataFrame(battles).replace(0, np.NaN)\n",
    "pd.options.display.max_colwidth = 200\n",
    "df[['combatant_list_1','combatant_list_2']].head()"
   ]
  },
  {
   "cell_type": "code",
   "execution_count": null,
   "metadata": {
    "collapsed": true
   },
   "outputs": [],
   "source": [
    "def find_subtext(df, txt):\n",
    "    contains = df.stack().str.contains(txt).unstack()\n",
    "    return contains[contains.any(1)].idxmax(1)\n",
    "\n",
    "def get_duration(battle):\n",
    "    if battle.end_date == \"None\":\n",
    "        return 1\n",
    "    else:\n",
    "        return (datetime.strptime(battle.end_date, \"%Y-%m-%d\") - datetime.strptime(battle.start_date, \"%Y-%m-%d\")).days\n",
    "\n",
    "\n",
    "def get_year(date):\n",
    "    return datetime.strptime(date, \"%Y-%m-%d\").year if date else None"
   ]
  },
  {
   "cell_type": "code",
   "execution_count": null,
   "metadata": {},
   "outputs": [],
   "source": [
    "df = df[battles.start_date.notnull()]\n",
    "df.fillna(value=\"None\", inplace=True)\n",
    "\n",
    "df[\"year\"] = df[\"start_date\"].apply(get_year)\n",
    "\n",
    "df = df[(df.year>=1000) & (df.year <= 2018)]\n",
    "\n",
    "df[\"duration\"] = [get_duration(battle) for _, battle in df.iterrows()]"
   ]
  },
  {
   "cell_type": "code",
   "execution_count": null,
   "metadata": {},
   "outputs": [],
   "source": [
    "df_USAFights = df\n",
    "df_USAFights = df_USAFights.assign(isUSA=find_subtext(df_USAFights, '(United States|USA|Confederate|CSA)'))\n",
    "df_USAFights = df_USAFights[df_USAFights.start_date.notnull() & df_USAFights.isUSA.notnull()]\n",
    "for i,v in enumerate(df_USAFights['duration']):\n",
    "    years = 1\n",
    "    if v > 365:\n",
    "        years = int(v/365)+1\n",
    "    for j in range(1,years+1):\n",
    "        df_USAFights = df_USAFights.append({'year': int(df_USAFights.iloc[i]['year'])+1}, ignore_index=True)\n",
    "        \n",
    "X = df_USAFights[\"year\"]\n",
    "fig, ax = plt.subplots(figsize=(20,3))\n",
    "ax.scatter(X, [1]*len(X),\n",
    "           marker='|',linewidth=5, s=1000)\n",
    "\n",
    "ax.yaxis.set_visible(False)\n",
    "ax.spines['right'].set_visible(False)\n",
    "ax.spines['left'].set_visible(False)\n",
    "ax.spines['top'].set_visible(False)\n",
    "ax.xaxis.set_ticks_position('bottom')\n",
    "ax.xaxis.set_label('Year')\n",
    "ax.set_xlabel('Year', fontsize=25)\n",
    "ax.tick_params(labelsize=25)\n",
    "ax.get_yaxis().set_ticklabels([])\n",
    "plt.xlim(1750, 2018)\n",
    "plt.show()\n",
    "fig.savefig(FOLDER+'USAFighting.eps', bbox_inches='tight')"
   ]
  },
  {
   "cell_type": "code",
   "execution_count": null,
   "metadata": {},
   "outputs": [],
   "source": [
    "print(\"The USA spent \", len(X.value_counts(), \" years in which they were involved in at least one battle\"))"
   ]
  },
  {
   "cell_type": "code",
   "execution_count": null,
   "metadata": {},
   "outputs": [],
   "source": [
    "count = dict()\n",
    "countModern = dict()\n",
    "for i,v in enumerate(df['combatant_list_1']):\n",
    "    combatants = list()\n",
    "    combatants.append(v)\n",
    "    combatants.append(df.iloc[i]['combatant_list_2'])\n",
    "    combatants.append(df.iloc[i]['combatant_list_3'])\n",
    "    for j,w in enumerate(combatants):\n",
    "        for k,x in enumerate(w):\n",
    "            if x == 'USA' or x=='Confederate States' or x == 'CSA (Confederacy)' :\n",
    "                x = 'United States'\n",
    "            if x == 'Kingdom of France':\n",
    "                x = 'France'\n",
    "            x = re.sub('(Flag of|.svg|.png)', '', x)\n",
    "            \n",
    "            if x in count:\n",
    "                count[x] += int(df.iloc[i]['duration'])\n",
    "            else:\n",
    "                count[x] = int(df.iloc[i]['duration'])\n",
    "\n",
    "            if df.iloc[i]['year'] > 1775: \n",
    "                if x in countModern:\n",
    "                    countModern[x] += int(df.iloc[i]['duration'])\n",
    "                else:\n",
    "                    countModern[x] = int(df.iloc[i]['duration'])\n",
    "for k in count.keys():\n",
    "    count[k] = int(count[k])/365\n",
    "sorted_count = sorted(count.items(), key=operator.itemgetter(1), reverse=True)\n",
    "\n",
    "for kModern in countModern.keys():\n",
    "    countModern[kModern] = int(countModern[kModern])/365\n",
    "sorted_countModern = sorted(countModern.items(), key=operator.itemgetter(1), reverse=True)\n",
    "\n",
    "key, value = zip(*sorted_count[0:10])\n",
    "fig, ax1 = plt.subplots(figsize=(3,2.5))\n",
    "ax1 = sns.barplot(y=list(key), x=list(value), color=\"blue\")\n",
    "ax1.set_xlabel(\"Years of Battles\", fontsize=15)\n",
    "ax1.tick_params(labelsize=12)\n",
    "fig.savefig('YearsFightingRanking.eps', bbox_inches='tight')\n",
    "\n",
    "keyModern, valueModern = zip(*sorted_countModern[0:10])\n",
    "figModern, ax1 = plt.subplots(figsize=(3,2.5))\n",
    "ax1 = sns.barplot(y=list(keyModern), x=list(valueModern), color=\"blue\")\n",
    "ax1.set_xlabel(\"Years of Battles after 1776\", fontsize=15)\n",
    "ax1.tick_params(labelsize=12)\n",
    "figModern.savefig('YearsFightingRankingModern.eps', bbox_inches='tight')"
   ]
  },
  {
   "cell_type": "code",
   "execution_count": null,
   "metadata": {},
   "outputs": [],
   "source": [
    "%run ../processing/features_extraction.py '../datasets/battle-fields-1.json' '../datasets/battle-features-2.json'"
   ]
  },
  {
   "cell_type": "code",
   "execution_count": null,
   "metadata": {
    "collapsed": true
   },
   "outputs": [],
   "source": []
  }
 ],
 "metadata": {
  "kernelspec": {
   "display_name": "Python [default]",
   "language": "python",
   "name": "python3"
  },
  "language_info": {
   "codemirror_mode": {
    "name": "ipython",
    "version": 3
   },
   "file_extension": ".py",
   "mimetype": "text/x-python",
   "name": "python",
   "nbconvert_exporter": "python",
   "pygments_lexer": "ipython3",
   "version": "3.5.4"
  }
 },
 "nbformat": 4,
 "nbformat_minor": 2
}
