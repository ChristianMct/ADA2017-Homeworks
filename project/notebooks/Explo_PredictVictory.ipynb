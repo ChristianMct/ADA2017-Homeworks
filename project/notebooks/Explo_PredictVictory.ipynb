{
 "cells": [
  {
   "cell_type": "code",
   "execution_count": null,
   "metadata": {
    "collapsed": true
   },
   "outputs": [],
   "source": [
    "import json\n",
    "import sys\n",
    "import pandas as pd\n",
    "import numpy as np\n",
    "import seaborn as sns\n",
    "import matplotlib.pyplot as plt\n",
    "from sklearn import linear_model\n",
    "from sklearn.datasets import fetch_20newsgroups\n",
    "from pprint import pprint\n",
    "from sklearn.feature_extraction.text import TfidfVectorizer\n",
    "from sklearn.model_selection import train_test_split\n",
    "from sklearn.ensemble import RandomForestClassifier\n",
    "from sklearn import metrics\n",
    "from sklearn.metrics import confusion_matrix\n",
    "import itertools\n",
    "from sklearn.feature_extraction.text import CountVectorizer\n",
    "sns.set(style=\"whitegrid\")\n",
    "%matplotlib inline"
   ]
  },
  {
   "cell_type": "code",
   "execution_count": null,
   "metadata": {
    "collapsed": true
   },
   "outputs": [],
   "source": [
    "def densplot(columns, xlabel, title, axo):\n",
    "    for i,v in enumerate(columns):\n",
    "        sns.distplot(v, ax=axo, kde_kws={\"label\": i})\n",
    "    axo.set_title(title)\n",
    "    axo.set_xlabel(xlabel, fontsize=12)\n",
    "    \n",
    "def scatplot(xelem, yelem, xlabel, ylabel, title, axo, polyfit=None, xlim=None, ylim=None):\n",
    "    axo.scatter(xelem, yelem)\n",
    "    if polyfit:\n",
    "        axo.plot(np.unique(xelem), np.poly1d(np.polyfit(xelem, yelem, polyfit))(np.unique(xelem)), 'C2')\n",
    "    if xlim:\n",
    "        axo.set_xlim(0,xlim)\n",
    "    if ylim:\n",
    "        axo.set_ylim(0,ylim)\n",
    "    axo.set_title(title)\n",
    "    axo.set_xlabel(xlabel, fontsize=12)\n",
    "    axo.set_ylabel(ylabel, fontsize=12)"
   ]
  },
  {
   "cell_type": "raw",
   "metadata": {},
   "source": []
  },
  {
   "cell_type": "code",
   "execution_count": null,
   "metadata": {},
   "outputs": [],
   "source": [
    "battles = pd.DataFrame([json.loads(line) for line in open(\"../datasets/battle-features-0.json\")])\n",
    "print(battles.columns)\n",
    "features = [\"casualties_1\", \"casualties_2\",'strength_1', 'strength_2']\n",
    "results_features = ['result_combatant_1', 'result_combatant_2'] \n",
    "battles[features].head()"
   ]
  },
  {
   "cell_type": "markdown",
   "metadata": {},
   "source": [
    "We create one column victory which will be '0' if combatant_1 won and '1' if combatant_2"
   ]
  },
  {
   "cell_type": "code",
   "execution_count": null,
   "metadata": {},
   "outputs": [],
   "source": [
    "battlesWithResult = battles.loc[(battles['result_combatant_1'] != '') | (battles['result_combatant_2'] != '')]\n",
    "battlesWithResult[\"win\"] = 0\n",
    "results_features.append('win')\n",
    "y = ['win']\n",
    "battlesWithResult.loc[(battlesWithResult[\"result_combatant_1\"].str.contains('icto')),'win'] = 1\n",
    "battlesWithResult.head()[results_features]\n"
   ]
  },
  {
   "cell_type": "code",
   "execution_count": null,
   "metadata": {},
   "outputs": [],
   "source": [
    "X = pd.get_dummies(battlesWithResult[features]) #needed if we use categorical\n",
    "X.head()"
   ]
  },
  {
   "cell_type": "code",
   "execution_count": null,
   "metadata": {},
   "outputs": [],
   "source": [
    "#We seperate the training dataset from the rest, as a result we obtain the TF-IDF vectors belonging \n",
    "#to the training vectors as well as their corresponding label, namely the nesgroups targets. \n",
    "#We choose to use random_state=None as it means it will use np.random thus the training set is picked randomly.\n",
    "labels_training,\\\n",
    "labels_tmp,\\\n",
    "vectors_training,\\\n",
    "vectors_tmp= train_test_split(battlesWithResult[features], battlesWithResult['win'], test_size=0.2, random_state=None)\n",
    "\n",
    "#We now seperate the tmp set with corresponding labels randomly in half to obtain the testing and validation sets\n",
    "labels_testing,\\\n",
    "labels_validation,\\\n",
    "vectors_testing,\\\n",
    "vectors_validation = train_test_split(labels_tmp, vectors_tmp, test_size=0.1, random_state=None)"
   ]
  },
  {
   "cell_type": "code",
   "execution_count": null,
   "metadata": {},
   "outputs": [],
   "source": [
    "clf = RandomForestClassifier()"
   ]
  },
  {
   "cell_type": "code",
   "execution_count": null,
   "metadata": {},
   "outputs": [],
   "source": [
    "def grid_search(n_estimators_list, max_depth_list):\n",
    "    score=0\n",
    "    final_depth=0\n",
    "    final_estimator=0\n",
    "    for depth in max_depth_list:\n",
    "        for n_estim in n_estimators_list:\n",
    "            classifier=RandomForestClassifier(max_depth=depth, n_estimators=n_estim, n_jobs=-1, random_state=None)\n",
    "            classifier.fit(vectors_training, labels_training)\n",
    "            prediction = classifier.predict(vectors_validation)\n",
    "            scoring = metrics.accuracy_score(labels_validation, prediction)\n",
    "            if scoring > score:\n",
    "                score=scoring\n",
    "                final_depth=depth\n",
    "                final_estimator=n_estim\n",
    "    return (score, final_depth, final_estimator)"
   ]
  },
  {
   "cell_type": "code",
   "execution_count": null,
   "metadata": {},
   "outputs": [],
   "source": [
    "grid_search([50,100,200,500,1000,1500,2000,2500], [1,10,20,30])"
   ]
  },
  {
   "cell_type": "markdown",
   "metadata": {},
   "source": [
    "**We observe that the number of casualties seems to be more important for the outcome of the battle. Since the opponent with more soldiers only wins in 53% of the cases.**"
   ]
  },
  {
   "cell_type": "code",
   "execution_count": null,
   "metadata": {
    "collapsed": true
   },
   "outputs": [],
   "source": []
  }
 ],
 "metadata": {
  "kernelspec": {
   "display_name": "Python [conda root]",
   "language": "python",
   "name": "conda-root-py"
  },
  "language_info": {
   "codemirror_mode": {
    "name": "ipython",
    "version": 3
   },
   "file_extension": ".py",
   "mimetype": "text/x-python",
   "name": "python",
   "nbconvert_exporter": "python",
   "pygments_lexer": "ipython3",
   "version": "3.6.1"
  }
 },
 "nbformat": 4,
 "nbformat_minor": 2
}
