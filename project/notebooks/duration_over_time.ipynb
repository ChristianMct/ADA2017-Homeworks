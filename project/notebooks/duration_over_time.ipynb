{
 "cells": [
  {
   "cell_type": "code",
   "execution_count": null,
   "metadata": {},
   "outputs": [],
   "source": [
    "import json\n",
    "import sys\n",
    "import pandas as pd\n",
    "import numpy as np\n",
    "import seaborn as sns\n",
    "import matplotlib.pyplot as plt\n",
    "from folium.plugins import HeatMap\n",
    "import folium as fl\n",
    "from datetime import datetime\n",
    "\n",
    "sns.set(style=\"whitegrid\")\n",
    "%matplotlib inline"
   ]
  },
  {
   "cell_type": "code",
   "execution_count": null,
   "metadata": {},
   "outputs": [],
   "source": [
    "battles = pd.DataFrame([json.loads(line) for line in open(\"../datasets/battle-features-1.json\")])\n",
    "battles = battles[battles.start_date.notnull()]\n",
    "battles.fillna(value=\"None\", inplace=True)\n",
    "def get_year(date):\n",
    "    return datetime.strptime(date, \"%Y-%m-%d\").year if date else None\n",
    "\n",
    "def get_duration(battle):\n",
    "    if battle.end_date == \"None\":\n",
    "        return 1\n",
    "    else:\n",
    "        return (datetime.strptime(battle.end_date, \"%Y-%m-%d\") - datetime.strptime(battle.start_date, \"%Y-%m-%d\")).days\n",
    "\n",
    "battles[\"year\"] = battles[\"start_date\"].apply(get_year)\n",
    "\n",
    "battles = battles[(battles.year>=1000) & (battles.year <= 2018)]\n",
    "\n",
    "battles[\"duration\"] = [get_duration(battle) for _, battle in battles.iterrows()]\n",
    "decades = range(int(battles.year.min()), int(battles.year.max())+10, 10)\n",
    "centuries = range(int(battles.year.min()), int(battles.year.max())+100, 100)\n",
    "battles[\"decade\"] = pd.cut(battles[\"year\"], decades)\n",
    "battles[\"century\"] = pd.cut(battles[\"year\"], centuries)"
   ]
  },
  {
   "cell_type": "code",
   "execution_count": null,
   "metadata": {},
   "outputs": [],
   "source": [
    "b = battles.decade.value_counts()\n",
    "fig, ax = plt.subplots(figsize=(10,16))\n",
    "sns.barplot(y=b.index, x=b, color=\"blue\",ax=ax)"
   ]
  },
  {
   "cell_type": "code",
   "execution_count": null,
   "metadata": {
    "scrolled": false
   },
   "outputs": [],
   "source": [
    "fig, (ax1,ax2) = plt.subplots(1, 2, figsize=(20,10))\n",
    "sns.set(color_codes=True)\n",
    "\n",
    "b = battles[battles.duration.between(*battles.duration.quantile([.25, .75]))]\n",
    "\n",
    "bdec = b.groupby('decade').duration.mean()\n",
    "bcent = b.groupby('century').duration.mean()\n",
    "\n",
    "sns.regplot(x=np.array(decades[:-1]), y=np.array(bdec), order=4, ax=ax1)\n",
    "sns.regplot(x=np.array(centuries[:-1]), y=np.array(bcent), order=4, ax=ax2)\n",
    "#battles[[\"title\", \"start_date\", \"end_date\", \"duration\"]].sort_values(by=\"duration\", ascending=False)"
   ]
  },
  {
   "cell_type": "code",
   "execution_count": null,
   "metadata": {},
   "outputs": [],
   "source": [
    "battles.duration.between(*battles.duration.quantile([.2, .8])).sum()"
   ]
  }
 ],
 "metadata": {
  "kernelspec": {
   "display_name": "Python 3",
   "language": "python",
   "name": "python3"
  },
  "language_info": {
   "codemirror_mode": {
    "name": "ipython",
    "version": 3
   },
   "file_extension": ".py",
   "mimetype": "text/x-python",
   "name": "python",
   "nbconvert_exporter": "python",
   "pygments_lexer": "ipython3",
   "version": "3.5.4"
  }
 },
 "nbformat": 4,
 "nbformat_minor": 2
}
