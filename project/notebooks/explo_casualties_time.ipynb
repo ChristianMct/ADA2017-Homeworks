{
 "cells": [
  {
   "cell_type": "code",
   "execution_count": null,
   "metadata": {},
   "outputs": [],
   "source": [
    "import json\n",
    "import sys\n",
    "import pandas as pd\n",
    "import numpy as np\n",
    "import seaborn as sns\n",
    "import matplotlib.pyplot as plt\n",
    "from folium.plugins import HeatMap\n",
    "import folium as fl\n",
    "import datetime\n",
    "sns.set(style=\"whitegrid\")\n",
    "%matplotlib inline\n",
    "from ipywidgets import *\n",
    "from ipywidgets import interact, interactive, fixed\n",
    "from IPython.display import display\n",
    "#from IPython.html import widgets\n",
    "import ipywidgets as widgets\n",
    "\n"
   ]
  },
  {
   "cell_type": "code",
   "execution_count": null,
   "metadata": {},
   "outputs": [],
   "source": [
    "battles = pd.DataFrame([json.loads(line) for line in open(\"../datasets/battle-features-0.json\")])\n",
    "btp = battles[['start_date','casualties_1', 'casualties_2', 'dates_bc', 'end_date']]\n",
    "btp = btp[pd.notnull(btp['start_date'])]\n",
    "btp['casualties_total']=btp['casualties_1']+btp['casualties_2']\n",
    "\n",
    "btpbc=btp[btp.dates_bc==True]\n",
    "btpbc['year'] = [-datetime.datetime.strptime(date, \"%Y-%m-%d\").year for date in btpbc['start_date']]\n",
    "btpnbc=btp[btp.dates_bc==False]\n",
    "btpnbc['year'] = [datetime.datetime.strptime(date, \"%Y-%m-%d\").year for date in btpnbc['start_date']]\n",
    "btp=btpbc.append(btpnbc)\n",
    "\n",
    "bins = [-2500,-2250,-2000,-1750,-1500,-1250,-1000,-750,-500,-250,0,250,500,750,1000,1250,1500,1750,2000,2250]\n",
    "bins_labels=[-2500,-2250,-2000,-1750,-1500,-1250,-1000,-750,-500,-250,0,250,500,750,1000,1250,1500,1750,2000]\n",
    "casualtiesbins = [0,50,100,250, 500,1000,2000,5000,10000,50000,1000000,4000000,5000000]\n",
    "casualties_labels=[0,50,100,250, 500,1000,2000,5000,10000,50000,1000000,4000000]\n",
    "lengthbins = [-1,5,10,15,50,100,150,200,500,1000,2000,3000]\n",
    "lengthbins_labels=[0,5,10,15,50,100,150,200,500,1000,2000]"
   ]
  },
  {
   "cell_type": "code",
   "execution_count": null,
   "metadata": {
    "scrolled": true
   },
   "outputs": [],
   "source": [
    "btpcasualties=btp.groupby(pd.cut(btp['casualties_total'], bins=casualtiesbins)).casualties_total\n",
    "casualties_count = btpcasualties.count()\n",
    "casualties_count.plot(kind='bar')"
   ]
  },
  {
   "cell_type": "code",
   "execution_count": null,
   "metadata": {},
   "outputs": [],
   "source": [
    "casualties_count.plot(kind='box')"
   ]
  },
  {
   "cell_type": "code",
   "execution_count": null,
   "metadata": {},
   "outputs": [],
   "source": [
    "btpDP = btp.groupby(pd.cut(btp['year'],bins=bins, labels=bins_labels))[['start_date','casualties_total', 'end_date']]\n",
    "  \n",
    "def precomputation_c(b):\n",
    "        btpnow = btpDP.get_group(b)\n",
    "        casualties=btpnow.groupby(pd.cut(btpnow['casualties_total'], bins=casualtiesbins, labels=casualties_labels))['casualties_total']\n",
    "        casualties_count = casualties.count()\n",
    "        return casualties_count\n",
    "    \n",
    "def plotCasualtiesByPeriod(b):\n",
    "    try:\n",
    "        casualties_count = precomputation_c(b)\n",
    "        plt.figure(1)\n",
    "        casualties_count.plot(kind='bar')\n",
    "        plt.title('casualties by time interval')\n",
    "    except:\n",
    "        print(\"No battles in time interval\")\n",
    "        \n",
    "def plotCasualtiesStatsByPeriod(b):\n",
    "    try:\n",
    "        casualties_count = precomputation_c(b)\n",
    "        plt.figure(1)\n",
    "        casualties_count.plot(kind='box')\n",
    "        plt.title('casualties by time interval')\n",
    "    except:\n",
    "        print(\"No battles in time interval\")\n",
    "\n"
   ]
  },
  {
   "cell_type": "code",
   "execution_count": null,
   "metadata": {
    "scrolled": true
   },
   "outputs": [],
   "source": [
    "interact(plotCasualtiesByPeriod, b=(-2500,2000,250))"
   ]
  },
  {
   "cell_type": "code",
   "execution_count": null,
   "metadata": {},
   "outputs": [],
   "source": [
    "interact(plotCasualtiesStatsByPeriod, b=(-2500,2000,250))"
   ]
  },
  {
   "cell_type": "code",
   "execution_count": null,
   "metadata": {},
   "outputs": [],
   "source": [
    "\n",
    "btp['end_date']=btp['end_date'].fillna(btp['start_date'])\n",
    "btp['start_date'] = btp['start_date'].astype('datetime64[ns]')\n",
    "btp['end_date'] = btp['end_date'].astype('datetime64[ns]')\n",
    "length=[]\n",
    "btp=btp.reset_index()\n",
    "for i in range(0,len(btp['start_date'])):\n",
    "    #print(pd.Timedelta(btp1.end_date[i]-btp1.start_date[i]))\n",
    "    length+=[pd.Timedelta(btp.end_date[i]-btp.start_date[i])]\n",
    "btp['length'] = length\n",
    "btp['length']=btp['length'].astype('timedelta64[D]')\n",
    "\n",
    "btpCL = btp.groupby(pd.cut(btp['length'],bins=bins, labels=bins_labels))[['length','casualties_total']]\n",
    "\n",
    "def precomputation_cl(b):\n",
    "    btpnow = btpCL.get_group(b)\n",
    "    casualties=btpnow.groupby(pd.cut(btpnow['casualties_total'], bins=casualtiesbins, labels=casualties_labels))['casualties_total']\n",
    "    casualties_count = casualties.count()\n",
    "    return casualties_count\n",
    "  \n",
    "def plotCasualtiesByLength(b):\n",
    "    try:\n",
    "        casualties_count = precomputation_cl(b)\n",
    "        plt.figure(1)\n",
    "        casualties_count.plot(kind='bar')\n",
    "        plt.title('casualties by battle length interval')\n",
    "    except:\n",
    "        print(\"No battle casualties in length interval\")\n",
    "\n",
    "def plotCasualtiesByLengthStats(b):\n",
    "    try:\n",
    "        casualties_count = precomputation_cl(b)\n",
    "        plt.figure(1)\n",
    "        casualties_count.plot(kind='box')\n",
    "        plt.title('casualties by battle length interval')\n",
    "    except:\n",
    "        print(\"No battle casualties in length interval\")\n"
   ]
  },
  {
   "cell_type": "code",
   "execution_count": null,
   "metadata": {},
   "outputs": [],
   "source": [
    "interact(plotCasualtiesByLength, b=lengthbins_labels)"
   ]
  },
  {
   "cell_type": "code",
   "execution_count": null,
   "metadata": {},
   "outputs": [],
   "source": [
    "interact(plotCasualtiesByLengthStats, b=lengthbins_labels)"
   ]
  },
  {
   "cell_type": "code",
   "execution_count": null,
   "metadata": {},
   "outputs": [],
   "source": []
  }
 ],
 "metadata": {
  "kernelspec": {
   "display_name": "Python [conda env:ada]",
   "language": "python",
   "name": "conda-env-ada-py"
  },
  "language_info": {
   "codemirror_mode": {
    "name": "ipython",
    "version": 3
   },
   "file_extension": ".py",
   "mimetype": "text/x-python",
   "name": "python",
   "nbconvert_exporter": "python",
   "pygments_lexer": "ipython3",
   "version": "3.5.4"
  }
 },
 "nbformat": 4,
 "nbformat_minor": 2
}
