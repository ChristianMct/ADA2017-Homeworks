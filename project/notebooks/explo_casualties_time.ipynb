{
 "cells": [
  {
   "cell_type": "code",
   "execution_count": 54,
   "metadata": {
    "collapsed": true
   },
   "outputs": [],
   "source": [
    "import json\n",
    "import sys\n",
    "import pandas as pd\n",
    "import numpy as np\n",
    "import seaborn as sns\n",
    "import matplotlib.pyplot as plt\n",
    "from folium.plugins import HeatMap\n",
    "import folium as fl\n",
    "import datetime\n",
    "sns.set(style=\"whitegrid\")\n",
    "%matplotlib inline\n",
    "from ipywidgets import *\n",
    "from ipywidgets import interact, interactive, fixed\n",
    "from IPython.display import display\n",
    "#from IPython.html import widgets\n",
    "import ipywidgets as widgets\n",
    "\n"
   ]
  },
  {
   "cell_type": "code",
   "execution_count": 55,
   "metadata": {},
   "outputs": [
    {
     "name": "stderr",
     "output_type": "stream",
     "text": [
      "/Users/margueritedelcourt/anaconda/envs/ada/lib/python3.5/site-packages/ipykernel/__main__.py:7: SettingWithCopyWarning: \n",
      "A value is trying to be set on a copy of a slice from a DataFrame.\n",
      "Try using .loc[row_indexer,col_indexer] = value instead\n",
      "\n",
      "See the caveats in the documentation: http://pandas.pydata.org/pandas-docs/stable/indexing.html#indexing-view-versus-copy\n",
      "/Users/margueritedelcourt/anaconda/envs/ada/lib/python3.5/site-packages/ipykernel/__main__.py:9: SettingWithCopyWarning: \n",
      "A value is trying to be set on a copy of a slice from a DataFrame.\n",
      "Try using .loc[row_indexer,col_indexer] = value instead\n",
      "\n",
      "See the caveats in the documentation: http://pandas.pydata.org/pandas-docs/stable/indexing.html#indexing-view-versus-copy\n"
     ]
    }
   ],
   "source": [
    "battles = pd.DataFrame([json.loads(line) for line in open(\"../datasets/battle-features-0.json\")])\n",
    "btp = battles[['start_date','casualties_1', 'casualties_2', 'dates_bc', 'end_date']]\n",
    "btp = btp[pd.notnull(btp['start_date'])]\n",
    "btp['casualties_total']=btp['casualties_1']+btp['casualties_2']\n",
    "\n",
    "btpbc=btp[btp.dates_bc==True]\n",
    "btpbc['year'] = [-datetime.datetime.strptime(date, \"%Y-%m-%d\").year for date in btpbc['start_date']]\n",
    "btpnbc=btp[btp.dates_bc==False]\n",
    "btpnbc['year'] = [datetime.datetime.strptime(date, \"%Y-%m-%d\").year for date in btpnbc['start_date']]\n",
    "btp=btpbc.append(btpnbc)\n",
    "\n",
    "bins = [-2500,-2250,-2000,-1750,-1500,-1250,-1000,-750,-500,-250,0,250,500,750,1000,1250,1500,1750,2000,2250]\n",
    "bins_labels=[-2500,-2250,-2000,-1750,-1500,-1250,-1000,-750,-500,-250,0,250,500,750,1000,1250,1500,1750,2000]\n",
    "casualtiesbins = [0,50,100,250, 500,1000,2000,5000,10000,50000,1000000,4000000,5000000]\n",
    "casualties_labels=[0,50,100,250, 500,1000,2000,5000,10000,50000,1000000,4000000]\n",
    "lengthbins = [-1,5,10,15,50,100,150,200,500,1000,2000,3000]\n",
    "lengthbins_labels=[0,5,10,15,50,100,150,200,500,1000,2000]"
   ]
  },
  {
   "cell_type": "code",
   "execution_count": 56,
   "metadata": {},
   "outputs": [
    {
     "data": {
      "text/plain": [
       "<matplotlib.axes._subplots.AxesSubplot at 0x119f30da0>"
      ]
     },
     "execution_count": 56,
     "metadata": {},
     "output_type": "execute_result"
    },
    {
     "data": {
      "image/png": "[encoded data removed]",
      "text/plain": [
       "<matplotlib.figure.Figure at 0x119b937f0>"
      ]
     },
     "metadata": {},
     "output_type": "display_data"
    }
   ],
   "source": [
    "btpcasualties=btp.groupby(pd.cut(btp['casualties_total'], bins=casualtiesbins)).casualties_total\n",
    "casualties_count = btpcasualties.count()\n",
    "casualties_count.plot(kind='bar')"
   ]
  },
  {
   "cell_type": "code",
   "execution_count": 57,
   "metadata": {},
   "outputs": [],
   "source": [
    "btpDP = btp.groupby(pd.cut(btp['year'],bins=bins, labels=bins_labels))[['start_date','casualties_total', 'end_date']]\n",
    "  \n",
    "def plotDurationByPeriod(b):\n",
    "    try:\n",
    "        btpnow = btpDP.get_group(b)\n",
    "        casualties=btpnow.groupby(pd.cut(btpnow['casualties_total'], bins=casualtiesbins, labels=casualties_labels))['casualties_total']\n",
    "        casualties_count = casualties.count()\n",
    "        plt.figure(1)\n",
    "        casualties_count.plot(kind='bar')\n",
    "        plt.title('casualties by time interval')\n",
    "    except:\n",
    "        print(\"No battles in time interval\")\n",
    "\n"
   ]
  },
  {
   "cell_type": "code",
   "execution_count": 58,
   "metadata": {},
   "outputs": [
    {
     "data": {
      "application/vnd.jupyter.widget-view+json": {
       "model_id": "1383bf8a10004d158435a6efd6d4ffdb",
       "version_major": 2,
       "version_minor": 0
      },
      "text/html": [
       "<p>Failed to display Jupyter Widget of type <code>interactive</code>.</p>\n",
       "<p>\n",
       "  If you're reading this message in the Jupyter Notebook or JupyterLab Notebook, it may mean\n",
       "  that the widgets JavaScript is still loading. If this message persists, it\n",
       "  likely means that the widgets JavaScript library is either not installed or\n",
       "  not enabled. See the <a href=\"https://ipywidgets.readthedocs.io/en/stable/user_install.html\">Jupyter\n",
       "  Widgets Documentation</a> for setup instructions.\n",
       "</p>\n",
       "<p>\n",
       "  If you're reading this message in another frontend (for example, a static\n",
       "  rendering on GitHub or <a href=\"https://nbviewer.jupyter.org/\">NBViewer</a>),\n",
       "  it may mean that your frontend doesn't currently support widgets.\n",
       "</p>\n"
      ],
      "text/plain": [
       "interactive(children=(IntSlider(value=-250, description='b', max=2000, min=-2500, step=250), Output()), _dom_classes=('widget-interact',))"
      ]
     },
     "metadata": {},
     "output_type": "display_data"
    },
    {
     "data": {
      "text/plain": [
       "<function __main__.plotDurationByPeriod>"
      ]
     },
     "execution_count": 58,
     "metadata": {},
     "output_type": "execute_result"
    }
   ],
   "source": [
    "interact(plotDurationByPeriod, b=(-2500,2000,250))"
   ]
  },
  {
   "cell_type": "code",
   "execution_count": 61,
   "metadata": {},
   "outputs": [],
   "source": [
    "\n",
    "btp['end_date']=btp['end_date'].fillna(btp['start_date'])\n",
    "btp['start_date'] = btp['start_date'].astype('datetime64[ns]')\n",
    "btp['end_date'] = btp['end_date'].astype('datetime64[ns]')\n",
    "length=[]\n",
    "btp=btp.reset_index()\n",
    "for i in range(0,len(btp['start_date'])):\n",
    "    #print(pd.Timedelta(btp1.end_date[i]-btp1.start_date[i]))\n",
    "    length+=[pd.Timedelta(btp.end_date[i]-btp.start_date[i])]\n",
    "btp['length'] = length\n",
    "btp['length']=btp['length'].astype('timedelta64[D]')\n",
    "\n",
    "btpCL = btp.groupby(pd.cut(btp['length'],bins=bins, labels=bins_labels))[['length','casualties_total']]\n",
    "  \n",
    "def plotCasualtiesByLength(b):\n",
    "    try:\n",
    "        btpnow = btpCL.get_group(b)\n",
    "        casualties=btpnow.groupby(pd.cut(btpnow['casualties_total'], bins=casualtiesbins, labels=casualties_labels))['casualties_total']\n",
    "        casualties_count = casualties.count()\n",
    "        plt.figure(1)\n",
    "        casualties_count.plot(kind='bar')\n",
    "        plt.title('casualties by battle length interval')\n",
    "    except:\n",
    "        print(\"No battle casualties in length interval\")\n",
    "\n",
    "\n"
   ]
  },
  {
   "cell_type": "code",
   "execution_count": 62,
   "metadata": {},
   "outputs": [
    {
     "data": {
      "application/vnd.jupyter.widget-view+json": {
       "model_id": "a81a980f57d3459aa1420cf6078015b6",
       "version_major": 2,
       "version_minor": 0
      },
      "text/html": [
       "<p>Failed to display Jupyter Widget of type <code>interactive</code>.</p>\n",
       "<p>\n",
       "  If you're reading this message in the Jupyter Notebook or JupyterLab Notebook, it may mean\n",
       "  that the widgets JavaScript is still loading. If this message persists, it\n",
       "  likely means that the widgets JavaScript library is either not installed or\n",
       "  not enabled. See the <a href=\"https://ipywidgets.readthedocs.io/en/stable/user_install.html\">Jupyter\n",
       "  Widgets Documentation</a> for setup instructions.\n",
       "</p>\n",
       "<p>\n",
       "  If you're reading this message in another frontend (for example, a static\n",
       "  rendering on GitHub or <a href=\"https://nbviewer.jupyter.org/\">NBViewer</a>),\n",
       "  it may mean that your frontend doesn't currently support widgets.\n",
       "</p>\n"
      ],
      "text/plain": [
       "interactive(children=(Dropdown(description='b', options=(0, 5, 10, 15, 50, 100, 150, 200, 500, 1000, 2000), value=0), Output()), _dom_classes=('widget-interact',))"
      ]
     },
     "metadata": {},
     "output_type": "display_data"
    },
    {
     "data": {
      "text/plain": [
       "<function __main__.plotCasualtiesByLength>"
      ]
     },
     "execution_count": 62,
     "metadata": {},
     "output_type": "execute_result"
    }
   ],
   "source": [
    "interact(plotCasualtiesByLength, b=lengthbins_labels)"
   ]
  },
  {
   "cell_type": "code",
   "execution_count": null,
   "metadata": {
    "collapsed": true
   },
   "outputs": [],
   "source": []
  }
 ],
 "metadata": {
  "kernelspec": {
   "display_name": "Python [conda env:ada]",
   "language": "python",
   "name": "conda-env-ada-py"
  },
  "language_info": {
   "codemirror_mode": {
    "name": "ipython",
    "version": 3
   },
   "file_extension": ".py",
   "mimetype": "text/x-python",
   "name": "python",
   "nbconvert_exporter": "python",
   "pygments_lexer": "ipython3",
   "version": "3.5.4"
  }
 },
 "nbformat": 4,
 "nbformat_minor": 2
}
