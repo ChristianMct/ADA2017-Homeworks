{
 "cells": [
  {
   "cell_type": "code",
   "execution_count": null,
   "metadata": {},
   "outputs": [],
   "source": [
    "import os\n",
    "import sys\n",
    "import json\n",
    "import pandas as pd\n",
    "import numpy as np\n",
    "import mwparserfromhell as mw\n",
    "import seaborn as sns\n",
    "import matplotlib.pyplot as plt\n",
    "\n",
    "sns.set(style=\"whitegrid\")\n",
    "%matplotlib inline\n",
    "\n",
    "%load_ext autoreload\n",
    "%autoreload 2\n",
    "import processing # this makes the \"processing\" folder available as a python module\n",
    "\n",
    "from features.combatants import get_combatant, get_combatants\n",
    "from utils import remove_ref, get_templates"
   ]
  },
  {
   "cell_type": "code",
   "execution_count": null,
   "metadata": {},
   "outputs": [],
   "source": [
    "battles = json.load(open(\"../datasets/battle-fields-0.json\"))\n",
    "battles_ib = [b[\"infobox\"] for b in battles if not b[\"infobox\"].get(\"error\")]\n",
    "comb_parsed = [get_combatants(b) for b in battles if not b[\"infobox\"].get(\"error\")]\n",
    "comb = [{\"combatant_%s_source\" % n: b.get(\"combatant%s\"%n)  for n in range(1,4)} for b in battles_ib]\n",
    "for cp, c in zip(comb_parsed, comb):\n",
    "    cp.update(c)"
   ]
  },
  {
   "cell_type": "code",
   "execution_count": null,
   "metadata": {},
   "outputs": [],
   "source": [
    "print(\"tot\", len(comb_parsed))\n",
    "df = pd.DataFrame(comb_parsed).fillna(np.nan)\n",
    "df.isna().sum()"
   ]
  },
  {
   "cell_type": "code",
   "execution_count": null,
   "metadata": {},
   "outputs": [],
   "source": [
    "df[df[\"combatant_1\"].isna()]"
   ]
  },
  {
   "cell_type": "code",
   "execution_count": null,
   "metadata": {},
   "outputs": [],
   "source": [
    "print(mw.parse(\"{{flagicon|Bad Guy inc}}[[Bad Guy|Bad Guy Verbose]] supported by [[OK Guy|OK-ish Guy Verbose]] (BG)<ref name=\\\"stamfordhistory.org\\\">[http://www.stamfordhistory.org/ww2_peleliu.htm The Stamford Historical Society: Peleliu] Retrieved 27 Oct. 2015</ref><br>\").strip_code())\n",
    "get_combatant(\"{{flagicon|Bad Guy inc}}[[Bad Guy|Bad Guy Verbose]] supported by [[OK Guy|OK-ish Guy Verbose]] (BG)<ref name=\\\"stamfordhistory.org\\\">[http://www.stamfordhistory.org/ww2_peleliu.htm The Stamford Historical Society: Peleliu] Retrieved 27 Oct. 2015</ref><br>\")"
   ]
  },
  {
   "cell_type": "code",
   "execution_count": null,
   "metadata": {},
   "outputs": [],
   "source": [
    "cbt_1 = np.array(df[\"combatant_1\"].dropna())\n",
    "cbt_2 = np.array(df[\"combatant_2\"].dropna())\n",
    "cbt_3 = np.array(df[\"combatant_3\"].dropna())\n",
    "print(len(cbt_1), len(cbt_2), len(cbt_3))\n",
    "\n",
    "cbt_all = np.concatenate((cbt_1, cbt_2, cbt_3))\n",
    "\n",
    "all_cbt_names = [c for cl in cbt_all for c in cl]\n",
    "names = pd.Series(all_cbt_names)\n",
    "print(len(set(all_cbt_names)))\n",
    "\n",
    "f, ax = plt.subplots(figsize=(6, 15))\n",
    "counts = names.value_counts().sort_values(ascending=False)\n",
    "counts = counts.head(50)\n",
    "sns.barplot(x=counts, y=counts.index, ax=ax)\n",
    "counts"
   ]
  },
  {
   "cell_type": "code",
   "execution_count": null,
   "metadata": {},
   "outputs": [],
   "source": []
  }
 ],
 "metadata": {
  "kernelspec": {
   "display_name": "Python 3",
   "language": "python",
   "name": "python3"
  },
  "language_info": {
   "codemirror_mode": {
    "name": "ipython",
    "version": 3
   },
   "file_extension": ".py",
   "mimetype": "text/x-python",
   "name": "python",
   "nbconvert_exporter": "python",
   "pygments_lexer": "ipython3",
   "version": "3.5.4"
  }
 },
 "nbformat": 4,
 "nbformat_minor": 2
}
