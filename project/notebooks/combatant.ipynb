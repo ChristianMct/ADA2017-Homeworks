{
 "cells": [
  {
   "cell_type": "code",
   "execution_count": 8,
   "metadata": {},
   "outputs": [
    {
     "name": "stdout",
     "output_type": "stream",
     "text": [
      "The autoreload extension is already loaded. To reload it, use:\n",
      "  %reload_ext autoreload\n"
     ]
    }
   ],
   "source": [
    "import os\n",
    "import sys\n",
    "import json\n",
    "import pandas as pd\n",
    "import numpy as np\n",
    "import mwparserfromhell as mw\n",
    "import seaborn as sns\n",
    "import matplotlib.pyplot as plt\n",
    "\n",
    "sns.set(style=\"whitegrid\")\n",
    "%matplotlib inline\n",
    "\n",
    "%load_ext autoreload\n",
    "%autoreload 2\n",
    "import processing # this makes the \"processing\" folder available as a python module\n",
    "\n",
    "from features.combatants import get_combatant, get_combatants\n",
    "from utils import remove_ref, get_templates"
   ]
  },
  {
   "cell_type": "code",
   "execution_count": 9,
   "metadata": {},
   "outputs": [],
   "source": [
    "battles = json.load(open(\"../datasets/battle-fields-0.json\"))\n",
    "battles_ib = [b[\"infobox\"] for b in battles if not b[\"infobox\"].get(\"error\")]\n",
    "comb_parsed = [get_combatants(b) for b in battles if not b[\"infobox\"].get(\"error\")]\n",
    "comb = [{\"combatant_%s_source\" % n: b.get(\"combatant%s\"%n)  for n in range(1,4)} for b in battles_ib]\n",
    "for cp, c in zip(comb_parsed, comb):\n",
    "    cp.update(c)"
   ]
  },
  {
   "cell_type": "code",
   "execution_count": 4,
   "metadata": {},
   "outputs": [
    {
     "name": "stdout",
     "output_type": "stream",
     "text": [
      "tot 7486\n"
     ]
    },
    {
     "data": {
      "text/plain": [
       "combatant_1             11\n",
       "combatant_1_source      11\n",
       "combatant_2             13\n",
       "combatant_2_source      13\n",
       "combatant_3           7105\n",
       "combatant_3_source    7103\n",
       "dtype: int64"
      ]
     },
     "execution_count": 4,
     "metadata": {},
     "output_type": "execute_result"
    }
   ],
   "source": [
    "print(\"tot\", len(comb_parsed))\n",
    "df = pd.DataFrame(comb_parsed).fillna(np.nan)\n",
    "df.isna().sum()"
   ]
  },
  {
   "cell_type": "code",
   "execution_count": 5,
   "metadata": {},
   "outputs": [
    {
     "data": {
      "text/html": [
       "<div>\n",
       "<style scoped>\n",
       "    .dataframe tbody tr th:only-of-type {\n",
       "        vertical-align: middle;\n",
       "    }\n",
       "\n",
       "    .dataframe tbody tr th {\n",
       "        vertical-align: top;\n",
       "    }\n",
       "\n",
       "    .dataframe thead th {\n",
       "        text-align: right;\n",
       "    }\n",
       "</style>\n",
       "<table border=\"1\" class=\"dataframe\">\n",
       "  <thead>\n",
       "    <tr style=\"text-align: right;\">\n",
       "      <th></th>\n",
       "      <th>combatant_1</th>\n",
       "      <th>combatant_1_source</th>\n",
       "      <th>combatant_2</th>\n",
       "      <th>combatant_2_source</th>\n",
       "      <th>combatant_3</th>\n",
       "      <th>combatant_3_source</th>\n",
       "    </tr>\n",
       "  </thead>\n",
       "  <tbody>\n",
       "    <tr>\n",
       "      <th>3561</th>\n",
       "      <td>NaN</td>\n",
       "      <td>NaN</td>\n",
       "      <td>NaN</td>\n",
       "      <td>NaN</td>\n",
       "      <td>NaN</td>\n",
       "      <td>NaN</td>\n",
       "    </tr>\n",
       "    <tr>\n",
       "      <th>3736</th>\n",
       "      <td>NaN</td>\n",
       "      <td>NaN</td>\n",
       "      <td>NaN</td>\n",
       "      <td>NaN</td>\n",
       "      <td>NaN</td>\n",
       "      <td>NaN</td>\n",
       "    </tr>\n",
       "    <tr>\n",
       "      <th>3768</th>\n",
       "      <td>NaN</td>\n",
       "      <td>NaN</td>\n",
       "      <td>NaN</td>\n",
       "      <td>NaN</td>\n",
       "      <td>NaN</td>\n",
       "      <td>NaN</td>\n",
       "    </tr>\n",
       "    <tr>\n",
       "      <th>4986</th>\n",
       "      <td>NaN</td>\n",
       "      <td>NaN</td>\n",
       "      <td>NaN</td>\n",
       "      <td>NaN</td>\n",
       "      <td>NaN</td>\n",
       "      <td>NaN</td>\n",
       "    </tr>\n",
       "    <tr>\n",
       "      <th>5276</th>\n",
       "      <td>NaN</td>\n",
       "      <td>NaN</td>\n",
       "      <td>NaN</td>\n",
       "      <td>NaN</td>\n",
       "      <td>NaN</td>\n",
       "      <td>NaN</td>\n",
       "    </tr>\n",
       "    <tr>\n",
       "      <th>5506</th>\n",
       "      <td>NaN</td>\n",
       "      <td>NaN</td>\n",
       "      <td>NaN</td>\n",
       "      <td>NaN</td>\n",
       "      <td>NaN</td>\n",
       "      <td>NaN</td>\n",
       "    </tr>\n",
       "    <tr>\n",
       "      <th>6205</th>\n",
       "      <td>NaN</td>\n",
       "      <td>NaN</td>\n",
       "      <td>NaN</td>\n",
       "      <td>NaN</td>\n",
       "      <td>NaN</td>\n",
       "      <td>NaN</td>\n",
       "    </tr>\n",
       "    <tr>\n",
       "      <th>6254</th>\n",
       "      <td>NaN</td>\n",
       "      <td>NaN</td>\n",
       "      <td>NaN</td>\n",
       "      <td>NaN</td>\n",
       "      <td>NaN</td>\n",
       "      <td>NaN</td>\n",
       "    </tr>\n",
       "    <tr>\n",
       "      <th>6425</th>\n",
       "      <td>NaN</td>\n",
       "      <td>NaN</td>\n",
       "      <td>NaN</td>\n",
       "      <td>NaN</td>\n",
       "      <td>NaN</td>\n",
       "      <td>NaN</td>\n",
       "    </tr>\n",
       "    <tr>\n",
       "      <th>6943</th>\n",
       "      <td>NaN</td>\n",
       "      <td>NaN</td>\n",
       "      <td>NaN</td>\n",
       "      <td>NaN</td>\n",
       "      <td>NaN</td>\n",
       "      <td>NaN</td>\n",
       "    </tr>\n",
       "    <tr>\n",
       "      <th>7147</th>\n",
       "      <td>NaN</td>\n",
       "      <td>NaN</td>\n",
       "      <td>NaN</td>\n",
       "      <td>NaN</td>\n",
       "      <td>[]</td>\n",
       "      <td>\\n</td>\n",
       "    </tr>\n",
       "  </tbody>\n",
       "</table>\n",
       "</div>"
      ],
      "text/plain": [
       "     combatant_1 combatant_1_source combatant_2 combatant_2_source  \\\n",
       "3561         NaN                NaN         NaN                NaN   \n",
       "3736         NaN                NaN         NaN                NaN   \n",
       "3768         NaN                NaN         NaN                NaN   \n",
       "4986         NaN                NaN         NaN                NaN   \n",
       "5276         NaN                NaN         NaN                NaN   \n",
       "5506         NaN                NaN         NaN                NaN   \n",
       "6205         NaN                NaN         NaN                NaN   \n",
       "6254         NaN                NaN         NaN                NaN   \n",
       "6425         NaN                NaN         NaN                NaN   \n",
       "6943         NaN                NaN         NaN                NaN   \n",
       "7147         NaN                NaN         NaN                NaN   \n",
       "\n",
       "     combatant_3 combatant_3_source  \n",
       "3561         NaN                NaN  \n",
       "3736         NaN                NaN  \n",
       "3768         NaN                NaN  \n",
       "4986         NaN                NaN  \n",
       "5276         NaN                NaN  \n",
       "5506         NaN                NaN  \n",
       "6205         NaN                NaN  \n",
       "6254         NaN                NaN  \n",
       "6425         NaN                NaN  \n",
       "6943         NaN                NaN  \n",
       "7147          []                 \\n  "
      ]
     },
     "execution_count": 5,
     "metadata": {},
     "output_type": "execute_result"
    }
   ],
   "source": [
    "df[df[\"combatant_1\"].isna()]"
   ]
  },
  {
   "cell_type": "code",
   "execution_count": null,
   "metadata": {},
   "outputs": [],
   "source": [
    "print(mw.parse(\"{{flagicon|Bad Guy inc}}[[Bad Guy|Bad Guy Verbose]] supported by [[OK Guy|OK-ish Guy Verbose]] (BG)<ref name=\\\"stamfordhistory.org\\\">[http://www.stamfordhistory.org/ww2_peleliu.htm The Stamford Historical Society: Peleliu] Retrieved 27 Oct. 2015</ref><br>\").strip_code())\n",
    "get_combatant(\"{{flagicon|Bad Guy inc}}[[Bad Guy|Bad Guy Verbose]] supported by [[OK Guy|OK-ish Guy Verbose]] (BG)<ref name=\\\"stamfordhistory.org\\\">[http://www.stamfordhistory.org/ww2_peleliu.htm The Stamford Historical Society: Peleliu] Retrieved 27 Oct. 2015</ref><br>\")"
   ]
  },
  {
   "cell_type": "code",
   "execution_count": 6,
   "metadata": {},
   "outputs": [
    {
     "name": "stdout",
     "output_type": "stream",
     "text": [
      "7475 7473 381\n",
      "4719\n"
     ]
    },
    {
     "data": {
      "text/plain": [
       "United States                                  1197\n",
       "France                                          721\n",
       "Spain                                           530\n",
       "United Kingdom                                  497\n",
       "Kingdom of France                               434\n",
       "Ottoman Empire                                  392\n",
       "USA                                             390\n",
       "Kingdom of Great Britain                        382\n",
       "CSA                                             373\n",
       "Union                                           359\n",
       "CSA (Confederacy)                               313\n",
       "Nazi Germany                                    285\n",
       "German Empire                                   244\n",
       "Empire of Japan                                 233\n",
       "Russian Empire                                  227\n",
       "Holy Roman Empire                               211\n",
       "Australia                                       194\n",
       "Kingdom of England                              181\n",
       "British Empire                                  170\n",
       "Sweden                                          161\n",
       "French Empire                                   158\n",
       "Russia                                          155\n",
       "Byzantine Empire                                153\n",
       "Habsburg Monarchy                               146\n",
       "Roman Republic                                  141\n",
       "Kingdom of Italy                                134\n",
       "Prussia                                         134\n",
       "Dutch Republic                                  129\n",
       "Poland                                          121\n",
       "United Kingdom of Great Britain and Ireland     116\n",
       "Soviet Union                                    112\n",
       "Mexico                                          111\n",
       "Confederate States                              111\n",
       "Portugal                                        103\n",
       "Spanish Empire                                  101\n",
       "Canada                                           94\n",
       "England                                          94\n",
       "First French Empire                              85\n",
       "Carthage                                         84\n",
       "Afghanistan                                      83\n",
       "Denmark                                          81\n",
       "New Zealand                                      78\n",
       "Swedish Empire                                   77\n",
       "Germany                                          77\n",
       "Kingdom of Spain                                 77\n",
       "Austrian Empire                                  73\n",
       "Austria                                          71\n",
       "Polish–Lithuanian Commonwealth                   68\n",
       "Syria                                            67\n",
       "United Provinces                                 66\n",
       "dtype: int64"
      ]
     },
     "execution_count": 6,
     "metadata": {},
     "output_type": "execute_result"
    },
    {
     "data": {
      "image/png": "[encoded data removed]",
      "text/plain": [
       "<matplotlib.figure.Figure at 0x1a1891a2e8>"
      ]
     },
     "metadata": {},
     "output_type": "display_data"
    }
   ],
   "source": [
    "cbt_1 = np.array(df[\"combatant_1\"].dropna())\n",
    "cbt_2 = np.array(df[\"combatant_2\"].dropna())\n",
    "cbt_3 = np.array(df[\"combatant_3\"].dropna())\n",
    "print(len(cbt_1), len(cbt_2), len(cbt_3))\n",
    "\n",
    "cbt_all = np.concatenate((cbt_1, cbt_2, cbt_3))\n",
    "\n",
    "all_cbt_names = [c for cl in cbt_all for c in cl]\n",
    "names = pd.Series(all_cbt_names)\n",
    "print(len(set(all_cbt_names)))\n",
    "\n",
    "f, ax = plt.subplots(figsize=(6, 15))\n",
    "counts = names.value_counts().sort_values(ascending=False)\n",
    "counts = counts.head(50)\n",
    "sns.barplot(x=counts, y=counts.index, ax=ax)\n",
    "counts"
   ]
  },
  {
   "cell_type": "code",
   "execution_count": null,
   "metadata": {},
   "outputs": [],
   "source": []
  }
 ],
 "metadata": {
  "kernelspec": {
   "display_name": "Python 3",
   "language": "python",
   "name": "python3"
  },
  "language_info": {
   "codemirror_mode": {
    "name": "ipython",
    "version": 3
   },
   "file_extension": ".py",
   "mimetype": "text/x-python",
   "name": "python",
   "nbconvert_exporter": "python",
   "pygments_lexer": "ipython3",
   "version": "3.5.4"
  }
 },
 "nbformat": 4,
 "nbformat_minor": 2
}
