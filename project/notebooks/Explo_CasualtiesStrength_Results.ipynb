{
 "cells": [
  {
   "cell_type": "code",
   "execution_count": null,
   "metadata": {
    "collapsed": true
   },
   "outputs": [],
   "source": [
    "import json\n",
    "import sys\n",
    "import pandas as pd\n",
    "import numpy as np\n",
    "import seaborn as sns\n",
    "import matplotlib.pyplot as plt\n",
    "from matplotlib.transforms import Bbox\n",
    "from datetime import datetime\n",
    "sns.set(style=\"whitegrid\")\n",
    "%matplotlib inline"
   ]
  },
  {
   "cell_type": "code",
   "execution_count": null,
   "metadata": {
    "collapsed": true
   },
   "outputs": [],
   "source": [
    "def densplot(columns, xlabel, title, axo):\n",
    "    for i,v in enumerate(columns):\n",
    "        sns.distplot(v, ax=axo, kde_kws={\"label\": i})\n",
    "    axo.set_title(title)\n",
    "    axo.set_xlabel(xlabel, fontsize=12)\n",
    "    \n",
    "def scatplot(xelem, yelem, xlabel, ylabel, title, axo, polyfit=None, xlim=None, ylim=None):\n",
    "    axo.scatter(xelem, yelem)\n",
    "    if polyfit:\n",
    "        axo.plot(np.unique(xelem), np.poly1d(np.polyfit(xelem, yelem, polyfit))(np.unique(xelem)), 'C2')\n",
    "    if xlim:\n",
    "        axo.set_xlim(0,xlim)\n",
    "    if ylim:\n",
    "        axo.set_ylim(0,ylim)\n",
    "    axo.set_title(title)\n",
    "    axo.set_xlabel(xlabel, fontsize=12)\n",
    "    axo.set_ylabel(ylabel, fontsize=12)\n",
    "    \n",
    "def full_extent(ax, pad=0.0):\n",
    "    \"\"\"Get the full extent of an axes, including axes labels, tick labels, and\n",
    "    titles.\"\"\"\n",
    "    # For text objects, we need to draw the figure first, otherwise the extents\n",
    "    # are undefined.\n",
    "    ax.figure.canvas.draw()\n",
    "    items = ax.get_xticklabels() + ax.get_yticklabels() \n",
    "    items += [ax, ax.title, ax.xaxis.label, ax.yaxis.label]\n",
    "    items += [ax, ax.title]\n",
    "    bbox = Bbox.union([item.get_window_extent() for item in items])\n",
    "\n",
    "    return bbox.expanded(1.0 + pad, 1.0 + pad)\n",
    "\n",
    "def get_year(date):\n",
    "    return datetime.strptime(date, \"%Y-%m-%d\").year if date else None\n",
    "\n"
   ]
  },
  {
   "cell_type": "code",
   "execution_count": null,
   "metadata": {
    "collapsed": true
   },
   "outputs": [],
   "source": [
    "FIGURES_FOLDER = \"../report/figures/\""
   ]
  },
  {
   "cell_type": "code",
   "execution_count": null,
   "metadata": {},
   "outputs": [],
   "source": [
    "battles = pd.DataFrame([json.loads(line) for line in open(\"../datasets/battle-features-2.json\")])\n",
    "interest_col = [\"casualties_1\", \"casualties_2\", \"result_combatant_1\", \"result_combatant_2\"]\n",
    "battles[interest_col].head()"
   ]
  },
  {
   "cell_type": "code",
   "execution_count": null,
   "metadata": {},
   "outputs": [],
   "source": [
    "print('total casualties: ', sum(battles['casualties_1'])+sum(battles['casualties_2'])+sum(battles['casualties_3']))\n",
    "print('total strength: ', sum(battles['strength_1'])+sum(battles['strength_2'])+sum(battles['strength_3']))"
   ]
  },
  {
   "cell_type": "code",
   "execution_count": null,
   "metadata": {
    "collapsed": true
   },
   "outputs": [],
   "source": [
    "battles = battles.query(\"casualties_1 > 1 and casualties_2 > 1 and strength_1 > 1 and strength_2 > 1 and (result_combatant_1 != '' or result_combatant_2 != '')\")\n",
    "battles = battles.query(\"casualties_1 < strength_1 and casualties_2 < strength_2\")\n",
    "battles[\"year\"] = battles[\"start_date\"].apply(get_year)\n",
    "battles = battles.query(\"year>1000\")"
   ]
  },
  {
   "cell_type": "code",
   "execution_count": null,
   "metadata": {},
   "outputs": [],
   "source": [
    "casuresu = battles\n",
    "typeStr = \"icto\"\n",
    "casualtiesVictory = len((casuresu.loc[(casuresu[\"result_combatant_1\"].str.contains(typeStr) & (casuresu[\"casualties_1\"]>casuresu[\"casualties_2\"])) | (casuresu[\"result_combatant_2\"].str.contains(typeStr) & (casuresu[\"casualties_2\"]>casuresu[\"casualties_1\"]))]))\n",
    "typeStr = \"decisive\"\n",
    "casualtiesDecisiveVictory = len((casuresu.loc[(casuresu[\"result_combatant_1\"].str.contains(typeStr) & (casuresu[\"casualties_1\"]>casuresu[\"casualties_2\"])) | (casuresu[\"result_combatant_2\"].str.contains(typeStr) & (casuresu[\"casualties_2\"]>casuresu[\"casualties_1\"]))]))\n",
    "casuresuDecisive = len((casuresu.loc[(casuresu[\"result_combatant_1\"].str.contains(typeStr)) | (casuresu[\"result_combatant_2\"].str.contains(typeStr))]))\n",
    "typeStr = \"strategic\"\n",
    "casualtiesStrategicVictory = len((casuresu.loc[(casuresu[\"result_combatant_1\"].str.contains(typeStr) & (casuresu[\"casualties_1\"]>casuresu[\"casualties_2\"])) | (casuresu[\"result_combatant_2\"].str.contains(typeStr) & (casuresu[\"casualties_2\"]>casuresu[\"casualties_1\"]))]))\n",
    "casuresuStrategic = len((casuresu.loc[(casuresu[\"result_combatant_1\"].str.contains(typeStr)) | (casuresu[\"result_combatant_2\"].str.contains(typeStr))]))\n",
    "typeStr = \"tactical\"\n",
    "casualtiesTacticalVictory = len((casuresu.loc[(casuresu[\"result_combatant_1\"].str.contains(typeStr) & (casuresu[\"casualties_1\"]>casuresu[\"casualties_2\"])) | (casuresu[\"result_combatant_2\"].str.contains(typeStr) & (casuresu[\"casualties_2\"]>casuresu[\"casualties_1\"]))]))\n",
    "casuresuTactical = len((casuresu.loc[(casuresu[\"result_combatant_1\"].str.contains(typeStr)) | (casuresu[\"result_combatant_2\"].str.contains(typeStr))]))\n",
    "\n",
    "\n",
    "\n",
    "casualtiesVictorypercent = casualtiesVictory*100/len(casuresu)\n",
    "casualtiesDecisiveVictorypercent = casualtiesDecisiveVictory*100/casuresuDecisive\n",
    "casualtiesStrategicVictorypercent = casualtiesStrategicVictory*100/casuresuStrategic\n",
    "casualtiesTacticalVictorypercent = casualtiesTacticalVictory*100/casuresuTactical\n",
    "\n",
    "print(casualtiesVictory, casualtiesDecisiveVictory, casualtiesStrategicVictory, casualtiesTacticalVictory)\n",
    "print(casualtiesVictorypercent, \" \", casualtiesDecisiveVictorypercent, \" \", casualtiesStrategicVictorypercent, \" \", casualtiesTacticalVictorypercent)"
   ]
  },
  {
   "cell_type": "code",
   "execution_count": null,
   "metadata": {},
   "outputs": [],
   "source": [
    "casustrenwin = battles\n",
    "casustrenwin['casustren1'] = casustrenwin[\"casualties_1\"]*100/casustrenwin[\"strength_1\"]\n",
    "casustrenwin['casustren2'] = casustrenwin[\"casualties_2\"]*100/casustrenwin[\"strength_2\"]\n",
    "\n",
    "typeStr = \"icto\"\n",
    "casualtiesStrengthVictory = len((casustrenwin.loc[((casustrenwin[\"result_combatant_1\"].str.contains(typeStr) & (casustrenwin['casustren1'] > casustrenwin['casustren2'])) | (casustrenwin[\"result_combatant_2\"].str.contains(typeStr) & (casustrenwin['casustren2']>casustrenwin['casustren1'])))]))\n",
    "typeStr = \"decisive\"\n",
    "casualtiesStrengthDecisiveVictory = len((casustrenwin.loc[((casustrenwin[\"result_combatant_1\"].str.contains(typeStr) & (casustrenwin['casustren1'] > casustrenwin['casustren2'])) | (casustrenwin[\"result_combatant_2\"].str.contains(typeStr) & (casustrenwin['casustren2']>casustrenwin['casustren1'])))]))\n",
    "casustrenwinDecisive = len((casustrenwin.loc[((casustrenwin[\"result_combatant_1\"].str.contains(typeStr)) | (casustrenwin[\"result_combatant_2\"].str.contains(typeStr)))]))\n",
    "typeStr = \"strategic\"\n",
    "casualtiesStrengthStrategicVictory = len((casustrenwin.loc[((casustrenwin[\"result_combatant_1\"].str.contains(typeStr) & (casustrenwin['casustren1'] > casustrenwin['casustren2'])) | (casustrenwin[\"result_combatant_2\"].str.contains(typeStr) & (casustrenwin['casustren2']>casustrenwin['casustren1'])))]))\n",
    "casustrenwinStrategic = len((casustrenwin.loc[((casustrenwin[\"result_combatant_1\"].str.contains(typeStr)) | (casustrenwin[\"result_combatant_2\"].str.contains(typeStr)))]))\n",
    "typeStr = \"tactical\"\n",
    "casualtiesStrengthTacticalVictory = len((casustrenwin.loc[((casustrenwin[\"result_combatant_1\"].str.contains(typeStr) & (casustrenwin['casustren1'] > casustrenwin['casustren2'])) | (casustrenwin[\"result_combatant_2\"].str.contains(typeStr) & (casustrenwin['casustren2']>casustrenwin['casustren1'])))]))\n",
    "casustrenwinTactical = len((casustrenwin.loc[((casustrenwin[\"result_combatant_1\"].str.contains(typeStr)) | (casustrenwin[\"result_combatant_2\"].str.contains(typeStr)))]))\n",
    "\n",
    "\n",
    "\n",
    "\n",
    "casualtiesStrengthVictorypercent = casualtiesStrengthVictory*100/len(casustrenwin)\n",
    "casualtiesStrengthDecisiveVictorypercent = casualtiesStrengthDecisiveVictory*100/casustrenwinDecisive\n",
    "casualtiesStrengthStrategicVictorypercent = casualtiesStrengthStrategicVictory*100/casustrenwinStrategic\n",
    "casualtiesStrengthTacticalVictorypercent = casualtiesStrengthTacticalVictory*100/casustrenwinTactical\n",
    "\n",
    "print(casualtiesStrengthVictory, casualtiesStrengthDecisiveVictory, casualtiesStrengthStrategicVictory, casualtiesStrengthTacticalVictory)\n",
    "print(casualtiesStrengthVictorypercent, \" \", casualtiesStrengthDecisiveVictorypercent, \" \", casualtiesStrengthStrategicVictorypercent, \" \", casualtiesStrengthTacticalVictorypercent)"
   ]
  },
  {
   "cell_type": "markdown",
   "metadata": {},
   "source": [
    "We do a similar process for the strength vs. results relationship"
   ]
  },
  {
   "cell_type": "code",
   "execution_count": null,
   "metadata": {},
   "outputs": [],
   "source": [
    "interest_col = [\"strength_1\", \"strength_2\", \"result_combatant_1\", \"result_combatant_2\"]\n",
    "battles.head()[interest_col]"
   ]
  },
  {
   "cell_type": "code",
   "execution_count": null,
   "metadata": {},
   "outputs": [],
   "source": [
    "strenresu = battles\n",
    "typeStr = \"icto\"\n",
    "strengthVictory = len((strenresu.loc[(strenresu[\"result_combatant_1\"].str.contains(typeStr) & (strenresu[\"strength_1\"]<strenresu[\"strength_2\"])) | (strenresu[\"result_combatant_2\"].str.contains(typeStr) & (strenresu[\"strength_2\"]<strenresu[\"strength_1\"]))]))\n",
    "typeStr = \"decisive\"\n",
    "strengthDecisiveVictory = len((strenresu.loc[(strenresu[\"result_combatant_1\"].str.contains(typeStr) & (strenresu[\"strength_1\"]<strenresu[\"strength_2\"])) | (strenresu[\"result_combatant_2\"].str.contains(typeStr) & (strenresu[\"strength_2\"]<strenresu[\"strength_1\"]))]))\n",
    "strenresuDecisive = len(strenresu.loc[(strenresu[\"result_combatant_1\"].str.contains(typeStr) | strenresu[\"result_combatant_2\"].str.contains(typeStr))])\n",
    "typeStr = \"strategic\"\n",
    "strengthStrategicVictory = len((strenresu.loc[(strenresu[\"result_combatant_1\"].str.contains(typeStr) & (strenresu[\"strength_1\"]<strenresu[\"strength_2\"])) | (strenresu[\"result_combatant_2\"].str.contains(typeStr) & (strenresu[\"strength_2\"]<strenresu[\"strength_1\"]))]))\n",
    "strenresuStrategic = len(strenresu.loc[(strenresu[\"result_combatant_1\"].str.contains(typeStr) | strenresu[\"result_combatant_2\"].str.contains(typeStr))])\n",
    "typeStr = \"tactical\"\n",
    "strengthTacticalVictory = len((strenresu.loc[(strenresu[\"result_combatant_1\"].str.contains(typeStr) & (strenresu[\"strength_1\"]<strenresu[\"strength_2\"])) | (strenresu[\"result_combatant_2\"].str.contains(typeStr) & (strenresu[\"strength_2\"]<strenresu[\"strength_1\"]))]))\n",
    "strenresuTactical = len(strenresu.loc[(strenresu[\"result_combatant_1\"].str.contains(typeStr) | strenresu[\"result_combatant_2\"].str.contains(typeStr))])\n",
    "\n",
    "strengthVictorypercent = strengthVictory*100/len(strenresu)\n",
    "strengthDecisiveVictorypercent = strengthDecisiveVictory*100/(strenresuDecisive)\n",
    "strengthStrategicVictorypercent = strengthStrategicVictory*100/(strenresuStrategic)\n",
    "strengthTacticalVictorypercent = strengthTacticalVictory*100/(strenresuTactical)\n",
    "\n",
    "print(len(strenresu), strenresuDecisive, strengthStrategicVictory, strengthTacticalVictory)\n",
    "print(strengthVictorypercent, \" \", strengthDecisiveVictorypercent, \" \", strengthStrategicVictorypercent, \" \", strengthTacticalVictorypercent)"
   ]
  },
  {
   "cell_type": "markdown",
   "metadata": {},
   "source": [
    "**We observe that the number of casualties seems to be more important for the outcome of the battle. Since the opponent with more soldiers only wins in 53% of the cases.**"
   ]
  },
  {
   "cell_type": "code",
   "execution_count": null,
   "metadata": {},
   "outputs": [],
   "source": [
    "#NOT used to plot\n",
    "strengthBased = 100-hardwinpercent\n",
    "casualtiesBased = 100-painfulwinpercent\n",
    "strengthAndCasualtiesBased = 100-strenCasuPercent\n",
    "fig, ax1 = plt.subplots(1, 1, figsize=(10,5))\n",
    "y = [strengthBased, casualtiesBased, strengthAndCasualtiesBased]\n",
    "x = ['strength', 'casualties', 'casualties per strength (%)']\n",
    "sns.barplot(y=y, x=x, color=\"blue\", ax = ax1)\n",
    "ax1.set_ylim(0,100)\n",
    "ax1.set_xlabel('Feature', fontsize=20)\n",
    "ax1.set_ylabel('Percent of victories', fontsize=20)\n",
    "ax1.tick_params(labelsize=15)\n",
    "test1 = full_extent(ax1).transformed(fig.dpi_scale_trans.inverted())\n",
    "fig.savefig(FOLDER+'VictoryAdvantage.eps', bbox_inches=test1)"
   ]
  },
  {
   "cell_type": "code",
   "execution_count": null,
   "metadata": {
    "collapsed": true
   },
   "outputs": [],
   "source": [
    "strengthBased = 100-strengthVictorypercent\n",
    "strengthBasedDecisive = 100- strengthDecisiveVictorypercent\n",
    "strengthBasedStrategic = 100- strengthStrategicVictorypercent\n",
    "strengthBasedTactical = 100- strengthTacticalVictorypercent\n",
    "\n",
    "casualtiesBased = 100-casualtiesVictorypercent\n",
    "casualtiesBasedDecisive = 100-casualtiesDecisiveVictorypercent\n",
    "casualtiesBasedStrategic = 100-casualtiesStrategicVictorypercent\n",
    "casualtiesBasedTactical = 100-casualtiesTacticalVictorypercent\n",
    "\n",
    "casualtiesStrengthBased = 100-casualtiesStrengthVictorypercent\n",
    "casualtiesStrengthBasedDecisive = 100-casualtiesStrengthDecisiveVictorypercent\n",
    "casualtiesStrengthBasedStrategic = 100-casualtiesStrengthStrategicVictorypercent\n",
    "casualtiesStrengthBasedTactical = 100-casualtiesStrengthTacticalVictorypercent\n",
    "\n",
    "\n",
    "y = [strengthBased, strengthBasedDecisive, strengthBasedStrategic, strengthBasedTactical, casualtiesBased, casualtiesBasedDecisive, casualtiesBasedStrategic, casualtiesBasedTactical, casualtiesStrengthBased, casualtiesStrengthBasedDecisive, casualtiesStrengthBasedStrategic, casualtiesStrengthBasedTactical]\n"
   ]
  },
  {
   "cell_type": "code",
   "execution_count": null,
   "metadata": {},
   "outputs": [],
   "source": [
    "fig, ax = plt.subplots(figsize=(10,5))\n",
    "width = 0.25\n",
    "colors = ['lightcoral','darkseagreen', '#5975A4', 'g']\n",
    "shift=0\n",
    "for i, v in enumerate(y):\n",
    "    if i%4 == 0:\n",
    "        shift = shift+1\n",
    "    else:\n",
    "        shift = shift+(width+0.01)\n",
    "\n",
    "    down = plt.bar(shift, v, width, color=colors[i%4])\n",
    "\n",
    "maj_ticks = [1.4, 3.2, 5]\n",
    "# Sets the minor and major ticks \n",
    "ax.set_xticks(maj_ticks)\n",
    "\n",
    "ax.set_xticklabels([\"Strength\", \"Casualties\", \"Casualties per strength (%)\"], fontsize=15)\n",
    "ax.tick_params(axis='x', which='major', labelsize=20)\n",
    "ax.set_ylim(0,100)\n",
    "ax.set_ylabel('Victory (%)', fontsize=20)\n",
    "ax.tick_params(labelsize=15)\n",
    "plt.legend(['Any', 'Decisive', 'Strategic', 'Tactical'], loc='upper left', fontsize=15, frameon=True)\n",
    "fig.tight_layout()\n",
    "#fig.savefig(FOLDER+'VictoryAdvantage.eps')"
   ]
  },
  {
   "cell_type": "code",
   "execution_count": null,
   "metadata": {
    "collapsed": true
   },
   "outputs": [],
   "source": []
  },
  {
   "cell_type": "code",
   "execution_count": null,
   "metadata": {
    "collapsed": true
   },
   "outputs": [],
   "source": []
  },
  {
   "cell_type": "code",
   "execution_count": null,
   "metadata": {
    "collapsed": true
   },
   "outputs": [],
   "source": []
  },
  {
   "cell_type": "code",
   "execution_count": null,
   "metadata": {
    "collapsed": true
   },
   "outputs": [],
   "source": []
  }
 ],
 "metadata": {
  "kernelspec": {
   "display_name": "Python [conda root]",
   "language": "python",
   "name": "conda-root-py"
  },
  "language_info": {
   "codemirror_mode": {
    "name": "ipython",
    "version": 3
   },
   "file_extension": ".py",
   "mimetype": "text/x-python",
   "name": "python",
   "nbconvert_exporter": "python",
   "pygments_lexer": "ipython3",
   "version": "3.6.1"
  }
 },
 "nbformat": 4,
 "nbformat_minor": 2
}
