{
 "cells": [
  {
   "cell_type": "code",
   "execution_count": null,
   "metadata": {},
   "outputs": [],
   "source": [
    "import os\n",
    "import sys\n",
    "import json\n",
    "import pandas as pd\n",
    "import numpy as np\n",
    "import mwparserfromhell as mw\n",
    "import seaborn as sns\n",
    "import matplotlib.pyplot as plt\n",
    "import re\n",
    "sns.set(style=\"whitegrid\")\n",
    "%matplotlib inline\n",
    "\n",
    "%load_ext autoreload\n",
    "%autoreload 2\n",
    "import processing # this makes the \"processing\" folder available as a python module\n",
    "\n",
    "from features.casualties import get_features\n",
    "#from features.casualtiesOLD import get_casualties, get_features"
   ]
  },
  {
   "cell_type": "code",
   "execution_count": null,
   "metadata": {
    "collapsed": true
   },
   "outputs": [],
   "source": [
    "def densplot(columns, xlabel, title, axo):\n",
    "    for i,v in enumerate(columns):\n",
    "        sns.distplot(v, ax=axo, kde_kws={\"label\": i})\n",
    "    axo.set_title(title)\n",
    "    axo.set_xlabel(xlabel, fontsize=12)\n",
    "    \n",
    "def scatplot(xelem, yelem, xlabel, ylabel, title, axo, polyfit=None):\n",
    "    axo.scatter(xelem, yelem)\n",
    "    if polyfit:\n",
    "        plt.plot(np.unique(xelem), np.poly1d(np.polyfit(xelem, yelem, polyfit))(np.unique(xelem)), 'C2')\n",
    "    axo.set_title(title)\n",
    "    axo.set_xlabel(xlabel, fontsize=12)\n",
    "    axo.set_ylabel(ylabel, fontsize=12)"
   ]
  },
  {
   "cell_type": "code",
   "execution_count": null,
   "metadata": {
    "collapsed": true
   },
   "outputs": [],
   "source": [
    "battles = json.load(open(\"../datasets/battle-fields-0.json\"))\n",
    "df = pd.DataFrame([b[\"infobox\"] for b in battles if not b[\"infobox\"].get(\"error\")])\n",
    "pattern = re.compile(\"^casualties[0-9]\")\n",
    "df = df[[b for b in df.columns if pattern.match(b)]]"
   ]
  },
  {
   "cell_type": "code",
   "execution_count": null,
   "metadata": {},
   "outputs": [],
   "source": [
    "missed1 = get_casualties(df, df['casualties1'],'1')"
   ]
  },
  {
   "cell_type": "code",
   "execution_count": null,
   "metadata": {},
   "outputs": [],
   "source": [
    "missed2 = get_casualties(df, df['casualties2'],'2')"
   ]
  },
  {
   "cell_type": "code",
   "execution_count": null,
   "metadata": {},
   "outputs": [],
   "source": [
    "missed3 = get_casualties(df, df['casualties3'],'3')"
   ]
  },
  {
   "cell_type": "code",
   "execution_count": null,
   "metadata": {},
   "outputs": [],
   "source": [
    "missed4 = get_casualties(df, df['casualties4'],'4')"
   ]
  },
  {
   "cell_type": "code",
   "execution_count": null,
   "metadata": {
    "collapsed": true
   },
   "outputs": [],
   "source": [
    "df.to_csv(\"casualties\")"
   ]
  },
  {
   "cell_type": "code",
   "execution_count": null,
   "metadata": {},
   "outputs": [],
   "source": [
    "print(\"For each casualties columns we have \", missed1, \" \", missed2, \" \", missed3, \" \", missed4, \" lines that contain a number but are not parsed.\")\n"
   ]
  },
  {
   "cell_type": "markdown",
   "metadata": {},
   "source": [
    "Which means that almost 100% of the values have been parsed in each column:"
   ]
  },
  {
   "cell_type": "code",
   "execution_count": null,
   "metadata": {},
   "outputs": [],
   "source": [
    "toPlot = {'casualities1': 100-100*missed1/len(df), 'casualities2': 100-(100*missed2/len(df)), 'casualties3':100-(100*missed3/len(df)), 'casualties4':100-(100*missed4/len(df)) }\n",
    "\n",
    "plt.bar(range(len(toPlot)), toPlot.values())\n",
    "plt.title(\"Percent of parsed rows\")\n",
    "plt.xticks(range(len(toPlot)), toPlot.keys())\n",
    "plt.show()"
   ]
  },
  {
   "cell_type": "code",
   "execution_count": null,
   "metadata": {},
   "outputs": [],
   "source": [
    "pd.options.display.max_colwidth = 200\n",
    "df[['casualties1', 'casualties_1', 'casualties2', 'casualties_2', 'casualties3', 'casualties_3', 'casualties4', 'casualties_4']].head(10)"
   ]
  },
  {
   "cell_type": "markdown",
   "metadata": {},
   "source": [
    "But, we also observe that for a lot of battles, the casualties are not given numerically:"
   ]
  },
  {
   "cell_type": "code",
   "execution_count": null,
   "metadata": {},
   "outputs": [],
   "source": [
    "print(\"Out of \", len(df), \" battles\")\n",
    "df = df.replace(0, np.NaN)\n",
    "c1_sum_null = df['casualties_1'].isnull().sum()\n",
    "c2_sum_null = df['casualties_2'].isnull().sum()\n",
    "c3_sum_null = df['casualties_3'].isnull().sum()\n",
    "c4_sum_null = df['casualties_4'].isnull().sum()\n",
    "print(\"Casualties1 has \", c1_sum_null, \"null values\")\n",
    "print(\"Casualties2 has \", c2_sum_null, \"null values\")\n",
    "print(\"Casualties3 has \", c3_sum_null, \"null values\")\n",
    "print(\"Casualties4 has \", c4_sum_null, \"null values\")\n",
    "\n",
    "toPlot = {'casualities1': 100-100*df['casualties_1'].isnull().sum()/len(df), 'casualities2': 100-(100*df['casualties_2'].isnull().sum()/len(df)), 'casualties3':100-(100*df['casualties_3'].isnull().sum()/len(df)), 'casualties4':100-(100*df['casualties_4'].isnull().sum()/len(df)) }\n",
    "\n",
    "plt.bar(range(len(toPlot)), toPlot.values())\n",
    "plt.title(\"Percent of battles with numeric values for casualties\")\n",
    "plt.xticks(range(len(toPlot)), toPlot.keys())\n",
    "plt.show()"
   ]
  },
  {
   "cell_type": "markdown",
   "metadata": {},
   "source": [
    "We also observe that almost 60% of the battles have numeric values for two combatants."
   ]
  },
  {
   "cell_type": "code",
   "execution_count": null,
   "metadata": {},
   "outputs": [],
   "source": [
    "print(\"averages: \")\n",
    "print(\"casualties_1: \", df['casualties_1'].sum()/(len(df['casualties_1'])-c1_sum_null))\n",
    "print(\"casualties_2: \", df['casualties_2'].sum()/(len(df['casualties_2'])-c1_sum_null))\n",
    "print(\"casualties_3: \", df['casualties_3'].sum()/(len(df['casualties_3'])-c1_sum_null))\n",
    "print(\"casualties_4: \", df['casualties_4'].sum()/(len(df['casualties_4'])-c1_sum_null))"
   ]
  },
  {
   "cell_type": "code",
   "execution_count": null,
   "metadata": {},
   "outputs": [],
   "source": [
    "#size of the subset\n",
    "fig, ((ax1, ax2), (ax3, ax4), (ax5, ax6), (ax7, ax8)) = plt.subplots(nrows=4, ncols=2, sharey=False, figsize=(15,20))\n",
    "densplot([df['casualties_1'].dropna()], 'casualties_1', \"casualties_1 \", ax1)\n",
    "zoom = df.query('casualties_1 >1 and casualties_1 <2000')['casualties_1']\n",
    "densplot([zoom], 'casualties_1', \"casualties_1 under 2000 \", ax2)\n",
    "\n",
    "densplot([df['casualties_2'].dropna()], 'casualties_2', \"casualties_2 \", ax3)\n",
    "zoom = df.query('casualties_2 >1 and casualties_2 <2000')['casualties_2']\n",
    "densplot([zoom], 'casualties_2', \"casualties_2 under 2000 \", ax4)\n",
    "\n",
    "densplot([df['casualties_3'].dropna()], 'casualties_3', \"casualties_3\", ax5)\n",
    "zoom = df.query('casualties_3 >1 and casualties_3 <2000')['casualties_3']\n",
    "densplot([zoom], 'casualties_3', \"casualties_3 under 2000\", ax6)\n",
    "densplot([df['casualties_4'].dropna()], 'casualties_4', \"casualties_4\", ax7)\n",
    "zoom = df.query('casualties_4 >1 and casualties_4 <2000')['casualties_4']\n",
    "densplot([zoom], 'casualties_4', \"casualties_4 under 2000\", ax8)\n",
    "\n",
    "fig.tight_layout()\n",
    "plt.show()\n",
    "\n"
   ]
  },
  {
   "cell_type": "code",
   "execution_count": null,
   "metadata": {
    "collapsed": true
   },
   "outputs": [],
   "source": []
  },
  {
   "cell_type": "code",
   "execution_count": null,
   "metadata": {},
   "outputs": [],
   "source": [
    "c1_zoom = df.query('casualties_1 >1 and casualties_2>1 and casualties_1 <25000 and casualties_2 <25000')['casualties_1']\n",
    "c2_zoom = df.query('casualties_1 >1 and casualties_2>1 and casualties_1 <25000 and casualties_2 <25000')['casualties_2']\n",
    "\n",
    "c1 = df.query('casualties_1 >1 and casualties_2>1')['casualties_1']\n",
    "c2 = df.query('casualties_1 >1 and casualties_2>1')['casualties_2']\n",
    "\n",
    "\n",
    "fig, ((ax1, ax2), (ax3, ax4), (ax5, ax6)) = plt.subplots(nrows=3, ncols=2, sharey=False, figsize=(10,10))\n",
    "scatplot(c1, c2, 'casualities_1', 'casualities_2', \"Casualities 1 vs. 2\", ax1)\n",
    "scatplot(c1_zoom, c2_zoom, 'casualities_1', 'casualities_2', \"Casualities 1 vs. 2 Zoom\", ax2)\n",
    "densplot([abs(c1-c2)], 'c1', \"Difference between c1 and c2\", ax3)\n",
    "densplot([abs(c1_zoom-c2_zoom)], 'c1', \"Difference between c1 and c2\", ax4)\n",
    "ax4.set_xlim(0,10000)\n",
    "scatplot(range(len(c1)), abs(c1-c2), 'c1', 'c2', \"Difference between c1 and c2\", ax5)\n",
    "densplot([100*abs(c1_zoom-c2_zoom)/c1_zoom], 'c1', \"Difference between c1 and c2, distribution\", ax6)\n",
    "ax6.set_xlim(0,10000)\n",
    "fig.tight_layout()\n",
    "plt.show()"
   ]
  },
  {
   "cell_type": "code",
   "execution_count": null,
   "metadata": {},
   "outputs": [],
   "source": [
    "\n",
    "battles = json.load(open(\"../datasets/battle-fields-0.json\"))\n",
    "print(battles[2])\n",
    "print(get_features(battles[2]))"
   ]
  },
  {
   "cell_type": "code",
   "execution_count": null,
   "metadata": {
    "collapsed": true
   },
   "outputs": [],
   "source": []
  }
 ],
 "metadata": {
  "kernelspec": {
   "display_name": "Python [default]",
   "language": "python",
   "name": "python3"
  },
  "language_info": {
   "codemirror_mode": {
    "name": "ipython",
    "version": 3
   },
   "file_extension": ".py",
   "mimetype": "text/x-python",
   "name": "python",
   "nbconvert_exporter": "python",
   "pygments_lexer": "ipython3",
   "version": "3.5.4"
  }
 },
 "nbformat": 4,
 "nbformat_minor": 2
}
