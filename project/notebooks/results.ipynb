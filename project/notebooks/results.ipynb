{
 "cells": [
  {
   "cell_type": "code",
   "execution_count": null,
   "metadata": {},
   "outputs": [],
   "source": [
    "import os\n",
    "import sys\n",
    "import json\n",
    "import pandas as pd\n",
    "import numpy as np\n",
    "import mwparserfromhell as mw\n",
    "import seaborn as sns\n",
    "import matplotlib.pyplot as plt\n",
    "\n",
    "sns.set(style=\"whitegrid\")\n",
    "%matplotlib inline\n",
    "\n",
    "%load_ext autoreload\n",
    "%autoreload 2\n",
    "import processing # this makes the \"processing\" folder available as a python module\n",
    "\n",
    "from features.combatants import get_combatant, get_combatants\n",
    "from features.results import get_results, get_attrib_score, results_dicts_to_features, get_features,RESULT_TYPES_P\n",
    "from utils import remove_ref, get_templates"
   ]
  },
  {
   "cell_type": "code",
   "execution_count": null,
   "metadata": {},
   "outputs": [],
   "source": [
    "battles = json.load(open(\"../datasets/battle-fields-0.json\"))\n",
    "\n",
    "df = pd.DataFrame([get_features(battle, get_combatants(battle)) for battle in battles if not battle[\"infobox\"].get(\"error\")])"
   ]
  },
  {
   "cell_type": "code",
   "execution_count": null,
   "metadata": {},
   "outputs": [],
   "source": [
    "df[df[\"indecisive\"]]"
   ]
  },
  {
   "cell_type": "code",
   "execution_count": null,
   "metadata": {
    "scrolled": false
   },
   "outputs": [],
   "source": [
    "battles = json.load(open(\"../datasets/battle-fields-0.json\"))\n",
    "results = [b for b in battles if not b[\"infobox\"].get(\"error\")][:1000]\n",
    "parsed = [(get_results(r, get_combatants(r))) if r else None for r in results]\n",
    "for results in parsed:\n",
    "    if len(results) > 1:\n",
    "        print(\"=======================================================================\")\n",
    "        print(json.dumps(results, indent=2))\n",
    "        print(\"__________________________\")\n",
    "        print(json.dumps(results_dicts_to_features(results), indent=2))"
   ]
  }
 ],
 "metadata": {
  "kernelspec": {
   "display_name": "Python 3",
   "language": "python",
   "name": "python3"
  },
  "language_info": {
   "codemirror_mode": {
    "name": "ipython",
    "version": 3
   },
   "file_extension": ".py",
   "mimetype": "text/x-python",
   "name": "python",
   "nbconvert_exporter": "python",
   "pygments_lexer": "ipython3",
   "version": "3.5.4"
  }
 },
 "nbformat": 4,
 "nbformat_minor": 2
}
