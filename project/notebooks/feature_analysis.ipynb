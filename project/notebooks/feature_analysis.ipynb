{
 "cells": [
  {
   "cell_type": "markdown",
   "metadata": {},
   "source": [
    "### Features exploration\n",
    "\n",
    "We start with a descriptive analysis of the different features separately and then combined.\n",
    "We first fetch the data from the end of our pipeline."
   ]
  },
  {
   "cell_type": "code",
   "execution_count": null,
   "metadata": {
    "collapsed": true
   },
   "outputs": [],
   "source": [
    "import json\n",
    "import sys\n",
    "import os\n",
    "import pandas as pd\n",
    "import numpy as np\n",
    "import seaborn as sns\n",
    "import matplotlib.pyplot as plt\n",
    "sns.set(style=\"whitegrid\")\n",
    "%matplotlib inline"
   ]
  },
  {
   "cell_type": "markdown",
   "metadata": {},
   "source": [
    "We group here all our functions to plot:"
   ]
  },
  {
   "cell_type": "code",
   "execution_count": null,
   "metadata": {
    "collapsed": true
   },
   "outputs": [],
   "source": [
    "def densplot(columns, xlabel, title, axo):\n",
    "    for i,v in enumerate(columns):\n",
    "        sns.distplot(v, ax=axo, kde_kws={\"label\": i})\n",
    "    axo.set_title(title)\n",
    "    axo.set_xlabel(xlabel, fontsize=12)\n",
    "    \n",
    "def scatplot(xelem, yelem, xlabel, ylabel, title, axo, polyfit=None):\n",
    "    axo.scatter(xelem, yelem)\n",
    "    if polyfit:\n",
    "        plt.plot(np.unique(xelem), np.poly1d(np.polyfit(xelem, yelem, polyfit))(np.unique(xelem)), 'C2')\n",
    "    axo.set_title(title)\n",
    "    axo.set_xlabel(xlabel, fontsize=12)\n",
    "    axo.set_ylabel(ylabel, fontsize=12)"
   ]
  },
  {
   "cell_type": "code",
   "execution_count": null,
   "metadata": {
    "collapsed": true
   },
   "outputs": [],
   "source": [
    "battles = [json.loads(line) for line in open(\"../datasets/battle-features-0.json\")]\n",
    "df = pd.DataFrame(battles).replace(0, np.NaN)"
   ]
  },
  {
   "cell_type": "markdown",
   "metadata": {},
   "source": [
    "#### Casualties\n",
    "\n",
    "A battle has at maximum casualties for 4 different combatants (\"casualties_1\", \"casualties_2\", ...). And each casualties information can contain a number of people \"killed\", \"wounded\", \"missing\" or \"captured\". When possible, we also fetched (parsed) these data. We have observed that for multiple battles, wikipedia was referencing multiple sources for the same number and we handled this by doing the average of the values. We also did the average for range values. "
   ]
  },
  {
   "cell_type": "code",
   "execution_count": null,
   "metadata": {},
   "outputs": [],
   "source": [
    "\n",
    "df[['killed_1', 'wounded_1', 'missing_1', 'captured_1', 'casualties_1']].head()"
   ]
  },
  {
   "cell_type": "code",
   "execution_count": null,
   "metadata": {},
   "outputs": [],
   "source": [
    "df[['killed_1', 'wounded_1', 'missing_1', 'captured_1', 'casualties_1', 'killed_2', 'wounded_2', 'missing_2', 'captured_2', 'casualties_2']].count()"
   ]
  },
  {
   "cell_type": "markdown",
   "metadata": {},
   "source": [
    "We observe that the casualties is most of the time defined by the number of killed and wounded people.\n",
    "We focus on the total number of casualties for this descriptive analysis and will go into more details in the future exploratory analysis."
   ]
  },
  {
   "cell_type": "markdown",
   "metadata": {},
   "source": [
    "We observe that the dataset contains a lot of NaN values. This is mainly because there is no numeric information for the casualties. In our data extraction pipeline we have observed that casualties_1 and casualties_2 contain only 79 and 80 lines (battles) that have a numeric information but cannot be parsed.  "
   ]
  },
  {
   "cell_type": "code",
   "execution_count": null,
   "metadata": {},
   "outputs": [],
   "source": [
    "sums_null = df[['casualties_1', 'casualties_2', 'casualties_3', 'casualties_4']].isnull().sum()\n",
    "sums_non_null_percent = 100-(100*sums_null/len(df))\n",
    "print(\"number of null values\")\n",
    "print(sums_null)\n",
    "print(\"number of non null values\")\n",
    "print(len(df)-sums_null)\n",
    "plt.bar(range(len(sums_null)), sums_non_null_percent)\n",
    "plt.title(\"Percent of battles with numeric values for casualties\")\n",
    "plt.xticks(range(len(sums_null)), sums_null.keys())\n",
    "plt.show()"
   ]
  },
  {
   "cell_type": "markdown",
   "metadata": {},
   "source": [
    "We also observe that almost 60% of the battles have numeric values for two combatants (\"casualties_1\" and \"casualties_2\"). We also notice that casualties_1 and 2 have more data points than the other. This makes sense as we can usually consider two opposite sides in a battle.\n",
    "Each casualties feature has an average of:"
   ]
  },
  {
   "cell_type": "code",
   "execution_count": null,
   "metadata": {},
   "outputs": [],
   "source": [
    "averages = df[['casualties_1', 'casualties_2', 'casualties_3', 'casualties_4']].mean()\n",
    "print(averages)"
   ]
  },
  {
   "cell_type": "markdown",
   "metadata": {},
   "source": [
    "We can see that the average for 1 and 3 are close, while casualties_2 is higher. This may indicate that usually the combatant 2 (to which corresponds casualties_2) is usually the looser of the battle. Even though it is too early to jump to conclusions !!\n",
    "In the following, we observe the distributions of the features. Since casualties_4 only has 5 data points, we do not use it in our analysis."
   ]
  },
  {
   "cell_type": "code",
   "execution_count": null,
   "metadata": {},
   "outputs": [],
   "source": [
    "fig, ((ax1, ax2), (ax3, ax4), (ax5, ax6)) = plt.subplots(nrows=3, ncols=2, sharey=False, figsize=(15,20))\n",
    "densplot([df['casualties_1'].dropna()], 'casualties_1', \"casualties_1 density\", ax1)\n",
    "densplot([df.query('2000 > casualties_1 >1')['casualties_1']], 'casualties_1', \"casualties_1 density (ZOOM) \", ax2)\n",
    "\n",
    "densplot([df['casualties_2'].dropna()], 'casualties_2', \"casualties_2 density\", ax3)\n",
    "densplot([df.query('2000 > casualties_2 >1')['casualties_2']], 'casualties_2', \"casualties_2 density (ZOOM) \", ax4)\n",
    "\n",
    "densplot([df['casualties_3'].dropna()], 'casualties_3', \"casualties_3 density\", ax5)\n",
    "densplot([df.query('2000 > casualties_3 >1')['casualties_3']], 'casualties_3', \"casualties_3 density (ZOOM) \", ax6)\n",
    "\n",
    "fig.tight_layout()\n",
    "plt.show()"
   ]
  },
  {
   "cell_type": "markdown",
   "metadata": {},
   "source": [
    "We observe that casualties 1,2 and 3 are all pretty sparsed in their values while they all have there peak for small casualties values. By \"zooming\", we observe that most of the values are between 0 and 2000 casualties. For casualties_4 which contain much less data points, we observe that the values are between 0 and 2000 too."
   ]
  },
  {
   "cell_type": "markdown",
   "metadata": {},
   "source": [
    "For the remaining of our analysis for this feature we will focus on casualties_1 (c1) and casualties_2 (c2).\n",
    "We first observe that 3782 out of the 4392 (min(#casualties_1, #casualties_2)) battles have information on two combatants' casualties."
   ]
  },
  {
   "cell_type": "code",
   "execution_count": null,
   "metadata": {},
   "outputs": [],
   "source": [
    "print(\"number of battles with values for c1 and c2: \", (len(df.query('0 < casualties_1 and 0 < casualties_2')['casualties_1'])))"
   ]
  },
  {
   "cell_type": "markdown",
   "metadata": {},
   "source": [
    "As a first step towards our future exploratory analysis, we can combine these two features, to see if, for example, high casualties for 1 combatant, means also high casualties for the other."
   ]
  },
  {
   "cell_type": "code",
   "execution_count": null,
   "metadata": {},
   "outputs": [],
   "source": [
    "c1_zoom = df.query('25000 > casualties_1 >1 and 25000 > casualties_2 > 1')['casualties_1']\n",
    "c2_zoom = df.query('25000 > casualties_1 >1 and 25000 > casualties_2 > 1')['casualties_2']\n",
    "\n",
    "c1 = df.query('casualties_1 >1 and casualties_2>1')['casualties_1']\n",
    "c2 = df.query('casualties_1 >1 and casualties_2>1')['casualties_2']\n",
    "\n",
    "\n",
    "fig, ((ax1, ax2), (ax3, ax4)) = plt.subplots(nrows=2, ncols=2, sharey=False, figsize=(10,10))\n",
    "scatplot(c1, c2, 'casualities_1', 'casualities_2', \"Casualities 1 vs. 2\", ax1)\n",
    "scatplot(c1_zoom, c2_zoom, 'casualities_1', 'casualities_2', \"Casualities 1 vs. 2 (ZOOM)\", ax2)\n",
    "densplot([abs(c1-c2)], 'c1', \"Difference between c1 and c2 in density\", ax3)\n",
    "densplot([abs(c1_zoom-c2_zoom)], 'c1', \"Difference between c1 and c2 in density (ZOOM)\", ax4)\n",
    "ax4.set_xlim(0,10000)\n",
    "fig.tight_layout()\n",
    "plt.show()"
   ]
  },
  {
   "cell_type": "markdown",
   "metadata": {},
   "source": [
    "We observe that the difference between the casualties is concentrated to 0. We observe that we cannot conclude that high casualties on one side does not mean high casualties for the other."
   ]
  },
  {
   "cell_type": "markdown",
   "metadata": {},
   "source": [
    "#### Strengths\n",
    "\n",
    "Strength is the number of men involved in a battle. A battle has at maximum strength information for 3 different combatants (\"strength_1\", \"strength_2\", ...). We also did the average for range values. "
   ]
  },
  {
   "cell_type": "code",
   "execution_count": null,
   "metadata": {},
   "outputs": [],
   "source": [
    "df[['strength_1', 'strength_2', 'strength_3']].head()"
   ]
  },
  {
   "cell_type": "markdown",
   "metadata": {},
   "source": [
    "We observe that the dataset contains a lot of NaN values. This is mainly because there is no numeric information for the strength. In our data extraction pipeline we have observed that strength_1 and strength_2 contain only 120 and 110 lines (battles) that have a numeric information but cannot be parsed. (this cans also be the case that it is numeric information but irrelevant, so it is not parsed on purpose."
   ]
  },
  {
   "cell_type": "code",
   "execution_count": null,
   "metadata": {},
   "outputs": [],
   "source": [
    "sums_null = df[['strength_1', 'strength_2', 'strength_3']].isnull().sum()\n",
    "sums_non_null_percent = 100-(100*sums_null/len(df))\n",
    "print(\"number of null values\")\n",
    "print(sums_null)\n",
    "print(\"number of non null values\")\n",
    "print(len(df)-sums_null)\n",
    "plt.bar(range(len(sums_null)), sums_non_null_percent)\n",
    "plt.title(\"Percent of battles with numeric values for casualties\")\n",
    "plt.xticks(range(len(sums_null)), sums_null.keys())\n",
    "plt.show()"
   ]
  },
  {
   "cell_type": "markdown",
   "metadata": {},
   "source": [
    "We also observe that almost 70% of the battles have numeric values for two combatants (\"strength_1\" and \"strength_2\"). We also notice that strength_1 and 2 have more data points than the other. Again, this makes sense as we can usually consider two opposite sides in a battle.\n",
    "Each casualties feature has an average of:"
   ]
  },
  {
   "cell_type": "code",
   "execution_count": null,
   "metadata": {},
   "outputs": [],
   "source": [
    "averages_strength = df[['strength_1', 'strength_2', 'strength_3']].mean()\n",
    "print(averages_strength)"
   ]
  },
  {
   "cell_type": "markdown",
   "metadata": {},
   "source": [
    "We can see that the average for the 3 features is pretty similar. This may indicate that usually the battles oppose two sides that have a similar number of fighters.\n",
    "We observe the distributions of the features: (Again we will focus on the first two as the last one only has 14 data points)"
   ]
  },
  {
   "cell_type": "code",
   "execution_count": null,
   "metadata": {},
   "outputs": [],
   "source": [
    "fig, ((ax1, ax2), (ax3, ax4)) = plt.subplots(nrows=2, ncols=2, sharey=False, figsize=(15,10))\n",
    "densplot([df['strength_1'].dropna()], 'strength_1', \"strength_1 density\", ax1)\n",
    "densplot([df.query('2000 > strength_1 >1')['strength_1']], 'strength_1', \"strength_1 density (ZOOM) \", ax2)\n",
    "\n",
    "densplot([df['strength_2'].dropna()], 'strength_2', \"strength_2 density\", ax3)\n",
    "densplot([df.query('2000 > strength_2 >1')['strength_2']], 'strength_2', \"strength_2 density (ZOOM) \", ax4)\n",
    "\n",
    "fig.tight_layout()\n",
    "plt.show()"
   ]
  },
  {
   "cell_type": "markdown",
   "metadata": {},
   "source": [
    "We observe similar results as for casualties, in fact strength 1,2 and 3 are all pretty sparsed in their values while they all have there peak for small strength values. By \"zooming\", we observe that most of the values are between 0 and 2000 for strength."
   ]
  },
  {
   "cell_type": "markdown",
   "metadata": {},
   "source": [
    "For the remaining of our analysis for this feature we will focus on strength_1 (s1) and strength_2 (s2).\n",
    "We first observe that 4383 out of the 5104 (min(#strength_1, #strength_2)) battles have information on two combatants' strengths."
   ]
  },
  {
   "cell_type": "code",
   "execution_count": null,
   "metadata": {},
   "outputs": [],
   "source": [
    "print(\"number of battles with values for s1 and s2: \", (len(df.query('1 < strength_1 and strength_2 > 1')['strength_1'])))"
   ]
  },
  {
   "cell_type": "markdown",
   "metadata": {},
   "source": [
    "We now combine these two features, to see if, for example, high strength for 1 combatant, means also high strength for the other, as the average and distribution results tend to show."
   ]
  },
  {
   "cell_type": "code",
   "execution_count": null,
   "metadata": {},
   "outputs": [],
   "source": [
    "s1_zoom = df.query('25000 > strength_1 >1 and 25000 > strength_2 > 1')['strength_1']\n",
    "s2_zoom = df.query('25000 > strength_1 >1 and 25000 > strength_2 > 1')['strength_2']\n",
    "\n",
    "s1 = df.query('strength_1 >1 and strength_2>1')['strength_1']\n",
    "s2 = df.query('strength_1 >1 and strength_2>1')['strength_2']\n",
    "\n",
    "\n",
    "fig, ((ax1, ax2), (ax3, ax4)) = plt.subplots(nrows=2, ncols=2, sharey=False, figsize=(13,10))\n",
    "scatplot(s1, s2, 'strength_1', 'strength_2', \"Strengths 1 vs. 2\", ax1)\n",
    "scatplot(s1_zoom, s2_zoom, 'strength_1', 'strength_2', \"strength 1 vs. 2 (ZOOM)\", ax2)\n",
    "densplot([abs(s1-s2)], 's1', \"Difference between s1 and s2 in density\", ax3)\n",
    "densplot([abs(s1_zoom-s2_zoom)], 's1', \"Difference between s1 and s2 in density (ZOOM)\", ax4)\n",
    "ax4.set_xlim(0,10000)\n",
    "fig.tight_layout()\n",
    "plt.show()"
   ]
  },
  {
   "cell_type": "markdown",
   "metadata": {},
   "source": [
    "These first results tend to show that usually the battles oppose two sides with a close strength. Indeed, the difference between the two strength is usually small. We also observe that, the number seems to be pretty often round up in wikipedia by looking at the top right graph where we can see kind of grid patterns."
   ]
  },
  {
   "cell_type": "markdown",
   "metadata": {
    "collapsed": true
   },
   "source": [
    "#### Combatants\n",
    "\n",
    "A battle has at maximum 3 different combatants (\"combatant_1\", \"combatant_2\", ...). We have noticed that wikipedia often contains multiple combatants in one combatant feature. For examples, during the world war, the battles usually opposed two sides while each side was made of an alliance of multiple combatants. Thus, we retrieve the main combatant and a list of all the combatants present for each battle for each feature."
   ]
  },
  {
   "cell_type": "code",
   "execution_count": null,
   "metadata": {},
   "outputs": [],
   "source": [
    "df[['combatant_first_1', 'combatant_list_1', 'combatant_first_2', 'combatant_list_2']].head()"
   ]
  },
  {
   "cell_type": "code",
   "execution_count": null,
   "metadata": {},
   "outputs": [],
   "source": [
    "sums_null = df[['combatant_first_1', 'combatant_first_2', 'combatant_first_3']].isnull().sum()\n",
    "sums_non_null_percent = 100-(100*sums_null/len(df))\n",
    "print(\"number of null values\")\n",
    "print(sums_null)\n",
    "print(\"number of non null values\")\n",
    "print(len(df)-sums_null)\n",
    "plt.bar(range(len(sums_null)), sums_non_null_percent)\n",
    "plt.title(\"Percent of battles with numeric values for casualties\")\n",
    "plt.xticks(range(len(sums_null)), sums_null.keys())\n",
    "plt.show()"
   ]
  },
  {
   "cell_type": "markdown",
   "metadata": {},
   "source": [
    "We observe that in contrary with the previous features, most of the battles contain information about the combatants. Again most of the battles are between two (group of) combatants."
   ]
  },
  {
   "cell_type": "markdown",
   "metadata": {},
   "source": [
    "Since the number of different combatants is pretty high: 4719. We will show here the 50 combatants that participated in the higher number of battles. An not surprisingly (!), the U.S. are first, right before France and Spain."
   ]
  },
  {
   "cell_type": "code",
   "execution_count": null,
   "metadata": {},
   "outputs": [],
   "source": [
    "print(\"Number of different combatants \", len(names.value_counts()))"
   ]
  },
  {
   "cell_type": "code",
   "execution_count": null,
   "metadata": {},
   "outputs": [],
   "source": [
    "cbt_1 = np.array(df[\"combatant_list_1\"].dropna())\n",
    "cbt_2 = np.array(df[\"combatant_list_2\"].dropna())\n",
    "cbt_3 = np.array(df[\"combatant_list_3\"].dropna())\n",
    "print(len(cbt_1), len(cbt_2), len(cbt_3))\n",
    "\n",
    "cbt_all = np.concatenate((cbt_1, cbt_2, cbt_3))\n",
    "\n",
    "all_cbt_names = [c for cl in cbt_all for c in cl]\n",
    "names = pd.Series(all_cbt_names)\n",
    "print(len(set(all_cbt_names)))\n",
    "\n",
    "f, ax = plt.subplots(figsize=(6, 15))\n",
    "counts = names.value_counts().sort_values(ascending=False)\n",
    "counts = counts.head(50)\n",
    "sns.barplot(x=counts, y=counts.index, ax=ax)\n",
    "counts"
   ]
  },
  {
   "cell_type": "markdown",
   "metadata": {},
   "source": [
    "#### Results\n",
    "\n",
    "When parsing the battles' results, we mapped them to a qualifier and a result type.\n",
    "A qualifier can be: \"decisive\", \"major\", \"crushing\", \"tactical\" or \"strategic\", while the result type is in: \"victory\", \"defeat\", \"retreat\".\n",
    "The results correspond then to each combatant (or group of combatant)."
   ]
  },
  {
   "cell_type": "code",
   "execution_count": null,
   "metadata": {},
   "outputs": [],
   "source": [
    "df[[result_combatant_1]]"
   ]
  },
  {
   "cell_type": "code",
   "execution_count": null,
   "metadata": {
    "collapsed": true
   },
   "outputs": [],
   "source": []
  }
 ],
 "metadata": {
  "kernelspec": {
   "display_name": "Python [conda root]",
   "language": "python",
   "name": "conda-root-py"
  },
  "language_info": {
   "codemirror_mode": {
    "name": "ipython",
    "version": 3
   },
   "file_extension": ".py",
   "mimetype": "text/x-python",
   "name": "python",
   "nbconvert_exporter": "python",
   "pygments_lexer": "ipython3",
   "version": "3.6.1"
  }
 },
 "nbformat": 4,
 "nbformat_minor": 2
}
