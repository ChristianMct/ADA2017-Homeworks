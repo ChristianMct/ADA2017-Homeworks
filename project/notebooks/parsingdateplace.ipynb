{
 "cells": [
  {
   "cell_type": "code",
   "execution_count": null,
   "metadata": {},
   "outputs": [],
   "source": [
    "import pandas as pd\n",
    "import json\n",
    "import json, pprint, re, datetime\n",
    "import mwparserfromhell as mw\n",
    "import re\n",
    "import calendar\n",
    "from daterangeparser import parse\n",
    "%load_ext autoreload\n",
    "%autoreload 2\n",
    "import processing # this makes the \"processing\" folder available as a python module\n",
    "from features.date import get_daterange"
   ]
  },
  {
   "cell_type": "code",
   "execution_count": null,
   "metadata": {},
   "outputs": [],
   "source": [
    "data= \"../datasets/battle-fields-0.json\"\n",
    "df= pd.read_json(data)\n",
    "df['start_day']='empty'\n",
    "df['start_month']='empty'\n",
    "df['start_year']='empty'\n",
    "df['end_day']='empty'\n",
    "df['end_month']='empty'\n",
    "df['end_year']='empty'"
   ]
  },
  {
   "cell_type": "code",
   "execution_count": null,
   "metadata": {
    "scrolled": false
   },
   "outputs": [],
   "source": [
    "data= \"../datasets/battle-fields-0.json\"\n",
    "battles = json.load(open(data))\n",
    "\n",
    "dates = [b[\"infobox\"][\"date\"] for b in battles if b[\"infobox\"].get(\"date\") != None]\n",
    "wi = mw.parse(dates[3])\n",
    "\n",
    "parsed_dates = [get_daterange(d) for d in dates[:100]]"
   ]
  },
  {
   "cell_type": "code",
   "execution_count": null,
   "metadata": {
    "scrolled": true
   },
   "outputs": [],
   "source": [
    "df = pd.DataFrame(parsed_dates)\n",
    "df"
   ]
  },
  {
   "cell_type": "code",
   "execution_count": null,
   "metadata": {},
   "outputs": [],
   "source": []
  },
  {
   "cell_type": "code",
   "execution_count": null,
   "metadata": {
    "scrolled": true
   },
   "outputs": [],
   "source": [
    "\n",
    "for i in range(5406,len(df['start_day'])):\n",
    "    if 'error' in df.infobox[i]:\n",
    "        df.start_day[i]='noinfo'\n",
    "        df.end_day[i]='noinfo'\n",
    "        df.start_month[i]='noinfo'\n",
    "        df.end_month[i]='noinfo'\n",
    "        df.start_year[i]='noinfo'\n",
    "        df.end_year[i]='noinfo'\n",
    "    elif 'date' not in df.infobox[i].keys():\n",
    "        df.start_day[i]='nodate'\n",
    "        df.end_day[i]='nodate'\n",
    "        df.start_month[i]='nodate'\n",
    "        df.end_month[i]='nodate'\n",
    "        df.start_year[i]='nodate'\n",
    "        df.end_year[i]='nodate'\n",
    "    elif re.search('\\sBC\\s',df.infobox[i]['date']):\n",
    "        if re.search('(\\d{1,2})\\s(\\w{3,9})\\s(\\d{1,4})\\sBC',df.infobox[i]['date']):\n",
    "            df.start_day[i]=int(re.search('(\\d{1,2})\\s(\\w{3,9})\\s(\\d{1,4})\\sBC',df.infobox[i]['date']).group(1))\n",
    "            month=re.search('(\\d{1,2})\\s(\\w{3,9})\\s(\\d{1,4})\\sBC',df.infobox[i]['date']).group(2)\n",
    "            df.start_month[i]=datetime.datetime.strptime(month[:3], '%b').month\n",
    "            df.start_year[i]=-int(re.search('(\\d{1,2})\\s(\\w{3,9})\\s(\\d{1,4})\\sBC',df.infobox[i]['date']).group(3))\n",
    "            df.end_day[i]=df.start_day[i]\n",
    "            df.end_month[i]=df.start_month[i]\n",
    "            df.end_year[i]=df.start_year[i]\n",
    "        if re.search('(\\w{3,9}),\\s(\\d{1,4})\\sBC',df.infobox[i]['date']):\n",
    "            df.start_day[i]=0\n",
    "            month=re.search('(\\w{3,9}),\\s(\\d{1,4})\\sBC',df.infobox[i]['date']).group(1)\n",
    "            df.start_month[i]=datetime.datetime.strptime(month[:3], '%b').month\n",
    "            df.start_year[i]=-int(re.search('(\\w{3,9}),\\s(\\d{1,4})\\sBC',df.infobox[i]['date']).group(2))\n",
    "            df.end_day[i]=df.start_day[i]\n",
    "            df.end_month[i]=df.start_month[i]\n",
    "            df.end_year[i]=df.start_year[i]\n",
    "        elif re.search('(\\w{3,9})\\s(\\d{1,2})\\sand\\s\\d{1,2},\\s(\\d{1,4})\\sBC',df.infobox[i]['date']):\n",
    "            df.start_day[i]=int(re.search('(\\w{3,9})\\s(\\d{1,2})\\sand\\s\\d{1,2},\\s(\\d{1,4})\\sBC',df.infobox[i]['date']).group(2))\n",
    "            stmonth=re.search('(\\w{3,9})\\s(\\d{1,2})\\sand\\s\\d{1,2},\\s(\\d{1,4})\\sBC',df.infobox[i]['date']).group(1)\n",
    "            df.start_month[i]=datetime.datetime.strptime(stmonth[:3], '%b').month\n",
    "            df.start_year[i]=-int(re.search('(\\w{3,9})\\s(\\d{1,2})\\sand\\s\\d{1,2},\\s(\\d{1,4})\\sBC',df.infobox[i]['date']).group(3))\n",
    "            df.end_day[i]=df.start_day[i]\n",
    "            enmonth=stmonth\n",
    "            df.end_month[i]=datetime.datetime.strptime(enmonth[:3], '%b').month\n",
    "            df.end_year[i]=df.start_year[i]\n",
    "        elif re.search('^(\\w{3,9})/(\\w{3,9})\\s.*,\\s(\\d{1,4})\\sBC',df.infobox[i]['date']):\n",
    "            df.start_day[i]=0\n",
    "            stmonth=re.search('(\\w{3,9})/(\\w{3,9})\\s.*,\\s(\\d{1,4})\\sBC',df.infobox[i]['date']).group(1)\n",
    "            df.start_month[i]=datetime.datetime.strptime(stmonth[:3], '%b').month\n",
    "            df.start_year[i]=-int(re.search('(\\w{3,9})/(\\w{3,9})\\s.*,\\s(\\d{1,4})\\sBC',df.infobox[i]['date']).group(3))\n",
    "            df.end_day[i]=0\n",
    "            enmonth=re.search('(\\w{3,9})/(\\w{3,9})\\s.*,\\s(\\d{1,4})\\sBC',df.infobox[i]['date']).group(2)\n",
    "            df.end_month[i]=datetime.datetime.strptime(enmonth[:3], '%b').month\n",
    "            df.end_year[i]=df.start_year[i]\n",
    "        elif re.search('(\\d{1,4})\\sBC',df.infobox[i]['date']):\n",
    "            df.start_day[i]=0\n",
    "            df.start_month[i]=0\n",
    "            df.start_year[i]=-int(re.search('(\\d{1,4})\\sBC',df.infobox[i]['date']).group(1))\n",
    "            df.end_day[i]=0\n",
    "            df.end_month[i]=0\n",
    "            df.end_year[i]=df.start_year[i]  \n",
    "            \n",
    "    elif re.search('(\\d{1,2})\\s(\\w{3,9})\\s(\\d{1,4})\\s–\\s(\\d{1,2})\\s(\\w{3,9})\\s(\\d{1,4})',df.infobox[i]['date']):\n",
    "        df.start_day[i]=int(re.search('(\\d{1,2})\\s(\\w{3,9})\\s(\\d{1,4})\\s–\\s(\\d{1,2})\\s(\\w{3,9})\\s(\\d{1,4})',df.infobox[i]['date']).group(1))\n",
    "        stmonth=re.search('(\\d{1,2})\\s(\\w{3,9})\\s(\\d{1,4})\\s–\\s(\\d{1,2})\\s(\\w{3,9})\\s(\\d{1,4})',df.infobox[i]['date']).group(2)\n",
    "        df.start_month[i]=datetime.datetime.strptime(stmonth[:3], '%b').month\n",
    "        df.start_year[i]=int(re.search('(\\d{1,2})\\s(\\w{3,9})\\s(\\d{1,4})\\s–\\s(\\d{1,2})\\s(\\w{3,9})\\s(\\d{1,4})',df.infobox[i]['date']).group(3))\n",
    "        df.end_day[i]=int(re.search('(\\d{1,2})\\s(\\w{3,9})\\s(\\d{1,4})\\s–\\s(\\d{1,2})\\s(\\w{3,9})\\s(\\d{1,4})',df.infobox[i]['date']).group(4))\n",
    "        enmonth=re.search('(\\d{1,2})\\s(\\w{3,9})\\s(\\d{1,4})\\s–\\s(\\d{1,2})\\s(\\w{3,9})\\s(\\d{1,4})',df.infobox[i]['date']).group(5)\n",
    "        df.end_month[i]=datetime.datetime.strptime(enmonth[:3], '%b').month\n",
    "        df.end_year[i]=int(re.search('(\\d{1,2})\\s(\\w{3,9})\\s(\\d{1,4})\\s–\\s(\\d{1,2})\\s(\\w{3,9})\\s(\\d{1,4})',df.infobox[i]['date']).group(6))\n",
    "    elif re.search('(\\d{1,2})\\s(\\w{3,9})\\s–\\s(\\d{1,2})\\s(\\w{3,9})\\s(\\d{1,4})',df.infobox[i]['date']):\n",
    "        df.start_day[i]=int(re.search('(\\d{1,2})\\s(\\w{3,9})\\s–\\s(\\d{1,2})\\s(\\w{3,9})\\s(\\d{1,4})',df.infobox[i]['date']).group(1))\n",
    "        stmonth=re.search('(\\d{1,2})\\s(\\w{3,9})\\s–\\s(\\d{1,2})\\s(\\w{3,9})\\s(\\d{1,4})',df.infobox[i]['date']).group(2)\n",
    "        df.start_month[i]=datetime.datetime.strptime(stmonth[:3], '%b').month\n",
    "        df.start_year[i]=int(re.search('(\\d{1,2})\\s(\\w{3,9})\\s–\\s(\\d{1,2})\\s(\\w{3,9})\\s(\\d{1,4})',df.infobox[i]['date']).group(5))\n",
    "        df.end_day[i]=int(re.search('(\\d{1,2})\\s(\\w{3,9})\\s–\\s(\\d{1,2})\\s(\\w{3,9})\\s(\\d{1,4})',df.infobox[i]['date']).group(3))\n",
    "        enmonth=re.search('(\\d{1,2})\\s(\\w{3,9})\\s–\\s(\\d{1,2})\\s(\\w{3,9})\\s(\\d{1,4})',df.infobox[i]['date']).group(4)\n",
    "        df.end_month[i]=datetime.datetime.strptime(enmonth[:3], '%b').month\n",
    "        df.end_year[i]=int(re.search('(\\d{1,2})\\s(\\w{3,9})\\s–\\s(\\d{1,2})\\s(\\w{3,9})\\s(\\d{1,4})',df.infobox[i]['date']).group(5))\n",
    "    elif re.search('(\\d{1,2})–(\\d{1,2})\\s(\\w{3,9})\\s(\\d{1,4})',df.infobox[i]['date']):\n",
    "        df.start_day[i]=int(re.search('(\\d{1,2})–(\\d{1,2})\\s(\\w{3,9})\\s(\\d{1,4})',df.infobox[i]['date']).group(1))\n",
    "        stmonth=re.search('(\\d{1,2})–(\\d{1,2})\\s(\\w{3,9})\\s(\\d{1,4})',df.infobox[i]['date']).group(3)\n",
    "        df.start_month[i]=datetime.datetime.strptime(stmonth[:3], '%b').month\n",
    "        df.start_year[i]=int(re.search('(\\d{1,2})–(\\d{1,2})\\s(\\w{3,9})\\s(\\d{1,4})',df.infobox[i]['date']).group(4))\n",
    "        df.end_day[i]=int(re.search('(\\d{1,2})–(\\d{1,2})\\s(\\w{3,9})\\s(\\d{1,4})',df.infobox[i]['date']).group(2))\n",
    "        enmonth=re.search('(\\d{1,2})–(\\d{1,2})\\s(\\w{3,9})\\s(\\d{1,4})',df.infobox[i]['date']).group(3)\n",
    "        df.end_month[i]=datetime.datetime.strptime(enmonth[:3], '%b').month\n",
    "        df.end_year[i]=int(re.search('(\\d{1,2})–(\\d{1,2})\\s(\\w{3,9})\\s(\\d{1,4})',df.infobox[i]['date']).group(4))\n",
    "    elif re.search('late\\s(\\d{1,4})',df.infobox[i]['date']):\n",
    "        df.start_day[i]=0\n",
    "        df.start_month[i]=0\n",
    "        df.start_year[i]=int(re.search('late\\s(\\d{1,4})',df.infobox[i]['date']).group(1))\n",
    "        df.end_day[i]=df.start_day[i]\n",
    "        df.end_month[i]=0\n",
    "        df.end_year[i]=df.start_year[i]\n",
    "    elif re.search('(\\w{3,9})\\s(\\d{1,2})–(\\d{1,2}),\\s(\\d{1,4})',df.infobox[i]['date']):\n",
    "        df.start_day[i]=int(re.search('(\\w{3,9})\\s(\\d{1,2})–(\\d{1,2}),\\s(\\d{1,4})',df.infobox[i]['date']).group(2))\n",
    "        stmonth=re.search('(\\w{3,9})\\s(\\d{1,2})–(\\d{1,2}),\\s(\\d{1,4})',df.infobox[i]['date']).group(1)\n",
    "        df.start_month[i]=datetime.datetime.strptime(stmonth[:3], '%b').month\n",
    "        df.start_year[i]=int(re.search('(\\w{3,9})\\s(\\d{1,2})–(\\d{1,2}),\\s(\\d{1,4})',df.infobox[i]['date']).group(4))\n",
    "        df.end_day[i]=int(re.search('(\\w{3,9})\\s(\\d{1,2})–(\\d{1,2}),\\s(\\d{1,4})',df.infobox[i]['date']).group(3))\n",
    "        enmonth=stmonth\n",
    "        df.end_month[i]=datetime.datetime.strptime(enmonth[:3], '%b').month\n",
    "        df.end_year[i]=int(re.search('(\\w{3,9})\\s(\\d{1,2})–(\\d{1,2}),\\s(\\d{1,4})',df.infobox[i]['date']).group(4))\n",
    "    elif re.search('(\\w{3,9})\\s(\\d{1,2})\\s–\\s(\\w{3,9})\\s(\\d{1,2}),\\s(\\d{1,4})',df.infobox[i]['date']):\n",
    "        df.start_day[i]=int(re.search('(\\w{3,9})\\s(\\d{1,2})\\s–\\s(\\w{3,9})\\s(\\d{1,2}),\\s(\\d{1,4})',df.infobox[i]['date']).group(2))\n",
    "        stmonth=re.search('(\\w{3,9})\\s(\\d{1,2})\\s–\\s(\\w{3,9})\\s(\\d{1,2}),\\s(\\d{1,4})',df.infobox[i]['date']).group(1)\n",
    "        df.start_month[i]=datetime.datetime.strptime(stmonth[:3], '%b').month\n",
    "        df.start_year[i]=int(re.search('(\\w{3,9})\\s(\\d{1,2})\\s–\\s(\\w{3,9})\\s(\\d{1,2}),\\s(\\d{1,4})',df.infobox[i]['date']).group(5))\n",
    "        df.end_day[i]=int(re.search('(\\w{3,9})\\s(\\d{1,2})\\s–\\s(\\w{3,9})\\s(\\d{1,2}),\\s(\\d{1,4})',df.infobox[i]['date']).group(4))\n",
    "        enmonth=re.search('(\\w{3,9})\\s(\\d{1,2})\\s–\\s(\\w{3,9})\\s(\\d{1,2}),\\s(\\d{1,4})',df.infobox[i]['date']).group(3)\n",
    "        df.end_month[i]=datetime.datetime.strptime(enmonth[:3], '%b').month\n",
    "        df.end_year[i]=int(re.search('(\\w{3,9})\\s(\\d{1,2})\\s–\\s(\\w{3,9})\\s(\\d{1,2}),\\s(\\d{1,4})',df.infobox[i]['date']).group(5))\n",
    "    elif re.search('(\\w{3,9})\\s(\\d{1,4})\\s–\\s(\\w{3,9})\\s(\\d{1,4})',df.infobox[i]['date']):\n",
    "        df.start_day[i]=0\n",
    "        stmonth=re.search('(\\w{3,9})\\s(\\d{1,4})\\s–\\s(\\w{3,9})\\s(\\d{1,4})',df.infobox[i]['date']).group(1)\n",
    "        df.start_month[i]=datetime.datetime.strptime(stmonth[:3], '%b').month\n",
    "        df.start_year[i]=int(re.search('(\\w{3,9})\\s(\\d{1,4})\\s–\\s(\\w{3,9})\\s(\\d{1,4})',df.infobox[i]['date']).group(2))\n",
    "        df.end_day[i]=0\n",
    "        enmonth=re.search('(\\w{3,9})\\s(\\d{1,4})\\s–\\s(\\w{3,9})\\s(\\d{1,4})',df.infobox[i]['date']).group(3)\n",
    "        df.end_month[i]=datetime.datetime.strptime(enmonth[:3], '%b').month\n",
    "        df.end_year[i]=int(re.search('(\\w{3,9})\\s(\\d{1,4})\\s–\\s(\\w{3,9})\\s(\\d{1,4})',df.infobox[i]['date']).group(4))\n",
    "    elif re.search('(\\d{1,2})\\sand\\s\\d{1,2}\\s(\\w{3,9})\\s(\\d{1,4})',df.infobox[i]['date']):\n",
    "        df.start_day[i]=int(re.search('(\\d{1,2})\\sand\\s\\d{1,2}\\s(\\w{3,9})\\s(\\d{1,4})',df.infobox[i]['date']).group(1))\n",
    "        stmonth=re.search('(\\d{1,2})\\sand\\s\\d{1,2}\\s(\\w{3,9})\\s(\\d{1,4})',df.infobox[i]['date']).group(2)\n",
    "        df.start_month[i]=datetime.datetime.strptime(stmonth[:3], '%b').month\n",
    "        df.start_year[i]=int(re.search('(\\d{1,2})\\sand\\s\\d{1,2}\\s(\\w{3,9})\\s(\\d{1,4})',df.infobox[i]['date']).group(3))\n",
    "        df.end_day[i]=int(re.search('(\\d{1,2})\\sand\\s(\\d{1,2})\\s(\\w{3,9})\\s(\\d{1,4})',df.infobox[i]['date']).group(2))\n",
    "        enmonth=stmonth\n",
    "        df.end_month[i]=datetime.datetime.strptime(enmonth[:3], '%b').month\n",
    "        df.end_year[i]=df.start_year[i]\n",
    "    elif re.search('(\\d{1,2})\\s(\\w{3,9})\\s(\\d{1,4})',df.infobox[i]['date']):\n",
    "        df.start_day[i]=int(re.search('(\\d{1,2})\\s(\\w{3,9})\\s(\\d{1,4})',df.infobox[i]['date']).group(1))\n",
    "        stmonth=re.search('(\\d{1,2})\\s(\\w{3,9})\\s(\\d{1,4})',df.infobox[i]['date']).group(2)\n",
    "        df.start_month[i]=datetime.datetime.strptime(stmonth[:3], '%b').month\n",
    "        df.start_year[i]=int(re.search('(\\d{1,2})\\s(\\w{3,9})\\s(\\d{1,4})',df.infobox[i]['date']).group(3))\n",
    "        df.end_day[i]=df.start_day[i]\n",
    "        enmonth=stmonth\n",
    "        df.end_month[i]=datetime.datetime.strptime(enmonth[:3], '%b').month\n",
    "        df.end_year[i]=df.start_year[i]\n",
    "    elif re.search('\\s(\\w{3,9})\\s(\\d{1,2}),\\s(\\d{1,4})\\sAD',df.infobox[i]['date']):\n",
    "        df.start_day[i]=int(re.search('\\s(\\w{3,9})\\s(\\d{1,2}),\\s(\\d{1,4})\\sAD',df.infobox[i]['date']).group(2))\n",
    "        stmonth=re.search('\\s(\\w{3,9})\\s(\\d{1,2}),\\s(\\d{1,4})\\sAD',df.infobox[i]['date']).group(1)\n",
    "        df.start_month[i]=datetime.datetime.strptime(stmonth[:3], '%b').month\n",
    "        df.start_year[i]=int(re.search('\\s(\\w{3,9})\\s(\\d{1,2}),\\s(\\d{1,4})\\sAD',df.infobox[i]['date']).group(3))\n",
    "        df.end_day[i]=df.start_day[i]\n",
    "        enmonth=stmonth\n",
    "        df.end_month[i]=datetime.datetime.strptime(enmonth[:3], '%b').month\n",
    "        df.end_year[i]=df.start_year[i]  \n",
    "    elif re.search('(Spring|Summer|Winter|Autumn),\\s(\\d{1,4})',df.infobox[i]['date']):\n",
    "        df.start_day[i]=0\n",
    "        df.start_month[i]=0\n",
    "        df.start_year[i]=int(re.search('(Spring|Summer|Winter|Autumn),\\s(\\d{1,4})',df.infobox[i]['date']).group(2))\n",
    "        df.end_day[i]=df.start_day[i]\n",
    "        df.end_month[i]=0\n",
    "        df.end_year[i]=df.start_year[i] \n",
    "    elif re.search('(\\w{3,9})\\s(\\d{1,2}),\\s(\\d{1,4})',df.infobox[i]['date']):\n",
    "        df.start_day[i]=int(re.search('(\\w{3,9})\\s(\\d{1,2}),\\s(\\d{1,4})',df.infobox[i]['date']).group(2))\n",
    "        stmonth=re.search('(\\w{3,9})\\s(\\d{1,2}),\\s(\\d{1,4})',df.infobox[i]['date']).group(1)\n",
    "        df.start_month[i]=datetime.datetime.strptime(stmonth[:3], '%b').month\n",
    "        df.start_year[i]=int(re.search('(\\w{3,9})\\s(\\d{1,2}),\\s(\\d{1,4})',df.infobox[i]['date']).group(3))\n",
    "        df.end_day[i]=df.start_day[i]\n",
    "        enmonth=stmonth\n",
    "        df.end_month[i]=datetime.datetime.strptime(enmonth[:3], '%b').month\n",
    "        df.end_year[i]=df.start_year[i]    \n",
    "    elif re.search('(\\w{3,9})\\sor\\s(\\w{3,9}),\\s(\\d{1,4})',df.infobox[i]['date']):\n",
    "        df.start_day[i]=0\n",
    "        stmonth=re.search('(\\w{3,9})\\sor\\s(\\w{3,9}),\\s(\\d{1,4})',df.infobox[i]['date']).group(1)\n",
    "        df.start_month[i]=datetime.datetime.strptime(stmonth[:3], '%b').month\n",
    "        df.start_year[i]=int(re.search('(\\w{3,9})\\sor\\s(\\w{3,9}),\\s(\\d{1,4})',df.infobox[i]['date']).group(3))\n",
    "        df.end_day[i]=df.start_day[i]\n",
    "        enmonth=stmonth\n",
    "        df.end_month[i]=datetime.datetime.strptime(enmonth[:3], '%b').month\n",
    "        df.end_year[i]=df.start_year[i]\n",
    "    elif re.search('(\\d{1,4})\\sor\\s(\\d{1,4})',df.infobox[i]['date']):\n",
    "        df.start_day[i]=0\n",
    "        df.start_month[i]=0\n",
    "        df.start_year[i]=int(re.search('(\\d{1,4})\\sor\\s(\\d{1,4})',df.infobox[i]['date']).group(1))\n",
    "        df.end_day[i]=df.start_day[i]\n",
    "        df.end_month[i]=0\n",
    "        df.end_year[i]=df.start_year[i]\n",
    "    elif re.search('^(\\w{3,9}})\\s(\\d{1,4})',df.infobox[i]['date']):\n",
    "        df.start_day[i]=0\n",
    "        stmonth=re.search('^(\\w{3,9}})\\s(\\d{1,4})',df.infobox[i]['date']).group(1)\n",
    "        df.start_month[i]=datetime.datetime.strptime(stmonth[:3], '%b').month\n",
    "        df.start_year[i]=int(re.search('^(\\w{3,9}})\\s(\\d{1,4})',df.infobox[i]['date']).group(2))\n",
    "        df.end_day[i]=df.start_day[i]\n",
    "        df.end_month[i]=df.start_month[i]\n",
    "        df.end_year[i]=df.start_year[i]\n",
    "    else:\n",
    "        df.start_day[i]='emptyTreated'\n",
    "\n",
    "    \n",
    "        \n",
    "\n",
    "            \n",
    "        "
   ]
  },
  {
   "cell_type": "code",
   "execution_count": null,
   "metadata": {
    "scrolled": true
   },
   "outputs": [],
   "source": [
    "df.start_day[4845]=0\n",
    "df.start_year"
   ]
  },
  {
   "cell_type": "code",
   "execution_count": null,
   "metadata": {},
   "outputs": [],
   "source": [
    "re.search(\"(\\d)+\\s(.*)(\\d{4})<\",df.infobox[7]['date']).group(3)"
   ]
  },
  {
   "cell_type": "code",
   "execution_count": null,
   "metadata": {},
   "outputs": [],
   "source": [
    "re.search('(\\d{1,2})\\s(\\w{3,9})\\s–\\s(\\d{1,2})\\s(\\w{3,9})\\s(\\d{1,4})',df.infobox[33]['date']).group(1)\n"
   ]
  },
  {
   "cell_type": "code",
   "execution_count": null,
   "metadata": {},
   "outputs": [],
   "source": [
    "a=-int(re.search('\\w{3,9}\\sor\\s\\w{3,9},\\s(\\d{1,4})','July or August, 251').group(1))\n"
   ]
  },
  {
   "cell_type": "code",
   "execution_count": null,
   "metadata": {},
   "outputs": [],
   "source": [
    "df.infobox[3822].keys()"
   ]
  },
  {
   "cell_type": "code",
   "execution_count": null,
   "metadata": {},
   "outputs": [],
   "source": [
    "if 'date' not in df.infobox[3822].keys():\n",
    "    print('NotIn')"
   ]
  },
  {
   "cell_type": "code",
   "execution_count": null,
   "metadata": {},
   "outputs": [],
   "source": [
    "re.search('(\\w{3,9})\\s(\\d{1,4})\\s–\\s(\\w{3,9})\\s(\\d{1,4})',df.infobox[27250]['date']).group(0)"
   ]
  },
  {
   "cell_type": "code",
   "execution_count": null,
   "metadata": {},
   "outputs": [],
   "source": [
    "df.start_year[5406]"
   ]
  },
  {
   "cell_type": "code",
   "execution_count": null,
   "metadata": {},
   "outputs": [],
   "source": [
    "index=len(df['start_day'])-1\n",
    "while index>0:\n",
    "    if df['start_day'][index] != 'empty':\n",
    "        print(index)\n",
    "        break\n",
    "    index-=1"
   ]
  },
  {
   "cell_type": "code",
   "execution_count": null,
   "metadata": {},
   "outputs": [],
   "source": [
    "index=44\n",
    "while index<len(df['start_day']):\n",
    "    if df['start_day'][index] == 'empty':\n",
    "        print(index)\n",
    "        break\n",
    "    index+=1"
   ]
  },
  {
   "cell_type": "code",
   "execution_count": null,
   "metadata": {},
   "outputs": [],
   "source": [
    "df.infobox[5406]"
   ]
  },
  {
   "cell_type": "code",
   "execution_count": null,
   "metadata": {},
   "outputs": [],
   "source": [
    "re.search('(Spring|Summer|Winter|Autumn),\\s(\\d{1,4})',df.infobox[5406]['date'])"
   ]
  },
  {
   "cell_type": "code",
   "execution_count": null,
   "metadata": {},
   "outputs": [],
   "source": [
    "df['start_day'].values_count()"
   ]
  },
  {
   "cell_type": "code",
   "execution_count": null,
   "metadata": {},
   "outputs": [],
   "source": [
    "df.start_year[5406]"
   ]
  },
  {
   "cell_type": "code",
   "execution_count": null,
   "metadata": {},
   "outputs": [],
   "source": [
    "re.search('(\\d{1,4})\\sBC',df.infobox[3667]['date']).group(1)"
   ]
  },
  {
   "cell_type": "code",
   "execution_count": null,
   "metadata": {},
   "outputs": [],
   "source": [
    "df.start_day[3858]"
   ]
  },
  {
   "cell_type": "code",
   "execution_count": null,
   "metadata": {},
   "outputs": [],
   "source": [
    "df.loc['start_day'=='emptyTreated'].count()"
   ]
  },
  {
   "cell_type": "code",
   "execution_count": null,
   "metadata": {},
   "outputs": [],
   "source": [
    "df['start_day'].value_counts()"
   ]
  },
  {
   "cell_type": "code",
   "execution_count": null,
   "metadata": {},
   "outputs": [],
   "source": [
    "5407-2859-540"
   ]
  },
  {
   "cell_type": "code",
   "execution_count": null,
   "metadata": {},
   "outputs": [],
   "source": [
    "start, end = parse(df.infobox[2]['date'])"
   ]
  },
  {
   "cell_type": "code",
   "execution_count": null,
   "metadata": {},
   "outputs": [],
   "source": [
    "start"
   ]
  },
  {
   "cell_type": "code",
   "execution_count": null,
   "metadata": {},
   "outputs": [],
   "source": [
    "df.infobox[2]['date']"
   ]
  },
  {
   "cell_type": "code",
   "execution_count": null,
   "metadata": {},
   "outputs": [],
   "source": [
    "end"
   ]
  },
  {
   "cell_type": "code",
   "execution_count": null,
   "metadata": {},
   "outputs": [],
   "source": []
  }
 ],
 "metadata": {
  "kernelspec": {
   "display_name": "Python [conda env:ada]",
   "language": "python",
   "name": "conda-env-ada-py"
  },
  "language_info": {
   "codemirror_mode": {
    "name": "ipython",
    "version": 3
   },
   "file_extension": ".py",
   "mimetype": "text/x-python",
   "name": "python",
   "nbconvert_exporter": "python",
   "pygments_lexer": "ipython3",
   "version": "3.5.4"
  }
 },
 "nbformat": 4,
 "nbformat_minor": 2
}
