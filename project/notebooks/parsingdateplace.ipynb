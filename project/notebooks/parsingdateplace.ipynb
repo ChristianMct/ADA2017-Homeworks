{
 "cells": [
  {
   "cell_type": "code",
   "execution_count": null,
   "metadata": {},
   "outputs": [],
   "source": [
    "import pandas as pd\n",
    "import json\n",
    "import json, pprint, re, datetime\n",
    "import mwparserfromhell as mw\n",
    "import re\n",
    "import calendar\n",
    "from daterangeparser import parse\n",
    "%load_ext autoreload\n",
    "%autoreload 2\n",
    "import processing # this makes the \"processing\" folder available as a python module\n",
    "from features.date import get_daterange\n",
    "from dateutil import parser"
   ]
  },
  {
   "cell_type": "code",
   "execution_count": null,
   "metadata": {},
   "outputs": [],
   "source": [
    "data= \"../datasets/battle-fields-0.json\"\n",
    "df= pd.read_json(data)\n",
    "df['start_day']='empty'\n",
    "df['start_month']='empty'\n",
    "df['start_year']='empty'\n",
    "df['end_day']='empty'\n",
    "df['end_month']='empty'\n",
    "df['end_year']='empty'"
   ]
  },
  {
   "cell_type": "code",
   "execution_count": null,
   "metadata": {
    "scrolled": false
   },
   "outputs": [],
   "source": [
    "data= \"../datasets/battle-fields-0.json\"\n",
    "battles = json.load(open(data))\n",
    "\n",
    "dates = [b[\"infobox\"][\"date\"] for b in battles if b[\"infobox\"].get(\"date\") != None]\n",
    "wi = mw.parse(dates[3])\n",
    "\n",
    "parsed_dates = [get_daterange(d) for d in dates]"
   ]
  },
  {
   "cell_type": "code",
   "execution_count": null,
   "metadata": {
    "scrolled": true
   },
   "outputs": [],
   "source": [
    "df = pd.DataFrame(parsed_dates)\n",
    "df"
   ]
  },
  {
   "cell_type": "code",
   "execution_count": null,
   "metadata": {},
   "outputs": [],
   "source": [
    "date_string = re.search('^(.*\\d{1})(/[^<]*/|/[^\\{]*/|/[^}]*/)$',dates[7478]).group(1)\n",
    "date_string=date_string.strip()\n",
    "date_string = mw.parse(date_string)\n",
    "date_string = date_string.strip()\n",
    "start, end = parse(date_string) \n",
    "start"
   ]
  },
  {
   "cell_type": "code",
   "execution_count": null,
   "metadata": {},
   "outputs": [],
   "source": [
    "df['BC'].value_counts()"
   ]
  },
  {
   "cell_type": "code",
   "execution_count": null,
   "metadata": {},
   "outputs": [],
   "source": [
    "7479-7059-347"
   ]
  },
  {
   "cell_type": "code",
   "execution_count": null,
   "metadata": {},
   "outputs": [],
   "source": [
    "get_daterange(dates[7478])"
   ]
  },
  {
   "cell_type": "code",
   "execution_count": null,
   "metadata": {},
   "outputs": [],
   "source": [
    "dates[7478]"
   ]
  },
  {
   "cell_type": "code",
   "execution_count": null,
   "metadata": {},
   "outputs": [],
   "source": [
    "re.search('^(.*\\d{1})?\\{',dates[7478]).group(1)"
   ]
  },
  {
   "cell_type": "code",
   "execution_count": null,
   "metadata": {},
   "outputs": [],
   "source": []
  }
 ],
 "metadata": {
  "kernelspec": {
   "display_name": "Python [conda env:ada]",
   "language": "python",
   "name": "conda-env-ada-py"
  },
  "language_info": {
   "codemirror_mode": {
    "name": "ipython",
    "version": 3
   },
   "file_extension": ".py",
   "mimetype": "text/x-python",
   "name": "python",
   "nbconvert_exporter": "python",
   "pygments_lexer": "ipython3",
   "version": "3.5.4"
  }
 },
 "nbformat": 4,
 "nbformat_minor": 2
}
