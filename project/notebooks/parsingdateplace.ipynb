{
 "cells": [
  {
   "cell_type": "code",
   "execution_count": null,
   "metadata": {},
   "outputs": [],
   "source": [
    "import pandas as pd\n",
    "import json\n",
    "import json, pprint, re, datetime\n",
    "import mwparserfromhell as mw\n",
    "import re\n",
    "import calendar\n",
    "from daterangeparser import parse\n",
    "%load_ext autoreload\n",
    "%autoreload 2\n",
    "import processing # this makes the \"processing\" folder available as a python module\n",
    "from features.date import get_daterange\n",
    "from features.coordinates import get_coordinates, get_features\n",
    "from features.country import get_country\n",
    "from dateutil import parser\n",
    "import numpy as np"
   ]
  },
  {
   "cell_type": "code",
   "execution_count": null,
   "metadata": {
    "scrolled": false
   },
   "outputs": [],
   "source": [
    "data= \"../datasets/battle-fields-1.json\"\n",
    "battles = [json.loads(line) for line in open(data)]\n",
    "\n",
    "len(coordinates)"
   ]
  },
  {
   "cell_type": "code",
   "execution_count": null,
   "metadata": {
    "scrolled": true
   },
   "outputs": [],
   "source": [
    "parsed_coordinates = [(get_features(b), b[\"title\"]) for b in battles if not b[\"infobox\"].get(\"error\")]\n",
    "parsed_coordinates_2 = [{\"latitude\": c.get(\"latitude\"),\n",
    "                         \"longitude\":c.get(\"longitude\"),\n",
    "                         \"source\": c.get(\"source\"),\n",
    "                         \"battle\": b,\n",
    "                        } for c, b  in parsed_coordinates]\n",
    "co = pd.DataFrame(parsed_coordinates_2)"
   ]
  },
  {
   "cell_type": "code",
   "execution_count": null,
   "metadata": {},
   "outputs": [],
   "source": [
    "co[co[\"latitude\"].isna()]"
   ]
  },
  {
   "cell_type": "code",
   "execution_count": null,
   "metadata": {},
   "outputs": [],
   "source": [
    "parsed_country = [get_country(p) for p in places]\n",
    "country = pd.DataFrame(parsed_country)\n",
    "country"
   ]
  },
  {
   "cell_type": "code",
   "execution_count": null,
   "metadata": {},
   "outputs": [],
   "source": []
  },
  {
   "cell_type": "code",
   "execution_count": null,
   "metadata": {
    "scrolled": true
   },
   "outputs": [],
   "source": [
    "parsed_dates = [get_daterange(d) for d in dates]\n",
    "df = pd.DataFrame(parsed_dates)\n",
    "df"
   ]
  }
 ],
 "metadata": {
  "kernelspec": {
   "display_name": "Python 3",
   "language": "python",
   "name": "python3"
  },
  "language_info": {
   "codemirror_mode": {
    "name": "ipython",
    "version": 3
   },
   "file_extension": ".py",
   "mimetype": "text/x-python",
   "name": "python",
   "nbconvert_exporter": "python",
   "pygments_lexer": "ipython3",
   "version": "3.5.4"
  }
 },
 "nbformat": 4,
 "nbformat_minor": 2
}
