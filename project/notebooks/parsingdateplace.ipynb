{
 "cells": [
  {
   "cell_type": "code",
   "execution_count": null,
   "metadata": {},
   "outputs": [],
   "source": [
    "import pandas as pd\n",
    "import json\n",
    "import json, pprint, re, datetime\n",
    "import mwparserfromhell as mw\n",
    "import re\n",
    "import calendar\n",
    "from daterangeparser import parse\n",
    "%load_ext autoreload\n",
    "%autoreload 2\n",
    "import processing # this makes the \"processing\" folder available as a python module\n",
    "from features.date import get_daterange\n",
    "from features.coordinates import get_coordinates\n",
    "from features.country import get_country\n",
    "from dateutil import parser\n",
    "import numpy as np\n",
    "from geograpy import extraction"
   ]
  },
  {
   "cell_type": "code",
   "execution_count": null,
   "metadata": {
    "scrolled": false
   },
   "outputs": [],
   "source": [
    "data= \"../datasets/battle-fields-0.json\"\n",
    "battles = json.load(open(data))\n",
    "\n",
    "dates = [b[\"infobox\"][\"date\"] for b in battles if b[\"infobox\"].get(\"date\") != None]\n",
    "coordinates = [b[\"infobox\"][\"coordinates\"] for b in battles if b[\"infobox\"].get(\"coordinates\") != None]\n",
    "coordinates = [c for c in coordinates if c !='\\n']\n",
    "coordinates = [c for c in coordinates if c !=' \\n']\n",
    "places = [b[\"infobox\"][\"place\"] for b in battles if b[\"infobox\"].get(\"place\") != None]"
   ]
  },
  {
   "cell_type": "code",
   "execution_count": null,
   "metadata": {
    "scrolled": true
   },
   "outputs": [],
   "source": [
    "parsed_dates = [get_daterange(d) for d in dates]\n",
    "df = pd.DataFrame(parsed_dates)\n",
    "df"
   ]
  },
  {
   "cell_type": "code",
   "execution_count": null,
   "metadata": {
    "scrolled": true
   },
   "outputs": [],
   "source": [
    "parsed_coordinates = [get_coordinates(c) for c in coordinates]\n",
    "co = pd.DataFrame(parsed_coordinates)\n",
    "co"
   ]
  },
  {
   "cell_type": "code",
   "execution_count": null,
   "metadata": {},
   "outputs": [],
   "source": [
    "float('08')"
   ]
  },
  {
   "cell_type": "code",
   "execution_count": null,
   "metadata": {},
   "outputs": [],
   "source": [
    "parsed_country = [get_country(p) for p in places]\n",
    "country = pd.DataFrame(parsed_country)\n",
    "country"
   ]
  },
  {
   "cell_type": "code",
   "execution_count": null,
   "metadata": {
    "collapsed": true
   },
   "outputs": [],
   "source": []
  }
 ],
 "metadata": {
  "kernelspec": {
   "display_name": "Python [conda env:ada]",
   "language": "python",
   "name": "conda-env-ada-py"
  }
 },
 "nbformat": 4,
 "nbformat_minor": 2
}
