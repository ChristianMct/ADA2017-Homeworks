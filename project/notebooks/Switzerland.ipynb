{
 "cells": [
  {
   "cell_type": "code",
   "execution_count": null,
   "metadata": {
    "collapsed": true
   },
   "outputs": [],
   "source": [
    "import json\n",
    "import sys\n",
    "import os\n",
    "import pandas as pd\n",
    "import numpy as np\n",
    "import seaborn as sns\n",
    "import matplotlib.pyplot as plt\n",
    "sns.set(style=\"whitegrid\")\n",
    "%matplotlib inline\n",
    "from datetime import datetime"
   ]
  },
  {
   "cell_type": "code",
   "execution_count": null,
   "metadata": {
    "collapsed": true
   },
   "outputs": [],
   "source": [
    "battles = pd.DataFrame([json.loads(line) for line in open(\"../datasets/battle-features-0.json\")])"
   ]
  },
  {
   "cell_type": "code",
   "execution_count": null,
   "metadata": {},
   "outputs": [],
   "source": [
    "df = pd.DataFrame(battles).replace(0, np.NaN)\n",
    "pd.options.display.max_colwidth = 200\n",
    "features_of_interest = ['combatant_first_1','combatant_first_2', 'result_combatant_1', 'result_combatant_2']\n",
    "df[features_of_interest].head()"
   ]
  },
  {
   "cell_type": "code",
   "execution_count": null,
   "metadata": {
    "collapsed": true
   },
   "outputs": [],
   "source": [
    "def find_subtext(df, txt):\n",
    "    contains = df.stack().str.contains(txt).unstack()\n",
    "    return contains[contains.any(1)].idxmax(1)"
   ]
  },
  {
   "cell_type": "code",
   "execution_count": null,
   "metadata": {},
   "outputs": [],
   "source": [
    "df = df.assign(swiss=find_subtext(df, 'Swiss'))\n",
    "df[['combatant_first_1','combatant_first_2','combatant_list_1', 'combatant_list_2', 'swiss']].head()"
   ]
  },
  {
   "cell_type": "code",
   "execution_count": null,
   "metadata": {},
   "outputs": [],
   "source": [
    "df = df.dropna(subset=['swiss'])\n",
    "df[features_of_interest]"
   ]
  },
  {
   "cell_type": "code",
   "execution_count": null,
   "metadata": {},
   "outputs": [],
   "source": [
    "def get_year(date):\n",
    "    return datetime.strptime(date, \"%Y-%m-%d\").year if date else None\n",
    "\n",
    "df[\"year\"] = df[\"start_date\"].apply(get_year)\n",
    "X = df['year']\n",
    "fig, ax = plt.subplots(figsize=(20,1))\n",
    "ax.scatter(X, [1]*len(X),\n",
    "           marker='|',linewidth=10, s=100, c='b')\n",
    "\n",
    "ax.yaxis.set_visible(False)\n",
    "ax.spines['right'].set_visible(False)\n",
    "ax.spines['left'].set_visible(False)\n",
    "ax.spines['top'].set_visible(False)\n",
    "ax.xaxis.set_ticks_position('bottom')\n",
    "\n",
    "ax.get_yaxis().set_ticklabels([])\n",
    "plt.xlim(1000, 2018)\n",
    "plt.show()"
   ]
  }
 ],
 "metadata": {
  "kernelspec": {
   "display_name": "Python [conda root]",
   "language": "python",
   "name": "conda-root-py"
  },
  "language_info": {
   "codemirror_mode": {
    "name": "ipython",
    "version": 3
   },
   "file_extension": ".py",
   "mimetype": "text/x-python",
   "name": "python",
   "nbconvert_exporter": "python",
   "pygments_lexer": "ipython3",
   "version": "3.6.1"
  }
 },
 "nbformat": 4,
 "nbformat_minor": 2
}
