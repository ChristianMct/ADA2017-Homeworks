{
 "cells": [
  {
   "cell_type": "code",
   "execution_count": null,
   "metadata": {
    "collapsed": true
   },
   "outputs": [],
   "source": [
    "import json\n",
    "import sys\n",
    "import pandas as pd\n",
    "import numpy as np\n",
    "import seaborn as sns\n",
    "import matplotlib.pyplot as plt\n",
    "import re\n",
    "sns.set(style=\"whitegrid\")\n",
    "%matplotlib inline"
   ]
  },
  {
   "cell_type": "code",
   "execution_count": null,
   "metadata": {
    "scrolled": false
   },
   "outputs": [],
   "source": [
    "battles = json.load(open(\"../datasets/battle-fields-0.json\"))\n",
    "df = pd.DataFrame([b[\"infobox\"] for b in battles if not b[\"infobox\"].get(\"error\")])\n",
    "df['casualties1'].head()"
   ]
  },
  {
   "cell_type": "code",
   "execution_count": null,
   "metadata": {
    "scrolled": false
   },
   "outputs": [],
   "source": [
    "pattern = re.compile(\"^casualties[0-9]\")\n",
    "df = df[[b for b in df.columns if pattern.match(b)]]\n",
    "df"
   ]
  },
  {
   "cell_type": "code",
   "execution_count": null,
   "metadata": {},
   "outputs": [],
   "source": [
    "lol = df['casualties1'][5].split()\n",
    "print(lol[1])"
   ]
  },
  {
   "cell_type": "code",
   "execution_count": null,
   "metadata": {},
   "outputs": [],
   "source": [
    "if re.search('[kK]ill',str(lol[1])):\n",
    "    print(\"t\")"
   ]
  },
  {
   "cell_type": "code",
   "execution_count": null,
   "metadata": {},
   "outputs": [],
   "source": [
    "lol = df['casualties1'][0:200]\n",
    "df['kills'] = 0\n",
    "df['wounds'] = 0\n",
    "df['total'] = 0\n",
    "df['missing'] = 0\n",
    "df['undefined'] = \"\"\n",
    "for j,w in enumerate(lol):\n",
    "    kills = 0\n",
    "    wounds = 0\n",
    "    total = 0\n",
    "    missing = 0\n",
    "    found = False\n",
    "    undefined = \"\"\n",
    "    try:\n",
    "        w = w.split()\n",
    "        if len(w) == 1:\n",
    "            if re.search('[-+]?\\d*\\,\\d+|\\d+?',str(v)):\n",
    "                try:\n",
    "                    total = re.search('[-+]?\\d*\\,\\d+|\\d+?',str(v)).group()\n",
    "                    total = int(total.replace(\",\",\"\"))\n",
    "                except Exception as e:\n",
    "                    #print(\"error in \", w)\n",
    "                    print(e)\n",
    "                    undefined = undefined + str(v)\n",
    "            else:\n",
    "                undefined = undefined + str(v)\n",
    "        else:\n",
    "            for i,v in enumerate(w):\n",
    "                try:\n",
    "                    if re.search('[-+]?\\d*\\,\\d+|\\d+?',str(v)):\n",
    "                        number = re.search('[-+]?\\d*\\,\\d+|\\d+?',str(v)).group()\n",
    "                        number = int(number.replace(\",\",\"\"))\n",
    "                        if i == len(w)-1:\n",
    "                            undefined = undefined + \" \" + str(v)\n",
    "                            #total = total + number\n",
    "                        elif re.search('[kK]ill',str(w[i+1])) or re.search('[Dd]ead',str(w[i+1])): \n",
    "                            kills = kills + number\n",
    "                            found = True\n",
    "                        elif re.search('[wW]ounded',str(w[i+1])) or re.search('[iI]njur',str(w[i+1])): \n",
    "                            wounds = wounds + number\n",
    "                            found = True\n",
    "                        elif re.search('[cC]asualti',str(w[i+1])) or re.search('[tT]otal',str(w[i+1])) or re.search('[mM]en',str(w[i+1])): \n",
    "                            total = total + number\n",
    "                            found = True\n",
    "                        elif re.search('[mM]issing',str(w[i+1])): #or re.search('[tT]otal',str(w[i+1])): \n",
    "                            missing = missing + number\n",
    "                            found = True\n",
    "                        if not found:\n",
    "                            if not re.search(str(w[i+1]), undefined):\n",
    "                                undefined = undefined + \" \" + str(v)\n",
    "                except Exception as e:\n",
    "                    print(e)\n",
    "                    #print(\"error in \", w)\n",
    "    except:\n",
    "        undefined = undefined + str(w)\n",
    "    #print(\"line \", w, \" und \", undefined)\n",
    "    df['kills'][j] = kills\n",
    "    df['wounds'][j] = wounds\n",
    "    df['total'][j] = total\n",
    "    df['missing'][j] = missing\n",
    "    df['undefined'][j] = undefined\n",
    "    if total == 0:\n",
    "        df['total'][j] = kills + wounds + missing\n",
    "    #print(str(kills) + \" \" + str(wounds) + \" \" + str(total) + \" d \" + undefined)\n",
    "pd.options.display.max_colwidth = 200\n",
    "df[['casualties1', 'kills', 'wounds', 'missing', 'total', 'undefined']].head(199)\n",
    "\n"
   ]
  },
  {
   "cell_type": "code",
   "execution_count": null,
   "metadata": {},
   "outputs": [],
   "source": [
    "def get_casualties(casu_string):\n",
    "    try:\n",
    "        casu_string = casu_string.split()\n",
    "        for i,v in enumerate(casu_string):\n",
    "            kills = 0\n",
    "            if re.search('[-+]?\\d*\\,\\d+|\\d+?',str(v))\n",
    "                if re.search('[kK]ill',str(casu_string[i+1])): \n",
    "                    try:\n",
    "                        kills =  kills + re.search('[-+]?\\d*\\,\\d+|\\d+?',str(casu_string[i-1])).group() \n",
    "            return {'casualties' : casus, 'killed': kills, 'wounded': wounds,}\n",
    "    except:\n",
    "        "
   ]
  }
 ],
 "metadata": {
  "kernelspec": {
   "display_name": "Python [default]",
   "language": "python",
   "name": "python3"
  },
  "language_info": {
   "codemirror_mode": {
    "name": "ipython",
    "version": 3
   },
   "file_extension": ".py",
   "mimetype": "text/x-python",
   "name": "python",
   "nbconvert_exporter": "python",
   "pygments_lexer": "ipython3",
   "version": "3.5.4"
  }
 },
 "nbformat": 4,
 "nbformat_minor": 2
}
