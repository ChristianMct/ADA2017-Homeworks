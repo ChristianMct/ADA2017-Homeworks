{
 "cells": [
  {
   "cell_type": "code",
   "execution_count": null,
   "metadata": {},
   "outputs": [],
   "source": [
    "import json\n",
    "import sys\n",
    "import pandas as pd\n",
    "import numpy as np\n",
    "import seaborn as sns\n",
    "import matplotlib.pyplot as plt\n",
    "from folium.plugins import HeatMap\n",
    "import folium as fl\n",
    "from datetime import datetime\n",
    "from matplotlib.transforms import Bbox\n",
    "import gmplot as gp\n",
    "\n",
    "sns.set(style=\"whitegrid\")\n",
    "%matplotlib inline"
   ]
  },
  {
   "cell_type": "code",
   "execution_count": null,
   "metadata": {
    "collapsed": true
   },
   "outputs": [],
   "source": [
    "battles = pd.DataFrame([json.loads(line) for line in open(\"../datasets/battle-features-2.json\")])\n",
    "battles = battles[battles.start_date.notnull()]\n",
    "def get_year(date):\n",
    "    return datetime.strptime(date, \"%Y-%m-%d\").year if date else None\n",
    "\n",
    "battles[\"year\"] = battles.start_date.apply(get_year)\n",
    "\n",
    "\n",
    "battles = battles[(battles.year>=1000) & (battles.year <= 2018)]\n",
    "\n",
    "decades = range(1000, 2018+10, 10)\n",
    "centuries = range(1000, 2018+100, 100)\n",
    "battles[\"decade\"] = pd.cut(battles[\"year\"], decades, labels=decades[:-1])\n",
    "battles[\"century\"] = pd.cut(battles[\"year\"], centuries, labels=centuries[:-1])"
   ]
  },
  {
   "cell_type": "code",
   "execution_count": null,
   "metadata": {
    "scrolled": false
   },
   "outputs": [],
   "source": [
    "b = battles.decade.value_counts(sort=False)\n",
    "fig, ax = plt.subplots(figsize=(20,7))\n",
    "sns.barplot(b.index, b, ax=ax, color=\"#5975A4\")\n",
    "ax.set_xticklabels([y if y in centuries else \"\" for y in b.index]);\n",
    "ax.set_yticks(range(50, 700, 50))\n",
    "ax.set_yticklabels([l if l%100==0 else \"\" for l in range(50, 700, 50)])\n",
    "ax.tick_params(labelsize=32)\n",
    "ax.set_xlabel(\"Year\", fontsize=32)\n",
    "ax.set_ylabel(\"\", fontsize=1)\n",
    "\n",
    "fig.savefig(\"../report/figures/temporal_coverage.eps\", bbox_inches=\"tight\")"
   ]
  },
  {
   "cell_type": "code",
   "execution_count": null,
   "metadata": {
    "collapsed": true,
    "scrolled": false
   },
   "outputs": [],
   "source": [
    "b = battles[battles.year.between(2000, 2020)]\n",
    "coord_df = b[[\"latitude\", \"longitude\"]].dropna()\n",
    "gmap = gp.GoogleMapPlotter(0,0,3)\n",
    "gmap.heatmap(coord_df.latitude, coord_df.longitude)\n",
    "gmap.draw(\"2000.html\")"
   ]
  },
  {
   "cell_type": "code",
   "execution_count": null,
   "metadata": {},
   "outputs": [],
   "source": [
    "b[[\"title\", \"start_date\", \"latitude\", \"longitude\"]].dropna()"
   ]
  },
  {
   "cell_type": "code",
   "execution_count": null,
   "metadata": {
    "collapsed": true
   },
   "outputs": [],
   "source": []
  }
 ],
 "metadata": {
  "kernelspec": {
   "display_name": "Python [default]",
   "language": "python",
   "name": "python3"
  },
  "language_info": {
   "codemirror_mode": {
    "name": "ipython",
    "version": 3
   },
   "file_extension": ".py",
   "mimetype": "text/x-python",
   "name": "python",
   "nbconvert_exporter": "python",
   "pygments_lexer": "ipython3",
   "version": "3.5.4"
  }
 },
 "nbformat": 4,
 "nbformat_minor": 2
}
