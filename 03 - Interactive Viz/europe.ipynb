{
 "cells": [
  {
   "cell_type": "code",
   "execution_count": null,
   "metadata": {},
   "outputs": [],
   "source": [
    "import os\n",
    "import pandas as pd\n",
    "import numpy as np\n",
    "import json\n",
    "import folium\n",
    "import matplotlib.pyplot as pp\n",
    "folium.__version__ == '0.5.0'"
   ]
  },
  {
   "cell_type": "markdown",
   "metadata": {},
   "source": [
    "First, we load the excel file that was previously downloaded from the eurostat website. The latter contains the unemployment rate of european countries in September 2017. We remove rows corresponding to countries for which we don't have any value. For instance, we notice that since the Brexit, no value is available for the UK."
   ]
  },
  {
   "cell_type": "code",
   "execution_count": null,
   "metadata": {
    "scrolled": true
   },
   "outputs": [],
   "source": [
    "df=pd.read_excel('eurostat.xlsx')\n",
    "df['rate'] = pd.to_numeric(df['rate'],errors=False)\n",
    "df = df.dropna()\n",
    "df"
   ]
  },
  {
   "cell_type": "markdown",
   "metadata": {},
   "source": [
    "We add a country ID to the previous dataframe because it is easier to use in the choropleth function for the \"key_on\" identifier. We do it by hand relating IDs from the topojson file with the country names from the dataframe, it is fine to do so as we have less than 30 countries."
   ]
  },
  {
   "cell_type": "code",
   "execution_count": null,
   "metadata": {
    "scrolled": true
   },
   "outputs": [],
   "source": [
    "country_to_id = {\n",
    "\"Belgium\": \"BE\",\n",
    "\"Bulgaria\": \"BG\",\n",
    "\"Czech Republic\": \"CZ\",\n",
    "\"Denmark\": \"DK\",\n",
    "\"Germany\": \"DE\",\n",
    "\"Estonia\": \"EE\",\n",
    "\"Ireland\": \"IE\",\n",
    "\"Greece\": \"GR\",\n",
    "\"Spain\": \"ES\",\n",
    "\"France\": \"FR\",\n",
    "\"Croatia\": \"HR\",\n",
    "\"Italy\": \"IT\",\n",
    "\"Cyprus\": \"CY\",\n",
    "\"Latvia\": \"LV\",\n",
    "\"Lithuania\": \"LT\",\n",
    "\"Luxembourg\": \"LU\",\n",
    "\"Hungary\": \"HU\",\n",
    "\"Malta\": \"MT\",\n",
    "\"Netherlands\": \"NL\",\n",
    "\"Austria\": \"AT\",\n",
    "\"Poland\": \"PL\",\n",
    "\"Portugal\": \"PT\",\n",
    "\"Romania\": \"RO\",\n",
    "\"Slovenia\": \"SI\",\n",
    "\"Slovakia\": \"SK\",\n",
    "\"Finland\": \"FI\",\n",
    "\"Sweden\": \"SE\",\n",
    "\"United Kingdom\": \"GB\",\n",
    "\"Iceland\": \"IS\"\n",
    "}\n",
    "df[\"country_id\"] = df[\"country\"].map(country_to_id)\n",
    "df"
   ]
  },
  {
   "cell_type": "markdown",
   "metadata": {},
   "source": [
    "In order to choose the colouring threshold for the choropleth map, we looked at some dataframe stats. Initially, we chose to place the threshold at the rate values corresponding to 25%, 50% and 75% of the european countries."
   ]
  },
  {
   "cell_type": "code",
   "execution_count": null,
   "metadata": {},
   "outputs": [],
   "source": [
    "df.describe()"
   ]
  },
  {
   "cell_type": "markdown",
   "metadata": {},
   "source": [
    "However, we noticed that using such thresholds, some countries with very similar unemployment rates might have dramatically different colours. Hence, we decided to plot the different rates and to place thresholds in between visible clusters."
   ]
  },
  {
   "cell_type": "code",
   "execution_count": null,
   "metadata": {
    "scrolled": true
   },
   "outputs": [],
   "source": [
    "m_europe=folium.Map([50,10], tiles='cartodbpositron', zoom_start=4)\n",
    "pp.plot(df[\"rate\"], np.zeros_like(df[\"rate\"]), 'x')\n",
    "pp.show()"
   ]
  },
  {
   "cell_type": "markdown",
   "metadata": {},
   "source": [
    "Finally, we construct the choropleth map showing the unemployment rate in 2016 in Europe using the thresholds indentified in the previous plot, namely: 1,6,11,12.5,17.5,24. We chose to use colors from the red gradient (OrRd) because it has a negative conotation and unemployment rates aren't exactly joyful values to look at. The strongest color is red and shows the countries with highest unemployment rate."
   ]
  },
  {
   "cell_type": "code",
   "execution_count": null,
   "metadata": {},
   "outputs": [],
   "source": [
    "geo_path = r'topojson/europe.topojson.json'\n",
    "geo_json_data = json.load(open('topojson/europe.topojson.json'))\n",
    "i=4.2\n",
    "j=5\n",
    "k=7\n",
    "l=11\n",
    "m_europe.choropleth(geo_data= geo_json_data, topojson='objects.europe', \n",
    "                    key_on='id',\n",
    "                    data=df, columns=['country_id','rate'],fill_color='OrRd', \n",
    "                    threshold_scale = [1,i,j,k,l,24],\n",
    "                    fill_opacity=0.7, line_opacity=0.2,\n",
    "                   legend_name= 'Unemployment rate in 2016 in Europe (%)')\n",
    "\n",
    "folium.LayerControl().add_to(m_europe)\n",
    "m_europe\n"
   ]
  },
  {
   "cell_type": "markdown",
   "metadata": {
    "collapsed": true
   },
   "source": [
    "We want to compare Switzerland's unemployment rate with the rest of Europe, however, the data is missing for this country. Hence we decided to take the unemployment rate of Switzerland in September 2017 from the amstat dataset (question 2)and to add it to the dataframe. "
   ]
  },
  {
   "cell_type": "code",
   "execution_count": null,
   "metadata": {},
   "outputs": [],
   "source": [
    "df.loc[30]=[\"Switzerland\", 3, \"CH\"]\n",
    "m_europeswiss=folium.Map([50,10], tiles='cartodbpositron', zoom_start=4)\n",
    "pp.plot(df[\"rate\"], np.zeros_like(df[\"rate\"]), 'x')\n",
    "pp.show()"
   ]
  },
  {
   "cell_type": "markdown",
   "metadata": {},
   "source": [
    "We notice that the same threshold values apply with the added value for Switzerland. Hence we can reuse them for the new map."
   ]
  },
  {
   "cell_type": "code",
   "execution_count": null,
   "metadata": {},
   "outputs": [],
   "source": [
    "geo_path = r'topojson/europe.topojson.json'\n",
    "geo_json_data = json.load(open('topojson/europe.topojson.json'))\n",
    "m_europeswiss.choropleth(geo_data= geo_json_data, topojson='objects.europe', \n",
    "                    key_on='id',\n",
    "                    data=df, columns=['country_id','rate'],fill_color='OrRd', \n",
    "                    threshold_scale = [1,i,j,k,l,24],\n",
    "                    #fill_opacity=0.7, line_opacity=0.2,\n",
    "                   legend_name= 'Unemployment rate in 2016 in Europe (%)')\n",
    "\n",
    "folium.LayerControl().add_to(m_europeswiss)\n",
    "m_europeswiss"
   ]
  },
  {
   "cell_type": "markdown",
   "metadata": {},
   "source": [
    "We can look at the new stats on the dataframe including the Switzerland data."
   ]
  },
  {
   "cell_type": "code",
   "execution_count": null,
   "metadata": {},
   "outputs": [],
   "source": [
    "df.describe()"
   ]
  },
  {
   "cell_type": "markdown",
   "metadata": {},
   "source": [
    "Switzerland has a 3% unemployment rate which is very low compared to the rest of Europe, it is in 25% of countries with lowest rate in September 2017."
   ]
  }
 ],
 "metadata": {
  "kernelspec": {
   "display_name": "Python [conda env:ada]",
   "language": "python",
   "name": "conda-env-ada-py"
  },
  "language_info": {
   "codemirror_mode": {
    "name": "ipython",
    "version": 3
   },
   "file_extension": ".py",
   "mimetype": "text/x-python",
   "name": "python",
   "nbconvert_exporter": "python",
   "pygments_lexer": "ipython3",
   "version": "3.5.4"
  }
 },
 "nbformat": 4,
 "nbformat_minor": 2
}
