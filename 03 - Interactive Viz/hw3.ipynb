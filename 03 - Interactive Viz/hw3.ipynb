{
 "cells": [
  {
   "cell_type": "code",
   "execution_count": null,
   "metadata": {},
   "outputs": [],
   "source": [
    "import os\n",
    "import pandas as pd\n",
    "import numpy as np\n",
    "import json\n",
    "import folium\n",
    "import matplotlib.pyplot as pp"
   ]
  },
  {
   "cell_type": "markdown",
   "metadata": {},
   "source": [
    "First, we load the excel file that was previously downloaded from the eurostat website. The latter contains the unemployment rate of european countries in July 2017, the most recent month for which we have a rate for each country. Note that we already preprocessed the data by removing useless columns and rows from the ```.xls``` file, and by correcting the name of Germany.\n",
    "\n",
    "Also, we add a country ID to the previous dataframe because it is easier to use in the choropleth function for the \"key_on\" identifier. We do it by hand relating IDs from the topojson file with the country names from the dataframe, it is fine to do so as we have less than 30 countries.\n",
    "\n",
    "Lastly, we manually add a value for Switzerland because it is absent from the eurostat dataset. The value was taken from the amstat dataset."
   ]
  },
  {
   "cell_type": "code",
   "execution_count": null,
   "metadata": {
    "scrolled": false
   },
   "outputs": [],
   "source": [
    "df=pd.read_excel('eurostat2.xlsx')\n",
    "df['rate'] = pd.to_numeric(df['rate'],errors=False)\n",
    "\n",
    "country_to_id = {\n",
    "\"Belgium\": \"BE\",\n",
    "\"Bulgaria\": \"BG\",\n",
    "\"Czech Republic\": \"CZ\",\n",
    "\"Denmark\": \"DK\",\n",
    "\"Germany\": \"DE\",\n",
    "\"Estonia\": \"EE\",\n",
    "\"Ireland\": \"IE\",\n",
    "\"Greece\": \"GR\",\n",
    "\"Spain\": \"ES\",\n",
    "\"France\": \"FR\",\n",
    "\"Croatia\": \"HR\",\n",
    "\"Italy\": \"IT\",\n",
    "\"Cyprus\": \"CY\",\n",
    "\"Latvia\": \"LV\",\n",
    "\"Lithuania\": \"LT\",\n",
    "\"Luxembourg\": \"LU\",\n",
    "\"Hungary\": \"HU\",\n",
    "\"Malta\": \"MT\",\n",
    "\"Netherlands\": \"NL\",\n",
    "\"Austria\": \"AT\",\n",
    "\"Poland\": \"PL\",\n",
    "\"Portugal\": \"PT\",\n",
    "\"Romania\": \"RO\",\n",
    "\"Slovenia\": \"SI\",\n",
    "\"Slovakia\": \"SK\",\n",
    "\"Finland\": \"FI\",\n",
    "\"Sweden\": \"SE\",\n",
    "\"United Kingdom\": \"GB\",\n",
    "\"Iceland\": \"IS\",\n",
    "\"Norway\": \"NO\",\n",
    "\"Turkey\": \"TR\"\n",
    "}\n",
    "df[\"country_id\"] = df[\"country\"].map(country_to_id)\n",
    "\n",
    "df.loc[len(df)]=[\"Switzerland\", 3, \"CH\"]\n",
    "\n",
    "df"
   ]
  },
  {
   "cell_type": "markdown",
   "metadata": {},
   "source": [
    "In order to choose the colouring threshold for the choropleth map, we looked at some dataframe stats. Initially, we chose to place the threshold at the rate values corresponding to 25%, 50% and 75% of the european countries. However, we noticed that using such thresholds, some countries with very similar unemployment rates might have drastically different colours. Hence, we decided to plot the different rates and to place thresholds in between visible clusters. \n",
    "\n",
    "While trying to formalize that approach using a K-mean algorithm, we came to learn about the [Jenks natural breaks optimization](https://en.wikipedia.org/wiki/Jenks_natural_breaks_optimization) method, a algorithmic solution designed for this specific problem. Roughly, the basic principle is to find the cut that maximimizes the distance between groups' means (so that country appearing in different colors are really different) while at the same time minimizing the variance within groups (so that country in the same color can be seen as similar). Unfortunately, we argue that this method still produce quite \"unfair\" comparisons between data points (or the implementation we found were not correct).\n",
    "\n",
    "We finally decided that, for the scope of this homework, manual assignment of the threshold was a viable strategy, and had the advantage of being justifiable. For instance, as we are asked to compare Switzerland against other countries, it makes sense to have finer granularity around its rate value.\n",
    "\n",
    "We therefor define the ```plot_groups``` function to help us set and understand the threshold values."
   ]
  },
  {
   "cell_type": "code",
   "execution_count": null,
   "metadata": {
    "scrolled": false
   },
   "outputs": [],
   "source": [
    "def plot_groups(df, col, breaks):\n",
    "    for i in range(len(breaks)-1):\n",
    "        points = df[df[col].between(breaks[i], breaks[i+1])][col]\n",
    "        pp.plot(points, np.zeros_like(points), 'o')\n",
    "    \n",
    "    pp.plot(breaks, np.zeros_like(breaks), '|', markersize=30)\n",
    "    pp.show()\n",
    "\n",
    "breaks = [0, 4, 7,  10, 14, 20.2]\n",
    "plot_groups(df, \"rate\", breaks)"
   ]
  },
  {
   "cell_type": "markdown",
   "metadata": {},
   "source": [
    "Finally, we construct the choropleth map showing the unemployment rate in 2016 in Europe using the thresholds. Choice on the color-palette is not discussed as it would mainly be influenced by the targeted audiance of the vizualization."
   ]
  },
  {
   "cell_type": "code",
   "execution_count": null,
   "metadata": {},
   "outputs": [],
   "source": [
    "geo_json_data = json.load(open('topojson/europe.topojson.json'))\n",
    "\n",
    "# Keep only geometries for country we know the data\n",
    "geo_json_data[\"objects\"][\"europe\"][\"geometries\"] = [g for g in geo_json_data[\"objects\"][\"europe\"][\"geometries\"] if g[\"id\"] in list(df[\"country_id\"])]\n",
    "\n",
    "m_europe=folium.Map([52.5,15], tiles='cartodbpositron', zoom_start=4)\n",
    "m_europe.choropleth(geo_data= geo_json_data, topojson='objects.europe', \n",
    "                    key_on='id',\n",
    "                    data=df, columns=['country_id','rate'],\n",
    "                    threshold_scale = breaks,\n",
    "                    fill_color='OrRd',\n",
    "                    #fill_opacity=0.7, \n",
    "                    #line_opacity=0.2,\n",
    "                   legend_name= 'Unemployment rate in July 2016 in Europe (%)')\n",
    "\n",
    "display(m_europe)\n",
    "print(\"Choropleth map of the unemployment rates in Europe. \")"
   ]
  },
  {
   "cell_type": "markdown",
   "metadata": {},
   "source": [
    "Switzerland has a 3% unemployment rate which is very low compared to the rest of Europe, it is in 25% of countries with lowest rate in September 2017.\n",
    "\n",
    "## The amstat dataset\n",
    "\n",
    "For the amstat dataset, unemployment rates per canton can only be exported grouped by nationality (Swiss vs foreigners) OR age group (or not grouped at all). We chose to work from 3 different exports (one per grouping option), so that we don't have to transform the rates ourself because it would require additional sources of data (including the active population count per canton).\n",
    "\n",
    "Again, we map the cantons to their respective codes manually, as there is only 26 of them.\n",
    "\n",
    "Finally, we extend the ungrouped DataFrame with the rate difference between the *Swiss* and the *foreigners* groupes to help us answer question 3."
   ]
  },
  {
   "cell_type": "code",
   "execution_count": null,
   "metadata": {
    "scrolled": false
   },
   "outputs": [],
   "source": [
    "ur_nat_raw = pd.read_excel(\"amstat_nat.xlsx\")\n",
    "ur_all_raw = pd.read_excel(\"amstat_all.xlsx\")\n",
    "\n",
    "cant_to_id = {\n",
    "    \"Berne\": \"BE\",\n",
    "    \"Soleure\": \"SO\",\n",
    "    \"Argovie\": \"AG\",\n",
    "    \"Bâle-Campagne\": \"BL\",\n",
    "    \"Bâle-Ville\": \"BS\",\n",
    "    \"Appenzell Rhodes-Extérieures\": \"AR\",\n",
    "    \"Appenzell Rhodes-Intérieures\": \"AI\",\n",
    "    \"Glaris\": \"GL\",\n",
    "    \"Grisons\": \"GR\",\n",
    "    \"Schaffhouse\": \"SH\",\n",
    "    \"St-Gall\": \"SG\",\n",
    "    \"Thurgovie\": \"TG\",\n",
    "    \"Lucerne\": \"LU\",\n",
    "    \"Nidwald\": \"NW\",\n",
    "    \"Obwald\":\"OW\",\n",
    "    \"Schwyz\": \"SZ\",\n",
    "    \"Uri\": \"UR\",\n",
    "    \"Zoug\": \"ZG\",\n",
    "    \"Zurich\": \"ZH\",\n",
    "    \"Fribourg\":\"FR\",\n",
    "    \"Jura\":\"JU\",\n",
    "    \"Neuchâtel\": \"NE\",\n",
    "    \"Genève\": \"GE\",\n",
    "    \"Valais\": \"VS\",\n",
    "    \"Vaud\": \"VD\",\n",
    "    \"Tessin\": \"TI\"\n",
    "}\n",
    "\n",
    "ur_nat_raw[\"cant_id\"] = ur_nat_raw[\"cant\"].map(cant_to_id)\n",
    "ur_all_raw[\"cant_id\"] = ur_all_raw[\"cant\"].map(cant_to_id)\n",
    "\n",
    "ur_nat = ur_nat_raw.set_index([\"ling_reg\", \"reg\", \"cant\", \"cant_id\", \"nat\"])\n",
    "ur = ur_all_raw.set_index([\"ling_reg\", \"reg\", \"cant\", \"cant_id\"])\n",
    "\n",
    "for col in [\"unempl_c\", \"jobseek_c\", \"empl_jobseek_c\"]:\n",
    "    ur_nat[col] = pd.to_numeric(ur_nat[col].str.replace(\"'\", \"\"))\n",
    "\n",
    "ur[\"rate_nat_diff\"] = ur_nat.xs(\"Etrangers\", level=\"nat\")[\"rate\"] - ur_nat.xs(\"Suisses\", level=\"nat\")[\"rate\"]\n",
    "ur"
   ]
  },
  {
   "cell_type": "markdown",
   "metadata": {},
   "source": [
    "We can now create the choropleth map showing the unemployment rates, using again manually set values to cut the data points into groups."
   ]
  },
  {
   "cell_type": "code",
   "execution_count": null,
   "metadata": {},
   "outputs": [],
   "source": [
    "breaks = [0, 1.4, 3.9, 4.9 ,6]\n",
    "\n",
    "cantons_b = json.load(open(\"topojson/ch-cantons.topojson.json\"))\n",
    "\n",
    "m_rate = folium.Map([46.90, 8.50], zoom_start=8)\n",
    "m_rate.choropleth(geo_data=cantons_b,\n",
    "             threshold_scale=breaks,\n",
    "             topojson=\"objects.cantons\", \n",
    "             data=ur[\"rate\"].reset_index(level=[0,1,2], drop=True), \n",
    "             fill_color='OrRd', \n",
    "             key_on=\"id\",\n",
    "             legend_name=\"Unemployment Rate\")\n",
    "\n",
    "plot_groups(ur, \"rate\", breaks)\n"
   ]
  },
  {
   "cell_type": "markdown",
   "metadata": {},
   "source": [
    "Before displaying the map, we create a second one showing the rate difference between the *Swiss* and *Foreigners* categories, so that we can display the two maps side by side."
   ]
  },
  {
   "cell_type": "code",
   "execution_count": null,
   "metadata": {},
   "outputs": [],
   "source": [
    "breaks = [0, 1.9, 2.7, 3.4, 4.5, 5.5]\n",
    "\n",
    "m_nat_diff = folium.Map([46.90, 8.50], zoom_start=8)     \n",
    "m_nat_diff.choropleth(geo_data=cantons_b,\n",
    "             threshold_scale=breaks,\n",
    "             topojson=\"objects.cantons\", \n",
    "             data=ur[\"rate_nat_diff\"].reset_index(level=[0,1,2], drop=True), \n",
    "             fill_color='OrRd', \n",
    "             key_on=\"id\",\n",
    "             legend_name=\"Unemployment Rates difference\")\n",
    "\n",
    "plot_groups(ur, \"rate_nat_diff\", breaks)"
   ]
  },
  {
   "cell_type": "markdown",
   "metadata": {},
   "source": [
    "We now display the maps from question 1) and 2) side by side and provide a succint analysis."
   ]
  },
  {
   "cell_type": "code",
   "execution_count": null,
   "metadata": {},
   "outputs": [],
   "source": [
    "display(m_rate)\n",
    "display(m_nat_diff)"
   ]
  }
 ],
 "metadata": {
  "kernelspec": {
   "display_name": "Python [conda env:ada]",
   "language": "python",
   "name": "conda-env-ada-py"
  },
  "language_info": {
   "codemirror_mode": {
    "name": "ipython",
    "version": 3
   },
   "file_extension": ".py",
   "mimetype": "text/x-python",
   "name": "python",
   "nbconvert_exporter": "python",
   "pygments_lexer": "ipython3",
   "version": "3.5.4"
  }
 },
 "nbformat": 4,
 "nbformat_minor": 2
}
