{
 "cells": [
  {
   "cell_type": "code",
   "execution_count": null,
   "metadata": {
    "collapsed": true
   },
   "outputs": [],
   "source": [
    "import pandas as pd\n",
    "import numpy as np\n",
    "import folium\n",
    "import json\n",
    "import matplotlib.pyplot as pp\n",
    "%matplotlib inline\n",
    "\n",
    "from IPython.display import display, HTML"
   ]
  },
  {
   "cell_type": "markdown",
   "metadata": {},
   "source": [
    "We use pre-cleaned dataset, i.e. we already got rid of useless rows and columns but did not perform any other processing."
   ]
  },
  {
   "cell_type": "code",
   "execution_count": null,
   "metadata": {},
   "outputs": [],
   "source": [
    "-"
   ]
  },
  {
   "cell_type": "code",
   "execution_count": null,
   "metadata": {
    "collapsed": true
   },
   "outputs": [],
   "source": [
    "cantons_b = json.load(open(\"topojson/ch-cantons.topojson.json\"))"
   ]
  },
  {
   "cell_type": "code",
   "execution_count": null,
   "metadata": {
    "scrolled": false
   },
   "outputs": [],
   "source": [
    "m = folium.Map([46.90, 8.50], zoom_start=8)\n",
    "\n",
    "m.choropleth(geo_data=cantons_b,\n",
    "             threshold_scale=[0., 1.5, 3.8, 4.5, 5],                   # Compute automaticall ? see next cell\n",
    "             topojson=\"objects.cantons\", \n",
    "             data=ur[\"rate\"].reset_index(level=[0,1,2], drop=True), \n",
    "             fill_color='OrRd', \n",
    "             key_on=\"id\",\n",
    "             legend_name=\"Unemployment Rate\")\n",
    "m"
   ]
  },
  {
   "cell_type": "code",
   "execution_count": null,
   "metadata": {
    "scrolled": true
   },
   "outputs": [],
   "source": [
    "pp.plot(ur[\"rate\"], np.zeros_like(ur[\"rate\"]), 'x')\n",
    "pp.show()                                           # Shall we automate this or is it good enough ?"
   ]
  },
  {
   "cell_type": "code",
   "execution_count": null,
   "metadata": {
    "collapsed": true
   },
   "outputs": [],
   "source": [
    "# Second map of pt. 2 : the rate is already computed this way... what shall we do ?"
   ]
  },
  {
   "cell_type": "code",
   "execution_count": null,
   "metadata": {},
   "outputs": [],
   "source": [
    "m = folium.Map([46.90, 8.50], zoom_start=8)\n",
    "pp.plot(ur[\"rate_nat_diff\"], np.zeros_like(ur[\"rate_nat_diff\"]), 'x')\n",
    "pp.show()        \n",
    "\n",
    "m.choropleth(geo_data=cantons_b,\n",
    "             threshold_scale=[0., 1.1, 2.2, 3.2, 4,5.5],                   # Compute automaticall ? see next cell\n",
    "             topojson=\"objects.cantons\", \n",
    "             data=ur[\"rate_nat_diff\"].reset_index(level=[0,1,2], drop=True), \n",
    "             fill_color='OrRd', \n",
    "             key_on=\"id\",\n",
    "             legend_name=\"Unemployment Rates difference\")\n",
    "m"
   ]
  },
  {
   "cell_type": "code",
   "execution_count": null,
   "metadata": {
    "collapsed": true
   },
   "outputs": [],
   "source": []
  }
 ],
 "metadata": {
  "kernelspec": {
   "display_name": "Python [conda env:ada]",
   "language": "python",
   "name": "conda-env-ada-py"
  },
  "language_info": {
   "codemirror_mode": {
    "name": "ipython",
    "version": 3
   },
   "file_extension": ".py",
   "mimetype": "text/x-python",
   "name": "python",
   "nbconvert_exporter": "python",
   "pygments_lexer": "ipython3",
   "version": "3.5.4"
  }
 },
 "nbformat": 4,
 "nbformat_minor": 2
}
