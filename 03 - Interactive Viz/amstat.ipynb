{
 "cells": [
  {
   "cell_type": "code",
   "execution_count": null,
   "metadata": {},
   "outputs": [],
   "source": [
    "import pandas as pd\n",
    "import numpy as np\n",
    "import folium\n",
    "import json\n",
    "import matplotlib.pyplot as pp\n",
    "%matplotlib inline\n",
    "\n",
    "from IPython.display import display, HTML"
   ]
  },
  {
   "cell_type": "code",
   "execution_count": null,
   "metadata": {},
   "outputs": [],
   "source": [
    "ur_nat_raw = pd.read_excel(\"amstat_nat.xlsx\")\n",
    "ur_all_raw = pd.read_excel(\"amstat_all.xlsx\")\n",
    "\n",
    "cant_to_id = {\n",
    "    \"Berne\": \"BE\",\n",
    "    \"Soleure\": \"SO\",\n",
    "    \"Argovie\": \"AG\",\n",
    "    \"Bâle-Campagne\": \"BL\",\n",
    "    \"Bâle-Ville\": \"BS\",\n",
    "    \"Appenzell Rhodes-Extérieures\": \"AR\",\n",
    "    \"Appenzell Rhodes-Intérieures\": \"AI\",\n",
    "    \"Glaris\": \"GL\",\n",
    "    \"Grisons\": \"GR\",\n",
    "    \"Schaffhouse\": \"SH\",\n",
    "    \"St-Gall\": \"SG\",\n",
    "    \"Thurgovie\": \"TG\",\n",
    "    \"Lucerne\": \"LU\",\n",
    "    \"Nidwald\": \"NW\",\n",
    "    \"Obwald\":\"OW\",\n",
    "    \"Schwyz\": \"SZ\",\n",
    "    \"Uri\": \"UR\",\n",
    "    \"Zoug\": \"ZG\",\n",
    "    \"Zurich\": \"ZH\",\n",
    "    \"Fribourg\":\"FR\",\n",
    "    \"Jura\":\"JU\",\n",
    "    \"Neuchâtel\": \"NE\",\n",
    "    \"Genève\": \"GE\",\n",
    "    \"Valais\": \"VS\",\n",
    "    \"Vaud\": \"VD\",\n",
    "    \"Tessin\": \"TI\"\n",
    "}\n",
    "\n",
    "ur_nat_raw[\"cant_id\"] = ur_nat_raw[\"cant\"].map(cant_to_id)\n",
    "ur_all_raw[\"cant_id\"] = ur_all_raw[\"cant\"].map(cant_to_id)\n",
    "\n",
    "ur_nat = ur_nat_raw.set_index([\"ling_reg\", \"reg\", \"cant\", \"cant_id\", \"nat\"])\n",
    "ur = ur_all_raw.set_index([\"ling_reg\", \"reg\", \"cant\", \"cant_id\"])\n",
    "\n",
    "for col in [\"unempl_c\", \"jobseek_c\", \"empl_jobseek_c\"]:\n",
    "    ur_nat[col] = pd.to_numeric(ur_nat[col].str.replace(\"'\", \"\"))\n",
    "\n",
    "ur[\"rate_nat_diff\"] = ur_nat.xs(\"Etrangers\", level=\"nat\")[\"rate\"] - ur_nat.xs(\"Suisses\", level=\"nat\")[\"rate\"]\n",
    "ur"
   ]
  },
  {
   "cell_type": "code",
   "execution_count": null,
   "metadata": {},
   "outputs": [],
   "source": [
    "cantons_b = json.load(open(\"topojson/ch-cantons.topojson.json\"))"
   ]
  },
  {
   "cell_type": "code",
   "execution_count": null,
   "metadata": {
    "scrolled": false
   },
   "outputs": [],
   "source": [
    "m = folium.Map([46.90, 8.50], zoom_start=8)\n",
    "\n",
    "m.choropleth(geo_data=cantons_b,\n",
    "             threshold_scale=[0., 1.5, 3.8, 4.5, 5],                   # Compute automaticall ? see next cell\n",
    "             topojson=\"objects.cantons\", \n",
    "             data=ur[\"rate\"].reset_index(level=[0,1,2], drop=True), \n",
    "             fill_color='OrRd', \n",
    "             key_on=\"id\",\n",
    "             legend_name=\"Unemployment Rate\")\n",
    "m"
   ]
  },
  {
   "cell_type": "code",
   "execution_count": null,
   "metadata": {
    "scrolled": true
   },
   "outputs": [],
   "source": [
    "pp.plot(ur[\"rate\"], np.zeros_like(ur[\"rate\"]), 'x')\n",
    "pp.show()                                           # Shall we automate this or is it good enough ?"
   ]
  },
  {
   "cell_type": "code",
   "execution_count": null,
   "metadata": {
    "collapsed": true
   },
   "outputs": [],
   "source": [
    "# Second map of pt. 2 : the rate is already computed this way... what shall we do ?"
   ]
  },
  {
   "cell_type": "code",
   "execution_count": null,
   "metadata": {},
   "outputs": [],
   "source": [
    "m = folium.Map([46.90, 8.50], zoom_start=8)\n",
    "pp.plot(ur[\"rate_nat_diff\"], np.zeros_like(ur[\"rate_nat_diff\"]), 'x')\n",
    "pp.show()        \n",
    "\n",
    "m.choropleth(geo_data=cantons_b,\n",
    "             threshold_scale=[0., 1.1, 2.2, 3.2, 4,5.5],                   # Compute automaticall ? see next cell\n",
    "             topojson=\"objects.cantons\", \n",
    "             data=ur[\"rate_nat_diff\"].reset_index(level=[0,1,2], drop=True), \n",
    "             fill_color='OrRd', \n",
    "             key_on=\"id\",\n",
    "             legend_name=\"Unemployment Rates difference\")\n",
    "m"
   ]
  }
 ],
 "metadata": {
  "kernelspec": {
   "display_name": "Python [conda env:ada]",
   "language": "python",
   "name": "conda-env-ada-py"
  },
  "language_info": {
   "codemirror_mode": {
    "name": "ipython",
    "version": 3
   },
   "file_extension": ".py",
   "mimetype": "text/x-python",
   "name": "python",
   "nbconvert_exporter": "python",
   "pygments_lexer": "ipython3",
   "version": "3.5.4"
  }
 },
 "nbformat": 4,
 "nbformat_minor": 2
}
