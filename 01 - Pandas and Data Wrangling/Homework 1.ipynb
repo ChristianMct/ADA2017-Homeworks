{
 "cells": [
  {
   "cell_type": "markdown",
   "metadata": {},
   "source": [
    "# Table of Contents\n",
    " <p><div class=\"lev1\"><a href=\"#Task-1.-Compiling-Ebola-Data\"><span class=\"toc-item-num\">Task 1.&nbsp;&nbsp;</span>Compiling Ebola Data</a></div>\n",
    " <div class=\"lev1\"><a href=\"#Task-2.-RNA-Sequences\"><span class=\"toc-item-num\">Task 2.&nbsp;&nbsp;</span>RNA Sequences</a></div>\n",
    " <div class=\"lev1\"><a href=\"#Task-3.-Class-War-in-Titanic\"><span class=\"toc-item-num\">Task 3.&nbsp;&nbsp;</span>Class War in Titanic</a></div></p>"
   ]
  },
  {
   "cell_type": "code",
   "execution_count": null,
   "metadata": {},
   "outputs": [],
   "source": [
    "import pandas as pd\n",
    "import numpy as np\n",
    "import seaborn as sns\n",
    "import matplotlib.pyplot as plt\n",
    "%matplotlib inline\n",
    "print(plt.style.available)\n",
    "plt.style.use('seaborn-deep')\n",
    "DATA_FOLDER = '../../ADA2017-Tutorials/02 - Intro to Pandas/Data' # Use the data folder provided in Tutorial 02 - Intro to Pandas."
   ]
  },
  {
   "cell_type": "markdown",
   "metadata": {},
   "source": [
    "## Task 1. Compiling Ebola Data\n",
    "\n",
    "The `DATA_FOLDER/ebola` folder contains summarized reports of Ebola cases from three countries (Guinea, Liberia and Sierra Leone) during the recent outbreak of the disease in West Africa. For each country, there are daily reports that contain various information about the outbreak in several cities in each country.\n",
    "\n",
    "Use pandas to import these data files into a single `Dataframe`.\n",
    "Using this `DataFrame`, calculate for *each country*, the *daily average per month* of *new cases* and *deaths*.\n",
    "Make sure you handle all the different expressions for *new cases* and *deaths* that are used in the reports."
   ]
  },
  {
   "cell_type": "code",
   "execution_count": null,
   "metadata": {
    "collapsed": true
   },
   "outputs": [],
   "source": []
  },
  {
   "cell_type": "markdown",
   "metadata": {},
   "source": [
    "## Task 2. RNA Sequences\n",
    "\n",
    "In the `DATA_FOLDER/microbiome` subdirectory, there are 9 spreadsheets of microbiome data that was acquired from high-throughput RNA sequencing procedures, along with a 10<sup>th</sup> file that describes the content of each. \n",
    "\n",
    "Use pandas to import the first 9 spreadsheets into a single `DataFrame`.\n",
    "Then, add the metadata information from the 10<sup>th</sup> spreadsheet as columns in the combined `DataFrame`.\n",
    "Make sure that the final `DataFrame` has a unique index and all the `NaN` values have been replaced by the tag `unknown`."
   ]
  },
  {
   "cell_type": "code",
   "execution_count": null,
   "metadata": {
    "collapsed": true
   },
   "outputs": [],
   "source": [
    "# Write your answer here"
   ]
  },
  {
   "cell_type": "markdown",
   "metadata": {},
   "source": [
    "## Task 3. Class War in Titanic\n",
    "\n",
    "Use pandas to import the data file `Data/titanic.xls`. It contains data on all the passengers that travelled on the Titanic."
   ]
  },
  {
   "cell_type": "code",
   "execution_count": null,
   "metadata": {},
   "outputs": [],
   "source": [
    "from IPython.core.display import HTML\n",
    "HTML(filename=DATA_FOLDER+'/titanic.html')"
   ]
  },
  {
   "cell_type": "markdown",
   "metadata": {},
   "source": [
    "For each of the following questions state clearly your assumptions and discuss your findings:\n",
    "1. Describe the *type* and the *value range* of each attribute. Indicate and transform the attributes that can be `Categorical`. \n",
    "2. Plot histograms for the *travel class*, *embarkation port*, *sex* and *age* attributes. For the latter one, use *discrete decade intervals*. \n",
    "3. Calculate the proportion of passengers by *cabin floor*. Present your results in a *pie chart*.\n",
    "4. For each *travel class*, calculate the proportion of the passengers that survived. Present your results in *pie charts*.\n",
    "5. Calculate the proportion of the passengers that survived by *travel class* and *sex*. Present your results in *a single histogram*.\n",
    "6. Create 2 equally populated *age categories* and calculate survival proportions by *age category*, *travel class* and *sex*. Present your results in a `DataFrame` with unique index."
   ]
  },
  {
   "cell_type": "code",
   "execution_count": null,
   "metadata": {},
   "outputs": [],
   "source": [
    "data = pd.read_excel(DATA_FOLDER+'/titanic.xls', sheetname='titanic')"
   ]
  },
  {
   "cell_type": "code",
   "execution_count": null,
   "metadata": {},
   "outputs": [],
   "source": [
    "data.pclass.unique()"
   ]
  },
  {
   "cell_type": "code",
   "execution_count": null,
   "metadata": {},
   "outputs": [],
   "source": [
    "data.survived.unique()"
   ]
  },
  {
   "cell_type": "code",
   "execution_count": null,
   "metadata": {},
   "outputs": [],
   "source": [
    "data.sex.unique()"
   ]
  },
  {
   "cell_type": "code",
   "execution_count": null,
   "metadata": {},
   "outputs": [],
   "source": [
    "data.embarked.unique()"
   ]
  },
  {
   "cell_type": "code",
   "execution_count": null,
   "metadata": {},
   "outputs": [],
   "source": [
    "data.boat.unique()"
   ]
  },
  {
   "cell_type": "code",
   "execution_count": null,
   "metadata": {},
   "outputs": [],
   "source": [
    "data.cabin.isnull().sum()"
   ]
  },
  {
   "cell_type": "code",
   "execution_count": null,
   "metadata": {},
   "outputs": [],
   "source": [
    "len(data[data.body.notnull()].body.unique()) == len(data[data.body.notnull()].body)"
   ]
  },
  {
   "cell_type": "code",
   "execution_count": null,
   "metadata": {},
   "outputs": [],
   "source": [
    "categories = {\n",
    "    'pclass': 'category',\n",
    "    #'survived': 'category',\n",
    "    'sex': 'category',\n",
    "    'embarked': 'category',\n",
    "}\n",
    "\n",
    "cities = {\n",
    "    \"C\":\"Cherbourg\",\n",
    "    \"Q\":\"Queenstown\",\n",
    "    \"S\":\"Southampton\"\n",
    "}\n",
    "\n",
    "passengers = pd.read_excel(DATA_FOLDER+'/titanic.xls', sheetname='titanic', dtype=categories)\n",
    "\n",
    "passengers.embarked.cat.categories = [cities[c] for c in passengers.embarked.cat.categories]\n",
    "passengers.embarked.cat.add_categories([\"Unknown\"], inplace=True)\n",
    "passengers.embarked.fillna(\"Unknown\", inplace=True)\n",
    "\n",
    "passengers.survived = passengers.survived.astype('category', categories=[0, 1], ordered=True)\n",
    "\n",
    "# Should inlcude unknown ages ? \n",
    "passengers[\"age_cat\"] = pd.cut(passengers.age, range(0, np.ceil(passengers.age.max()).astype('int')+1, 10))"
   ]
  },
  {
   "cell_type": "code",
   "execution_count": null,
   "metadata": {},
   "outputs": [],
   "source": [
    "fig, ((ax1, ax2), (ax3, ax4)) = plt.subplots(nrows=2, ncols=2, sharey=True, figsize=(15,15))\n",
    "sns.countplot(x=\"pclass\", data=passengers, ax=ax1);\n",
    "sns.countplot(x='embarked', data=passengers, ax=ax2);\n",
    "sns.countplot(x='sex', data=passengers, ax=ax3);\n",
    "sns.countplot(x='age_cat', data=passengers, ax=ax4);"
   ]
  },
  {
   "cell_type": "code",
   "execution_count": null,
   "metadata": {
    "scrolled": true
   },
   "outputs": [],
   "source": [
    "def get_floor(o):\n",
    "    if type(o) != str:\n",
    "        return np.NaN\n",
    "    else:\n",
    "        floor_codes = list(set([c for c in o if c.isalpha()]))\n",
    "        return floor_codes[0] if len(floor_codes) == 1 else np.NaN\n",
    "\n",
    "passengers['floor'] = passengers.cabin.transform(get_floor).astype('category')\n",
    "\n",
    "fig, axs = plt.subplots(figsize=(5,5))\n",
    "passengers.floor.value_counts(sort=False).plot.pie(); #  We could have better precision by infering  missing value from class"
   ]
  },
  {
   "cell_type": "code",
   "execution_count": null,
   "metadata": {},
   "outputs": [],
   "source": [
    "fig, axs = plt.subplots(ncols=3, figsize=(15,5))\n",
    "colors = ['lightcoral','darkseagreen']\n",
    "labels = ['Died', 'Survived']\n",
    "for (g, s), ax in zip(passengers.groupby(['pclass']).survived, axs):\n",
    "    s.value_counts(sort=False).plot.pie(ax=ax, colors=colors, labels=labels)"
   ]
  },
  {
   "cell_type": "code",
   "execution_count": null,
   "metadata": {},
   "outputs": [],
   "source": [
    "fig, ax = plt.subplots(figsize=(10,5))\n",
    "width = 0.25\n",
    "for i, (grp_lab, grp) in enumerate(passengers.groupby([\"pclass\", \"sex\"]).survived):\n",
    "    shift = (grp_lab[1]=='female')*(width+0.01)\n",
    "    down = plt.bar(grp_lab[0]+shift, grp.value_counts()[0], width, color=colors[0])\n",
    "    up = plt.bar(grp_lab[0]+shift, grp.value_counts()[1], width, bottom=grp.value_counts()[0], color=colors[1])\n",
    "\n",
    "ax.set_xticks(passengers.pclass.cat.categories+0.5*width)\n",
    "ax.set_xticklabels(passengers.pclass.cat.categories)\n",
    "\n",
    "ax.set_title('Surviva count per class (Male, Female)')\n",
    "ax.set_ylabel('Count')\n",
    "ax.set_xlabel('Class (Male, Female)')\n",
    "plt.legend(['Died', 'Survived'], loc='upper left');"
   ]
  },
  {
   "cell_type": "markdown",
   "metadata": {},
   "source": [
    "Create 2 equally populated age categories and calculate survival proportions by age category, travel class and sex. Present your results in a DataFrame with unique index."
   ]
  },
  {
   "cell_type": "code",
   "execution_count": null,
   "metadata": {},
   "outputs": [],
   "source": [
    "print(passengers.age.isnull().sum())\n",
    "print(passengers.age.mean())\n",
    "pd.qcut(passengers.age, [0, 0.5, 1]).value_counts()"
   ]
  }
 ],
 "metadata": {
  "kernelspec": {
   "display_name": "Python [conda root]",
   "language": "python",
   "name": "conda-root-py"
  },
  "language_info": {
   "codemirror_mode": {
    "name": "ipython",
    "version": 3
   },
   "file_extension": ".py",
   "mimetype": "text/x-python",
   "name": "python",
   "nbconvert_exporter": "python",
   "pygments_lexer": "ipython3",
   "version": "3.6.1"
  }
 },
 "nbformat": 4,
 "nbformat_minor": 2
}
