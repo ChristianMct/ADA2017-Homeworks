{
 "cells": [
  {
   "cell_type": "markdown",
   "metadata": {},
   "source": [
    "# Table of Contents\n",
    " <p><div class=\"lev1\"><a href=\"#Task-1.-Compiling-Ebola-Data\"><span class=\"toc-item-num\">Task 1.&nbsp;&nbsp;</span>Compiling Ebola Data</a></div>\n",
    " <div class=\"lev1\"><a href=\"#Task-2.-RNA-Sequences\"><span class=\"toc-item-num\">Task 2.&nbsp;&nbsp;</span>RNA Sequences</a></div>\n",
    " <div class=\"lev1\"><a href=\"#Task-3.-Class-War-in-Titanic\"><span class=\"toc-item-num\">Task 3.&nbsp;&nbsp;</span>Class War in Titanic</a></div></p>"
   ]
  },
  {
   "cell_type": "code",
   "execution_count": 7,
   "metadata": {
    "collapsed": true
   },
   "outputs": [],
   "source": [
    "DATA_FOLDER = '../../ADA2017-Tutorials/02 - Intro to Pandas/Data' # Use the data folder provided in Tutorial 02 - Intro to Pandas."
   ]
  },
  {
   "cell_type": "markdown",
   "metadata": {},
   "source": [
    "## Task 1. Compiling Ebola Data\n",
    "\n",
    "The `DATA_FOLDER/ebola` folder contains summarized reports of Ebola cases from three countries (Guinea, Liberia and Sierra Leone) during the recent outbreak of the disease in West Africa. For each country, there are daily reports that contain various information about the outbreak in several cities in each country.\n",
    "\n",
    "Use pandas to import these data files into a single `Dataframe`.\n",
    "Using this `DataFrame`, calculate for *each country*, the *daily average per month* of *new cases* and *deaths*.\n",
    "Make sure you handle all the different expressions for *new cases* and *deaths* that are used in the reports."
   ]
  },
  {
   "cell_type": "code",
   "execution_count": 8,
   "metadata": {
    "collapsed": true
   },
   "outputs": [],
   "source": [
    "import pandas as pd\n",
    "import numpy as np\n",
    "pd.options.mode.chained_assignment = None  # default='warn', Mutes warnings when copying a slice from a DataFrame."
   ]
  },
  {
   "cell_type": "code",
   "execution_count": 9,
   "metadata": {},
   "outputs": [],
   "source": [
    "import glob\n",
    "pathSL = DATA_FOLDER + \"/ebola/sl_data\"\n",
    "allFilesSL = glob.glob(pathSL + \"/*.csv\")\n",
    "frameSL = pd.DataFrame()\n",
    "listSL = []\n",
    "for fileSL in allFilesSL:\n",
    "    df = pd.read_csv(fileSL,index_col=None, header=0)\n",
    "    listSL.append(df)\n",
    "frameSL = pd.concat(listSL)"
   ]
  },
  {
   "cell_type": "code",
   "execution_count": 10,
   "metadata": {
    "collapsed": true
   },
   "outputs": [],
   "source": [
    "pathLI = DATA_FOLDER + \"/ebola/liberia_data\"\n",
    "allFilesLI = glob.glob(pathLI + \"/*.csv\")\n",
    "frameLI = pd.DataFrame()\n",
    "listLI = []\n",
    "for fileLI in allFilesLI:\n",
    "    df = pd.read_csv(fileLI,index_col=None, header=0)\n",
    "    listLI.append(df)\n",
    "frameLI = pd.concat(listLI)"
   ]
  },
  {
   "cell_type": "code",
   "execution_count": 11,
   "metadata": {
    "collapsed": true,
    "scrolled": false
   },
   "outputs": [],
   "source": [
    "pathGU = DATA_FOLDER + \"/ebola/guinea_data\"\n",
    "allFilesGU = glob.glob(pathGU + \"/*.csv\")\n",
    "frameGU = pd.DataFrame()\n",
    "listGU = []\n",
    "for fileGU in allFilesGU:\n",
    "    df = pd.read_csv(fileGU,index_col=None, header=0)\n",
    "    listGU.append(df)\n",
    "frameGU = pd.concat(listGU)"
   ]
  },
  {
   "cell_type": "code",
   "execution_count": null,
   "metadata": {
    "collapsed": true
   },
   "outputs": [],
   "source": []
  },
  {
   "cell_type": "code",
   "execution_count": null,
   "metadata": {
    "collapsed": true,
    "scrolled": true
   },
   "outputs": [],
   "source": []
  },
  {
   "cell_type": "code",
   "execution_count": null,
   "metadata": {
    "collapsed": true
   },
   "outputs": [],
   "source": []
  },
  {
   "cell_type": "code",
   "execution_count": null,
   "metadata": {
    "collapsed": true
   },
   "outputs": [],
   "source": []
  },
  {
   "cell_type": "code",
   "execution_count": 12,
   "metadata": {},
   "outputs": [
    {
     "data": {
      "text/html": [
       "<div>\n",
       "<style>\n",
       "    .dataframe thead tr:only-child th {\n",
       "        text-align: right;\n",
       "    }\n",
       "\n",
       "    .dataframe thead th {\n",
       "        text-align: left;\n",
       "    }\n",
       "\n",
       "    .dataframe tbody tr th {\n",
       "        vertical-align: top;\n",
       "    }\n",
       "</style>\n",
       "<table border=\"1\" class=\"dataframe\">\n",
       "  <thead>\n",
       "    <tr style=\"text-align: right;\">\n",
       "      <th></th>\n",
       "      <th></th>\n",
       "      <th>Date</th>\n",
       "      <th>Variable</th>\n",
       "      <th>National</th>\n",
       "    </tr>\n",
       "  </thead>\n",
       "  <tbody>\n",
       "    <tr>\n",
       "      <th rowspan=\"23\" valign=\"top\">Guinea</th>\n",
       "      <th>2</th>\n",
       "      <td>2014-08-04</td>\n",
       "      <td>new_confirmed</td>\n",
       "      <td>4</td>\n",
       "    </tr>\n",
       "    <tr>\n",
       "      <th>9</th>\n",
       "      <td>2014-08-04</td>\n",
       "      <td>death_confirmed</td>\n",
       "      <td>2</td>\n",
       "    </tr>\n",
       "    <tr>\n",
       "      <th>2</th>\n",
       "      <td>2014-08-26</td>\n",
       "      <td>new_confirmed</td>\n",
       "      <td>10</td>\n",
       "    </tr>\n",
       "    <tr>\n",
       "      <th>2</th>\n",
       "      <td>2014-08-27</td>\n",
       "      <td>new_confirmed</td>\n",
       "      <td>10</td>\n",
       "    </tr>\n",
       "    <tr>\n",
       "      <th>2</th>\n",
       "      <td>2014-08-30</td>\n",
       "      <td>new_confirmed</td>\n",
       "      <td>9</td>\n",
       "    </tr>\n",
       "    <tr>\n",
       "      <th>2</th>\n",
       "      <td>2014-08-31</td>\n",
       "      <td>new_confirmed</td>\n",
       "      <td>29</td>\n",
       "    </tr>\n",
       "    <tr>\n",
       "      <th>2</th>\n",
       "      <td>2014-09-02</td>\n",
       "      <td>new_confirmed</td>\n",
       "      <td>14</td>\n",
       "    </tr>\n",
       "    <tr>\n",
       "      <th>2</th>\n",
       "      <td>2014-09-04</td>\n",
       "      <td>new_confirmed</td>\n",
       "      <td>17</td>\n",
       "    </tr>\n",
       "    <tr>\n",
       "      <th>2</th>\n",
       "      <td>2014-09-07</td>\n",
       "      <td>new_confirmed</td>\n",
       "      <td>11</td>\n",
       "    </tr>\n",
       "    <tr>\n",
       "      <th>2</th>\n",
       "      <td>2014-09-08</td>\n",
       "      <td>new_confirmed</td>\n",
       "      <td>11</td>\n",
       "    </tr>\n",
       "    <tr>\n",
       "      <th>2</th>\n",
       "      <td>2014-09-09</td>\n",
       "      <td>new_confirmed</td>\n",
       "      <td>7</td>\n",
       "    </tr>\n",
       "    <tr>\n",
       "      <th>2</th>\n",
       "      <td>2014-09-11</td>\n",
       "      <td>new_confirmed</td>\n",
       "      <td>13</td>\n",
       "    </tr>\n",
       "    <tr>\n",
       "      <th>2</th>\n",
       "      <td>2014-09-14</td>\n",
       "      <td>new_confirmed</td>\n",
       "      <td>14</td>\n",
       "    </tr>\n",
       "    <tr>\n",
       "      <th>2</th>\n",
       "      <td>2014-09-16</td>\n",
       "      <td>new_confirmed</td>\n",
       "      <td>6</td>\n",
       "    </tr>\n",
       "    <tr>\n",
       "      <th>2</th>\n",
       "      <td>2014-09-17</td>\n",
       "      <td>new_confirmed</td>\n",
       "      <td>6</td>\n",
       "    </tr>\n",
       "    <tr>\n",
       "      <th>2</th>\n",
       "      <td>2014-09-19</td>\n",
       "      <td>new_confirmed</td>\n",
       "      <td>12</td>\n",
       "    </tr>\n",
       "    <tr>\n",
       "      <th>2</th>\n",
       "      <td>2014-09-21</td>\n",
       "      <td>new_confirmed</td>\n",
       "      <td>17</td>\n",
       "    </tr>\n",
       "    <tr>\n",
       "      <th>2</th>\n",
       "      <td>2014-09-22</td>\n",
       "      <td>new_confirmed</td>\n",
       "      <td>14</td>\n",
       "    </tr>\n",
       "    <tr>\n",
       "      <th>2</th>\n",
       "      <td>2014-09-23</td>\n",
       "      <td>new_confirmed</td>\n",
       "      <td>25</td>\n",
       "    </tr>\n",
       "    <tr>\n",
       "      <th>2</th>\n",
       "      <td>2014-09-24</td>\n",
       "      <td>new_confirmed</td>\n",
       "      <td>20</td>\n",
       "    </tr>\n",
       "    <tr>\n",
       "      <th>2</th>\n",
       "      <td>2014-09-26</td>\n",
       "      <td>new_confirmed</td>\n",
       "      <td>10</td>\n",
       "    </tr>\n",
       "    <tr>\n",
       "      <th>2</th>\n",
       "      <td>2014-09-30</td>\n",
       "      <td>new_confirmed</td>\n",
       "      <td>11</td>\n",
       "    </tr>\n",
       "    <tr>\n",
       "      <th>2</th>\n",
       "      <td>2014-10-01</td>\n",
       "      <td>new_confirmed</td>\n",
       "      <td>6</td>\n",
       "    </tr>\n",
       "    <tr>\n",
       "      <th rowspan=\"7\" valign=\"top\">Sierra Leone</th>\n",
       "      <th>4</th>\n",
       "      <td>2014-08-12</td>\n",
       "      <td>new_confirmed</td>\n",
       "      <td>11</td>\n",
       "    </tr>\n",
       "    <tr>\n",
       "      <th>11</th>\n",
       "      <td>2014-08-12</td>\n",
       "      <td>death_confirmed</td>\n",
       "      <td>264</td>\n",
       "    </tr>\n",
       "    <tr>\n",
       "      <th>4</th>\n",
       "      <td>2014-08-13</td>\n",
       "      <td>new_confirmed</td>\n",
       "      <td>15</td>\n",
       "    </tr>\n",
       "    <tr>\n",
       "      <th>11</th>\n",
       "      <td>2014-08-13</td>\n",
       "      <td>death_confirmed</td>\n",
       "      <td>273</td>\n",
       "    </tr>\n",
       "    <tr>\n",
       "      <th>4</th>\n",
       "      <td>2014-08-14</td>\n",
       "      <td>new_confirmed</td>\n",
       "      <td>13</td>\n",
       "    </tr>\n",
       "    <tr>\n",
       "      <th>11</th>\n",
       "      <td>2014-08-14</td>\n",
       "      <td>death_confirmed</td>\n",
       "      <td>280</td>\n",
       "    </tr>\n",
       "    <tr>\n",
       "      <th>4</th>\n",
       "      <td>2014-08-15</td>\n",
       "      <td>new_confirmed</td>\n",
       "      <td>10</td>\n",
       "    </tr>\n",
       "    <tr>\n",
       "      <th>...</th>\n",
       "      <th>...</th>\n",
       "      <td>...</td>\n",
       "      <td>...</td>\n",
       "      <td>...</td>\n",
       "    </tr>\n",
       "    <tr>\n",
       "      <th rowspan=\"30\" valign=\"top\">Liberia</th>\n",
       "      <th>4</th>\n",
       "      <td>2014-11-24 00:00:00</td>\n",
       "      <td>death_confirmed</td>\n",
       "      <td>NaN</td>\n",
       "    </tr>\n",
       "    <tr>\n",
       "      <th>25</th>\n",
       "      <td>2014-11-24 00:00:00</td>\n",
       "      <td>new_confirmed</td>\n",
       "      <td>NaN</td>\n",
       "    </tr>\n",
       "    <tr>\n",
       "      <th>4</th>\n",
       "      <td>2014-11-26 00:00:00</td>\n",
       "      <td>death_confirmed</td>\n",
       "      <td>NaN</td>\n",
       "    </tr>\n",
       "    <tr>\n",
       "      <th>25</th>\n",
       "      <td>2014-11-26 00:00:00</td>\n",
       "      <td>new_confirmed</td>\n",
       "      <td>NaN</td>\n",
       "    </tr>\n",
       "    <tr>\n",
       "      <th>4</th>\n",
       "      <td>2014-11-27 00:00:00</td>\n",
       "      <td>death_confirmed</td>\n",
       "      <td>NaN</td>\n",
       "    </tr>\n",
       "    <tr>\n",
       "      <th>25</th>\n",
       "      <td>2014-11-27 00:00:00</td>\n",
       "      <td>new_confirmed</td>\n",
       "      <td>12</td>\n",
       "    </tr>\n",
       "    <tr>\n",
       "      <th>4</th>\n",
       "      <td>2014-11-28 00:00:00</td>\n",
       "      <td>death_confirmed</td>\n",
       "      <td>NaN</td>\n",
       "    </tr>\n",
       "    <tr>\n",
       "      <th>25</th>\n",
       "      <td>2014-11-28 00:00:00</td>\n",
       "      <td>new_confirmed</td>\n",
       "      <td>7</td>\n",
       "    </tr>\n",
       "    <tr>\n",
       "      <th>4</th>\n",
       "      <td>2014-11-29 00:00:00</td>\n",
       "      <td>death_confirmed</td>\n",
       "      <td>NaN</td>\n",
       "    </tr>\n",
       "    <tr>\n",
       "      <th>25</th>\n",
       "      <td>2014-11-29 00:00:00</td>\n",
       "      <td>new_confirmed</td>\n",
       "      <td>10</td>\n",
       "    </tr>\n",
       "    <tr>\n",
       "      <th>4</th>\n",
       "      <td>2014-11-30 00:00:00</td>\n",
       "      <td>death_confirmed</td>\n",
       "      <td>NaN</td>\n",
       "    </tr>\n",
       "    <tr>\n",
       "      <th>25</th>\n",
       "      <td>2014-11-30 00:00:00</td>\n",
       "      <td>new_confirmed</td>\n",
       "      <td>10</td>\n",
       "    </tr>\n",
       "    <tr>\n",
       "      <th>4</th>\n",
       "      <td>2014-12-01 00:00:00</td>\n",
       "      <td>death_confirmed</td>\n",
       "      <td>NaN</td>\n",
       "    </tr>\n",
       "    <tr>\n",
       "      <th>25</th>\n",
       "      <td>2014-12-01 00:00:00</td>\n",
       "      <td>new_confirmed</td>\n",
       "      <td>1</td>\n",
       "    </tr>\n",
       "    <tr>\n",
       "      <th>4</th>\n",
       "      <td>2014-12-02 00:00:00</td>\n",
       "      <td>death_confirmed</td>\n",
       "      <td>NaN</td>\n",
       "    </tr>\n",
       "    <tr>\n",
       "      <th>25</th>\n",
       "      <td>2014-12-02 00:00:00</td>\n",
       "      <td>new_confirmed</td>\n",
       "      <td>9</td>\n",
       "    </tr>\n",
       "    <tr>\n",
       "      <th>4</th>\n",
       "      <td>2014-12-03 00:00:00</td>\n",
       "      <td>death_confirmed</td>\n",
       "      <td>NaN</td>\n",
       "    </tr>\n",
       "    <tr>\n",
       "      <th>25</th>\n",
       "      <td>2014-12-03 00:00:00</td>\n",
       "      <td>new_confirmed</td>\n",
       "      <td>NaN</td>\n",
       "    </tr>\n",
       "    <tr>\n",
       "      <th>4</th>\n",
       "      <td>2014-12-04 00:00:00</td>\n",
       "      <td>death_confirmed</td>\n",
       "      <td>NaN</td>\n",
       "    </tr>\n",
       "    <tr>\n",
       "      <th>25</th>\n",
       "      <td>2014-12-04 00:00:00</td>\n",
       "      <td>new_confirmed</td>\n",
       "      <td>2867</td>\n",
       "    </tr>\n",
       "    <tr>\n",
       "      <th>4</th>\n",
       "      <td>2014-12-05 00:00:00</td>\n",
       "      <td>death_confirmed</td>\n",
       "      <td>NaN</td>\n",
       "    </tr>\n",
       "    <tr>\n",
       "      <th>25</th>\n",
       "      <td>2014-12-05 00:00:00</td>\n",
       "      <td>new_confirmed</td>\n",
       "      <td>2867</td>\n",
       "    </tr>\n",
       "    <tr>\n",
       "      <th>4</th>\n",
       "      <td>2014-12-06 00:00:00</td>\n",
       "      <td>death_confirmed</td>\n",
       "      <td>NaN</td>\n",
       "    </tr>\n",
       "    <tr>\n",
       "      <th>25</th>\n",
       "      <td>2014-12-06 00:00:00</td>\n",
       "      <td>new_confirmed</td>\n",
       "      <td>2869</td>\n",
       "    </tr>\n",
       "    <tr>\n",
       "      <th>4</th>\n",
       "      <td>2014-12-07 00:00:00</td>\n",
       "      <td>death_confirmed</td>\n",
       "      <td>NaN</td>\n",
       "    </tr>\n",
       "    <tr>\n",
       "      <th>25</th>\n",
       "      <td>2014-12-07 00:00:00</td>\n",
       "      <td>new_confirmed</td>\n",
       "      <td>2869</td>\n",
       "    </tr>\n",
       "    <tr>\n",
       "      <th>4</th>\n",
       "      <td>2014-12-08 00:00:00</td>\n",
       "      <td>death_confirmed</td>\n",
       "      <td>NaN</td>\n",
       "    </tr>\n",
       "    <tr>\n",
       "      <th>25</th>\n",
       "      <td>2014-12-08 00:00:00</td>\n",
       "      <td>new_confirmed</td>\n",
       "      <td>2927</td>\n",
       "    </tr>\n",
       "    <tr>\n",
       "      <th>4</th>\n",
       "      <td>2014-12-09 00:00:00</td>\n",
       "      <td>death_confirmed</td>\n",
       "      <td>NaN</td>\n",
       "    </tr>\n",
       "    <tr>\n",
       "      <th>25</th>\n",
       "      <td>2014-12-09 00:00:00</td>\n",
       "      <td>new_confirmed</td>\n",
       "      <td>2946</td>\n",
       "    </tr>\n",
       "  </tbody>\n",
       "</table>\n",
       "<p>430 rows × 3 columns</p>\n",
       "</div>"
      ],
      "text/plain": [
       "                                Date         Variable National\n",
       "Guinea       2            2014-08-04    new_confirmed        4\n",
       "             9            2014-08-04  death_confirmed        2\n",
       "             2            2014-08-26    new_confirmed       10\n",
       "             2            2014-08-27    new_confirmed       10\n",
       "             2            2014-08-30    new_confirmed        9\n",
       "             2            2014-08-31    new_confirmed       29\n",
       "             2            2014-09-02    new_confirmed       14\n",
       "             2            2014-09-04    new_confirmed       17\n",
       "             2            2014-09-07    new_confirmed       11\n",
       "             2            2014-09-08    new_confirmed       11\n",
       "             2            2014-09-09    new_confirmed        7\n",
       "             2            2014-09-11    new_confirmed       13\n",
       "             2            2014-09-14    new_confirmed       14\n",
       "             2            2014-09-16    new_confirmed        6\n",
       "             2            2014-09-17    new_confirmed        6\n",
       "             2            2014-09-19    new_confirmed       12\n",
       "             2            2014-09-21    new_confirmed       17\n",
       "             2            2014-09-22    new_confirmed       14\n",
       "             2            2014-09-23    new_confirmed       25\n",
       "             2            2014-09-24    new_confirmed       20\n",
       "             2            2014-09-26    new_confirmed       10\n",
       "             2            2014-09-30    new_confirmed       11\n",
       "             2            2014-10-01    new_confirmed        6\n",
       "Sierra Leone 4            2014-08-12    new_confirmed       11\n",
       "             11           2014-08-12  death_confirmed      264\n",
       "             4            2014-08-13    new_confirmed       15\n",
       "             11           2014-08-13  death_confirmed      273\n",
       "             4            2014-08-14    new_confirmed       13\n",
       "             11           2014-08-14  death_confirmed      280\n",
       "             4            2014-08-15    new_confirmed       10\n",
       "...                              ...              ...      ...\n",
       "Liberia      4   2014-11-24 00:00:00  death_confirmed      NaN\n",
       "             25  2014-11-24 00:00:00    new_confirmed      NaN\n",
       "             4   2014-11-26 00:00:00  death_confirmed      NaN\n",
       "             25  2014-11-26 00:00:00    new_confirmed      NaN\n",
       "             4   2014-11-27 00:00:00  death_confirmed      NaN\n",
       "             25  2014-11-27 00:00:00    new_confirmed       12\n",
       "             4   2014-11-28 00:00:00  death_confirmed      NaN\n",
       "             25  2014-11-28 00:00:00    new_confirmed        7\n",
       "             4   2014-11-29 00:00:00  death_confirmed      NaN\n",
       "             25  2014-11-29 00:00:00    new_confirmed       10\n",
       "             4   2014-11-30 00:00:00  death_confirmed      NaN\n",
       "             25  2014-11-30 00:00:00    new_confirmed       10\n",
       "             4   2014-12-01 00:00:00  death_confirmed      NaN\n",
       "             25  2014-12-01 00:00:00    new_confirmed        1\n",
       "             4   2014-12-02 00:00:00  death_confirmed      NaN\n",
       "             25  2014-12-02 00:00:00    new_confirmed        9\n",
       "             4   2014-12-03 00:00:00  death_confirmed      NaN\n",
       "             25  2014-12-03 00:00:00    new_confirmed      NaN\n",
       "             4   2014-12-04 00:00:00  death_confirmed      NaN\n",
       "             25  2014-12-04 00:00:00    new_confirmed     2867\n",
       "             4   2014-12-05 00:00:00  death_confirmed      NaN\n",
       "             25  2014-12-05 00:00:00    new_confirmed     2867\n",
       "             4   2014-12-06 00:00:00  death_confirmed      NaN\n",
       "             25  2014-12-06 00:00:00    new_confirmed     2869\n",
       "             4   2014-12-07 00:00:00  death_confirmed      NaN\n",
       "             25  2014-12-07 00:00:00    new_confirmed     2869\n",
       "             4   2014-12-08 00:00:00  death_confirmed      NaN\n",
       "             25  2014-12-08 00:00:00    new_confirmed     2927\n",
       "             4   2014-12-09 00:00:00  death_confirmed      NaN\n",
       "             25  2014-12-09 00:00:00    new_confirmed     2946\n",
       "\n",
       "[430 rows x 3 columns]"
      ]
     },
     "execution_count": 12,
     "metadata": {},
     "output_type": "execute_result"
    }
   ],
   "source": [
    "frameSL.rename(columns={'date':'Date', 'variable':'Variable'}, inplace=True)\n",
    "frameLI['Date'] = pd.to_datetime(frameLI.Date)\n",
    "frameGU.rename(columns={'Totals':'National','Description':'Variable' }, inplace=True)\n",
    "frameGU = frameGU[['Date', 'Variable', 'National']] \n",
    "frameSL = frameSL[['Date', 'Variable', 'National']]\n",
    "frameLI = frameLI[['Date', 'Variable', 'National']]\n",
    "frameTmp = [frameGU, frameSL, frameLI]\n",
    "frame = pd.concat(frameTmp, keys=['Guinea', 'Sierra Leone', 'Liberia'])\n",
    "new = ['New cases of confirmed','New case/s \\(confirmed\\)']\n",
    "deaths=['New deaths registered today \\(confirmed\\)','Total death/s in confirmed cases']\n",
    "for newi in new:\n",
    "    frame.Variable = frame.Variable.str.replace(newi, 'new_confirmed')\n",
    "for deathi in deaths:\n",
    "    frame.Variable = frame.Variable.str.replace(deathi, 'death_confirmed') \n",
    "PhilterList = ['new_confirmed', 'death_confirmed']\n",
    "frame = frame.loc[frame['Variable'].isin(PhilterList)]\n",
    "frame.dropna(thresh=1)  \n",
    "frame"
   ]
  },
  {
   "cell_type": "code",
   "execution_count": 1,
   "metadata": {},
   "outputs": [
    {
     "ename": "NameError",
     "evalue": "name 'frame' is not defined",
     "output_type": "error",
     "traceback": [
      "\u001b[0;31m---------------------------------------------------------------------------\u001b[0m",
      "\u001b[0;31mNameError\u001b[0m                                 Traceback (most recent call last)",
      "\u001b[0;32m<ipython-input-1-f2585c23a491>\u001b[0m in \u001b[0;36m<module>\u001b[0;34m()\u001b[0m\n\u001b[0;32m----> 1\u001b[0;31m \u001b[0mframe\u001b[0m\u001b[0;34m.\u001b[0m\u001b[0mVariable\u001b[0m\u001b[0;34m.\u001b[0m\u001b[0munique\u001b[0m\u001b[0;34m(\u001b[0m\u001b[0;34m)\u001b[0m\u001b[0;34m\u001b[0m\u001b[0m\n\u001b[0m",
      "\u001b[0;31mNameError\u001b[0m: name 'frame' is not defined"
     ]
    }
   ],
   "source": [
    "frame.Variable.unique()"
   ]
  },
  {
   "cell_type": "code",
   "execution_count": null,
   "metadata": {},
   "outputs": [],
   "source": [
    "frameGU.columns"
   ]
  },
  {
   "cell_type": "code",
   "execution_count": null,
   "metadata": {
    "collapsed": true
   },
   "outputs": [],
   "source": [
    "frameGU.Variable = frameGU.Variable.str.replace('New cases of confirmed','new_confirmed')\n",
    "frameGU.Variable = frameGU.Variable.str.replace('New deaths registered today (confirmed)','death_confirmed')\n",
    "frameLI.Variable = frameLI.Variable.str.replace('New case/s (confirmed)','new_confirmed')\n",
    "frameLI.Variable = frameLI.Variable.str.replace('Total death/s in confirmed cases','death_confirmed')\n",
    "\n"
   ]
  },
  {
   "cell_type": "code",
   "execution_count": null,
   "metadata": {
    "collapsed": true
   },
   "outputs": [],
   "source": []
  },
  {
   "cell_type": "code",
   "execution_count": null,
   "metadata": {},
   "outputs": [],
   "source": [
    "PhilterList = ['new_confirmed', 'death_confirmed']\n",
    "frameSL = frameSL.loc[frameSL['Variable'].isin(PhilterList)]\n",
    "frameLI = frameLI.loc[frameLI['Variable'].isin(PhilterList)]\n",
    "frameGU = frameGU.loc[frameGU['Variable'].isin(PhilterList)]\n",
    "frameGU = frameGU[['Date', 'Variable', 'National']]\n",
    "frameGU"
   ]
  },
  {
   "cell_type": "code",
   "execution_count": null,
   "metadata": {},
   "outputs": [],
   "source": [
    "frameSL.Variable.unique()"
   ]
  },
  {
   "cell_type": "code",
   "execution_count": null,
   "metadata": {},
   "outputs": [],
   "source": [
    "frameLI.Variable.unique()"
   ]
  },
  {
   "cell_type": "code",
   "execution_count": null,
   "metadata": {
    "collapsed": true
   },
   "outputs": [],
   "source": [
    "frameLI.index = frameLI.Variable"
   ]
  },
  {
   "cell_type": "code",
   "execution_count": null,
   "metadata": {},
   "outputs": [],
   "source": [
    "frameLI.loc['new_confirmed']"
   ]
  },
  {
   "cell_type": "code",
   "execution_count": null,
   "metadata": {
    "collapsed": true
   },
   "outputs": [],
   "source": [
    "frameSL.index = frameSL.Date\n",
    "frameGU.index= frameGU.Date\n",
    "frameLI.index = frameLI.Variable"
   ]
  },
  {
   "cell_type": "code",
   "execution_count": null,
   "metadata": {
    "collapsed": true
   },
   "outputs": [],
   "source": [
    "frameLI['Date'] = pd.to_datetime(frameLI.Date)\n",
    "frameLI.index = frameLI.Date\n"
   ]
  },
  {
   "cell_type": "markdown",
   "metadata": {},
   "source": [
    "## Task 2. RNA Sequences\n",
    "\n",
    "In the `DATA_FOLDER/microbiome` subdirectory, there are 9 spreadsheets of microbiome data that was acquired from high-throughput RNA sequencing procedures, along with a 10<sup>th</sup> file that describes the content of each. \n",
    "\n",
    "Use pandas to import the first 9 spreadsheets into a single `DataFrame`.\n",
    "Then, add the metadata information from the 10<sup>th</sup> spreadsheet as columns in the combined `DataFrame`.\n",
    "Make sure that the final `DataFrame` has a unique index and all the `NaN` values have been replaced by the tag `unknown`."
   ]
  },
  {
   "cell_type": "markdown",
   "metadata": {},
   "source": [
    "ANSWER:\n",
    "We first import all the spreadsheets in separate dataframes."
   ]
  },
  {
   "cell_type": "code",
   "execution_count": null,
   "metadata": {},
   "outputs": [],
   "source": [
    "import pandas as pd\n",
    "\n",
    "mbs = []\n",
    "for i in range(1,10):\n",
    "    temp = pd.read_excel(DATA_FOLDER+'/microbiome/MID'+str(i)+'.xls', sheetname='Sheet 1', header=None)\n",
    "    temp.columns = ['name', 'MID'+str(i)] # Using file name as column name for easier merging\n",
    "    mbs.append(temp)\n",
    "   \n",
    "    \n",
    "metadata = pd.read_excel(DATA_FOLDER+'/microbiome/metadata.xls', sheetname='Sheet1')"
   ]
  },
  {
   "cell_type": "markdown",
   "metadata": {},
   "source": [
    "we verify that the name column is a unique index for all the MID data and set this column as the index"
   ]
  },
  {
   "cell_type": "code",
   "execution_count": null,
   "metadata": {},
   "outputs": [],
   "source": [
    "mbs_ind = []\n",
    "doublons = False\n",
    "for i in range(1,10):\n",
    "    mbs_ind.append(mbs[i-1].set_index(['name']))\n",
    "    if mbs_ind[i-1].index.is_unique:\n",
    "        mbs[i-1] = mbs_ind[i-1]\n",
    "    else:\n",
    "        print(\"Table \" + i + \" contains doublons\")\n",
    "        doublons = True\n",
    "\n",
    "if not doublons:\n",
    "    print(\"Tables are indexed by the column name\")"
   ]
  },
  {
   "cell_type": "markdown",
   "metadata": {},
   "source": [
    "So we can merge the MID tables using pandas' merge fucntion"
   ]
  },
  {
   "cell_type": "code",
   "execution_count": null,
   "metadata": {},
   "outputs": [],
   "source": [
    "import functools as ft\n",
    "mbs_merged = ft.reduce(lambda left,right: pd.merge(left,right,left_index=True, right_index=True, how='outer'), mbs)\n",
    "mbs_merged.head()"
   ]
  },
  {
   "cell_type": "markdown",
   "metadata": {},
   "source": [
    "now, we use the metadata file to have meaningfull headers for our data"
   ]
  },
  {
   "cell_type": "code",
   "execution_count": null,
   "metadata": {},
   "outputs": [],
   "source": [
    "metadata"
   ]
  },
  {
   "cell_type": "markdown",
   "metadata": {},
   "source": [
    "we start be reordering the columns according to the metadata"
   ]
  },
  {
   "cell_type": "code",
   "execution_count": null,
   "metadata": {
    "scrolled": false
   },
   "outputs": [],
   "source": [
    "mbs_order = mbs_merged[metadata.BARCODE]\n",
    "mbs_order.head()"
   ]
  },
  {
   "cell_type": "markdown",
   "metadata": {},
   "source": [
    "we split the table in two because the first column is 'EXTRACTION CONTROL' and does not have different types (tissue or stools)"
   ]
  },
  {
   "cell_type": "code",
   "execution_count": null,
   "metadata": {
    "scrolled": true
   },
   "outputs": [],
   "source": [
    "mbs_part1 = mbs_order.iloc[:, :1]\n",
    "mbs_part2 = mbs_order.iloc[:, 1:]\n",
    "mbs_part2.head()"
   ]
  },
  {
   "cell_type": "markdown",
   "metadata": {},
   "source": [
    "we create the 2-levels index according to the metadata."
   ]
  },
  {
   "cell_type": "code",
   "execution_count": null,
   "metadata": {
    "collapsed": true
   },
   "outputs": [],
   "source": []
  },
  {
   "cell_type": "code",
   "execution_count": null,
   "metadata": {
    "collapsed": true
   },
   "outputs": [],
   "source": [
    "header = pd.MultiIndex.from_product([['NEC1','control1','NEC2','control2'],\n",
    "                                     ['tissue','stool']],\n",
    "                                    names=['Test','Type'])\n",
    "mbs_part2.columns = header\n",
    "\n",
    "mbs_part1.columns = pd.MultiIndex.from_product([['EXTRACTION CONTROL'],['']])"
   ]
  },
  {
   "cell_type": "markdown",
   "metadata": {},
   "source": [
    "merge again all the columns together"
   ]
  },
  {
   "cell_type": "code",
   "execution_count": null,
   "metadata": {
    "scrolled": false
   },
   "outputs": [],
   "source": [
    "mbs_nans = pd.merge(mbs_part1,mbs_part2,left_index=True, right_index=True, how='outer')\n",
    "mbs_nans.head()"
   ]
  },
  {
   "cell_type": "markdown",
   "metadata": {},
   "source": [
    "We first check the required invariants on index and dtypes, because it is easier before replacing NaNs by \"unknown\". Then we perform the replacement."
   ]
  },
  {
   "cell_type": "code",
   "execution_count": null,
   "metadata": {},
   "outputs": [],
   "source": [
    "from numpy import issubdtype, number\n",
    "print('Index are unique:', mbs_nans.index.is_unique)\n",
    "print('All entries are either a number or nan:', issubdtype(mbs_nans.dtypes.all(), number))\n",
    "mbs_final = mbs_nans.fillna(\"unknown\")"
   ]
  },
  {
   "cell_type": "markdown",
   "metadata": {},
   "source": [
    "We print the result:"
   ]
  },
  {
   "cell_type": "code",
   "execution_count": null,
   "metadata": {},
   "outputs": [],
   "source": [
    "mbs_final"
   ]
  },
  {
   "cell_type": "markdown",
   "metadata": {},
   "source": [
    "## Task 3. Class War in Titanic\n",
    "\n",
    "Use pandas to import the data file `Data/titanic.xls`. It contains data on all the passengers that travelled on the Titanic."
   ]
  },
  {
   "cell_type": "code",
   "execution_count": null,
   "metadata": {
    "collapsed": true
   },
   "outputs": [],
   "source": [
    "from IPython.core.display import HTML\n",
    "HTML(filename=DATA_FOLDER+'/titanic.html')"
   ]
  },
  {
   "cell_type": "markdown",
   "metadata": {},
   "source": [
    "For each of the following questions state clearly your assumptions and discuss your findings:\n",
    "1. Describe the *type* and the *value range* of each attribute. Indicate and transform the attributes that can be `Categorical`. \n",
    "2. Plot histograms for the *travel class*, *embarkation port*, *sex* and *age* attributes. For the latter one, use *discrete decade intervals*. \n",
    "3. Calculate the proportion of passengers by *cabin floor*. Present your results in a *pie chart*.\n",
    "4. For each *travel class*, calculate the proportion of the passengers that survived. Present your results in *pie charts*.\n",
    "5. Calculate the proportion of the passengers that survived by *travel class* and *sex*. Present your results in *a single histogram*.\n",
    "6. Create 2 equally populated *age categories* and calculate survival proportions by *age category*, *travel class* and *sex*. Present your results in a `DataFrame` with unique index."
   ]
  },
  {
   "cell_type": "code",
   "execution_count": null,
   "metadata": {
    "collapsed": true
   },
   "outputs": [],
   "source": [
    "# Write your answer here"
   ]
  }
 ],
 "metadata": {
  "kernelspec": {
   "display_name": "Python [conda root]",
   "language": "python",
   "name": "conda-root-py"
  },
  "language_info": {
   "codemirror_mode": {
    "name": "ipython",
    "version": 3
   },
   "file_extension": ".py",
   "mimetype": "text/x-python",
   "name": "python",
   "nbconvert_exporter": "python",
   "pygments_lexer": "ipython3",
   "version": "3.6.1"
  }
 },
 "nbformat": 4,
 "nbformat_minor": 2
}
